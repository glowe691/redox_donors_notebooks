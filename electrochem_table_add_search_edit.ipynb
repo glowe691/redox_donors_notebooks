{
 "cells": [
  {
   "cell_type": "markdown",
   "id": "34d77abe-c324-4ded-b3eb-e5f91451a48c",
   "metadata": {},
   "source": [
    "# Notebook for interacting with the electrochem table\n",
    "First load the electrochem table and compound table by running the following code cell. Then you will be able to:\n",
    "- Add entries in electrochem table\n",
    "- Edit entries in the electrochem table\n",
    "- Search the electrochem table by:\n",
    "  - by compound_id"
   ]
  },
  {
   "cell_type": "markdown",
   "id": "33e23fbe-d034-408f-99cd-50e3a8b5c188",
   "metadata": {
    "tags": []
   },
   "source": [
    "### Run the next cell to load the table and required library"
   ]
  },
  {
   "cell_type": "code",
   "execution_count": 3,
   "id": "2b3731e1-7459-4c5b-b801-e6306e7aa629",
   "metadata": {
    "tags": []
   },
   "outputs": [],
   "source": [
    "# import required libraries and load table\n",
    "import pandas as pd\n",
    "compound_table = pd.read_parquet('compound_table.parquet')\n",
    "electrochem_table = pd.read_parquet('electrochem_table.parquet')\n",
    "electrochem_table.sort_values('id', ascending=True, inplace=True)"
   ]
  },
  {
   "cell_type": "markdown",
   "id": "4fdb0641-d58a-4b25-bbdc-2b3236c3f3ee",
   "metadata": {},
   "source": [
    "## Add an entry to the electrochem table\n",
    "Please add one entry per redox couple.\n",
    "To add an entry you must:\n",
    "1. edit the entries in the compound_details dictionary by adding the new information next to the corresponding column names/keys\n",
    "2. run the next cell\n",
    "#### Please note that your changes will be saved when you run the next cell"
   ]
  },
  {
   "cell_type": "code",
   "execution_count": 7,
   "id": "956132f8-0ab7-4263-8de5-e49182b04fb6",
   "metadata": {
    "tags": []
   },
   "outputs": [
    {
     "name": "stdout",
     "output_type": "stream",
     "text": [
      "Following changes saved to entry 1:\n"
     ]
    },
    {
     "data": {
      "text/html": [
       "<div>\n",
       "<style scoped>\n",
       "    .dataframe tbody tr th:only-of-type {\n",
       "        vertical-align: middle;\n",
       "    }\n",
       "\n",
       "    .dataframe tbody tr th {\n",
       "        vertical-align: top;\n",
       "    }\n",
       "\n",
       "    .dataframe thead th {\n",
       "        text-align: right;\n",
       "    }\n",
       "</style>\n",
       "<table border=\"1\" class=\"dataframe\">\n",
       "  <thead>\n",
       "    <tr style=\"text-align: right;\">\n",
       "      <th></th>\n",
       "      <th>id</th>\n",
       "      <th>compound_id</th>\n",
       "      <th>redox_potential_V</th>\n",
       "      <th>reference_electrode</th>\n",
       "      <th>working_electrode</th>\n",
       "      <th>electrolyte</th>\n",
       "      <th>solvent</th>\n",
       "      <th>peak_to_peak_separation_mV</th>\n",
       "      <th>diffusion_coefficient</th>\n",
       "      <th>diffusion_coefficient_unit</th>\n",
       "      <th>exchange_current_density</th>\n",
       "      <th>exchange_current_unit</th>\n",
       "      <th>measurement_ref</th>\n",
       "    </tr>\n",
       "  </thead>\n",
       "  <tbody>\n",
       "    <tr>\n",
       "      <th>0</th>\n",
       "      <td>1</td>\n",
       "      <td>1</td>\n",
       "      <td>0.69</td>\n",
       "      <td>SCE</td>\n",
       "      <td></td>\n",
       "      <td></td>\n",
       "      <td>water</td>\n",
       "      <td>NaN</td>\n",
       "      <td>NaN</td>\n",
       "      <td></td>\n",
       "      <td>NaN</td>\n",
       "      <td></td>\n",
       "      <td>https://doi.org/10.1016/j.crci.2015.11.026</td>\n",
       "    </tr>\n",
       "  </tbody>\n",
       "</table>\n",
       "</div>"
      ],
      "text/plain": [
       "   id  compound_id  redox_potential_V reference_electrode working_electrode  \\\n",
       "0   1            1               0.69                 SCE                     \n",
       "\n",
       "  electrolyte solvent peak_to_peak_separation_mV diffusion_coefficient  \\\n",
       "0               water                        NaN                   NaN   \n",
       "\n",
       "  diffusion_coefficient_unit exchange_current_density exchange_current_unit  \\\n",
       "0                                                 NaN                         \n",
       "\n",
       "                              measurement_ref  \n",
       "0  https://doi.org/10.1016/j.crci.2015.11.026  "
      ]
     },
     "metadata": {},
     "output_type": "display_data"
    }
   ],
   "source": [
    "entry_details = {\n",
    "                 'compound_id': 1,\n",
    "                 'redox_potential_V': 0.69, \n",
    "                 'reference_electrode': 'SCE',\n",
    "                 'working_electrode': '',\n",
    "                 'electrolyte': '',\n",
    "                 'solvent': 'water', \n",
    "                 'peak_to_peak_separation_mV': pd.NA, \n",
    "                 'diffusion_coefficient': pd.NA, \n",
    "                 'diffusion_coefficient_unit': '', \n",
    "                 'exchange_current_density': pd.NA, \n",
    "                 'exchange_current_unit': '', \n",
    "                 'measurement_ref': 'https://doi.org/10.1016/j.crci.2015.11.026'}\n",
    "if entry_details['compound_id'] == 0:\n",
    "    print(\"Please set the compound_id field to add your entry\")\n",
    "else:\n",
    "    if electrochem_table.shape[0] >1:\n",
    "        entry_details['id'] = int(electrochem_table.id.iat[-1] + 1)\n",
    "    else:\n",
    "        entry_details['id'] = int(1)\n",
    "    electrochem_table = pd.concat([electrochem_table, pd.DataFrame([entry_details])])\n",
    "    electrochem_table.to_parquet('electrochem_table.parquet', engine='pyarrow', compression=None)\n",
    "    print(f\"Following changes saved to entry {entry_details['id']}:\")\n",
    "    display(electrochem_table.loc[electrochem_table.id==entry_details['id'],:])"
   ]
  },
  {
   "cell_type": "markdown",
   "id": "5d561f38-af22-4634-a504-06ec5da8dd84",
   "metadata": {},
   "source": [
    "## Edit an entry to the electrochem table\n",
    "\n",
    "To edit an entry you must:\n",
    "1. set the electrochem_id variable to the id of the compound that you want to edit (use the search tools to find this)\n",
    "2. edit the entries in the compound_details dictionary by adding the new information next to the corresponding column names/keys\n",
    "3. run the next cell\n",
    "#### Please note that your changes will be saved when you run the next cell"
   ]
  },
  {
   "cell_type": "code",
   "execution_count": 20,
   "id": "6d885276-c06f-4f0e-b8db-4f22578087fe",
   "metadata": {
    "tags": []
   },
   "outputs": [
    {
     "name": "stdout",
     "output_type": "stream",
     "text": [
      "Following changes saved to compound 1:\n"
     ]
    },
    {
     "data": {
      "text/html": [
       "<div>\n",
       "<style scoped>\n",
       "    .dataframe tbody tr th:only-of-type {\n",
       "        vertical-align: middle;\n",
       "    }\n",
       "\n",
       "    .dataframe tbody tr th {\n",
       "        vertical-align: top;\n",
       "    }\n",
       "\n",
       "    .dataframe thead th {\n",
       "        text-align: right;\n",
       "    }\n",
       "</style>\n",
       "<table border=\"1\" class=\"dataframe\">\n",
       "  <thead>\n",
       "    <tr style=\"text-align: right;\">\n",
       "      <th></th>\n",
       "      <th>id</th>\n",
       "      <th>name</th>\n",
       "      <th>formula</th>\n",
       "      <th>molecular_weight</th>\n",
       "      <th>CAS</th>\n",
       "      <th>source_dois</th>\n",
       "      <th>recyclable</th>\n",
       "      <th>type</th>\n",
       "      <th>compound_family</th>\n",
       "      <th>used_in_photocat</th>\n",
       "      <th>used_in_rfbs</th>\n",
       "      <th>used_as_hcarrier</th>\n",
       "    </tr>\n",
       "  </thead>\n",
       "  <tbody>\n",
       "    <tr>\n",
       "      <th>0</th>\n",
       "      <td>1</td>\n",
       "      <td>triethanolamine_test</td>\n",
       "      <td>N(CH4OH)3</td>\n",
       "      <td>0</td>\n",
       "      <td>random1234string</td>\n",
       "      <td></td>\n",
       "      <td>0</td>\n",
       "      <td></td>\n",
       "      <td></td>\n",
       "      <td>0</td>\n",
       "      <td>0</td>\n",
       "      <td>0</td>\n",
       "    </tr>\n",
       "  </tbody>\n",
       "</table>\n",
       "</div>"
      ],
      "text/plain": [
       "   id                  name    formula  molecular_weight               CAS  \\\n",
       "0   1  triethanolamine_test  N(CH4OH)3                 0  random1234string   \n",
       "\n",
       "  source_dois  recyclable type compound_family  used_in_photocat  \\\n",
       "0                       0                                      0   \n",
       "\n",
       "   used_in_rfbs  used_as_hcarrier  \n",
       "0             0                 0  "
      ]
     },
     "metadata": {},
     "output_type": "display_data"
    }
   ],
   "source": [
    "electrochem_id = 1\n",
    "entry_details = {\n",
    "                 'compound_id': 0,\n",
    "                 'redox_potential_V': pd.NA, \n",
    "                 'reference_electrode': '',\n",
    "                 'working_electrode': '',\n",
    "                 'electrolyte': '',\n",
    "                 'solvent': '', \n",
    "                 'peak_to_peak_separation_mV': pd.NA, \n",
    "                 'diffusion_coefficient': pd.NA, \n",
    "                 'diffusion_coefficient_unit': '', \n",
    "                 'exchange_current_density': pd.NA, \n",
    "                 'exchange_current_unit': '', \n",
    "                 'measurement_ref': ''}\n",
    "for col_name, new_info in entry_details.items():\n",
    "    if electrochem_table.loc[electrochem_table.id==entry_id, col_name].item() != new_info:\n",
    "        electrochem_table.loc[electrochem_table.id==entry_id, col_name] = new_info\n",
    "electrochem_table.to_parquet('electrochem_table.parquet', engine='pyarrow', compression=None)\n",
    "print(f\"Following changes saved to entry {electrochem_id}:\")\n",
    "display(electrochem_table.loc[electrochem_table.id==electrochem_id,:])"
   ]
  },
  {
   "cell_type": "markdown",
   "id": "5960fc7a-8bb7-4ec3-b5da-60e23cf32a2b",
   "metadata": {},
   "source": [
    "## Search by electrochem table by compound_id\n",
    "1. set the variable search_term to a string containing the exact compound_id you wish to search for\n",
    "2. run the following cell"
   ]
  },
  {
   "cell_type": "code",
   "execution_count": 24,
   "id": "a10b9360-f92a-4b74-82e4-d478f6cfd5f4",
   "metadata": {
    "tags": []
   },
   "outputs": [
    {
     "data": {
      "text/html": [
       "<div>\n",
       "<style scoped>\n",
       "    .dataframe tbody tr th:only-of-type {\n",
       "        vertical-align: middle;\n",
       "    }\n",
       "\n",
       "    .dataframe tbody tr th {\n",
       "        vertical-align: top;\n",
       "    }\n",
       "\n",
       "    .dataframe thead th {\n",
       "        text-align: right;\n",
       "    }\n",
       "</style>\n",
       "<table border=\"1\" class=\"dataframe\">\n",
       "  <thead>\n",
       "    <tr style=\"text-align: right;\">\n",
       "      <th></th>\n",
       "      <th>id</th>\n",
       "      <th>name</th>\n",
       "      <th>formula</th>\n",
       "      <th>molecular_weight</th>\n",
       "      <th>CAS</th>\n",
       "      <th>source_dois</th>\n",
       "      <th>recyclable</th>\n",
       "      <th>type</th>\n",
       "      <th>compound_family</th>\n",
       "      <th>used_in_photocat</th>\n",
       "      <th>used_in_rfbs</th>\n",
       "      <th>used_as_hcarrier</th>\n",
       "    </tr>\n",
       "  </thead>\n",
       "  <tbody>\n",
       "    <tr>\n",
       "      <th>0</th>\n",
       "      <td>1</td>\n",
       "      <td>triethanolamine_test</td>\n",
       "      <td>N(CH4OH)3</td>\n",
       "      <td>0</td>\n",
       "      <td>random1234string</td>\n",
       "      <td></td>\n",
       "      <td>0</td>\n",
       "      <td></td>\n",
       "      <td></td>\n",
       "      <td>0</td>\n",
       "      <td>0</td>\n",
       "      <td>0</td>\n",
       "    </tr>\n",
       "  </tbody>\n",
       "</table>\n",
       "</div>"
      ],
      "text/plain": [
       "   id                  name    formula  molecular_weight               CAS  \\\n",
       "0   1  triethanolamine_test  N(CH4OH)3                 0  random1234string   \n",
       "\n",
       "  source_dois  recyclable type compound_family  used_in_photocat  \\\n",
       "0                       0                                      0   \n",
       "\n",
       "   used_in_rfbs  used_as_hcarrier  \n",
       "0             0                 0  "
      ]
     },
     "metadata": {},
     "output_type": "display_data"
    }
   ],
   "source": [
    "# Set the following variable value to the compound id you want to search remember it must be a number not a string\n",
    "search_term = 1\n",
    "\n",
    "## --- The following code exectutes the search\n",
    "display(electrochem_table.loc[electrochem_table.compound_id==search_term, :])"
   ]
  },
  {
   "cell_type": "markdown",
   "id": "b7a1faea-125a-49e4-8800-38317844310f",
   "metadata": {},
   "source": [
    "## Preview last five entries in electrochem table"
   ]
  },
  {
   "cell_type": "code",
   "execution_count": null,
   "id": "39ff8b7b-6d5a-4920-bb74-c0a44a6c0330",
   "metadata": {},
   "outputs": [],
   "source": [
    "if electrochem_table.shape[0]<6:\n",
    "    display(electrochem_table)\n",
    "else:\n",
    "    display(electrochem_table.tail(5))"
   ]
  },
  {
   "cell_type": "markdown",
   "id": "dc7ace26-f1f5-4c64-8b7a-ae97144ee900",
   "metadata": {
    "tags": []
   },
   "source": [
    "## Search by field (column name) and value\n",
    "You can search the following fields for specific values by altering the field_variable and search_value.\n",
    "Fields and value types:\n",
    "- id (integer > =1)\n",
    "- compound_id (integer >=1 that corresponds to the id of an entry in the compound table)\n",
    "- redox_potential_V (float i.e. 0.3 V. Redox potential of redox couple please use either the mid point potential of a symmetrical redox couple or the potential at half the max peak current)\n",
    "- reference_electrode (string describing reference electrode used i.e. SHE)\n",
    "- working_electrode (string describing working electrode i.e. Pt or glassy carbon or 3 mm diameter glassy carbon)\n",
    "- electrolyte (string name of the electrolyte salt used i.e. TBAPF6)\n",
    "- solvent (string name as solvent used i.e. acetonitrile, please put electrolyte name again for ionic liquids with no cosolvent) \n",
    "- peak_to_peak_separation_mV (float peak spearation of redox couple in mV i.e. 70.0)\n",
    "- diffusion_coefficient (float diffusion coefficient i.e. 0.0001)\n",
    "- diffusion_coefficient_unit (string describing unit of diffusion coefficient) \n",
    "- exchange_current_density (float exchange current density)\n",
    "- exchange_current_unit (string describing exchange current density unit i.e. mA/cm2 or mA)\n",
    "- measurement_ref (string of doi or reference of source paper or book for the entry information)"
   ]
  },
  {
   "cell_type": "code",
   "execution_count": 28,
   "id": "e4cd710f-9206-4123-8624-9b89a27b7fcd",
   "metadata": {
    "tags": []
   },
   "outputs": [
    {
     "data": {
      "text/html": [
       "<div>\n",
       "<style scoped>\n",
       "    .dataframe tbody tr th:only-of-type {\n",
       "        vertical-align: middle;\n",
       "    }\n",
       "\n",
       "    .dataframe tbody tr th {\n",
       "        vertical-align: top;\n",
       "    }\n",
       "\n",
       "    .dataframe thead th {\n",
       "        text-align: right;\n",
       "    }\n",
       "</style>\n",
       "<table border=\"1\" class=\"dataframe\">\n",
       "  <thead>\n",
       "    <tr style=\"text-align: right;\">\n",
       "      <th></th>\n",
       "      <th>id</th>\n",
       "      <th>name</th>\n",
       "      <th>formula</th>\n",
       "      <th>molecular_weight</th>\n",
       "      <th>CAS</th>\n",
       "      <th>source_dois</th>\n",
       "      <th>recyclable</th>\n",
       "      <th>type</th>\n",
       "      <th>compound_family</th>\n",
       "      <th>used_in_photocat</th>\n",
       "      <th>used_in_rfbs</th>\n",
       "      <th>used_as_hcarrier</th>\n",
       "    </tr>\n",
       "  </thead>\n",
       "  <tbody>\n",
       "    <tr>\n",
       "      <th>0</th>\n",
       "      <td>1</td>\n",
       "      <td>triethanolamine_test</td>\n",
       "      <td>N(CH4OH)3</td>\n",
       "      <td>0</td>\n",
       "      <td>random1234string</td>\n",
       "      <td></td>\n",
       "      <td>0</td>\n",
       "      <td></td>\n",
       "      <td></td>\n",
       "      <td>0</td>\n",
       "      <td>0</td>\n",
       "      <td>0</td>\n",
       "    </tr>\n",
       "  </tbody>\n",
       "</table>\n",
       "</div>"
      ],
      "text/plain": [
       "   id                  name    formula  molecular_weight               CAS  \\\n",
       "0   1  triethanolamine_test  N(CH4OH)3                 0  random1234string   \n",
       "\n",
       "  source_dois  recyclable type compound_family  used_in_photocat  \\\n",
       "0                       0                                      0   \n",
       "\n",
       "   used_in_rfbs  used_as_hcarrier  \n",
       "0             0                 0  "
      ]
     },
     "metadata": {},
     "output_type": "display_data"
    }
   ],
   "source": [
    "#----! Set the following 2 variables !----#\n",
    "# don't forget that the field variable should be a string of a column name\n",
    "field_variable = 'id'\n",
    "\n",
    "search_value = 1\n",
    "\n",
    "#----------------------\n",
    "# search code\n",
    "if isinstance(field_variable, str):\n",
    "    if field_variable in electrochem_table.columns.to_list():\n",
    "        display(electrochem_table.loc[electrochem_table[field_variable]== search_value, :])\n",
    "    else:\n",
    "        print(\"Incorrect column name\")\n",
    "else:\n",
    "    print(\"Did you forget quotation marks around the field_variable value?\")"
   ]
  }
 ],
 "metadata": {
  "kernelspec": {
   "display_name": "Python 3 (ipykernel)",
   "language": "python",
   "name": "python3"
  },
  "language_info": {
   "codemirror_mode": {
    "name": "ipython",
    "version": 3
   },
   "file_extension": ".py",
   "mimetype": "text/x-python",
   "name": "python",
   "nbconvert_exporter": "python",
   "pygments_lexer": "ipython3",
   "version": "3.10.0"
  }
 },
 "nbformat": 4,
 "nbformat_minor": 5
}
