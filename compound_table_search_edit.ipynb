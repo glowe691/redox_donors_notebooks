{
 "cells": [
  {
   "cell_type": "markdown",
   "id": "34d77abe-c324-4ded-b3eb-e5f91451a48c",
   "metadata": {},
   "source": [
    "# Notebook for editing and searching the compound table\n",
    "First load the table by running the following code cell. Then you will be able to:\n",
    "- Edit a compound\n",
    "- Search by keyword (exact)\n",
    "- Search by field and value\n",
    "- Search by partial name"
   ]
  },
  {
   "cell_type": "markdown",
   "id": "33e23fbe-d034-408f-99cd-50e3a8b5c188",
   "metadata": {
    "tags": []
   },
   "source": [
    "### Run the next cell to load the table and required library"
   ]
  },
  {
   "cell_type": "code",
   "execution_count": 5,
   "id": "2b3731e1-7459-4c5b-b801-e6306e7aa629",
   "metadata": {
    "tags": []
   },
   "outputs": [],
   "source": [
    "# import required libraries and load table\n",
    "import pandas as pd\n",
    "compound_table = pd.read_parquet('compound_table.parquet')"
   ]
  },
  {
   "cell_type": "markdown",
   "id": "01406b88-7577-4e55-b9c8-d1be7d2dbdde",
   "metadata": {},
   "source": [
    "## Get existing details by compound_id"
   ]
  },
  {
   "cell_type": "code",
   "execution_count": 6,
   "id": "9107009c-0397-403b-a046-c814a8bf9802",
   "metadata": {
    "tags": []
   },
   "outputs": [
    {
     "name": "stdout",
     "output_type": "stream",
     "text": [
      "{'id': {0: 10}, 'name': {0: 'NADH'}, 'formula': {0: ''}, 'molecular_weight': {0: nan}, 'CAS': {0: '60-00-4'}, 'source_dois': {0: 'https://doi.org/10.1016/0302-4598(74)85011-7, , '}, 'recyclable': {0: 0}, 'type': {0: 'electron donor'}, 'compound_family': {0: 'nicotinamide biomimetic'}, 'used_in_photocat': {0: 1}, 'used_in_rfbs': {0: 0}, 'used_as_hcarrier': {0: 0}}\n"
     ]
    }
   ],
   "source": [
    "#-------------! Input compound_id\n",
    "compound_id = 10\n",
    "\n",
    "#---------------! code\n",
    "print(compound_table.loc[compound_table.id==compound_id,:].to_dict())"
   ]
  },
  {
   "cell_type": "markdown",
   "id": "4fdb0641-d58a-4b25-bbdc-2b3236c3f3ee",
   "metadata": {},
   "source": [
    "## Edit a compound\n",
    "To edit a compound entry you must:\n",
    "1. set the compound_id variable to the id of the compound that you want to edit\n",
    "2. edit the entries in the compound_details dictionary by adding the new information next to the corresponding column names/keys\n",
    "3. run the next cell\n",
    "#### Please note that your changes will be saved when you run the next cell"
   ]
  },
  {
   "cell_type": "code",
   "execution_count": 7,
   "id": "6d885276-c06f-4f0e-b8db-4f22578087fe",
   "metadata": {
    "tags": []
   },
   "outputs": [
    {
     "name": "stdout",
     "output_type": "stream",
     "text": [
      "Following changes saved to compound 10:\n"
     ]
    },
    {
     "data": {
      "text/html": [
       "<div>\n",
       "<style scoped>\n",
       "    .dataframe tbody tr th:only-of-type {\n",
       "        vertical-align: middle;\n",
       "    }\n",
       "\n",
       "    .dataframe tbody tr th {\n",
       "        vertical-align: top;\n",
       "    }\n",
       "\n",
       "    .dataframe thead th {\n",
       "        text-align: right;\n",
       "    }\n",
       "</style>\n",
       "<table border=\"1\" class=\"dataframe\">\n",
       "  <thead>\n",
       "    <tr style=\"text-align: right;\">\n",
       "      <th></th>\n",
       "      <th>id</th>\n",
       "      <th>name</th>\n",
       "      <th>formula</th>\n",
       "      <th>molecular_weight</th>\n",
       "      <th>CAS</th>\n",
       "      <th>source_dois</th>\n",
       "      <th>recyclable</th>\n",
       "      <th>type</th>\n",
       "      <th>compound_family</th>\n",
       "      <th>used_in_photocat</th>\n",
       "      <th>used_in_rfbs</th>\n",
       "      <th>used_as_hcarrier</th>\n",
       "    </tr>\n",
       "  </thead>\n",
       "  <tbody>\n",
       "    <tr>\n",
       "      <th>0</th>\n",
       "      <td>10</td>\n",
       "      <td>NADH</td>\n",
       "      <td>C21H29N7O14P2</td>\n",
       "      <td>665.0</td>\n",
       "      <td>58-68-4</td>\n",
       "      <td>https://doi.org/10.1016/0302-4598(74)85011-7, ...</td>\n",
       "      <td>0</td>\n",
       "      <td>electron donor</td>\n",
       "      <td>nicotinamide biomimetic</td>\n",
       "      <td>1</td>\n",
       "      <td>0</td>\n",
       "      <td>0</td>\n",
       "    </tr>\n",
       "  </tbody>\n",
       "</table>\n",
       "</div>"
      ],
      "text/plain": [
       "   id  name        formula  molecular_weight      CAS  \\\n",
       "0  10  NADH  C21H29N7O14P2             665.0  58-68-4   \n",
       "\n",
       "                                         source_dois  recyclable  \\\n",
       "0  https://doi.org/10.1016/0302-4598(74)85011-7, ...           0   \n",
       "\n",
       "             type          compound_family  used_in_photocat  used_in_rfbs  \\\n",
       "0  electron donor  nicotinamide biomimetic                 1             0   \n",
       "\n",
       "   used_as_hcarrier  \n",
       "0                 0  "
      ]
     },
     "metadata": {},
     "output_type": "display_data"
    }
   ],
   "source": [
    "compound_id = 10\n",
    "compound_details = {'name': 'NADH', 'formula': 'C21H29N7O14P2', 'molecular_weight': 665, 'CAS': '58-68-4', 'source_dois': 'https://doi.org/10.1016/0302-4598(74)85011-7, https://pubchem.ncbi.nlm.nih.gov/compound/439153', 'recyclable': 0, 'type': 'electron donor', 'compound_family': 'nicotinamide biomimetic', 'used_in_photocat': 1, 'used_in_rfbs': 0, 'used_as_hcarrier': 0}\n",
    "for col_name, new_info in compound_details.items():\n",
    "    if compound_table.loc[compound_table.id==compound_id, col_name].item() != new_info:\n",
    "        compound_table.loc[compound_table.id==compound_id, col_name] = new_info\n",
    "compound_table.to_parquet('compound_table.parquet', engine='pyarrow', compression=None)\n",
    "print(f\"Following changes saved to compound {compound_id}:\")\n",
    "display(compound_table.loc[compound_table.id==compound_id,:])"
   ]
  },
  {
   "cell_type": "markdown",
   "id": "5960fc7a-8bb7-4ec3-b5da-60e23cf32a2b",
   "metadata": {},
   "source": [
    "## Search by Keyword (exact)\n",
    "1. set the variable search_term to a string containing the exact keyword you wish to search for\n",
    "2. run the following cell"
   ]
  },
  {
   "cell_type": "code",
   "execution_count": 24,
   "id": "a10b9360-f92a-4b74-82e4-d478f6cfd5f4",
   "metadata": {
    "tags": []
   },
   "outputs": [
    {
     "data": {
      "text/html": [
       "<div>\n",
       "<style scoped>\n",
       "    .dataframe tbody tr th:only-of-type {\n",
       "        vertical-align: middle;\n",
       "    }\n",
       "\n",
       "    .dataframe tbody tr th {\n",
       "        vertical-align: top;\n",
       "    }\n",
       "\n",
       "    .dataframe thead th {\n",
       "        text-align: right;\n",
       "    }\n",
       "</style>\n",
       "<table border=\"1\" class=\"dataframe\">\n",
       "  <thead>\n",
       "    <tr style=\"text-align: right;\">\n",
       "      <th></th>\n",
       "      <th>id</th>\n",
       "      <th>name</th>\n",
       "      <th>formula</th>\n",
       "      <th>molecular_weight</th>\n",
       "      <th>CAS</th>\n",
       "      <th>source_dois</th>\n",
       "      <th>recyclable</th>\n",
       "      <th>type</th>\n",
       "      <th>compound_family</th>\n",
       "      <th>used_in_photocat</th>\n",
       "      <th>used_in_rfbs</th>\n",
       "      <th>used_as_hcarrier</th>\n",
       "    </tr>\n",
       "  </thead>\n",
       "  <tbody>\n",
       "    <tr>\n",
       "      <th>0</th>\n",
       "      <td>1</td>\n",
       "      <td>triethanolamine_test</td>\n",
       "      <td>N(CH4OH)3</td>\n",
       "      <td>0</td>\n",
       "      <td>random1234string</td>\n",
       "      <td></td>\n",
       "      <td>0</td>\n",
       "      <td></td>\n",
       "      <td></td>\n",
       "      <td>0</td>\n",
       "      <td>0</td>\n",
       "      <td>0</td>\n",
       "    </tr>\n",
       "  </tbody>\n",
       "</table>\n",
       "</div>"
      ],
      "text/plain": [
       "   id                  name    formula  molecular_weight               CAS  \\\n",
       "0   1  triethanolamine_test  N(CH4OH)3                 0  random1234string   \n",
       "\n",
       "  source_dois  recyclable type compound_family  used_in_photocat  \\\n",
       "0                       0                                      0   \n",
       "\n",
       "   used_in_rfbs  used_as_hcarrier  \n",
       "0             0                 0  "
      ]
     },
     "metadata": {},
     "output_type": "display_data"
    }
   ],
   "source": [
    "# Set the following variable value to the keyword you want to search (don't forget the speechmarks '' \"\")\n",
    "search_term = 'triethanolamine_test'\n",
    "\n",
    "## --- The following code exectutes the search\n",
    "check_mask = compound_table.isin([search_term])\n",
    "display(compound_table.loc[check_mask.any(axis=1), :])"
   ]
  },
  {
   "cell_type": "markdown",
   "id": "dc7ace26-f1f5-4c64-8b7a-ae97144ee900",
   "metadata": {
    "tags": []
   },
   "source": [
    "## Search by field (column name) and value\n",
    "You can search the following fields for specific values by altering the field_variable and search_value.\n",
    "Fields and value types:\n",
    "- id (integer > =1)\n",
    "- name (string name of compound)\n",
    "- formula (string formula of the compound i.e. 'C2H4O')\n",
    "- molecular_weight (integer > 0)\n",
    "- CAS (string of CAS number\n",
    "- source_dois (string list of paper doi numbers for relevant references to compound)\n",
    "- recyclable (boolean True/False or 1/0 value) \n",
    "- type (string describing donor type i.e. hydride donor)\n",
    "- compound_family (string describing type of compound i.e. thiazine or amine) \n",
    "- used_in_photocat (boolean True/False or 1/0 value) \n",
    "- used_in_rfbs (boolean True/False or 1/0 value) \n",
    "- used_as_hcarrier (boolean True/False or 1/0 value)"
   ]
  },
  {
   "cell_type": "code",
   "execution_count": 4,
   "id": "e4cd710f-9206-4123-8624-9b89a27b7fcd",
   "metadata": {
    "tags": []
   },
   "outputs": [
    {
     "data": {
      "text/html": [
       "<div>\n",
       "<style scoped>\n",
       "    .dataframe tbody tr th:only-of-type {\n",
       "        vertical-align: middle;\n",
       "    }\n",
       "\n",
       "    .dataframe tbody tr th {\n",
       "        vertical-align: top;\n",
       "    }\n",
       "\n",
       "    .dataframe thead th {\n",
       "        text-align: right;\n",
       "    }\n",
       "</style>\n",
       "<table border=\"1\" class=\"dataframe\">\n",
       "  <thead>\n",
       "    <tr style=\"text-align: right;\">\n",
       "      <th></th>\n",
       "      <th>id</th>\n",
       "      <th>name</th>\n",
       "      <th>formula</th>\n",
       "      <th>molecular_weight</th>\n",
       "      <th>CAS</th>\n",
       "      <th>source_dois</th>\n",
       "      <th>recyclable</th>\n",
       "      <th>type</th>\n",
       "      <th>compound_family</th>\n",
       "      <th>used_in_photocat</th>\n",
       "      <th>used_in_rfbs</th>\n",
       "      <th>used_as_hcarrier</th>\n",
       "    </tr>\n",
       "  </thead>\n",
       "  <tbody>\n",
       "    <tr>\n",
       "      <th>0</th>\n",
       "      <td>9</td>\n",
       "      <td>ethylenediaminetetraacetic acid (EDTA)</td>\n",
       "      <td>(HO2CCH2)2NCH2CH2N(CH2CO2H)2</td>\n",
       "      <td>292</td>\n",
       "      <td>60-00-4</td>\n",
       "      <td>https://doi.org/10.1039/c3cp55023k, https://ww...</td>\n",
       "      <td>0</td>\n",
       "      <td>electron donor</td>\n",
       "      <td>organic acid</td>\n",
       "      <td>1</td>\n",
       "      <td>0</td>\n",
       "      <td>0</td>\n",
       "    </tr>\n",
       "  </tbody>\n",
       "</table>\n",
       "</div>"
      ],
      "text/plain": [
       "   id                                    name                       formula  \\\n",
       "0   9  ethylenediaminetetraacetic acid (EDTA)  (HO2CCH2)2NCH2CH2N(CH2CO2H)2   \n",
       "\n",
       "   molecular_weight      CAS  \\\n",
       "0               292  60-00-4   \n",
       "\n",
       "                                         source_dois  recyclable  \\\n",
       "0  https://doi.org/10.1039/c3cp55023k, https://ww...           0   \n",
       "\n",
       "             type compound_family  used_in_photocat  used_in_rfbs  \\\n",
       "0  electron donor    organic acid                 1             0   \n",
       "\n",
       "   used_as_hcarrier  \n",
       "0                 0  "
      ]
     },
     "metadata": {},
     "output_type": "display_data"
    }
   ],
   "source": [
    "#----! Set the following 2 variables !----#\n",
    "# don't forget that the field variable should be a string of a column name\n",
    "field_variable = 'id'\n",
    "\n",
    "search_value = 9\n",
    "\n",
    "#----------------------\n",
    "# search code\n",
    "if isinstance(field_variable, str):\n",
    "    if field_variable in compound_table.columns.to_list():\n",
    "        display(compound_table.loc[compound_table[field_variable]== search_value, :])\n",
    "    else:\n",
    "        print(\"Incorrect column name\")\n",
    "else:\n",
    "    print(\"Did you forget quotation marks around the field_variable value?\")"
   ]
  },
  {
   "cell_type": "markdown",
   "id": "b7a1faea-125a-49e4-8800-38317844310f",
   "metadata": {},
   "source": [
    "## Search by partial name"
   ]
  },
  {
   "cell_type": "code",
   "execution_count": 2,
   "id": "86f0e1cd-bfbc-4456-9dc3-ac496a7f0c1b",
   "metadata": {
    "tags": []
   },
   "outputs": [
    {
     "data": {
      "text/html": [
       "<div>\n",
       "<style scoped>\n",
       "    .dataframe tbody tr th:only-of-type {\n",
       "        vertical-align: middle;\n",
       "    }\n",
       "\n",
       "    .dataframe tbody tr th {\n",
       "        vertical-align: top;\n",
       "    }\n",
       "\n",
       "    .dataframe thead th {\n",
       "        text-align: right;\n",
       "    }\n",
       "</style>\n",
       "<table border=\"1\" class=\"dataframe\">\n",
       "  <thead>\n",
       "    <tr style=\"text-align: right;\">\n",
       "      <th></th>\n",
       "      <th>id</th>\n",
       "      <th>name</th>\n",
       "      <th>formula</th>\n",
       "      <th>molecular_weight</th>\n",
       "      <th>CAS</th>\n",
       "      <th>source_dois</th>\n",
       "      <th>recyclable</th>\n",
       "      <th>type</th>\n",
       "      <th>compound_family</th>\n",
       "      <th>used_in_photocat</th>\n",
       "      <th>used_in_rfbs</th>\n",
       "      <th>used_as_hcarrier</th>\n",
       "    </tr>\n",
       "  </thead>\n",
       "  <tbody>\n",
       "    <tr>\n",
       "      <th>0</th>\n",
       "      <td>1</td>\n",
       "      <td>triethylamine</td>\n",
       "      <td>(C2H5)3N</td>\n",
       "      <td>101</td>\n",
       "      <td>121-44-8</td>\n",
       "      <td>https://doi.org/10.1016/j.crci.2015.11.026, si...</td>\n",
       "      <td>0</td>\n",
       "      <td>electron donor</td>\n",
       "      <td>amine</td>\n",
       "      <td>1</td>\n",
       "      <td>0</td>\n",
       "      <td>0</td>\n",
       "    </tr>\n",
       "    <tr>\n",
       "      <th>0</th>\n",
       "      <td>2</td>\n",
       "      <td>triethanolamine</td>\n",
       "      <td>(HOCH2CH2)3N</td>\n",
       "      <td>149</td>\n",
       "      <td>102-71-6</td>\n",
       "      <td>https://doi.org/10.1016/j.crci.2015.11.026, si...</td>\n",
       "      <td>0</td>\n",
       "      <td>electron donor</td>\n",
       "      <td>amine</td>\n",
       "      <td>1</td>\n",
       "      <td>0</td>\n",
       "      <td>0</td>\n",
       "    </tr>\n",
       "    <tr>\n",
       "      <th>0</th>\n",
       "      <td>8</td>\n",
       "      <td>triphenylphosphine</td>\n",
       "      <td>(C6H5)P3</td>\n",
       "      <td>262</td>\n",
       "      <td>603-35-0</td>\n",
       "      <td>https://doi.org/10.1016/j.crci.2015.11.026, ht...</td>\n",
       "      <td>0</td>\n",
       "      <td>electron donor</td>\n",
       "      <td>phosphine</td>\n",
       "      <td>1</td>\n",
       "      <td>0</td>\n",
       "      <td>0</td>\n",
       "    </tr>\n",
       "  </tbody>\n",
       "</table>\n",
       "</div>"
      ],
      "text/plain": [
       "   id                name       formula  molecular_weight       CAS  \\\n",
       "0   1       triethylamine      (C2H5)3N               101  121-44-8   \n",
       "0   2     triethanolamine  (HOCH2CH2)3N               149  102-71-6   \n",
       "0   8  triphenylphosphine      (C6H5)P3               262  603-35-0   \n",
       "\n",
       "                                         source_dois  recyclable  \\\n",
       "0  https://doi.org/10.1016/j.crci.2015.11.026, si...           0   \n",
       "0  https://doi.org/10.1016/j.crci.2015.11.026, si...           0   \n",
       "0  https://doi.org/10.1016/j.crci.2015.11.026, ht...           0   \n",
       "\n",
       "             type compound_family  used_in_photocat  used_in_rfbs  \\\n",
       "0  electron donor           amine                 1             0   \n",
       "0  electron donor           amine                 1             0   \n",
       "0  electron donor       phosphine                 1             0   \n",
       "\n",
       "   used_as_hcarrier  \n",
       "0                 0  \n",
       "0                 0  \n",
       "0                 0  "
      ]
     },
     "metadata": {},
     "output_type": "display_data"
    }
   ],
   "source": [
    "# Set the following variable value to the keyword you want to search (don't forget the speechmarks '' \"\")\n",
    "partial_search_term = 'tri'\n",
    "\n",
    "## --- The following code executes the search\n",
    "check_mask = compound_table.name.str.contains(partial_search_term, case=False)\n",
    "\n",
    "# note because check_mask is a series any is not needed to collapse index\n",
    "display(compound_table.loc[check_mask, :])"
   ]
  },
  {
   "cell_type": "code",
   "execution_count": null,
   "id": "4fe08185-340f-4258-af99-b00fb2d8c3a2",
   "metadata": {},
   "outputs": [],
   "source": []
  }
 ],
 "metadata": {
  "kernelspec": {
   "display_name": "Python 3 (ipykernel)",
   "language": "python",
   "name": "python3"
  },
  "language_info": {
   "codemirror_mode": {
    "name": "ipython",
    "version": 3
   },
   "file_extension": ".py",
   "mimetype": "text/x-python",
   "name": "python",
   "nbconvert_exporter": "python",
   "pygments_lexer": "ipython3",
   "version": "3.10.0"
  }
 },
 "nbformat": 4,
 "nbformat_minor": 5
}
