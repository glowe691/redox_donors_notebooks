{
 "cells": [
  {
   "cell_type": "code",
   "execution_count": 1,
   "id": "ff7a64bd-6a48-4744-b98b-df930d9f8a18",
   "metadata": {
    "tags": []
   },
   "outputs": [],
   "source": [
    "# importing required libraries\n",
    "import pandas as pd"
   ]
  },
  {
   "cell_type": "markdown",
   "id": "fe2969a7-79a6-4743-9147-5e4acfe1d7b1",
   "metadata": {},
   "source": [
    "# Notebook for Creating Blank Data Tables\n",
    "This notebook creates 4 blank tables for storing sacrifical reagent data. These tables are stored in parquet file format rather than csv to decrease their file size and improve their loading speed:\n",
    "- **compound_table:** The compound table hold the information about each unqiqu compound such as name, formula, whether or not it is recyclable, and the dois for the references where the compound was reported. The id of the compound table is used as a unque identifier for each compound and is referred to as coumpound_id in the other tables.\n",
    "- **electrochem_table:** The electrochem table holds redox potential data from different experimental and simulation studies for the compound. Each table row corresponds to one redox couple for one compound in one environment. i.e. a compound might have 2 redox couples and be measured in two different electrolyte solutions, hence it will have four rows in the electrochem table. Each row should be referenced to a paper using a doi or other identifier in the measurement_ref field. The compounds are referred to using the compound_id field which corresponds to the id of the compound in the compound table.\n",
    "- **photochem_table:** The photochem table holds the relevant spectroscopic information for each absorption peak of a compound. The same peak will have different entries in different rows for different solvents. Again, the compound is identified by compound_id and each entry should be referenced in the measurement_ref field.\n",
    "- **solubility_table:** The solubility table holds solubility data for each compound in different solvents with one row per solvent system per compound. Again, the compound is identified by compound_id and each entry should be referenced in the measurement_ref field."
   ]
  },
  {
   "cell_type": "code",
   "execution_count": 19,
   "id": "f8bbca3a-0e6b-45c8-bb7d-1b6089a13553",
   "metadata": {
    "tags": []
   },
   "outputs": [
    {
     "data": {
      "text/plain": [
       "id                    int32\n",
       "name                 string\n",
       "formula              string\n",
       "molecular_weight      int32\n",
       "CAS                  string\n",
       "source_dois          string\n",
       "recyclable          boolean\n",
       "type                 string\n",
       "compound_family      string\n",
       "used_in_photocat    boolean\n",
       "used_in_rfbs        boolean\n",
       "used_as_hcarrier    boolean\n",
       "dtype: object"
      ]
     },
     "execution_count": 19,
     "metadata": {},
     "output_type": "execute_result"
    }
   ],
   "source": [
    "compound_data_type_dict = {'id': 'int32',\n",
    "                  'name': 'string', \n",
    "                  'formula': 'string', \n",
    "                  'molecular_weight': 'int32', \n",
    "                  'CAS': 'string', \n",
    "                  'source_dois': 'string', \n",
    "                  'recyclable': 'boolean', \n",
    "                  'type': 'string', \n",
    "                  'compound_family': 'string', \n",
    "                  'used_in_photocat': 'boolean', \n",
    "                  'used_in_rfbs': 'boolean', \n",
    "                  'used_as_hcarrier': 'boolean'}\n",
    "compound_df = pd.DataFrame({c: pd.Series(dtype=typ) for (c, typ) in compound_data_type_dict.items()})\n",
    "compound_df.dtypes\n"
   ]
  },
  {
   "cell_type": "code",
   "execution_count": 21,
   "id": "5165a756-ea59-408b-8d54-f35a1639f377",
   "metadata": {
    "tags": []
   },
   "outputs": [
    {
     "data": {
      "text/plain": [
       "id                              int32\n",
       "compound_id                     int32\n",
       "redox_potential_V             float32\n",
       "reference_electrode            string\n",
       "working_electrode              string\n",
       "electrolyte                    string\n",
       "solvent                        string\n",
       "CAS                            string\n",
       "peak_to_peak_separation_mV    float32\n",
       "diffusion_coefficient         float32\n",
       "diffusion_coefficient_unit     string\n",
       "exchange_current_density      float32\n",
       "exchange_current_unit          string\n",
       "measurement_ref                string\n",
       "dtype: object"
      ]
     },
     "execution_count": 21,
     "metadata": {},
     "output_type": "execute_result"
    }
   ],
   "source": [
    "electrochem_data_type_dict = {'id': 'int32',\n",
    "                            'compound_id': 'int32',\n",
    "                            'redox_potential_V': 'float32', \n",
    "                            'reference_electrode': 'string',\n",
    "                            'working_electrode': 'string',\n",
    "                            'electrolyte': 'string',\n",
    "                            'electrolyte': 'string',\n",
    "                            'solvent': 'string', \n",
    "                  'CAS': 'string', \n",
    "                  'peak_to_peak_separation_mV': 'float32', \n",
    "                  'diffusion_coefficient': 'float32', \n",
    "                  'diffusion_coefficient_unit': 'string', \n",
    "                  'exchange_current_density': 'float32', \n",
    "                  'exchange_current_unit': 'string', \n",
    "                  'measurement_ref': 'string'}\n",
    "electrochem_df = pd.DataFrame({c: pd.Series(dtype=typ) for (c, typ) in electrochem_data_type_dict.items()})\n",
    "electrochem_df.dtypes"
   ]
  },
  {
   "cell_type": "code",
   "execution_count": 22,
   "id": "2162a408-3b3e-49e6-9f39-4d7e399b9351",
   "metadata": {
    "tags": []
   },
   "outputs": [
    {
     "data": {
      "text/plain": [
       "id                          int32\n",
       "compound_id                 int32\n",
       "maxima_nm                   int32\n",
       "absorption_coefficient    float32\n",
       "lifetime_ns               float32\n",
       "solvent                    string\n",
       "measurement_ref            string\n",
       "dtype: object"
      ]
     },
     "execution_count": 22,
     "metadata": {},
     "output_type": "execute_result"
    }
   ],
   "source": [
    "photochem_data_type_dict = {'id': 'int32', \n",
    "                            'compound_id': 'int32',\n",
    "                            'maxima_nm': 'int32', \n",
    "                            'absorption_coefficient': 'float32', \n",
    "                            'lifetime_ns': 'float32', \n",
    "                            'solvent': 'string', \n",
    "                            'measurement_ref': 'string'}\n",
    "photochem_table = pd.DataFrame({c: pd.Series(dtype=typ) for (c, typ) in photochem_data_type_dict.items()})\n",
    "photochem_table.dtypes"
   ]
  },
  {
   "cell_type": "code",
   "execution_count": 23,
   "id": "d2a0e66d-e641-48f0-b8e6-a1903f3813f7",
   "metadata": {
    "tags": []
   },
   "outputs": [
    {
     "data": {
      "text/plain": [
       "id                       int32\n",
       "compound_id              int32\n",
       "solvent                 string\n",
       "solubility_molarity    float32\n",
       "molarity_unit           string\n",
       "solubility_molality    float32\n",
       "molality_unit           string\n",
       "polarity               float32\n",
       "polarity_measure        string\n",
       "measurement_ref         string\n",
       "dtype: object"
      ]
     },
     "execution_count": 23,
     "metadata": {},
     "output_type": "execute_result"
    }
   ],
   "source": [
    "sol_dtype_dict = {'id': 'int32',\n",
    "                  'compound_id': 'int32',\n",
    "                  'solvent': 'string', \n",
    "                  'solubility_molarity': 'float32',\n",
    "                  'molarity_unit': 'string', \n",
    "                  'solubility_molality': 'float32',\n",
    "                  'molality_unit': 'string', \n",
    "                  'polarity': 'float32',\n",
    "                  'polarity_measure': 'string',\n",
    "                  'measurement_ref': 'string'}\n",
    "solubility_table = pd.DataFrame({c: pd.Series(dtype=typ) for (c, typ) in sol_dtype_dict.items()})\n",
    "solubility_table.dtypes"
   ]
  },
  {
   "cell_type": "code",
   "execution_count": 25,
   "id": "beb72fee-3267-46fa-a7b4-d8c76fb87a8f",
   "metadata": {
    "tags": []
   },
   "outputs": [
    {
     "data": {
      "text/html": [
       "<div>\n",
       "<style scoped>\n",
       "    .dataframe tbody tr th:only-of-type {\n",
       "        vertical-align: middle;\n",
       "    }\n",
       "\n",
       "    .dataframe tbody tr th {\n",
       "        vertical-align: top;\n",
       "    }\n",
       "\n",
       "    .dataframe thead th {\n",
       "        text-align: right;\n",
       "    }\n",
       "</style>\n",
       "<table border=\"1\" class=\"dataframe\">\n",
       "  <thead>\n",
       "    <tr style=\"text-align: right;\">\n",
       "      <th></th>\n",
       "      <th>id</th>\n",
       "      <th>name</th>\n",
       "      <th>formula</th>\n",
       "      <th>molecular_weight</th>\n",
       "      <th>CAS</th>\n",
       "      <th>source_dois</th>\n",
       "      <th>recyclable</th>\n",
       "      <th>type</th>\n",
       "      <th>compound_family</th>\n",
       "      <th>used_in_photocat</th>\n",
       "      <th>used_in_rfbs</th>\n",
       "      <th>used_as_hcarrier</th>\n",
       "    </tr>\n",
       "  </thead>\n",
       "  <tbody>\n",
       "  </tbody>\n",
       "</table>\n",
       "</div>"
      ],
      "text/plain": [
       "Empty DataFrame\n",
       "Columns: [id, name, formula, molecular_weight, CAS, source_dois, recyclable, type, compound_family, used_in_photocat, used_in_rfbs, used_as_hcarrier]\n",
       "Index: []"
      ]
     },
     "execution_count": 25,
     "metadata": {},
     "output_type": "execute_result"
    }
   ],
   "source": [
    "compound_df.to_parquet('compound_table.parquet', engine='pyarrow', compression=None)\n"
   ]
  },
  {
   "cell_type": "code",
   "execution_count": 27,
   "id": "b1644cd0-e9d1-4887-929e-7019823905eb",
   "metadata": {
    "tags": []
   },
   "outputs": [],
   "source": [
    "electrochem_df.to_parquet('electrochem_table.parquet', engine='pyarrow', compression=None)\n",
    "photochem_table.to_parquet('photochem_table.parquet', engine='pyarrow', compression=None)\n",
    "solubility_table.to_parquet('solubility_table.parquet', engine='pyarrow', compression=None)"
   ]
  },
  {
   "cell_type": "code",
   "execution_count": null,
   "id": "12855cba-075d-4f7e-b399-ae0afcae4a26",
   "metadata": {},
   "outputs": [],
   "source": []
  }
 ],
 "metadata": {
  "kernelspec": {
   "display_name": "Python 3 (ipykernel)",
   "language": "python",
   "name": "python3"
  },
  "language_info": {
   "codemirror_mode": {
    "name": "ipython",
    "version": 3
   },
   "file_extension": ".py",
   "mimetype": "text/x-python",
   "name": "python",
   "nbconvert_exporter": "python",
   "pygments_lexer": "ipython3",
   "version": "3.10.0"
  }
 },
 "nbformat": 4,
 "nbformat_minor": 5
}
