{
 "cells": [
  {
   "cell_type": "code",
   "execution_count": 1,
   "id": "ff7a64bd-6a48-4744-b98b-df930d9f8a18",
   "metadata": {
    "tags": []
   },
   "outputs": [],
   "source": [
    "import pandas as pd"
   ]
  },
  {
   "cell_type": "code",
   "execution_count": 2,
   "id": "f8bbca3a-0e6b-45c8-bb7d-1b6089a13553",
   "metadata": {
    "tags": []
   },
   "outputs": [
    {
     "data": {
      "text/html": [
       "<div>\n",
       "<style scoped>\n",
       "    .dataframe tbody tr th:only-of-type {\n",
       "        vertical-align: middle;\n",
       "    }\n",
       "\n",
       "    .dataframe tbody tr th {\n",
       "        vertical-align: top;\n",
       "    }\n",
       "\n",
       "    .dataframe thead th {\n",
       "        text-align: right;\n",
       "    }\n",
       "</style>\n",
       "<table border=\"1\" class=\"dataframe\">\n",
       "  <thead>\n",
       "    <tr style=\"text-align: right;\">\n",
       "      <th></th>\n",
       "      <th>id</th>\n",
       "      <th>name</th>\n",
       "      <th>formula</th>\n",
       "      <th>molecular_weight</th>\n",
       "      <th>CAS</th>\n",
       "      <th>source_dois</th>\n",
       "      <th>recyclable</th>\n",
       "      <th>type</th>\n",
       "      <th>compound_family</th>\n",
       "      <th>used_in_photocat</th>\n",
       "      <th>used_in_rfbs</th>\n",
       "      <th>used_as_hcarrier</th>\n",
       "    </tr>\n",
       "  </thead>\n",
       "  <tbody>\n",
       "  </tbody>\n",
       "</table>\n",
       "</div>"
      ],
      "text/plain": [
       "Empty DataFrame\n",
       "Columns: [id, name, formula, molecular_weight, CAS, source_dois, recyclable, type, compound_family, used_in_photocat, used_in_rfbs, used_as_hcarrier]\n",
       "Index: []"
      ]
     },
     "execution_count": 2,
     "metadata": {},
     "output_type": "execute_result"
    }
   ],
   "source": [
    "compound_df = pd.DataFrame(columns=['id', 'name', 'formula', 'molecular_weight', 'CAS', 'source_dois', 'recyclable', 'type', 'compound_family', 'used_in_photocat', 'used_in_rfbs', 'used_as_hcarrier'])\n",
    "compound_df"
   ]
  },
  {
   "cell_type": "code",
   "execution_count": 6,
   "id": "5165a756-ea59-408b-8d54-f35a1639f377",
   "metadata": {
    "tags": []
   },
   "outputs": [
    {
     "data": {
      "text/html": [
       "<div>\n",
       "<style scoped>\n",
       "    .dataframe tbody tr th:only-of-type {\n",
       "        vertical-align: middle;\n",
       "    }\n",
       "\n",
       "    .dataframe tbody tr th {\n",
       "        vertical-align: top;\n",
       "    }\n",
       "\n",
       "    .dataframe thead th {\n",
       "        text-align: right;\n",
       "    }\n",
       "</style>\n",
       "<table border=\"1\" class=\"dataframe\">\n",
       "  <thead>\n",
       "    <tr style=\"text-align: right;\">\n",
       "      <th></th>\n",
       "      <th>id</th>\n",
       "      <th>compound_id</th>\n",
       "      <th>redox_potential_V</th>\n",
       "      <th>reference_electrode</th>\n",
       "      <th>working_electrode</th>\n",
       "      <th>electrolyte</th>\n",
       "      <th>solvent</th>\n",
       "      <th>peak_to_peak_separation_mV</th>\n",
       "      <th>diffusion_coefficient</th>\n",
       "      <th>exchange_current_density</th>\n",
       "      <th>exchange_current_unit</th>\n",
       "      <th>measurement_ref</th>\n",
       "    </tr>\n",
       "  </thead>\n",
       "  <tbody>\n",
       "  </tbody>\n",
       "</table>\n",
       "</div>"
      ],
      "text/plain": [
       "Empty DataFrame\n",
       "Columns: [id, compound_id, redox_potential_V, reference_electrode, working_electrode, electrolyte, solvent, peak_to_peak_separation_mV, diffusion_coefficient, exchange_current_density, exchange_current_unit, measurement_ref]\n",
       "Index: []"
      ]
     },
     "execution_count": 6,
     "metadata": {},
     "output_type": "execute_result"
    }
   ],
   "source": [
    "electrochem_df = pd.DataFrame(columns=['id', 'compound_id', 'redox_potential_V', 'reference_electrode', 'working_electrode', 'electrolyte', 'solvent', 'peak_to_peak_separation_mV', 'diffusion_coefficient', 'exchange_current_density', 'exchange_current_unit', 'measurement_ref'])\n",
    "electrochem_df"
   ]
  },
  {
   "cell_type": "code",
   "execution_count": 5,
   "id": "2162a408-3b3e-49e6-9f39-4d7e399b9351",
   "metadata": {
    "tags": []
   },
   "outputs": [
    {
     "data": {
      "text/html": [
       "<div>\n",
       "<style scoped>\n",
       "    .dataframe tbody tr th:only-of-type {\n",
       "        vertical-align: middle;\n",
       "    }\n",
       "\n",
       "    .dataframe tbody tr th {\n",
       "        vertical-align: top;\n",
       "    }\n",
       "\n",
       "    .dataframe thead th {\n",
       "        text-align: right;\n",
       "    }\n",
       "</style>\n",
       "<table border=\"1\" class=\"dataframe\">\n",
       "  <thead>\n",
       "    <tr style=\"text-align: right;\">\n",
       "      <th></th>\n",
       "      <th>id</th>\n",
       "      <th>compound_id</th>\n",
       "      <th>maxima_nm</th>\n",
       "      <th>absorption_coefficient</th>\n",
       "      <th>lifetime_ns</th>\n",
       "      <th>solvent</th>\n",
       "      <th>measurement_ref</th>\n",
       "    </tr>\n",
       "  </thead>\n",
       "  <tbody>\n",
       "  </tbody>\n",
       "</table>\n",
       "</div>"
      ],
      "text/plain": [
       "Empty DataFrame\n",
       "Columns: [id, compound_id, maxima_nm, absorption_coefficient, lifetime_ns, solvent, measurement_ref]\n",
       "Index: []"
      ]
     },
     "execution_count": 5,
     "metadata": {},
     "output_type": "execute_result"
    }
   ],
   "source": [
    "photochem_table = pd.DataFrame(columns=['id', 'compound_id', 'maxima_nm', 'absorption_coefficient', 'lifetime_ns', 'solvent', 'measurement_ref'])\n",
    "photochem_table"
   ]
  },
  {
   "cell_type": "code",
   "execution_count": 7,
   "id": "d2a0e66d-e641-48f0-b8e6-a1903f3813f7",
   "metadata": {
    "tags": []
   },
   "outputs": [
    {
     "data": {
      "text/html": [
       "<div>\n",
       "<style scoped>\n",
       "    .dataframe tbody tr th:only-of-type {\n",
       "        vertical-align: middle;\n",
       "    }\n",
       "\n",
       "    .dataframe tbody tr th {\n",
       "        vertical-align: top;\n",
       "    }\n",
       "\n",
       "    .dataframe thead th {\n",
       "        text-align: right;\n",
       "    }\n",
       "</style>\n",
       "<table border=\"1\" class=\"dataframe\">\n",
       "  <thead>\n",
       "    <tr style=\"text-align: right;\">\n",
       "      <th></th>\n",
       "      <th>id</th>\n",
       "      <th>compound_id</th>\n",
       "      <th>solvent</th>\n",
       "      <th>solubility_molarity</th>\n",
       "      <th>molarity_unit</th>\n",
       "      <th>solubility_molality</th>\n",
       "      <th>molality_unit</th>\n",
       "      <th>polarity</th>\n",
       "      <th>polarity_measure</th>\n",
       "      <th>measurement_ref</th>\n",
       "    </tr>\n",
       "  </thead>\n",
       "  <tbody>\n",
       "  </tbody>\n",
       "</table>\n",
       "</div>"
      ],
      "text/plain": [
       "Empty DataFrame\n",
       "Columns: [id, compound_id, solvent, solubility_molarity, molarity_unit, solubility_molality, molality_unit, polarity, polarity_measure, measurement_ref]\n",
       "Index: []"
      ]
     },
     "execution_count": 7,
     "metadata": {},
     "output_type": "execute_result"
    }
   ],
   "source": [
    "solubility_table = pd.DataFrame(columns=['id', 'compound_id', 'solvent', 'solubility_molarity', 'molarity_unit', 'solubility_molality', 'molality_unit', 'polarity', 'polarity_measure', 'measurement_ref'])\n",
    "solubility_table"
   ]
  },
  {
   "cell_type": "code",
   "execution_count": null,
   "id": "beb72fee-3267-46fa-a7b4-d8c76fb87a8f",
   "metadata": {},
   "outputs": [],
   "source": []
  }
 ],
 "metadata": {
  "kernelspec": {
   "display_name": "Python 3 (ipykernel)",
   "language": "python",
   "name": "python3"
  },
  "language_info": {
   "codemirror_mode": {
    "name": "ipython",
    "version": 3
   },
   "file_extension": ".py",
   "mimetype": "text/x-python",
   "name": "python",
   "nbconvert_exporter": "python",
   "pygments_lexer": "ipython3",
   "version": "3.10.0"
  }
 },
 "nbformat": 4,
 "nbformat_minor": 5
}
