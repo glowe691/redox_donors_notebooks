{
 "cells": [
  {
   "cell_type": "code",
   "execution_count": 1,
   "id": "abd18d4d-ee66-47f9-b807-8c9e668161cf",
   "metadata": {
    "tags": []
   },
   "outputs": [],
   "source": [
    "#import plotly.graph_objects as go\n",
    "import plotly.express as px\n",
    "import pandas as pd\n",
    "import numpy as np"
   ]
  },
  {
   "cell_type": "code",
   "execution_count": 2,
   "id": "c5a89c89-3cbe-4b6c-a342-156f0fe9ff28",
   "metadata": {
    "tags": []
   },
   "outputs": [],
   "source": [
    "# loading data \n",
    "compound_table = pd.read_parquet('compound_table.parquet')\n",
    "compound_table.sort_values('id', ascending=True, inplace=True)\n",
    "compound_table.rename(columns={'id': 'compound_id'}, inplace=True)\n",
    "electrochem_table = pd.read_parquet('electrochem_table.parquet')\n"
   ]
  },
  {
   "cell_type": "code",
   "execution_count": 3,
   "id": "edcd1504-327b-4b30-9efc-eda2ee0f76aa",
   "metadata": {
    "tags": []
   },
   "outputs": [],
   "source": [
    "# creating merged table\n",
    "combined_table = compound_table.merge(electrochem_table, how='right', on='compound_id')\n",
    "combined_table= combined_table[['compound_id', 'name', 'formula', 'recyclable', 'type', 'compound_family',\n",
    "       'id', 'redox_potential_V', 'reference_electrode',\n",
    "       'electrolyte', 'solvent', 'pH', 'used_in_photocat', 'used_in_rfbs', 'used_as_hcarrier', 'measurement_ref'\n",
    "       ]]"
   ]
  },
  {
   "cell_type": "code",
   "execution_count": 4,
   "id": "94c093ba-3f9b-4994-b9c0-4a97e3036269",
   "metadata": {
    "tags": []
   },
   "outputs": [],
   "source": [
    "# data cleaning\n",
    "# merging similar families\n",
    "combined_table.loc[combined_table.compound_family=='dialkyloxybenzene', 'compound_family'] = 'dialkoxybenzene'\n",
    "# checking category binary\n",
    "combined_table.loc[combined_table.used_in_photocat!=1, 'used_in_photocat'] = 0\n",
    "# splitting aqueous non-aqueous\n",
    "combined_table['aqueous'] = 0\n",
    "combined_table.loc[combined_table.solvent=='water', 'aqueous']=1\n",
    "# adding DSSC indicator\n",
    "combined_table['used_in_DSSC'] = 0\n",
    "combined_table.loc[combined_table.compound_id.isin([33, 39]), 'used_in_DSSC'] = 1\n"
   ]
  },
  {
   "cell_type": "code",
   "execution_count": 5,
   "id": "91e09e6f-57b8-49d3-8f5e-8b4e27f31763",
   "metadata": {
    "tags": []
   },
   "outputs": [
    {
     "name": "stdout",
     "output_type": "stream",
     "text": [
      "Table contains data for 35 compounds:\n",
      "compound_family: 12 distinct\n",
      "type: 3 distinct\n",
      "solvent: 9 distinct\n",
      "17 compounds with redox potentials measured in aqueous media\n"
     ]
    }
   ],
   "source": [
    "print(f\"Table contains data for {combined_table.compound_id.nunique()} compounds:\")\n",
    "print(f\"compound_family: {combined_table.compound_family.nunique()} distinct\")\n",
    "print(f\"type: {combined_table.type.nunique()} distinct\")\n",
    "print(f\"solvent: {combined_table.solvent.nunique()} distinct\")\n",
    "print(f\"{combined_table.loc[combined_table.aqueous==1, 'compound_id'].nunique()} compounds with redox potentials measured in aqueous media\")"
   ]
  },
  {
   "cell_type": "code",
   "execution_count": 6,
   "id": "a8b74de1-36de-4c57-b217-0ac9db5f4560",
   "metadata": {
    "tags": []
   },
   "outputs": [
    {
     "data": {
      "text/html": [
       "<div>\n",
       "<style scoped>\n",
       "    .dataframe tbody tr th:only-of-type {\n",
       "        vertical-align: middle;\n",
       "    }\n",
       "\n",
       "    .dataframe tbody tr th {\n",
       "        vertical-align: top;\n",
       "    }\n",
       "\n",
       "    .dataframe thead th {\n",
       "        text-align: right;\n",
       "    }\n",
       "</style>\n",
       "<table border=\"1\" class=\"dataframe\">\n",
       "  <thead>\n",
       "    <tr style=\"text-align: right;\">\n",
       "      <th></th>\n",
       "      <th></th>\n",
       "      <th>compound_id</th>\n",
       "      <th>id</th>\n",
       "    </tr>\n",
       "    <tr>\n",
       "      <th>type</th>\n",
       "      <th>compound_family</th>\n",
       "      <th></th>\n",
       "      <th></th>\n",
       "    </tr>\n",
       "  </thead>\n",
       "  <tbody>\n",
       "    <tr>\n",
       "      <th rowspan=\"2\" valign=\"top\">electron acceptor</th>\n",
       "      <th>dialkylquinoxaline</th>\n",
       "      <td>1</td>\n",
       "      <td>2</td>\n",
       "    </tr>\n",
       "    <tr>\n",
       "      <th>viologen</th>\n",
       "      <td>3</td>\n",
       "      <td>3</td>\n",
       "    </tr>\n",
       "    <tr>\n",
       "      <th rowspan=\"9\" valign=\"top\">electron donor</th>\n",
       "      <th>TEMPO</th>\n",
       "      <td>2</td>\n",
       "      <td>2</td>\n",
       "    </tr>\n",
       "    <tr>\n",
       "      <th>amine</th>\n",
       "      <td>5</td>\n",
       "      <td>5</td>\n",
       "    </tr>\n",
       "    <tr>\n",
       "      <th>benzimidazole</th>\n",
       "      <td>7</td>\n",
       "      <td>7</td>\n",
       "    </tr>\n",
       "    <tr>\n",
       "      <th>dialkoxybenzene</th>\n",
       "      <td>3</td>\n",
       "      <td>4</td>\n",
       "    </tr>\n",
       "    <tr>\n",
       "      <th>disulfide forming</th>\n",
       "      <td>2</td>\n",
       "      <td>2</td>\n",
       "    </tr>\n",
       "    <tr>\n",
       "      <th>ferrocene</th>\n",
       "      <td>3</td>\n",
       "      <td>3</td>\n",
       "    </tr>\n",
       "    <tr>\n",
       "      <th>nicotinamide biomimetic</th>\n",
       "      <td>1</td>\n",
       "      <td>1</td>\n",
       "    </tr>\n",
       "    <tr>\n",
       "      <th>organic acid</th>\n",
       "      <td>1</td>\n",
       "      <td>1</td>\n",
       "    </tr>\n",
       "    <tr>\n",
       "      <th>quinone</th>\n",
       "      <td>3</td>\n",
       "      <td>4</td>\n",
       "    </tr>\n",
       "    <tr>\n",
       "      <th>photosensitizer</th>\n",
       "      <th>organometallic</th>\n",
       "      <td>3</td>\n",
       "      <td>11</td>\n",
       "    </tr>\n",
       "  </tbody>\n",
       "</table>\n",
       "</div>"
      ],
      "text/plain": [
       "                                           compound_id  id\n",
       "type              compound_family                         \n",
       "electron acceptor dialkylquinoxaline                 1   2\n",
       "                  viologen                           3   3\n",
       "electron donor    TEMPO                              2   2\n",
       "                  amine                              5   5\n",
       "                  benzimidazole                      7   7\n",
       "                  dialkoxybenzene                    3   4\n",
       "                  disulfide forming                  2   2\n",
       "                  ferrocene                          3   3\n",
       "                  nicotinamide biomimetic            1   1\n",
       "                  organic acid                       1   1\n",
       "                  quinone                            3   4\n",
       "photosensitizer   organometallic                     3  11"
      ]
     },
     "metadata": {},
     "output_type": "display_data"
    }
   ],
   "source": [
    "display(combined_table[['compound_family', 'type', 'compound_id', 'id']].groupby(['type', 'compound_family']).nunique())"
   ]
  },
  {
   "cell_type": "code",
   "execution_count": 7,
   "id": "5a5d907b-ddb7-458f-a511-c40b14704b87",
   "metadata": {
    "tags": []
   },
   "outputs": [
    {
     "name": "stdout",
     "output_type": "stream",
     "text": [
      "['SCE' 'NHE' 'SHE' 'Ag|AgCl']\n",
      "[nan 7.  0.  0.7]\n"
     ]
    }
   ],
   "source": [
    "# setting aqueous data to one reference redox potentials\n",
    "print(combined_table.loc[combined_table.aqueous==1,'reference_electrode'].unique())\n",
    "print(combined_table.loc[combined_table.aqueous==1,'pH'].unique())"
   ]
  },
  {
   "cell_type": "code",
   "execution_count": 8,
   "id": "c16e6697-a13c-4eda-8db5-155fabd1a44e",
   "metadata": {
    "tags": []
   },
   "outputs": [
    {
     "name": "stdout",
     "output_type": "stream",
     "text": [
      "['SCE' 'SHE' 'Li|Li+' 'Fc/Fc+' 'NHE' 'Ag|AgNO3']\n"
     ]
    }
   ],
   "source": [
    "print(combined_table.loc[combined_table.aqueous!=1,'reference_electrode'].unique())"
   ]
  },
  {
   "cell_type": "code",
   "execution_count": 9,
   "id": "e9deb7ed-224e-4240-90c6-4d09eb957aa7",
   "metadata": {
    "tags": []
   },
   "outputs": [
    {
     "name": "stdout",
     "output_type": "stream",
     "text": [
      "['EC/PC/EMC' 'PC' 'EC/EMC' 'PEC']\n"
     ]
    }
   ],
   "source": [
    "print(combined_table.loc[combined_table.reference_electrode=='Li|Li+', 'solvent'].unique())"
   ]
  },
  {
   "cell_type": "code",
   "execution_count": 10,
   "id": "6c2ce0e2-7dcd-4471-9c0e-78e4c3a98a77",
   "metadata": {
    "tags": []
   },
   "outputs": [
    {
     "name": "stdout",
     "output_type": "stream",
     "text": [
      "['acetonitrile' 'THF' 'EC/PC/EMC' 'PC' 'EC/EMC' 'PEC' 'MeCN' 'DMF']\n"
     ]
    }
   ],
   "source": [
    "print(combined_table.loc[combined_table.aqueous!=1, 'solvent'].unique())"
   ]
  },
  {
   "cell_type": "code",
   "execution_count": 11,
   "id": "5573233f-7899-4839-8a26-78331e9167df",
   "metadata": {
    "tags": []
   },
   "outputs": [],
   "source": [
    "# reference electrode potentials from Bard and Faulkner Electrochemical Methods Fundamentals and Applications 2nd Ed.\n",
    "aqueous_references = {'SCE': 0.0,\n",
    "                      'NHE': 0.242,\n",
    "                      'SHE': 0.242,\n",
    "                      'Ag|AgCl': 0.045\n",
    "                    }\n",
    "for ref, correction_V in aqueous_references.items():\n",
    "    combined_table.loc[(combined_table.reference_electrode==ref) & (combined_table.aqueous==1), 'redox_potential_V'] = combined_table.loc[(combined_table.reference_electrode==ref) & (combined_table.aqueous==1), 'redox_potential_V'] + correction_V\n",
    "    combined_table.loc[(combined_table.reference_electrode==ref) & (combined_table.aqueous==1), 'reference_electrode'] = 'SCE'"
   ]
  },
  {
   "cell_type": "code",
   "execution_count": 12,
   "id": "64c89a4d-80a4-4656-a3ce-0fb1d9102f78",
   "metadata": {},
   "outputs": [],
   "source": [
    "# reference electrode potentials from Bard and Faulkner Electrochemical Methods Fundamentals and Applications 2nd Ed.\n",
    "# nonaq_references = {'Fc/Fc+': 0.0,\n",
    "#                     'SCE': -0.31, # Bard & Faulkner\n",
    "#                     'NHE': -0.31 + 0.242, # Bard & Faulkner Fc vs. SCE + NHE corr\n",
    "#                     'SHE': -0.31 + 0.242, # Bard & Faulkner Fc vs. SCE + SHE corr\n",
    "#                     'Ag|AgNO3': 0.0, # need a reference for this\n",
    "#                     'Li|Li+': {'MeCN': -3.3, 'carbonate (using PC)': -3.4},# values extracted from Journal of The Electrochemical Society, 164 (12) A2295-A2297 (2017)\n",
    "#                     }\n",
    "\n",
    "# for ref, correction_V in nonaq_references.items():\n",
    "#     if ref not in ['Ag|AgNO3', 'Li|Li+']:\n",
    "#         combined_table.loc[(combined_table.reference_electrode==ref) & (combined_table.aqueous!=1), 'redox_potential_V'] = combined_table.loc[(combined_table.reference_electrode==ref) & (combined_table.aqueous==1), 'redox_potential_V'] + correction_V\n",
    "#         combined_table.loc[(combined_table.reference_electrode==ref) & (combined_table.aqueous!=1), 'reference_electrode'] = 'Fc/Fc+'\n",
    "# lithium_correction = nonaq_references['Li|Li+']\n",
    "# solvents_wo_MeCN = [s for s in list(combined_table.solvent.unique()) if s in ['acetonitrile', 'MeCN']]\n",
    "# combined_table.loc[(combined_table.reference_electrode=='Li|Li+') && (combined_table.solvent.isin(['acetonitrile', 'MeCN'])), 'redox_potential_V'] = lithium_correction['MeCN'] + combined_table.loc[(combined_table.reference_electrode=='Li|Li+') && (combined_table.solvent.isin(['acetonitrile', 'MeCN'])), 'redox_potential_V']\n"
   ]
  },
  {
   "cell_type": "code",
   "execution_count": 13,
   "id": "7261a98f-3863-4b11-aa94-5794094320f1",
   "metadata": {
    "tags": []
   },
   "outputs": [],
   "source": [
    "# split photosensitizers into a different table\n",
    "ps_table = combined_table.loc[combined_table.type=='photosensitizer', :].copy(deep=True)\n",
    "rsd_table = combined_table.loc[combined_table.type!='photosensitizer', :].copy(deep=True)"
   ]
  },
  {
   "cell_type": "code",
   "execution_count": 14,
   "id": "a657dd88-59a4-49d4-8782-1ae76e13a101",
   "metadata": {
    "tags": []
   },
   "outputs": [
    {
     "data": {
      "text/html": [
       "<div>\n",
       "<style scoped>\n",
       "    .dataframe tbody tr th:only-of-type {\n",
       "        vertical-align: middle;\n",
       "    }\n",
       "\n",
       "    .dataframe tbody tr th {\n",
       "        vertical-align: top;\n",
       "    }\n",
       "\n",
       "    .dataframe thead th {\n",
       "        text-align: right;\n",
       "    }\n",
       "</style>\n",
       "<table border=\"1\" class=\"dataframe\">\n",
       "  <thead>\n",
       "    <tr style=\"text-align: right;\">\n",
       "      <th></th>\n",
       "      <th></th>\n",
       "      <th></th>\n",
       "      <th></th>\n",
       "      <th></th>\n",
       "      <th></th>\n",
       "      <th>compound_id</th>\n",
       "    </tr>\n",
       "    <tr>\n",
       "      <th>aqueous</th>\n",
       "      <th>compound_family</th>\n",
       "      <th>used_in_photocat</th>\n",
       "      <th>used_in_rfbs</th>\n",
       "      <th>used_as_hcarrier</th>\n",
       "      <th>used_in_DSSC</th>\n",
       "      <th></th>\n",
       "    </tr>\n",
       "  </thead>\n",
       "  <tbody>\n",
       "    <tr>\n",
       "      <th rowspan=\"9\" valign=\"top\">0</th>\n",
       "      <th rowspan=\"3\" valign=\"top\">amine</th>\n",
       "      <th rowspan=\"2\" valign=\"top\">0.0</th>\n",
       "      <th rowspan=\"2\" valign=\"top\">0.0</th>\n",
       "      <th>0.0</th>\n",
       "      <th>0</th>\n",
       "      <td>1</td>\n",
       "    </tr>\n",
       "    <tr>\n",
       "      <th>1.0</th>\n",
       "      <th>0</th>\n",
       "      <td>1</td>\n",
       "    </tr>\n",
       "    <tr>\n",
       "      <th>1.0</th>\n",
       "      <th>0.0</th>\n",
       "      <th>0.0</th>\n",
       "      <th>0</th>\n",
       "      <td>1</td>\n",
       "    </tr>\n",
       "    <tr>\n",
       "      <th rowspan=\"2\" valign=\"top\">benzimidazole</th>\n",
       "      <th rowspan=\"2\" valign=\"top\">1.0</th>\n",
       "      <th rowspan=\"2\" valign=\"top\">0.0</th>\n",
       "      <th>0.0</th>\n",
       "      <th>0</th>\n",
       "      <td>6</td>\n",
       "    </tr>\n",
       "    <tr>\n",
       "      <th>1.0</th>\n",
       "      <th>0</th>\n",
       "      <td>1</td>\n",
       "    </tr>\n",
       "    <tr>\n",
       "      <th>dialkoxybenzene</th>\n",
       "      <th>0.0</th>\n",
       "      <th>1.0</th>\n",
       "      <th>0.0</th>\n",
       "      <th>0</th>\n",
       "      <td>3</td>\n",
       "    </tr>\n",
       "    <tr>\n",
       "      <th>dialkylquinoxaline</th>\n",
       "      <th>0.0</th>\n",
       "      <th>1.0</th>\n",
       "      <th>0.0</th>\n",
       "      <th>0</th>\n",
       "      <td>1</td>\n",
       "    </tr>\n",
       "    <tr>\n",
       "      <th>disulfide forming</th>\n",
       "      <th>0.0</th>\n",
       "      <th>0.0</th>\n",
       "      <th>0.0</th>\n",
       "      <th>1</th>\n",
       "      <td>2</td>\n",
       "    </tr>\n",
       "    <tr>\n",
       "      <th>quinone</th>\n",
       "      <th>0.0</th>\n",
       "      <th>0.0</th>\n",
       "      <th>1.0</th>\n",
       "      <th>0</th>\n",
       "      <td>1</td>\n",
       "    </tr>\n",
       "    <tr>\n",
       "      <th rowspan=\"8\" valign=\"top\">1</th>\n",
       "      <th>TEMPO</th>\n",
       "      <th>0.0</th>\n",
       "      <th>1.0</th>\n",
       "      <th>0.0</th>\n",
       "      <th>0</th>\n",
       "      <td>2</td>\n",
       "    </tr>\n",
       "    <tr>\n",
       "      <th>amine</th>\n",
       "      <th>1.0</th>\n",
       "      <th>0.0</th>\n",
       "      <th>0.0</th>\n",
       "      <th>0</th>\n",
       "      <td>2</td>\n",
       "    </tr>\n",
       "    <tr>\n",
       "      <th>ferrocene</th>\n",
       "      <th>0.0</th>\n",
       "      <th>1.0</th>\n",
       "      <th>0.0</th>\n",
       "      <th>0</th>\n",
       "      <td>3</td>\n",
       "    </tr>\n",
       "    <tr>\n",
       "      <th>nicotinamide biomimetic</th>\n",
       "      <th>1.0</th>\n",
       "      <th>0.0</th>\n",
       "      <th>0.0</th>\n",
       "      <th>0</th>\n",
       "      <td>1</td>\n",
       "    </tr>\n",
       "    <tr>\n",
       "      <th>organic acid</th>\n",
       "      <th>1.0</th>\n",
       "      <th>0.0</th>\n",
       "      <th>0.0</th>\n",
       "      <th>0</th>\n",
       "      <td>1</td>\n",
       "    </tr>\n",
       "    <tr>\n",
       "      <th rowspan=\"2\" valign=\"top\">quinone</th>\n",
       "      <th rowspan=\"2\" valign=\"top\">0.0</th>\n",
       "      <th>0.0</th>\n",
       "      <th>1.0</th>\n",
       "      <th>0</th>\n",
       "      <td>2</td>\n",
       "    </tr>\n",
       "    <tr>\n",
       "      <th>1.0</th>\n",
       "      <th>1.0</th>\n",
       "      <th>0</th>\n",
       "      <td>1</td>\n",
       "    </tr>\n",
       "    <tr>\n",
       "      <th>viologen</th>\n",
       "      <th>0.0</th>\n",
       "      <th>1.0</th>\n",
       "      <th>0.0</th>\n",
       "      <th>0</th>\n",
       "      <td>3</td>\n",
       "    </tr>\n",
       "  </tbody>\n",
       "</table>\n",
       "</div>"
      ],
      "text/plain": [
       "                                                                                             compound_id\n",
       "aqueous compound_family         used_in_photocat used_in_rfbs used_as_hcarrier used_in_DSSC             \n",
       "0       amine                   0.0              0.0          0.0              0                       1\n",
       "                                                              1.0              0                       1\n",
       "                                1.0              0.0          0.0              0                       1\n",
       "        benzimidazole           1.0              0.0          0.0              0                       6\n",
       "                                                              1.0              0                       1\n",
       "        dialkoxybenzene         0.0              1.0          0.0              0                       3\n",
       "        dialkylquinoxaline      0.0              1.0          0.0              0                       1\n",
       "        disulfide forming       0.0              0.0          0.0              1                       2\n",
       "        quinone                 0.0              0.0          1.0              0                       1\n",
       "1       TEMPO                   0.0              1.0          0.0              0                       2\n",
       "        amine                   1.0              0.0          0.0              0                       2\n",
       "        ferrocene               0.0              1.0          0.0              0                       3\n",
       "        nicotinamide biomimetic 1.0              0.0          0.0              0                       1\n",
       "        organic acid            1.0              0.0          0.0              0                       1\n",
       "        quinone                 0.0              0.0          1.0              0                       2\n",
       "                                                 1.0          1.0              0                       1\n",
       "        viologen                0.0              1.0          0.0              0                       3"
      ]
     },
     "metadata": {},
     "output_type": "display_data"
    }
   ],
   "source": [
    "display(rsd_table[['compound_family', 'compound_id', 'aqueous', 'used_in_photocat', 'used_in_rfbs', 'used_as_hcarrier', 'used_in_DSSC']].groupby(['aqueous', 'compound_family','used_in_photocat', 'used_in_rfbs', 'used_as_hcarrier', 'used_in_DSSC']).nunique())"
   ]
  },
  {
   "cell_type": "code",
   "execution_count": 19,
   "id": "7af0bb4b-926a-4ef8-808b-8a4e1ac2a93c",
   "metadata": {
    "tags": []
   },
   "outputs": [
    {
     "data": {
      "text/html": [
       "<div>\n",
       "<style scoped>\n",
       "    .dataframe tbody tr th:only-of-type {\n",
       "        vertical-align: middle;\n",
       "    }\n",
       "\n",
       "    .dataframe tbody tr th {\n",
       "        vertical-align: top;\n",
       "    }\n",
       "\n",
       "    .dataframe thead th {\n",
       "        text-align: right;\n",
       "    }\n",
       "</style>\n",
       "<table border=\"1\" class=\"dataframe\">\n",
       "  <thead>\n",
       "    <tr style=\"text-align: right;\">\n",
       "      <th></th>\n",
       "      <th>compound_id</th>\n",
       "      <th>name</th>\n",
       "      <th>formula</th>\n",
       "      <th>recyclable</th>\n",
       "      <th>type</th>\n",
       "      <th>compound_family</th>\n",
       "      <th>id</th>\n",
       "      <th>redox_potential_V</th>\n",
       "      <th>reference_electrode</th>\n",
       "      <th>electrolyte</th>\n",
       "      <th>solvent</th>\n",
       "      <th>pH</th>\n",
       "      <th>used_in_photocat</th>\n",
       "      <th>used_in_rfbs</th>\n",
       "      <th>used_as_hcarrier</th>\n",
       "      <th>measurement_ref</th>\n",
       "      <th>aqueous</th>\n",
       "      <th>used_in_DSSC</th>\n",
       "      <th>redox_event</th>\n",
       "    </tr>\n",
       "  </thead>\n",
       "  <tbody>\n",
       "    <tr>\n",
       "      <th>32</th>\n",
       "      <td>36</td>\n",
       "      <td>[Ru(bpy)3]2+ Tris(2,2-bipyridyl)ruthenium(II)...</td>\n",
       "      <td>C30H36Cl2N6O6Ru</td>\n",
       "      <td>1.0</td>\n",
       "      <td>photosensitizer</td>\n",
       "      <td>organometallic</td>\n",
       "      <td>33</td>\n",
       "      <td>-1.038</td>\n",
       "      <td>SCE</td>\n",
       "      <td></td>\n",
       "      <td>water</td>\n",
       "      <td>NaN</td>\n",
       "      <td>1.0</td>\n",
       "      <td>0.0</td>\n",
       "      <td>0.0</td>\n",
       "      <td>Balzani book page 199</td>\n",
       "      <td>1</td>\n",
       "      <td>0</td>\n",
       "      <td>Ered</td>\n",
       "    </tr>\n",
       "    <tr>\n",
       "      <th>33</th>\n",
       "      <td>36</td>\n",
       "      <td>[Ru(bpy)3]2+ Tris(2,2-bipyridyl)ruthenium(II)...</td>\n",
       "      <td>C30H36Cl2N6O6Ru</td>\n",
       "      <td>1.0</td>\n",
       "      <td>photosensitizer</td>\n",
       "      <td>organometallic</td>\n",
       "      <td>34</td>\n",
       "      <td>1.082</td>\n",
       "      <td>SCE</td>\n",
       "      <td></td>\n",
       "      <td>water</td>\n",
       "      <td>NaN</td>\n",
       "      <td>1.0</td>\n",
       "      <td>0.0</td>\n",
       "      <td>0.0</td>\n",
       "      <td>Balzani book page 199</td>\n",
       "      <td>1</td>\n",
       "      <td>0</td>\n",
       "      <td>Ered*</td>\n",
       "    </tr>\n",
       "    <tr>\n",
       "      <th>34</th>\n",
       "      <td>36</td>\n",
       "      <td>[Ru(bpy)3]2+ Tris(2,2-bipyridyl)ruthenium(II)...</td>\n",
       "      <td>C30H36Cl2N6O6Ru</td>\n",
       "      <td>1.0</td>\n",
       "      <td>photosensitizer</td>\n",
       "      <td>organometallic</td>\n",
       "      <td>35</td>\n",
       "      <td>1.502</td>\n",
       "      <td>SCE</td>\n",
       "      <td></td>\n",
       "      <td>water</td>\n",
       "      <td>NaN</td>\n",
       "      <td>1.0</td>\n",
       "      <td>0.0</td>\n",
       "      <td>0.0</td>\n",
       "      <td>Balzani book page 199</td>\n",
       "      <td>1</td>\n",
       "      <td>0</td>\n",
       "      <td>Eox</td>\n",
       "    </tr>\n",
       "    <tr>\n",
       "      <th>35</th>\n",
       "      <td>36</td>\n",
       "      <td>[Ru(bpy)3]2+ Tris(2,2-bipyridyl)ruthenium(II)...</td>\n",
       "      <td>C30H36Cl2N6O6Ru</td>\n",
       "      <td>1.0</td>\n",
       "      <td>photosensitizer</td>\n",
       "      <td>organometallic</td>\n",
       "      <td>36</td>\n",
       "      <td>-0.618</td>\n",
       "      <td>SCE</td>\n",
       "      <td></td>\n",
       "      <td>water</td>\n",
       "      <td>NaN</td>\n",
       "      <td>1.0</td>\n",
       "      <td>0.0</td>\n",
       "      <td>0.0</td>\n",
       "      <td>Balzani book page 199</td>\n",
       "      <td>1</td>\n",
       "      <td>0</td>\n",
       "      <td>Eox*</td>\n",
       "    </tr>\n",
       "    <tr>\n",
       "      <th>36</th>\n",
       "      <td>37</td>\n",
       "      <td>[Ir(tpy)3]3+</td>\n",
       "      <td></td>\n",
       "      <td>1.0</td>\n",
       "      <td>photosensitizer</td>\n",
       "      <td>organometallic</td>\n",
       "      <td>37</td>\n",
       "      <td>-0.770</td>\n",
       "      <td>SCE</td>\n",
       "      <td></td>\n",
       "      <td>acetonitrile</td>\n",
       "      <td>NaN</td>\n",
       "      <td>1.0</td>\n",
       "      <td>0.0</td>\n",
       "      <td>0.0</td>\n",
       "      <td>Balzani book page 199</td>\n",
       "      <td>0</td>\n",
       "      <td>0</td>\n",
       "      <td></td>\n",
       "    </tr>\n",
       "    <tr>\n",
       "      <th>37</th>\n",
       "      <td>37</td>\n",
       "      <td>[Ir(tpy)3]3+</td>\n",
       "      <td></td>\n",
       "      <td>1.0</td>\n",
       "      <td>photosensitizer</td>\n",
       "      <td>organometallic</td>\n",
       "      <td>38</td>\n",
       "      <td>-0.300</td>\n",
       "      <td>SCE</td>\n",
       "      <td></td>\n",
       "      <td>acetonitrile</td>\n",
       "      <td>NaN</td>\n",
       "      <td>1.0</td>\n",
       "      <td>0.0</td>\n",
       "      <td>0.0</td>\n",
       "      <td>Balzani book page 199</td>\n",
       "      <td>0</td>\n",
       "      <td>0</td>\n",
       "      <td></td>\n",
       "    </tr>\n",
       "    <tr>\n",
       "      <th>38</th>\n",
       "      <td>37</td>\n",
       "      <td>[Ir(tpy)3]3+</td>\n",
       "      <td></td>\n",
       "      <td>1.0</td>\n",
       "      <td>photosensitizer</td>\n",
       "      <td>organometallic</td>\n",
       "      <td>39</td>\n",
       "      <td>1.940</td>\n",
       "      <td>SCE</td>\n",
       "      <td></td>\n",
       "      <td>acetonitrile</td>\n",
       "      <td>NaN</td>\n",
       "      <td>1.0</td>\n",
       "      <td>0.0</td>\n",
       "      <td>0.0</td>\n",
       "      <td>Balzani book page 199</td>\n",
       "      <td>0</td>\n",
       "      <td>0</td>\n",
       "      <td></td>\n",
       "    </tr>\n",
       "    <tr>\n",
       "      <th>39</th>\n",
       "      <td>38</td>\n",
       "      <td>[Cu(dpp)]+</td>\n",
       "      <td></td>\n",
       "      <td>1.0</td>\n",
       "      <td>photosensitizer</td>\n",
       "      <td>organometallic</td>\n",
       "      <td>40</td>\n",
       "      <td>0.690</td>\n",
       "      <td>SCE</td>\n",
       "      <td></td>\n",
       "      <td>acetonitrile</td>\n",
       "      <td>NaN</td>\n",
       "      <td>1.0</td>\n",
       "      <td>0.0</td>\n",
       "      <td>0.0</td>\n",
       "      <td>Balzani book page 199</td>\n",
       "      <td>0</td>\n",
       "      <td>0</td>\n",
       "      <td></td>\n",
       "    </tr>\n",
       "    <tr>\n",
       "      <th>40</th>\n",
       "      <td>38</td>\n",
       "      <td>[Cu(dpp)]+</td>\n",
       "      <td></td>\n",
       "      <td>1.0</td>\n",
       "      <td>photosensitizer</td>\n",
       "      <td>organometallic</td>\n",
       "      <td>41</td>\n",
       "      <td>-1.680</td>\n",
       "      <td>SCE</td>\n",
       "      <td></td>\n",
       "      <td>acetonitrile</td>\n",
       "      <td>NaN</td>\n",
       "      <td>1.0</td>\n",
       "      <td>0.0</td>\n",
       "      <td>0.0</td>\n",
       "      <td>Balzani book page 199</td>\n",
       "      <td>0</td>\n",
       "      <td>0</td>\n",
       "      <td></td>\n",
       "    </tr>\n",
       "    <tr>\n",
       "      <th>41</th>\n",
       "      <td>38</td>\n",
       "      <td>[Cu(dpp)]+</td>\n",
       "      <td></td>\n",
       "      <td>1.0</td>\n",
       "      <td>photosensitizer</td>\n",
       "      <td>organometallic</td>\n",
       "      <td>42</td>\n",
       "      <td>-1.110</td>\n",
       "      <td>SCE</td>\n",
       "      <td></td>\n",
       "      <td>acetonitrile</td>\n",
       "      <td>NaN</td>\n",
       "      <td>1.0</td>\n",
       "      <td>0.0</td>\n",
       "      <td>0.0</td>\n",
       "      <td>Balzani book page 199</td>\n",
       "      <td>0</td>\n",
       "      <td>0</td>\n",
       "      <td></td>\n",
       "    </tr>\n",
       "    <tr>\n",
       "      <th>42</th>\n",
       "      <td>38</td>\n",
       "      <td>[Cu(dpp)]+</td>\n",
       "      <td></td>\n",
       "      <td>1.0</td>\n",
       "      <td>photosensitizer</td>\n",
       "      <td>organometallic</td>\n",
       "      <td>43</td>\n",
       "      <td>0.120</td>\n",
       "      <td>SCE</td>\n",
       "      <td></td>\n",
       "      <td>acetonitrile</td>\n",
       "      <td>NaN</td>\n",
       "      <td>1.0</td>\n",
       "      <td>0.0</td>\n",
       "      <td>0.0</td>\n",
       "      <td>Balzani book page 199</td>\n",
       "      <td>0</td>\n",
       "      <td>0</td>\n",
       "      <td></td>\n",
       "    </tr>\n",
       "  </tbody>\n",
       "</table>\n",
       "</div>"
      ],
      "text/plain": [
       "    compound_id                                               name  \\\n",
       "32           36   [Ru(bpy)3]2+ Tris(2,2-bipyridyl)ruthenium(II)...   \n",
       "33           36   [Ru(bpy)3]2+ Tris(2,2-bipyridyl)ruthenium(II)...   \n",
       "34           36   [Ru(bpy)3]2+ Tris(2,2-bipyridyl)ruthenium(II)...   \n",
       "35           36   [Ru(bpy)3]2+ Tris(2,2-bipyridyl)ruthenium(II)...   \n",
       "36           37                                      [Ir(tpy)3]3+    \n",
       "37           37                                      [Ir(tpy)3]3+    \n",
       "38           37                                      [Ir(tpy)3]3+    \n",
       "39           38                                         [Cu(dpp)]+   \n",
       "40           38                                         [Cu(dpp)]+   \n",
       "41           38                                         [Cu(dpp)]+   \n",
       "42           38                                         [Cu(dpp)]+   \n",
       "\n",
       "            formula  recyclable             type compound_family  id  \\\n",
       "32  C30H36Cl2N6O6Ru         1.0  photosensitizer  organometallic  33   \n",
       "33  C30H36Cl2N6O6Ru         1.0  photosensitizer  organometallic  34   \n",
       "34  C30H36Cl2N6O6Ru         1.0  photosensitizer  organometallic  35   \n",
       "35  C30H36Cl2N6O6Ru         1.0  photosensitizer  organometallic  36   \n",
       "36                          1.0  photosensitizer  organometallic  37   \n",
       "37                          1.0  photosensitizer  organometallic  38   \n",
       "38                          1.0  photosensitizer  organometallic  39   \n",
       "39                          1.0  photosensitizer  organometallic  40   \n",
       "40                          1.0  photosensitizer  organometallic  41   \n",
       "41                          1.0  photosensitizer  organometallic  42   \n",
       "42                          1.0  photosensitizer  organometallic  43   \n",
       "\n",
       "    redox_potential_V reference_electrode electrolyte       solvent  pH  \\\n",
       "32             -1.038                 SCE                     water NaN   \n",
       "33              1.082                 SCE                     water NaN   \n",
       "34              1.502                 SCE                     water NaN   \n",
       "35             -0.618                 SCE                     water NaN   \n",
       "36             -0.770                 SCE              acetonitrile NaN   \n",
       "37             -0.300                 SCE              acetonitrile NaN   \n",
       "38              1.940                 SCE              acetonitrile NaN   \n",
       "39              0.690                 SCE              acetonitrile NaN   \n",
       "40             -1.680                 SCE              acetonitrile NaN   \n",
       "41             -1.110                 SCE              acetonitrile NaN   \n",
       "42              0.120                 SCE              acetonitrile NaN   \n",
       "\n",
       "    used_in_photocat  used_in_rfbs  used_as_hcarrier        measurement_ref  \\\n",
       "32               1.0           0.0               0.0  Balzani book page 199   \n",
       "33               1.0           0.0               0.0  Balzani book page 199   \n",
       "34               1.0           0.0               0.0  Balzani book page 199   \n",
       "35               1.0           0.0               0.0  Balzani book page 199   \n",
       "36               1.0           0.0               0.0  Balzani book page 199   \n",
       "37               1.0           0.0               0.0  Balzani book page 199   \n",
       "38               1.0           0.0               0.0  Balzani book page 199   \n",
       "39               1.0           0.0               0.0  Balzani book page 199   \n",
       "40               1.0           0.0               0.0  Balzani book page 199   \n",
       "41               1.0           0.0               0.0  Balzani book page 199   \n",
       "42               1.0           0.0               0.0  Balzani book page 199   \n",
       "\n",
       "    aqueous  used_in_DSSC redox_event  \n",
       "32        1             0        Ered  \n",
       "33        1             0       Ered*  \n",
       "34        1             0         Eox  \n",
       "35        1             0        Eox*  \n",
       "36        0             0              \n",
       "37        0             0              \n",
       "38        0             0              \n",
       "39        0             0              \n",
       "40        0             0              \n",
       "41        0             0              \n",
       "42        0             0              "
      ]
     },
     "metadata": {},
     "output_type": "display_data"
    }
   ],
   "source": [
    "ps_table['redox_event'] = ''\n",
    "ps_table.loc[ps_table.id.isin([33,]), 'redox_event'] = 'Ered'\n",
    "ps_table.loc[ps_table.id.isin([34,]), 'redox_event'] = 'Ered*'\n",
    "ps_table.loc[ps_table.id.isin([35,]), 'redox_event'] = 'Eox'\n",
    "ps_table.loc[ps_table.id.isin([36,]), 'redox_event'] = 'Eox*'\n",
    "#display(ps_table)"
   ]
  },
  {
   "cell_type": "code",
   "execution_count": 22,
   "id": "dfd570f3-2341-470e-97b6-82205b95573e",
   "metadata": {
    "tags": []
   },
   "outputs": [
    {
     "data": {
      "application/vnd.plotly.v1+json": {
       "config": {
        "plotlyServerURL": "https://plot.ly"
       },
       "data": [
        {
         "hovertemplate": "compound_family=%{x}<br>redox_potential_V=%{y}<extra></extra>",
         "legendgroup": "",
         "marker": {
          "color": "#636efa",
          "symbol": "circle"
         },
         "mode": "markers",
         "name": "",
         "orientation": "v",
         "showlegend": false,
         "type": "scatter",
         "x": [
          "amine",
          "amine",
          "organic acid",
          "nicotinamide biomimetic",
          "ferrocene",
          "ferrocene",
          null,
          "ferrocene",
          "quinone",
          "quinone",
          "viologen",
          "viologen",
          "viologen",
          "TEMPO",
          "TEMPO",
          "quinone"
         ],
         "xaxis": "x",
         "y": [
          0.69,
          1.312,
          1.412,
          0.902,
          0.852,
          0.852,
          -0.20800000000000002,
          0.642,
          0.45599999999999996,
          0.892,
          -0.585,
          -0.41500000000000004,
          -0.48500000000000004,
          0.8350000000000001,
          0.685,
          1.1680000000000001
         ],
         "yaxis": "y"
        }
       ],
       "layout": {
        "autosize": true,
        "legend": {
         "tracegroupgap": 0
        },
        "margin": {
         "t": 60
        },
        "shapes": [
         {
          "type": "line",
          "x0": 0,
          "x1": 1,
          "xref": "x domain",
          "y0": -1.038,
          "y1": -1.038,
          "yref": "y"
         },
         {
          "type": "line",
          "x0": 0,
          "x1": 1,
          "xref": "x domain",
          "y0": 1.0819999999999999,
          "y1": 1.0819999999999999,
          "yref": "y"
         },
         {
          "type": "line",
          "x0": 0,
          "x1": 1,
          "xref": "x domain",
          "y0": 1.502,
          "y1": 1.502,
          "yref": "y"
         },
         {
          "type": "line",
          "x0": 0,
          "x1": 1,
          "xref": "x domain",
          "y0": -0.618,
          "y1": -0.618,
          "yref": "y"
         }
        ],
        "template": {
         "data": {
          "bar": [
           {
            "error_x": {
             "color": "#2a3f5f"
            },
            "error_y": {
             "color": "#2a3f5f"
            },
            "marker": {
             "line": {
              "color": "#E5ECF6",
              "width": 0.5
             },
             "pattern": {
              "fillmode": "overlay",
              "size": 10,
              "solidity": 0.2
             }
            },
            "type": "bar"
           }
          ],
          "barpolar": [
           {
            "marker": {
             "line": {
              "color": "#E5ECF6",
              "width": 0.5
             },
             "pattern": {
              "fillmode": "overlay",
              "size": 10,
              "solidity": 0.2
             }
            },
            "type": "barpolar"
           }
          ],
          "carpet": [
           {
            "aaxis": {
             "endlinecolor": "#2a3f5f",
             "gridcolor": "white",
             "linecolor": "white",
             "minorgridcolor": "white",
             "startlinecolor": "#2a3f5f"
            },
            "baxis": {
             "endlinecolor": "#2a3f5f",
             "gridcolor": "white",
             "linecolor": "white",
             "minorgridcolor": "white",
             "startlinecolor": "#2a3f5f"
            },
            "type": "carpet"
           }
          ],
          "choropleth": [
           {
            "colorbar": {
             "outlinewidth": 0,
             "ticks": ""
            },
            "type": "choropleth"
           }
          ],
          "contour": [
           {
            "colorbar": {
             "outlinewidth": 0,
             "ticks": ""
            },
            "colorscale": [
             [
              0,
              "#0d0887"
             ],
             [
              0.1111111111111111,
              "#46039f"
             ],
             [
              0.2222222222222222,
              "#7201a8"
             ],
             [
              0.3333333333333333,
              "#9c179e"
             ],
             [
              0.4444444444444444,
              "#bd3786"
             ],
             [
              0.5555555555555556,
              "#d8576b"
             ],
             [
              0.6666666666666666,
              "#ed7953"
             ],
             [
              0.7777777777777778,
              "#fb9f3a"
             ],
             [
              0.8888888888888888,
              "#fdca26"
             ],
             [
              1,
              "#f0f921"
             ]
            ],
            "type": "contour"
           }
          ],
          "contourcarpet": [
           {
            "colorbar": {
             "outlinewidth": 0,
             "ticks": ""
            },
            "type": "contourcarpet"
           }
          ],
          "heatmap": [
           {
            "colorbar": {
             "outlinewidth": 0,
             "ticks": ""
            },
            "colorscale": [
             [
              0,
              "#0d0887"
             ],
             [
              0.1111111111111111,
              "#46039f"
             ],
             [
              0.2222222222222222,
              "#7201a8"
             ],
             [
              0.3333333333333333,
              "#9c179e"
             ],
             [
              0.4444444444444444,
              "#bd3786"
             ],
             [
              0.5555555555555556,
              "#d8576b"
             ],
             [
              0.6666666666666666,
              "#ed7953"
             ],
             [
              0.7777777777777778,
              "#fb9f3a"
             ],
             [
              0.8888888888888888,
              "#fdca26"
             ],
             [
              1,
              "#f0f921"
             ]
            ],
            "type": "heatmap"
           }
          ],
          "heatmapgl": [
           {
            "colorbar": {
             "outlinewidth": 0,
             "ticks": ""
            },
            "colorscale": [
             [
              0,
              "#0d0887"
             ],
             [
              0.1111111111111111,
              "#46039f"
             ],
             [
              0.2222222222222222,
              "#7201a8"
             ],
             [
              0.3333333333333333,
              "#9c179e"
             ],
             [
              0.4444444444444444,
              "#bd3786"
             ],
             [
              0.5555555555555556,
              "#d8576b"
             ],
             [
              0.6666666666666666,
              "#ed7953"
             ],
             [
              0.7777777777777778,
              "#fb9f3a"
             ],
             [
              0.8888888888888888,
              "#fdca26"
             ],
             [
              1,
              "#f0f921"
             ]
            ],
            "type": "heatmapgl"
           }
          ],
          "histogram": [
           {
            "marker": {
             "pattern": {
              "fillmode": "overlay",
              "size": 10,
              "solidity": 0.2
             }
            },
            "type": "histogram"
           }
          ],
          "histogram2d": [
           {
            "colorbar": {
             "outlinewidth": 0,
             "ticks": ""
            },
            "colorscale": [
             [
              0,
              "#0d0887"
             ],
             [
              0.1111111111111111,
              "#46039f"
             ],
             [
              0.2222222222222222,
              "#7201a8"
             ],
             [
              0.3333333333333333,
              "#9c179e"
             ],
             [
              0.4444444444444444,
              "#bd3786"
             ],
             [
              0.5555555555555556,
              "#d8576b"
             ],
             [
              0.6666666666666666,
              "#ed7953"
             ],
             [
              0.7777777777777778,
              "#fb9f3a"
             ],
             [
              0.8888888888888888,
              "#fdca26"
             ],
             [
              1,
              "#f0f921"
             ]
            ],
            "type": "histogram2d"
           }
          ],
          "histogram2dcontour": [
           {
            "colorbar": {
             "outlinewidth": 0,
             "ticks": ""
            },
            "colorscale": [
             [
              0,
              "#0d0887"
             ],
             [
              0.1111111111111111,
              "#46039f"
             ],
             [
              0.2222222222222222,
              "#7201a8"
             ],
             [
              0.3333333333333333,
              "#9c179e"
             ],
             [
              0.4444444444444444,
              "#bd3786"
             ],
             [
              0.5555555555555556,
              "#d8576b"
             ],
             [
              0.6666666666666666,
              "#ed7953"
             ],
             [
              0.7777777777777778,
              "#fb9f3a"
             ],
             [
              0.8888888888888888,
              "#fdca26"
             ],
             [
              1,
              "#f0f921"
             ]
            ],
            "type": "histogram2dcontour"
           }
          ],
          "mesh3d": [
           {
            "colorbar": {
             "outlinewidth": 0,
             "ticks": ""
            },
            "type": "mesh3d"
           }
          ],
          "parcoords": [
           {
            "line": {
             "colorbar": {
              "outlinewidth": 0,
              "ticks": ""
             }
            },
            "type": "parcoords"
           }
          ],
          "pie": [
           {
            "automargin": true,
            "type": "pie"
           }
          ],
          "scatter": [
           {
            "fillpattern": {
             "fillmode": "overlay",
             "size": 10,
             "solidity": 0.2
            },
            "type": "scatter"
           }
          ],
          "scatter3d": [
           {
            "line": {
             "colorbar": {
              "outlinewidth": 0,
              "ticks": ""
             }
            },
            "marker": {
             "colorbar": {
              "outlinewidth": 0,
              "ticks": ""
             }
            },
            "type": "scatter3d"
           }
          ],
          "scattercarpet": [
           {
            "marker": {
             "colorbar": {
              "outlinewidth": 0,
              "ticks": ""
             }
            },
            "type": "scattercarpet"
           }
          ],
          "scattergeo": [
           {
            "marker": {
             "colorbar": {
              "outlinewidth": 0,
              "ticks": ""
             }
            },
            "type": "scattergeo"
           }
          ],
          "scattergl": [
           {
            "marker": {
             "colorbar": {
              "outlinewidth": 0,
              "ticks": ""
             }
            },
            "type": "scattergl"
           }
          ],
          "scattermapbox": [
           {
            "marker": {
             "colorbar": {
              "outlinewidth": 0,
              "ticks": ""
             }
            },
            "type": "scattermapbox"
           }
          ],
          "scatterpolar": [
           {
            "marker": {
             "colorbar": {
              "outlinewidth": 0,
              "ticks": ""
             }
            },
            "type": "scatterpolar"
           }
          ],
          "scatterpolargl": [
           {
            "marker": {
             "colorbar": {
              "outlinewidth": 0,
              "ticks": ""
             }
            },
            "type": "scatterpolargl"
           }
          ],
          "scatterternary": [
           {
            "marker": {
             "colorbar": {
              "outlinewidth": 0,
              "ticks": ""
             }
            },
            "type": "scatterternary"
           }
          ],
          "surface": [
           {
            "colorbar": {
             "outlinewidth": 0,
             "ticks": ""
            },
            "colorscale": [
             [
              0,
              "#0d0887"
             ],
             [
              0.1111111111111111,
              "#46039f"
             ],
             [
              0.2222222222222222,
              "#7201a8"
             ],
             [
              0.3333333333333333,
              "#9c179e"
             ],
             [
              0.4444444444444444,
              "#bd3786"
             ],
             [
              0.5555555555555556,
              "#d8576b"
             ],
             [
              0.6666666666666666,
              "#ed7953"
             ],
             [
              0.7777777777777778,
              "#fb9f3a"
             ],
             [
              0.8888888888888888,
              "#fdca26"
             ],
             [
              1,
              "#f0f921"
             ]
            ],
            "type": "surface"
           }
          ],
          "table": [
           {
            "cells": {
             "fill": {
              "color": "#EBF0F8"
             },
             "line": {
              "color": "white"
             }
            },
            "header": {
             "fill": {
              "color": "#C8D4E3"
             },
             "line": {
              "color": "white"
             }
            },
            "type": "table"
           }
          ]
         },
         "layout": {
          "annotationdefaults": {
           "arrowcolor": "#2a3f5f",
           "arrowhead": 0,
           "arrowwidth": 1
          },
          "autotypenumbers": "strict",
          "coloraxis": {
           "colorbar": {
            "outlinewidth": 0,
            "ticks": ""
           }
          },
          "colorscale": {
           "diverging": [
            [
             0,
             "#8e0152"
            ],
            [
             0.1,
             "#c51b7d"
            ],
            [
             0.2,
             "#de77ae"
            ],
            [
             0.3,
             "#f1b6da"
            ],
            [
             0.4,
             "#fde0ef"
            ],
            [
             0.5,
             "#f7f7f7"
            ],
            [
             0.6,
             "#e6f5d0"
            ],
            [
             0.7,
             "#b8e186"
            ],
            [
             0.8,
             "#7fbc41"
            ],
            [
             0.9,
             "#4d9221"
            ],
            [
             1,
             "#276419"
            ]
           ],
           "sequential": [
            [
             0,
             "#0d0887"
            ],
            [
             0.1111111111111111,
             "#46039f"
            ],
            [
             0.2222222222222222,
             "#7201a8"
            ],
            [
             0.3333333333333333,
             "#9c179e"
            ],
            [
             0.4444444444444444,
             "#bd3786"
            ],
            [
             0.5555555555555556,
             "#d8576b"
            ],
            [
             0.6666666666666666,
             "#ed7953"
            ],
            [
             0.7777777777777778,
             "#fb9f3a"
            ],
            [
             0.8888888888888888,
             "#fdca26"
            ],
            [
             1,
             "#f0f921"
            ]
           ],
           "sequentialminus": [
            [
             0,
             "#0d0887"
            ],
            [
             0.1111111111111111,
             "#46039f"
            ],
            [
             0.2222222222222222,
             "#7201a8"
            ],
            [
             0.3333333333333333,
             "#9c179e"
            ],
            [
             0.4444444444444444,
             "#bd3786"
            ],
            [
             0.5555555555555556,
             "#d8576b"
            ],
            [
             0.6666666666666666,
             "#ed7953"
            ],
            [
             0.7777777777777778,
             "#fb9f3a"
            ],
            [
             0.8888888888888888,
             "#fdca26"
            ],
            [
             1,
             "#f0f921"
            ]
           ]
          },
          "colorway": [
           "#636efa",
           "#EF553B",
           "#00cc96",
           "#ab63fa",
           "#FFA15A",
           "#19d3f3",
           "#FF6692",
           "#B6E880",
           "#FF97FF",
           "#FECB52"
          ],
          "font": {
           "color": "#2a3f5f"
          },
          "geo": {
           "bgcolor": "white",
           "lakecolor": "white",
           "landcolor": "#E5ECF6",
           "showlakes": true,
           "showland": true,
           "subunitcolor": "white"
          },
          "hoverlabel": {
           "align": "left"
          },
          "hovermode": "closest",
          "mapbox": {
           "style": "light"
          },
          "paper_bgcolor": "white",
          "plot_bgcolor": "#E5ECF6",
          "polar": {
           "angularaxis": {
            "gridcolor": "white",
            "linecolor": "white",
            "ticks": ""
           },
           "bgcolor": "#E5ECF6",
           "radialaxis": {
            "gridcolor": "white",
            "linecolor": "white",
            "ticks": ""
           }
          },
          "scene": {
           "xaxis": {
            "backgroundcolor": "#E5ECF6",
            "gridcolor": "white",
            "gridwidth": 2,
            "linecolor": "white",
            "showbackground": true,
            "ticks": "",
            "zerolinecolor": "white"
           },
           "yaxis": {
            "backgroundcolor": "#E5ECF6",
            "gridcolor": "white",
            "gridwidth": 2,
            "linecolor": "white",
            "showbackground": true,
            "ticks": "",
            "zerolinecolor": "white"
           },
           "zaxis": {
            "backgroundcolor": "#E5ECF6",
            "gridcolor": "white",
            "gridwidth": 2,
            "linecolor": "white",
            "showbackground": true,
            "ticks": "",
            "zerolinecolor": "white"
           }
          },
          "shapedefaults": {
           "line": {
            "color": "#2a3f5f"
           }
          },
          "ternary": {
           "aaxis": {
            "gridcolor": "white",
            "linecolor": "white",
            "ticks": ""
           },
           "baxis": {
            "gridcolor": "white",
            "linecolor": "white",
            "ticks": ""
           },
           "bgcolor": "#E5ECF6",
           "caxis": {
            "gridcolor": "white",
            "linecolor": "white",
            "ticks": ""
           }
          },
          "title": {
           "x": 0.05
          },
          "xaxis": {
           "automargin": true,
           "gridcolor": "white",
           "linecolor": "white",
           "ticks": "",
           "title": {
            "standoff": 15
           },
           "zerolinecolor": "white",
           "zerolinewidth": 2
          },
          "yaxis": {
           "automargin": true,
           "gridcolor": "white",
           "linecolor": "white",
           "ticks": "",
           "title": {
            "standoff": 15
           },
           "zerolinecolor": "white",
           "zerolinewidth": 2
          }
         }
        },
        "xaxis": {
         "anchor": "y",
         "autorange": true,
         "domain": [
          0,
          1
         ],
         "range": [
          -0.36353751359188113,
          6.363537513591881
         ],
         "title": {
          "text": "compound_family"
         },
         "type": "category"
        },
        "yaxis": {
         "anchor": "x",
         "autorange": true,
         "domain": [
          0,
          1
         ],
         "range": [
          -1.0499951040391677,
          1.5889277845777232
         ],
         "title": {
          "text": "redox_potential_V"
         },
         "type": "linear"
        }
       }
      },
      "image/png": "[encoded data removed]",
      "text/html": [
       "<div>                            <div id=\"d421cafc-1e9d-4405-aa1d-38058c20898b\" class=\"plotly-graph-div\" style=\"height:525px; width:100%;\"></div>            <script type=\"text/javascript\">                require([\"plotly\"], function(Plotly) {                    window.PLOTLYENV=window.PLOTLYENV || {};                                    if (document.getElementById(\"d421cafc-1e9d-4405-aa1d-38058c20898b\")) {                    Plotly.newPlot(                        \"d421cafc-1e9d-4405-aa1d-38058c20898b\",                        [{\"hovertemplate\":\"compound_family=%{x}<br>redox_potential_V=%{y}<extra></extra>\",\"legendgroup\":\"\",\"marker\":{\"color\":\"#636efa\",\"symbol\":\"circle\"},\"mode\":\"markers\",\"name\":\"\",\"orientation\":\"v\",\"showlegend\":false,\"x\":[\"amine\",\"amine\",\"organic acid\",\"nicotinamide biomimetic\",\"ferrocene\",\"ferrocene\",null,\"ferrocene\",\"quinone\",\"quinone\",\"viologen\",\"viologen\",\"viologen\",\"TEMPO\",\"TEMPO\",\"quinone\"],\"xaxis\":\"x\",\"y\":[0.69,1.312,1.412,0.902,0.852,0.852,-0.20800000000000002,0.642,0.45599999999999996,0.892,-0.585,-0.41500000000000004,-0.48500000000000004,0.8350000000000001,0.685,1.1680000000000001],\"yaxis\":\"y\",\"type\":\"scatter\"}],                        {\"template\":{\"data\":{\"histogram2dcontour\":[{\"type\":\"histogram2dcontour\",\"colorbar\":{\"outlinewidth\":0,\"ticks\":\"\"},\"colorscale\":[[0.0,\"#0d0887\"],[0.1111111111111111,\"#46039f\"],[0.2222222222222222,\"#7201a8\"],[0.3333333333333333,\"#9c179e\"],[0.4444444444444444,\"#bd3786\"],[0.5555555555555556,\"#d8576b\"],[0.6666666666666666,\"#ed7953\"],[0.7777777777777778,\"#fb9f3a\"],[0.8888888888888888,\"#fdca26\"],[1.0,\"#f0f921\"]]}],\"choropleth\":[{\"type\":\"choropleth\",\"colorbar\":{\"outlinewidth\":0,\"ticks\":\"\"}}],\"histogram2d\":[{\"type\":\"histogram2d\",\"colorbar\":{\"outlinewidth\":0,\"ticks\":\"\"},\"colorscale\":[[0.0,\"#0d0887\"],[0.1111111111111111,\"#46039f\"],[0.2222222222222222,\"#7201a8\"],[0.3333333333333333,\"#9c179e\"],[0.4444444444444444,\"#bd3786\"],[0.5555555555555556,\"#d8576b\"],[0.6666666666666666,\"#ed7953\"],[0.7777777777777778,\"#fb9f3a\"],[0.8888888888888888,\"#fdca26\"],[1.0,\"#f0f921\"]]}],\"heatmap\":[{\"type\":\"heatmap\",\"colorbar\":{\"outlinewidth\":0,\"ticks\":\"\"},\"colorscale\":[[0.0,\"#0d0887\"],[0.1111111111111111,\"#46039f\"],[0.2222222222222222,\"#7201a8\"],[0.3333333333333333,\"#9c179e\"],[0.4444444444444444,\"#bd3786\"],[0.5555555555555556,\"#d8576b\"],[0.6666666666666666,\"#ed7953\"],[0.7777777777777778,\"#fb9f3a\"],[0.8888888888888888,\"#fdca26\"],[1.0,\"#f0f921\"]]}],\"heatmapgl\":[{\"type\":\"heatmapgl\",\"colorbar\":{\"outlinewidth\":0,\"ticks\":\"\"},\"colorscale\":[[0.0,\"#0d0887\"],[0.1111111111111111,\"#46039f\"],[0.2222222222222222,\"#7201a8\"],[0.3333333333333333,\"#9c179e\"],[0.4444444444444444,\"#bd3786\"],[0.5555555555555556,\"#d8576b\"],[0.6666666666666666,\"#ed7953\"],[0.7777777777777778,\"#fb9f3a\"],[0.8888888888888888,\"#fdca26\"],[1.0,\"#f0f921\"]]}],\"contourcarpet\":[{\"type\":\"contourcarpet\",\"colorbar\":{\"outlinewidth\":0,\"ticks\":\"\"}}],\"contour\":[{\"type\":\"contour\",\"colorbar\":{\"outlinewidth\":0,\"ticks\":\"\"},\"colorscale\":[[0.0,\"#0d0887\"],[0.1111111111111111,\"#46039f\"],[0.2222222222222222,\"#7201a8\"],[0.3333333333333333,\"#9c179e\"],[0.4444444444444444,\"#bd3786\"],[0.5555555555555556,\"#d8576b\"],[0.6666666666666666,\"#ed7953\"],[0.7777777777777778,\"#fb9f3a\"],[0.8888888888888888,\"#fdca26\"],[1.0,\"#f0f921\"]]}],\"surface\":[{\"type\":\"surface\",\"colorbar\":{\"outlinewidth\":0,\"ticks\":\"\"},\"colorscale\":[[0.0,\"#0d0887\"],[0.1111111111111111,\"#46039f\"],[0.2222222222222222,\"#7201a8\"],[0.3333333333333333,\"#9c179e\"],[0.4444444444444444,\"#bd3786\"],[0.5555555555555556,\"#d8576b\"],[0.6666666666666666,\"#ed7953\"],[0.7777777777777778,\"#fb9f3a\"],[0.8888888888888888,\"#fdca26\"],[1.0,\"#f0f921\"]]}],\"mesh3d\":[{\"type\":\"mesh3d\",\"colorbar\":{\"outlinewidth\":0,\"ticks\":\"\"}}],\"scatter\":[{\"fillpattern\":{\"fillmode\":\"overlay\",\"size\":10,\"solidity\":0.2},\"type\":\"scatter\"}],\"parcoords\":[{\"type\":\"parcoords\",\"line\":{\"colorbar\":{\"outlinewidth\":0,\"ticks\":\"\"}}}],\"scatterpolargl\":[{\"type\":\"scatterpolargl\",\"marker\":{\"colorbar\":{\"outlinewidth\":0,\"ticks\":\"\"}}}],\"bar\":[{\"error_x\":{\"color\":\"#2a3f5f\"},\"error_y\":{\"color\":\"#2a3f5f\"},\"marker\":{\"line\":{\"color\":\"#E5ECF6\",\"width\":0.5},\"pattern\":{\"fillmode\":\"overlay\",\"size\":10,\"solidity\":0.2}},\"type\":\"bar\"}],\"scattergeo\":[{\"type\":\"scattergeo\",\"marker\":{\"colorbar\":{\"outlinewidth\":0,\"ticks\":\"\"}}}],\"scatterpolar\":[{\"type\":\"scatterpolar\",\"marker\":{\"colorbar\":{\"outlinewidth\":0,\"ticks\":\"\"}}}],\"histogram\":[{\"marker\":{\"pattern\":{\"fillmode\":\"overlay\",\"size\":10,\"solidity\":0.2}},\"type\":\"histogram\"}],\"scattergl\":[{\"type\":\"scattergl\",\"marker\":{\"colorbar\":{\"outlinewidth\":0,\"ticks\":\"\"}}}],\"scatter3d\":[{\"type\":\"scatter3d\",\"line\":{\"colorbar\":{\"outlinewidth\":0,\"ticks\":\"\"}},\"marker\":{\"colorbar\":{\"outlinewidth\":0,\"ticks\":\"\"}}}],\"scattermapbox\":[{\"type\":\"scattermapbox\",\"marker\":{\"colorbar\":{\"outlinewidth\":0,\"ticks\":\"\"}}}],\"scatterternary\":[{\"type\":\"scatterternary\",\"marker\":{\"colorbar\":{\"outlinewidth\":0,\"ticks\":\"\"}}}],\"scattercarpet\":[{\"type\":\"scattercarpet\",\"marker\":{\"colorbar\":{\"outlinewidth\":0,\"ticks\":\"\"}}}],\"carpet\":[{\"aaxis\":{\"endlinecolor\":\"#2a3f5f\",\"gridcolor\":\"white\",\"linecolor\":\"white\",\"minorgridcolor\":\"white\",\"startlinecolor\":\"#2a3f5f\"},\"baxis\":{\"endlinecolor\":\"#2a3f5f\",\"gridcolor\":\"white\",\"linecolor\":\"white\",\"minorgridcolor\":\"white\",\"startlinecolor\":\"#2a3f5f\"},\"type\":\"carpet\"}],\"table\":[{\"cells\":{\"fill\":{\"color\":\"#EBF0F8\"},\"line\":{\"color\":\"white\"}},\"header\":{\"fill\":{\"color\":\"#C8D4E3\"},\"line\":{\"color\":\"white\"}},\"type\":\"table\"}],\"barpolar\":[{\"marker\":{\"line\":{\"color\":\"#E5ECF6\",\"width\":0.5},\"pattern\":{\"fillmode\":\"overlay\",\"size\":10,\"solidity\":0.2}},\"type\":\"barpolar\"}],\"pie\":[{\"automargin\":true,\"type\":\"pie\"}]},\"layout\":{\"autotypenumbers\":\"strict\",\"colorway\":[\"#636efa\",\"#EF553B\",\"#00cc96\",\"#ab63fa\",\"#FFA15A\",\"#19d3f3\",\"#FF6692\",\"#B6E880\",\"#FF97FF\",\"#FECB52\"],\"font\":{\"color\":\"#2a3f5f\"},\"hovermode\":\"closest\",\"hoverlabel\":{\"align\":\"left\"},\"paper_bgcolor\":\"white\",\"plot_bgcolor\":\"#E5ECF6\",\"polar\":{\"bgcolor\":\"#E5ECF6\",\"angularaxis\":{\"gridcolor\":\"white\",\"linecolor\":\"white\",\"ticks\":\"\"},\"radialaxis\":{\"gridcolor\":\"white\",\"linecolor\":\"white\",\"ticks\":\"\"}},\"ternary\":{\"bgcolor\":\"#E5ECF6\",\"aaxis\":{\"gridcolor\":\"white\",\"linecolor\":\"white\",\"ticks\":\"\"},\"baxis\":{\"gridcolor\":\"white\",\"linecolor\":\"white\",\"ticks\":\"\"},\"caxis\":{\"gridcolor\":\"white\",\"linecolor\":\"white\",\"ticks\":\"\"}},\"coloraxis\":{\"colorbar\":{\"outlinewidth\":0,\"ticks\":\"\"}},\"colorscale\":{\"sequential\":[[0.0,\"#0d0887\"],[0.1111111111111111,\"#46039f\"],[0.2222222222222222,\"#7201a8\"],[0.3333333333333333,\"#9c179e\"],[0.4444444444444444,\"#bd3786\"],[0.5555555555555556,\"#d8576b\"],[0.6666666666666666,\"#ed7953\"],[0.7777777777777778,\"#fb9f3a\"],[0.8888888888888888,\"#fdca26\"],[1.0,\"#f0f921\"]],\"sequentialminus\":[[0.0,\"#0d0887\"],[0.1111111111111111,\"#46039f\"],[0.2222222222222222,\"#7201a8\"],[0.3333333333333333,\"#9c179e\"],[0.4444444444444444,\"#bd3786\"],[0.5555555555555556,\"#d8576b\"],[0.6666666666666666,\"#ed7953\"],[0.7777777777777778,\"#fb9f3a\"],[0.8888888888888888,\"#fdca26\"],[1.0,\"#f0f921\"]],\"diverging\":[[0,\"#8e0152\"],[0.1,\"#c51b7d\"],[0.2,\"#de77ae\"],[0.3,\"#f1b6da\"],[0.4,\"#fde0ef\"],[0.5,\"#f7f7f7\"],[0.6,\"#e6f5d0\"],[0.7,\"#b8e186\"],[0.8,\"#7fbc41\"],[0.9,\"#4d9221\"],[1,\"#276419\"]]},\"xaxis\":{\"gridcolor\":\"white\",\"linecolor\":\"white\",\"ticks\":\"\",\"title\":{\"standoff\":15},\"zerolinecolor\":\"white\",\"automargin\":true,\"zerolinewidth\":2},\"yaxis\":{\"gridcolor\":\"white\",\"linecolor\":\"white\",\"ticks\":\"\",\"title\":{\"standoff\":15},\"zerolinecolor\":\"white\",\"automargin\":true,\"zerolinewidth\":2},\"scene\":{\"xaxis\":{\"backgroundcolor\":\"#E5ECF6\",\"gridcolor\":\"white\",\"linecolor\":\"white\",\"showbackground\":true,\"ticks\":\"\",\"zerolinecolor\":\"white\",\"gridwidth\":2},\"yaxis\":{\"backgroundcolor\":\"#E5ECF6\",\"gridcolor\":\"white\",\"linecolor\":\"white\",\"showbackground\":true,\"ticks\":\"\",\"zerolinecolor\":\"white\",\"gridwidth\":2},\"zaxis\":{\"backgroundcolor\":\"#E5ECF6\",\"gridcolor\":\"white\",\"linecolor\":\"white\",\"showbackground\":true,\"ticks\":\"\",\"zerolinecolor\":\"white\",\"gridwidth\":2}},\"shapedefaults\":{\"line\":{\"color\":\"#2a3f5f\"}},\"annotationdefaults\":{\"arrowcolor\":\"#2a3f5f\",\"arrowhead\":0,\"arrowwidth\":1},\"geo\":{\"bgcolor\":\"white\",\"landcolor\":\"#E5ECF6\",\"subunitcolor\":\"white\",\"showland\":true,\"showlakes\":true,\"lakecolor\":\"white\"},\"title\":{\"x\":0.05},\"mapbox\":{\"style\":\"light\"}}},\"xaxis\":{\"anchor\":\"y\",\"domain\":[0.0,1.0],\"title\":{\"text\":\"compound_family\"}},\"yaxis\":{\"anchor\":\"x\",\"domain\":[0.0,1.0],\"title\":{\"text\":\"redox_potential_V\"}},\"legend\":{\"tracegroupgap\":0},\"margin\":{\"t\":60},\"shapes\":[{\"type\":\"line\",\"x0\":0,\"x1\":1,\"xref\":\"x domain\",\"y0\":-1.038,\"y1\":-1.038,\"yref\":\"y\"},{\"type\":\"line\",\"x0\":0,\"x1\":1,\"xref\":\"x domain\",\"y0\":1.0819999999999999,\"y1\":1.0819999999999999,\"yref\":\"y\"},{\"type\":\"line\",\"x0\":0,\"x1\":1,\"xref\":\"x domain\",\"y0\":1.502,\"y1\":1.502,\"yref\":\"y\"},{\"type\":\"line\",\"x0\":0,\"x1\":1,\"xref\":\"x domain\",\"y0\":-0.618,\"y1\":-0.618,\"yref\":\"y\"}]},                        {\"responsive\": true}                    ).then(function(){\n",
       "                            \n",
       "var gd = document.getElementById('d421cafc-1e9d-4405-aa1d-38058c20898b');\n",
       "var x = new MutationObserver(function (mutations, observer) {{\n",
       "        var display = window.getComputedStyle(gd).display;\n",
       "        if (!display || display === 'none') {{\n",
       "            console.log([gd, 'removed!']);\n",
       "            Plotly.purge(gd);\n",
       "            observer.disconnect();\n",
       "        }}\n",
       "}});\n",
       "\n",
       "// Listen for the removal of the full notebook cells\n",
       "var notebookContainer = gd.closest('#notebook-container');\n",
       "if (notebookContainer) {{\n",
       "    x.observe(notebookContainer, {childList: true});\n",
       "}}\n",
       "\n",
       "// Listen for the clearing of the current output cell\n",
       "var outputEl = gd.closest('.output');\n",
       "if (outputEl) {{\n",
       "    x.observe(outputEl, {childList: true});\n",
       "}}\n",
       "\n",
       "                        })                };                });            </script>        </div>"
      ]
     },
     "metadata": {},
     "output_type": "display_data"
    }
   ],
   "source": [
    "aqueous = px.scatter(rsd_table.loc[rsd_table.aqueous==1,:], x='compound_family', y='redox_potential_V')\n",
    "id_list = ps_table.loc[(ps_table.compound_id==36)&(ps_table.aqueous==1),:].id.to_list()\n",
    "for idnum in id_list:\n",
    "    aqueous.add_hline(y=float(ps_table.loc[ps_table.id==idnum, 'redox_potential_V']))\n",
    "aqueous.show()"
   ]
  },
  {
   "cell_type": "code",
   "execution_count": null,
   "id": "95374bef-2085-49fe-bfdf-bea040c971d4",
   "metadata": {},
   "outputs": [],
   "source": []
  }
 ],
 "metadata": {
  "kernelspec": {
   "display_name": "Python 3 (ipykernel)",
   "language": "python",
   "name": "python3"
  },
  "language_info": {
   "codemirror_mode": {
    "name": "ipython",
    "version": 3
   },
   "file_extension": ".py",
   "mimetype": "text/x-python",
   "name": "python",
   "nbconvert_exporter": "python",
   "pygments_lexer": "ipython3",
   "version": "3.10.0"
  }
 },
 "nbformat": 4,
 "nbformat_minor": 5
}
