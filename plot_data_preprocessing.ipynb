{
 "cells": [
  {
   "cell_type": "code",
   "execution_count": 1,
   "id": "abd18d4d-ee66-47f9-b807-8c9e668161cf",
   "metadata": {
    "tags": []
   },
   "outputs": [],
   "source": [
    "#import plotly.graph_objects as go\n",
    "import plotly.express as px\n",
    "import pandas as pd\n",
    "import numpy as np\n",
    "from reference_converters import *"
   ]
  },
  {
   "cell_type": "code",
   "execution_count": 2,
   "id": "c5a89c89-3cbe-4b6c-a342-156f0fe9ff28",
   "metadata": {
    "tags": []
   },
   "outputs": [],
   "source": [
    "# loading data \n",
    "compound_table = pd.read_parquet('compound_table.parquet')\n",
    "compound_table.sort_values('id', ascending=True, inplace=True)\n",
    "compound_table.rename(columns={'id': 'compound_id'}, inplace=True)\n",
    "electrochem_table = pd.read_parquet('electrochem_table.parquet')\n"
   ]
  },
  {
   "cell_type": "code",
   "execution_count": 3,
   "id": "edcd1504-327b-4b30-9efc-eda2ee0f76aa",
   "metadata": {
    "tags": []
   },
   "outputs": [],
   "source": [
    "# creating merged table\n",
    "combined_table = compound_table.merge(electrochem_table, how='right', on='compound_id')\n",
    "combined_table.dropna(subset=['name',], axis=0, inplace=True)\n",
    "combined_table= combined_table[['compound_id', 'name', 'formula', 'recyclable', 'type', 'compound_family',\n",
    "       'id', 'redox_potential_V', 'reference_electrode',\n",
    "       'electrolyte', 'solvent', 'pH', 'used_in_photocat', 'used_in_rfbs', 'used_as_hcarrier', 'used_in_DSSC', 'measurement_ref'\n",
    "       ]]"
   ]
  },
  {
   "cell_type": "code",
   "execution_count": 4,
   "id": "94c093ba-3f9b-4994-b9c0-4a97e3036269",
   "metadata": {
    "tags": []
   },
   "outputs": [],
   "source": [
    "# data cleaning\n",
    "\n",
    "# checking category binary\n",
    "combined_table.loc[combined_table.used_in_photocat!=1, 'used_in_photocat'] = 0\n",
    "\n",
    "# splitting aqueous non-aqueous\n",
    "combined_table['aqueous'] = 0\n",
    "combined_table.loc[combined_table.solvent=='water', 'aqueous']=1\n",
    "combined_table.loc[combined_table.solvent=='aqueous', 'aqueous']=1\n"
   ]
  },
  {
   "cell_type": "code",
   "execution_count": 5,
   "id": "91e09e6f-57b8-49d3-8f5e-8b4e27f31763",
   "metadata": {
    "tags": []
   },
   "outputs": [
    {
     "name": "stdout",
     "output_type": "stream",
     "text": [
      "Table contains data for 45 compounds:\n",
      "compound_family: 12 distinct\n",
      "type: 3 distinct\n",
      "solvent: 12 distinct\n",
      "17 compounds with redox potentials measured in aqueous media\n"
     ]
    }
   ],
   "source": [
    "print(f\"Table contains data for {combined_table.compound_id.nunique()} compounds:\")\n",
    "print(f\"compound_family: {combined_table.compound_family.nunique()} distinct\")\n",
    "print(f\"type: {combined_table.type.nunique()} distinct\")\n",
    "print(f\"solvent: {combined_table.solvent.nunique()} distinct\")\n",
    "print(f\"{combined_table.loc[combined_table.aqueous==1, 'compound_id'].nunique()} compounds with redox potentials measured in aqueous media\")"
   ]
  },
  {
   "cell_type": "code",
   "execution_count": 6,
   "id": "a8b74de1-36de-4c57-b217-0ac9db5f4560",
   "metadata": {
    "tags": []
   },
   "outputs": [
    {
     "data": {
      "text/html": [
       "<div>\n",
       "<style scoped>\n",
       "    .dataframe tbody tr th:only-of-type {\n",
       "        vertical-align: middle;\n",
       "    }\n",
       "\n",
       "    .dataframe tbody tr th {\n",
       "        vertical-align: top;\n",
       "    }\n",
       "\n",
       "    .dataframe thead th {\n",
       "        text-align: right;\n",
       "    }\n",
       "</style>\n",
       "<table border=\"1\" class=\"dataframe\">\n",
       "  <thead>\n",
       "    <tr style=\"text-align: right;\">\n",
       "      <th></th>\n",
       "      <th></th>\n",
       "      <th>compound_id</th>\n",
       "      <th>id</th>\n",
       "    </tr>\n",
       "    <tr>\n",
       "      <th>type</th>\n",
       "      <th>compound_family</th>\n",
       "      <th></th>\n",
       "      <th></th>\n",
       "    </tr>\n",
       "  </thead>\n",
       "  <tbody>\n",
       "    <tr>\n",
       "      <th rowspan=\"2\" valign=\"top\">electron acceptor</th>\n",
       "      <th>dialkylquinoxaline</th>\n",
       "      <td>1</td>\n",
       "      <td>2</td>\n",
       "    </tr>\n",
       "    <tr>\n",
       "      <th>viologen</th>\n",
       "      <td>3</td>\n",
       "      <td>3</td>\n",
       "    </tr>\n",
       "    <tr>\n",
       "      <th rowspan=\"9\" valign=\"top\">electron donor</th>\n",
       "      <th>R-NADH</th>\n",
       "      <td>2</td>\n",
       "      <td>5</td>\n",
       "    </tr>\n",
       "    <tr>\n",
       "      <th>TEMPO</th>\n",
       "      <td>2</td>\n",
       "      <td>2</td>\n",
       "    </tr>\n",
       "    <tr>\n",
       "      <th>acridine</th>\n",
       "      <td>1</td>\n",
       "      <td>1</td>\n",
       "    </tr>\n",
       "    <tr>\n",
       "      <th>amine</th>\n",
       "      <td>6</td>\n",
       "      <td>6</td>\n",
       "    </tr>\n",
       "    <tr>\n",
       "      <th>benzimidazole</th>\n",
       "      <td>9</td>\n",
       "      <td>10</td>\n",
       "    </tr>\n",
       "    <tr>\n",
       "      <th>dialkoxybenzene</th>\n",
       "      <td>3</td>\n",
       "      <td>4</td>\n",
       "    </tr>\n",
       "    <tr>\n",
       "      <th>disulfide forming</th>\n",
       "      <td>8</td>\n",
       "      <td>8</td>\n",
       "    </tr>\n",
       "    <tr>\n",
       "      <th>ferrocene</th>\n",
       "      <td>3</td>\n",
       "      <td>3</td>\n",
       "    </tr>\n",
       "    <tr>\n",
       "      <th>quinone</th>\n",
       "      <td>3</td>\n",
       "      <td>4</td>\n",
       "    </tr>\n",
       "    <tr>\n",
       "      <th>photosensitizer</th>\n",
       "      <th>organometallic</th>\n",
       "      <td>4</td>\n",
       "      <td>18</td>\n",
       "    </tr>\n",
       "  </tbody>\n",
       "</table>\n",
       "</div>"
      ],
      "text/plain": [
       "                                      compound_id  id\n",
       "type              compound_family                    \n",
       "electron acceptor dialkylquinoxaline            1   2\n",
       "                  viologen                      3   3\n",
       "electron donor    R-NADH                        2   5\n",
       "                  TEMPO                         2   2\n",
       "                  acridine                      1   1\n",
       "                  amine                         6   6\n",
       "                  benzimidazole                 9  10\n",
       "                  dialkoxybenzene               3   4\n",
       "                  disulfide forming             8   8\n",
       "                  ferrocene                     3   3\n",
       "                  quinone                       3   4\n",
       "photosensitizer   organometallic                4  18"
      ]
     },
     "metadata": {},
     "output_type": "display_data"
    }
   ],
   "source": [
    "display(combined_table[['compound_family', 'type', 'compound_id', 'id']].groupby(['type', 'compound_family']).nunique())"
   ]
  },
  {
   "cell_type": "code",
   "execution_count": 7,
   "id": "5a5d907b-ddb7-458f-a511-c40b14704b87",
   "metadata": {
    "tags": []
   },
   "outputs": [
    {
     "name": "stdout",
     "output_type": "stream",
     "text": [
      "['SCE' 'NHE' 'SHE' 'Ag|AgCl']\n",
      "[nan 7.  0.  0.7 8.2 4.6]\n"
     ]
    }
   ],
   "source": [
    "# setting aqueous data to one reference redox potentials\n",
    "print(combined_table.loc[combined_table.aqueous==1,'reference_electrode'].unique())\n",
    "print(combined_table.loc[combined_table.aqueous==1,'pH'].unique())"
   ]
  },
  {
   "cell_type": "code",
   "execution_count": 8,
   "id": "c16e6697-a13c-4eda-8db5-155fabd1a44e",
   "metadata": {
    "tags": []
   },
   "outputs": [
    {
     "name": "stdout",
     "output_type": "stream",
     "text": [
      "['SCE' 'SHE' 'Li|Li+' 'Fc/Fc+' 'NHE' 'Ag|AgCl']\n"
     ]
    }
   ],
   "source": [
    "print(combined_table.loc[combined_table.aqueous!=1,'reference_electrode'].unique())"
   ]
  },
  {
   "cell_type": "code",
   "execution_count": 9,
   "id": "e9deb7ed-224e-4240-90c6-4d09eb957aa7",
   "metadata": {
    "tags": []
   },
   "outputs": [
    {
     "name": "stdout",
     "output_type": "stream",
     "text": [
      "['EC/PC/EMC' 'PC' 'EC/EMC' 'PEC']\n"
     ]
    }
   ],
   "source": [
    "print(combined_table.loc[combined_table.reference_electrode=='Li|Li+', 'solvent'].unique())"
   ]
  },
  {
   "cell_type": "code",
   "execution_count": 10,
   "id": "6c2ce0e2-7dcd-4471-9c0e-78e4c3a98a77",
   "metadata": {
    "tags": []
   },
   "outputs": [
    {
     "name": "stdout",
     "output_type": "stream",
     "text": [
      "['acetonitrile' 'THF' 'EC/PC/EMC' 'PC' 'EC/EMC' 'PEC' 'MeCN' 'DMF' 'DMSO'\n",
      " 'gamma-butyrolactone']\n"
     ]
    }
   ],
   "source": [
    "print(combined_table.loc[combined_table.aqueous!=1, 'solvent'].unique())"
   ]
  },
  {
   "cell_type": "code",
   "execution_count": 11,
   "id": "b41f6107-6bb8-4b57-90e3-e5caaaa1776e",
   "metadata": {
    "tags": []
   },
   "outputs": [
    {
     "data": {
      "text/html": [
       "<div>\n",
       "<style scoped>\n",
       "    .dataframe tbody tr th:only-of-type {\n",
       "        vertical-align: middle;\n",
       "    }\n",
       "\n",
       "    .dataframe tbody tr th {\n",
       "        vertical-align: top;\n",
       "    }\n",
       "\n",
       "    .dataframe thead th {\n",
       "        text-align: right;\n",
       "    }\n",
       "</style>\n",
       "<table border=\"1\" class=\"dataframe\">\n",
       "  <thead>\n",
       "    <tr style=\"text-align: right;\">\n",
       "      <th></th>\n",
       "      <th>compound_id</th>\n",
       "      <th>name</th>\n",
       "      <th>formula</th>\n",
       "      <th>recyclable</th>\n",
       "      <th>type</th>\n",
       "      <th>compound_family</th>\n",
       "      <th>id</th>\n",
       "      <th>redox_potential_V</th>\n",
       "      <th>reference_electrode</th>\n",
       "      <th>electrolyte</th>\n",
       "      <th>solvent</th>\n",
       "      <th>pH</th>\n",
       "      <th>used_in_photocat</th>\n",
       "      <th>used_in_rfbs</th>\n",
       "      <th>used_as_hcarrier</th>\n",
       "      <th>used_in_DSSC</th>\n",
       "      <th>measurement_ref</th>\n",
       "      <th>aqueous</th>\n",
       "    </tr>\n",
       "  </thead>\n",
       "  <tbody>\n",
       "    <tr>\n",
       "      <th>0</th>\n",
       "      <td>1</td>\n",
       "      <td>triethylamine</td>\n",
       "      <td>(C2H5)3N</td>\n",
       "      <td>0.0</td>\n",
       "      <td>electron donor</td>\n",
       "      <td>amine</td>\n",
       "      <td>1</td>\n",
       "      <td>0.690</td>\n",
       "      <td>SCE</td>\n",
       "      <td></td>\n",
       "      <td>water</td>\n",
       "      <td>NaN</td>\n",
       "      <td>1.0</td>\n",
       "      <td>0.0</td>\n",
       "      <td>0.0</td>\n",
       "      <td>0.0</td>\n",
       "      <td>https://doi.org/10.1016/j.crci.2015.11.026</td>\n",
       "      <td>1</td>\n",
       "    </tr>\n",
       "    <tr>\n",
       "      <th>1</th>\n",
       "      <td>2</td>\n",
       "      <td>triethanolamine</td>\n",
       "      <td>(HOCH2CH2)3N</td>\n",
       "      <td>0.0</td>\n",
       "      <td>electron donor</td>\n",
       "      <td>amine</td>\n",
       "      <td>2</td>\n",
       "      <td>1.070</td>\n",
       "      <td>NHE</td>\n",
       "      <td>pH7 phosphate buffer</td>\n",
       "      <td>water</td>\n",
       "      <td>7.0</td>\n",
       "      <td>1.0</td>\n",
       "      <td>0.0</td>\n",
       "      <td>0.0</td>\n",
       "      <td>0.0</td>\n",
       "      <td>https://doi.org/10.1039/c3cp55023k</td>\n",
       "      <td>1</td>\n",
       "    </tr>\n",
       "    <tr>\n",
       "      <th>31</th>\n",
       "      <td>4</td>\n",
       "      <td>4-dimethylaminotoluene (DMT)</td>\n",
       "      <td>CH3C6H4N(CH3)2</td>\n",
       "      <td>0.0</td>\n",
       "      <td>electron donor</td>\n",
       "      <td>amine</td>\n",
       "      <td>32</td>\n",
       "      <td>0.700</td>\n",
       "      <td>SCE</td>\n",
       "      <td>TBAClO4</td>\n",
       "      <td>MeCN</td>\n",
       "      <td>NaN</td>\n",
       "      <td>1.0</td>\n",
       "      <td>0.0</td>\n",
       "      <td>0.0</td>\n",
       "      <td>0.0</td>\n",
       "      <td>https://doi.org/10.1016/S0022-0728(70)80304-7</td>\n",
       "      <td>0</td>\n",
       "    </tr>\n",
       "    <tr>\n",
       "      <th>4</th>\n",
       "      <td>5</td>\n",
       "      <td>1,3-dimethyl-2-phenylbenzimidazoline (BIH)</td>\n",
       "      <td>C15H16N2</td>\n",
       "      <td>0.0</td>\n",
       "      <td>electron donor</td>\n",
       "      <td>benzimidazole</td>\n",
       "      <td>5</td>\n",
       "      <td>0.330</td>\n",
       "      <td>SCE</td>\n",
       "      <td>Et4NClO4</td>\n",
       "      <td>acetonitrile</td>\n",
       "      <td>NaN</td>\n",
       "      <td>1.0</td>\n",
       "      <td>0.0</td>\n",
       "      <td>0.0</td>\n",
       "      <td>0.0</td>\n",
       "      <td>doi:10.1016/j.tet.2006.03.061</td>\n",
       "      <td>0</td>\n",
       "    </tr>\n",
       "    <tr>\n",
       "      <th>50</th>\n",
       "      <td>5</td>\n",
       "      <td>1,3-dimethyl-2-phenylbenzimidazoline (BIH)</td>\n",
       "      <td>C15H16N2</td>\n",
       "      <td>0.0</td>\n",
       "      <td>electron donor</td>\n",
       "      <td>benzimidazole</td>\n",
       "      <td>51</td>\n",
       "      <td>-0.440</td>\n",
       "      <td>Fc/Fc+</td>\n",
       "      <td></td>\n",
       "      <td>DMSO</td>\n",
       "      <td>NaN</td>\n",
       "      <td>1.0</td>\n",
       "      <td>0.0</td>\n",
       "      <td>0.0</td>\n",
       "      <td>0.0</td>\n",
       "      <td>DOI: 10.1039/C9CC00928K</td>\n",
       "      <td>0</td>\n",
       "    </tr>\n",
       "    <tr>\n",
       "      <th>...</th>\n",
       "      <td>...</td>\n",
       "      <td>...</td>\n",
       "      <td>...</td>\n",
       "      <td>...</td>\n",
       "      <td>...</td>\n",
       "      <td>...</td>\n",
       "      <td>...</td>\n",
       "      <td>...</td>\n",
       "      <td>...</td>\n",
       "      <td>...</td>\n",
       "      <td>...</td>\n",
       "      <td>...</td>\n",
       "      <td>...</td>\n",
       "      <td>...</td>\n",
       "      <td>...</td>\n",
       "      <td>...</td>\n",
       "      <td>...</td>\n",
       "      <td>...</td>\n",
       "    </tr>\n",
       "    <tr>\n",
       "      <th>62</th>\n",
       "      <td>50</td>\n",
       "      <td>4-methoxyphenylthioate</td>\n",
       "      <td>[C8H7OS2]-</td>\n",
       "      <td>0.0</td>\n",
       "      <td>electron donor</td>\n",
       "      <td>disulfide forming</td>\n",
       "      <td>63</td>\n",
       "      <td>0.190</td>\n",
       "      <td>SCE</td>\n",
       "      <td></td>\n",
       "      <td>acetonitrile</td>\n",
       "      <td>NaN</td>\n",
       "      <td>1.0</td>\n",
       "      <td>0.0</td>\n",
       "      <td>0.0</td>\n",
       "      <td>0.0</td>\n",
       "      <td>DOI: 10.1016/j.crci.2015.11.026</td>\n",
       "      <td>0</td>\n",
       "    </tr>\n",
       "    <tr>\n",
       "      <th>63</th>\n",
       "      <td>51</td>\n",
       "      <td>1-Benzyl-1,4-dihydronicotinamide (BNAH)</td>\n",
       "      <td>C13H14N2O</td>\n",
       "      <td>1.0</td>\n",
       "      <td>electron donor</td>\n",
       "      <td>R-NADH</td>\n",
       "      <td>64</td>\n",
       "      <td>0.480</td>\n",
       "      <td>NHE</td>\n",
       "      <td>unspecified buffer</td>\n",
       "      <td>aqueous</td>\n",
       "      <td>8.2</td>\n",
       "      <td>1.0</td>\n",
       "      <td>0.0</td>\n",
       "      <td>0.0</td>\n",
       "      <td>0.0</td>\n",
       "      <td>DOI: 10.1016/0302-4598(74)85011-7</td>\n",
       "      <td>1</td>\n",
       "    </tr>\n",
       "    <tr>\n",
       "      <th>64</th>\n",
       "      <td>51</td>\n",
       "      <td>1-Benzyl-1,4-dihydronicotinamide (BNAH)</td>\n",
       "      <td>C13H14N2O</td>\n",
       "      <td>1.0</td>\n",
       "      <td>electron donor</td>\n",
       "      <td>R-NADH</td>\n",
       "      <td>65</td>\n",
       "      <td>0.660</td>\n",
       "      <td>NHE</td>\n",
       "      <td>unspecified buffer</td>\n",
       "      <td>aqueous</td>\n",
       "      <td>8.2</td>\n",
       "      <td>1.0</td>\n",
       "      <td>0.0</td>\n",
       "      <td>0.0</td>\n",
       "      <td>0.0</td>\n",
       "      <td>DOI: 10.1016/0302-4598(74)85011-7</td>\n",
       "      <td>1</td>\n",
       "    </tr>\n",
       "    <tr>\n",
       "      <th>65</th>\n",
       "      <td>51</td>\n",
       "      <td>1-Benzyl-1,4-dihydronicotinamide (BNAH)</td>\n",
       "      <td>C13H14N2O</td>\n",
       "      <td>1.0</td>\n",
       "      <td>electron donor</td>\n",
       "      <td>R-NADH</td>\n",
       "      <td>66</td>\n",
       "      <td>1.075</td>\n",
       "      <td>NHE</td>\n",
       "      <td>unspecified buffer</td>\n",
       "      <td>aqueous</td>\n",
       "      <td>4.6</td>\n",
       "      <td>1.0</td>\n",
       "      <td>0.0</td>\n",
       "      <td>0.0</td>\n",
       "      <td>0.0</td>\n",
       "      <td>DOI: 10.1016/0302-4598(74)85011-7</td>\n",
       "      <td>1</td>\n",
       "    </tr>\n",
       "    <tr>\n",
       "      <th>66</th>\n",
       "      <td>51</td>\n",
       "      <td>1-Benzyl-1,4-dihydronicotinamide (BNAH)</td>\n",
       "      <td>C13H14N2O</td>\n",
       "      <td>1.0</td>\n",
       "      <td>electron donor</td>\n",
       "      <td>R-NADH</td>\n",
       "      <td>67</td>\n",
       "      <td>1.075</td>\n",
       "      <td>NHE</td>\n",
       "      <td>unspecified buffer</td>\n",
       "      <td>aqueous</td>\n",
       "      <td>7.0</td>\n",
       "      <td>1.0</td>\n",
       "      <td>0.0</td>\n",
       "      <td>0.0</td>\n",
       "      <td>0.0</td>\n",
       "      <td>DOI: 10.1016/0302-4598(74)85011-7</td>\n",
       "      <td>1</td>\n",
       "    </tr>\n",
       "  </tbody>\n",
       "</table>\n",
       "<p>66 rows × 18 columns</p>\n",
       "</div>"
      ],
      "text/plain": [
       "    compound_id                                        name         formula  \\\n",
       "0             1                               triethylamine        (C2H5)3N   \n",
       "1             2                             triethanolamine    (HOCH2CH2)3N   \n",
       "31            4                4-dimethylaminotoluene (DMT)  CH3C6H4N(CH3)2   \n",
       "4             5  1,3-dimethyl-2-phenylbenzimidazoline (BIH)        C15H16N2   \n",
       "50            5  1,3-dimethyl-2-phenylbenzimidazoline (BIH)        C15H16N2   \n",
       "..          ...                                         ...             ...   \n",
       "62           50                      4-methoxyphenylthioate      [C8H7OS2]-   \n",
       "63           51     1-Benzyl-1,4-dihydronicotinamide (BNAH)       C13H14N2O   \n",
       "64           51     1-Benzyl-1,4-dihydronicotinamide (BNAH)       C13H14N2O   \n",
       "65           51     1-Benzyl-1,4-dihydronicotinamide (BNAH)       C13H14N2O   \n",
       "66           51     1-Benzyl-1,4-dihydronicotinamide (BNAH)       C13H14N2O   \n",
       "\n",
       "    recyclable            type    compound_family  id  redox_potential_V  \\\n",
       "0          0.0  electron donor              amine   1              0.690   \n",
       "1          0.0  electron donor              amine   2              1.070   \n",
       "31         0.0  electron donor              amine  32              0.700   \n",
       "4          0.0  electron donor      benzimidazole   5              0.330   \n",
       "50         0.0  electron donor      benzimidazole  51             -0.440   \n",
       "..         ...             ...                ...  ..                ...   \n",
       "62         0.0  electron donor  disulfide forming  63              0.190   \n",
       "63         1.0  electron donor             R-NADH  64              0.480   \n",
       "64         1.0  electron donor             R-NADH  65              0.660   \n",
       "65         1.0  electron donor             R-NADH  66              1.075   \n",
       "66         1.0  electron donor             R-NADH  67              1.075   \n",
       "\n",
       "   reference_electrode           electrolyte       solvent   pH  \\\n",
       "0                  SCE                               water  NaN   \n",
       "1                  NHE  pH7 phosphate buffer         water  7.0   \n",
       "31                 SCE               TBAClO4          MeCN  NaN   \n",
       "4                  SCE              Et4NClO4  acetonitrile  NaN   \n",
       "50              Fc/Fc+                                DMSO  NaN   \n",
       "..                 ...                   ...           ...  ...   \n",
       "62                 SCE                        acetonitrile  NaN   \n",
       "63                 NHE    unspecified buffer       aqueous  8.2   \n",
       "64                 NHE    unspecified buffer       aqueous  8.2   \n",
       "65                 NHE    unspecified buffer       aqueous  4.6   \n",
       "66                 NHE    unspecified buffer       aqueous  7.0   \n",
       "\n",
       "    used_in_photocat  used_in_rfbs  used_as_hcarrier  used_in_DSSC  \\\n",
       "0                1.0           0.0               0.0           0.0   \n",
       "1                1.0           0.0               0.0           0.0   \n",
       "31               1.0           0.0               0.0           0.0   \n",
       "4                1.0           0.0               0.0           0.0   \n",
       "50               1.0           0.0               0.0           0.0   \n",
       "..               ...           ...               ...           ...   \n",
       "62               1.0           0.0               0.0           0.0   \n",
       "63               1.0           0.0               0.0           0.0   \n",
       "64               1.0           0.0               0.0           0.0   \n",
       "65               1.0           0.0               0.0           0.0   \n",
       "66               1.0           0.0               0.0           0.0   \n",
       "\n",
       "                                  measurement_ref  aqueous  \n",
       "0      https://doi.org/10.1016/j.crci.2015.11.026        1  \n",
       "1              https://doi.org/10.1039/c3cp55023k        1  \n",
       "31  https://doi.org/10.1016/S0022-0728(70)80304-7        0  \n",
       "4                   doi:10.1016/j.tet.2006.03.061        0  \n",
       "50                        DOI: 10.1039/C9CC00928K        0  \n",
       "..                                            ...      ...  \n",
       "62                DOI: 10.1016/j.crci.2015.11.026        0  \n",
       "63              DOI: 10.1016/0302-4598(74)85011-7        1  \n",
       "64              DOI: 10.1016/0302-4598(74)85011-7        1  \n",
       "65              DOI: 10.1016/0302-4598(74)85011-7        1  \n",
       "66              DOI: 10.1016/0302-4598(74)85011-7        1  \n",
       "\n",
       "[66 rows x 18 columns]"
      ]
     },
     "metadata": {},
     "output_type": "display_data"
    }
   ],
   "source": [
    "display(combined_table.sort_values('compound_id'))"
   ]
  },
  {
   "cell_type": "code",
   "execution_count": 12,
   "id": "5573233f-7899-4839-8a26-78331e9167df",
   "metadata": {
    "tags": []
   },
   "outputs": [],
   "source": [
    "# converting potentials to vs. SCE for aqueous measurments\n",
    "combined_table.loc[combined_table.aqueous==1,:] = combined_table.loc[combined_table.aqueous==1,:].apply(lambda row: aqueous_potentials_to_SCE(row), axis=1)\n",
    "# converting potentials to vs. Fc/Fc+ for nonaqueous measurments\n",
    "combined_table.loc[combined_table.aqueous!=1,:] = combined_table.loc[combined_table.aqueous!=1,:].apply(lambda row: nonaqueous_potentials_to_Fc(row), axis=1)"
   ]
  },
  {
   "cell_type": "code",
   "execution_count": 13,
   "id": "7261a98f-3863-4b11-aa94-5794094320f1",
   "metadata": {
    "tags": []
   },
   "outputs": [],
   "source": [
    "# split photosensitizers into a different table\n",
    "ps_table = combined_table.loc[combined_table.type=='photosensitizer', :].copy(deep=True)\n",
    "rsd_table = combined_table.loc[combined_table.type!='photosensitizer', :].copy(deep=True)"
   ]
  },
  {
   "cell_type": "code",
   "execution_count": 14,
   "id": "a657dd88-59a4-49d4-8782-1ae76e13a101",
   "metadata": {
    "tags": []
   },
   "outputs": [
    {
     "data": {
      "text/html": [
       "<div>\n",
       "<style scoped>\n",
       "    .dataframe tbody tr th:only-of-type {\n",
       "        vertical-align: middle;\n",
       "    }\n",
       "\n",
       "    .dataframe tbody tr th {\n",
       "        vertical-align: top;\n",
       "    }\n",
       "\n",
       "    .dataframe thead th {\n",
       "        text-align: right;\n",
       "    }\n",
       "</style>\n",
       "<table border=\"1\" class=\"dataframe\">\n",
       "  <thead>\n",
       "    <tr style=\"text-align: right;\">\n",
       "      <th></th>\n",
       "      <th></th>\n",
       "      <th></th>\n",
       "      <th></th>\n",
       "      <th></th>\n",
       "      <th></th>\n",
       "      <th>compound_id</th>\n",
       "    </tr>\n",
       "    <tr>\n",
       "      <th>aqueous</th>\n",
       "      <th>compound_family</th>\n",
       "      <th>used_in_photocat</th>\n",
       "      <th>used_in_rfbs</th>\n",
       "      <th>used_as_hcarrier</th>\n",
       "      <th>used_in_DSSC</th>\n",
       "      <th></th>\n",
       "    </tr>\n",
       "  </thead>\n",
       "  <tbody>\n",
       "    <tr>\n",
       "      <th rowspan=\"10\" valign=\"top\">0</th>\n",
       "      <th>acridine</th>\n",
       "      <th>1.0</th>\n",
       "      <th>0.0</th>\n",
       "      <th>0.0</th>\n",
       "      <th>0.0</th>\n",
       "      <td>1</td>\n",
       "    </tr>\n",
       "    <tr>\n",
       "      <th rowspan=\"3\" valign=\"top\">amine</th>\n",
       "      <th rowspan=\"2\" valign=\"top\">0.0</th>\n",
       "      <th rowspan=\"2\" valign=\"top\">0.0</th>\n",
       "      <th>0.0</th>\n",
       "      <th>0.0</th>\n",
       "      <td>1</td>\n",
       "    </tr>\n",
       "    <tr>\n",
       "      <th>1.0</th>\n",
       "      <th>0.0</th>\n",
       "      <td>1</td>\n",
       "    </tr>\n",
       "    <tr>\n",
       "      <th>1.0</th>\n",
       "      <th>0.0</th>\n",
       "      <th>0.0</th>\n",
       "      <th>0.0</th>\n",
       "      <td>1</td>\n",
       "    </tr>\n",
       "    <tr>\n",
       "      <th>benzimidazole</th>\n",
       "      <th>1.0</th>\n",
       "      <th>0.0</th>\n",
       "      <th>0.0</th>\n",
       "      <th>0.0</th>\n",
       "      <td>9</td>\n",
       "    </tr>\n",
       "    <tr>\n",
       "      <th>dialkoxybenzene</th>\n",
       "      <th>0.0</th>\n",
       "      <th>1.0</th>\n",
       "      <th>0.0</th>\n",
       "      <th>0.0</th>\n",
       "      <td>3</td>\n",
       "    </tr>\n",
       "    <tr>\n",
       "      <th>dialkylquinoxaline</th>\n",
       "      <th>0.0</th>\n",
       "      <th>1.0</th>\n",
       "      <th>0.0</th>\n",
       "      <th>0.0</th>\n",
       "      <td>1</td>\n",
       "    </tr>\n",
       "    <tr>\n",
       "      <th rowspan=\"2\" valign=\"top\">disulfide forming</th>\n",
       "      <th>0.0</th>\n",
       "      <th>0.0</th>\n",
       "      <th>0.0</th>\n",
       "      <th>1.0</th>\n",
       "      <td>5</td>\n",
       "    </tr>\n",
       "    <tr>\n",
       "      <th>1.0</th>\n",
       "      <th>0.0</th>\n",
       "      <th>0.0</th>\n",
       "      <th>0.0</th>\n",
       "      <td>3</td>\n",
       "    </tr>\n",
       "    <tr>\n",
       "      <th>quinone</th>\n",
       "      <th>0.0</th>\n",
       "      <th>0.0</th>\n",
       "      <th>1.0</th>\n",
       "      <th>0.0</th>\n",
       "      <td>1</td>\n",
       "    </tr>\n",
       "    <tr>\n",
       "      <th rowspan=\"7\" valign=\"top\">1</th>\n",
       "      <th>R-NADH</th>\n",
       "      <th>1.0</th>\n",
       "      <th>0.0</th>\n",
       "      <th>0.0</th>\n",
       "      <th>0.0</th>\n",
       "      <td>2</td>\n",
       "    </tr>\n",
       "    <tr>\n",
       "      <th>TEMPO</th>\n",
       "      <th>0.0</th>\n",
       "      <th>1.0</th>\n",
       "      <th>0.0</th>\n",
       "      <th>0.0</th>\n",
       "      <td>2</td>\n",
       "    </tr>\n",
       "    <tr>\n",
       "      <th>amine</th>\n",
       "      <th>1.0</th>\n",
       "      <th>0.0</th>\n",
       "      <th>0.0</th>\n",
       "      <th>0.0</th>\n",
       "      <td>3</td>\n",
       "    </tr>\n",
       "    <tr>\n",
       "      <th>ferrocene</th>\n",
       "      <th>0.0</th>\n",
       "      <th>1.0</th>\n",
       "      <th>0.0</th>\n",
       "      <th>0.0</th>\n",
       "      <td>3</td>\n",
       "    </tr>\n",
       "    <tr>\n",
       "      <th rowspan=\"2\" valign=\"top\">quinone</th>\n",
       "      <th rowspan=\"2\" valign=\"top\">0.0</th>\n",
       "      <th>0.0</th>\n",
       "      <th>1.0</th>\n",
       "      <th>0.0</th>\n",
       "      <td>2</td>\n",
       "    </tr>\n",
       "    <tr>\n",
       "      <th>1.0</th>\n",
       "      <th>1.0</th>\n",
       "      <th>0.0</th>\n",
       "      <td>1</td>\n",
       "    </tr>\n",
       "    <tr>\n",
       "      <th>viologen</th>\n",
       "      <th>0.0</th>\n",
       "      <th>1.0</th>\n",
       "      <th>0.0</th>\n",
       "      <th>0.0</th>\n",
       "      <td>3</td>\n",
       "    </tr>\n",
       "  </tbody>\n",
       "</table>\n",
       "</div>"
      ],
      "text/plain": [
       "                                                                                        compound_id\n",
       "aqueous compound_family    used_in_photocat used_in_rfbs used_as_hcarrier used_in_DSSC             \n",
       "0       acridine           1.0              0.0          0.0              0.0                     1\n",
       "        amine              0.0              0.0          0.0              0.0                     1\n",
       "                                                         1.0              0.0                     1\n",
       "                           1.0              0.0          0.0              0.0                     1\n",
       "        benzimidazole      1.0              0.0          0.0              0.0                     9\n",
       "        dialkoxybenzene    0.0              1.0          0.0              0.0                     3\n",
       "        dialkylquinoxaline 0.0              1.0          0.0              0.0                     1\n",
       "        disulfide forming  0.0              0.0          0.0              1.0                     5\n",
       "                           1.0              0.0          0.0              0.0                     3\n",
       "        quinone            0.0              0.0          1.0              0.0                     1\n",
       "1       R-NADH             1.0              0.0          0.0              0.0                     2\n",
       "        TEMPO              0.0              1.0          0.0              0.0                     2\n",
       "        amine              1.0              0.0          0.0              0.0                     3\n",
       "        ferrocene          0.0              1.0          0.0              0.0                     3\n",
       "        quinone            0.0              0.0          1.0              0.0                     2\n",
       "                                            1.0          1.0              0.0                     1\n",
       "        viologen           0.0              1.0          0.0              0.0                     3"
      ]
     },
     "metadata": {},
     "output_type": "display_data"
    }
   ],
   "source": [
    "display(rsd_table[['compound_family', 'compound_id', 'aqueous', 'used_in_photocat', 'used_in_rfbs', 'used_as_hcarrier', 'used_in_DSSC']].groupby(['aqueous', 'compound_family','used_in_photocat', 'used_in_rfbs', 'used_as_hcarrier', 'used_in_DSSC']).nunique())"
   ]
  },
  {
   "cell_type": "code",
   "execution_count": 15,
   "id": "b9e4680b-fdb8-40d2-9203-a4d5d7cefc56",
   "metadata": {},
   "outputs": [],
   "source": [
    "def label_function(row):\n",
    "    label_tuple = (row.at['used_in_photocat'], row.at['recyclable'], row.at['used_in_rfbs'], row.at['used_as_hcarrier'], row.at['used_in_DSSC'])\n",
    "    match label_tuple:\n",
    "        case (1, 1, 0, 0, 0):\n",
    "            label_text = 'recyclable donor'\n",
    "        case (1, 0, 0, 0, _):\n",
    "            label_text = 'sacrificial donor'\n",
    "        case (0, _, 1, 0, 0):\n",
    "            label_text = 'RFB redox couple'\n",
    "        case (0, _, _, 1, _):\n",
    "            label_text = 'hydrogen carrier'\n",
    "        case (0, _, 0, 0, 1):\n",
    "            label_text = 'DSSC redox couple'\n",
    "        case _:\n",
    "            label_text = 'electrochemistry only'\n",
    "    row.at['label'] = label_text\n",
    "    return row"
   ]
  },
  {
   "cell_type": "code",
   "execution_count": 16,
   "id": "a90cb4e0-4127-44f4-bd6d-109d0778a8d6",
   "metadata": {},
   "outputs": [],
   "source": [
    "rsd_table['label'] = ''\n",
    "rsd_table = rsd_table.apply(lambda row: label_function(row), axis=1)"
   ]
  },
  {
   "cell_type": "code",
   "execution_count": 17,
   "id": "6baccdf3-5d64-4087-9d59-d70036dfca7a",
   "metadata": {
    "tags": []
   },
   "outputs": [
    {
     "data": {
      "text/plain": [
       "array(['sacrificial donor', 'recyclable donor', 'RFB redox couple',\n",
       "       'hydrogen carrier', 'electrochemistry only', 'DSSC redox couple'],\n",
       "      dtype=object)"
      ]
     },
     "execution_count": 17,
     "metadata": {},
     "output_type": "execute_result"
    }
   ],
   "source": [
    "rsd_table.label.unique()"
   ]
  },
  {
   "cell_type": "code",
   "execution_count": 18,
   "id": "7af0bb4b-926a-4ef8-808b-8a4e1ac2a93c",
   "metadata": {
    "tags": []
   },
   "outputs": [],
   "source": [
    "ps_table['redox_event'] = ''\n",
    "ps_table.loc[ps_table.id.isin([33, 48]), 'redox_event'] = 'Ered'\n",
    "ps_table.loc[ps_table.id.isin([34, 50, 55, 42]), 'redox_event'] = 'Ered*'\n",
    "ps_table.loc[ps_table.id.isin([35, 47, 54, 39]), 'redox_event'] = 'Eox'\n",
    "ps_table.loc[ps_table.id.isin([36, 49, 56]), 'redox_event'] = 'Eox*'\n",
    "#display(ps_table)"
   ]
  },
  {
   "cell_type": "code",
   "execution_count": 32,
   "id": "dfd570f3-2341-470e-97b6-82205b95573e",
   "metadata": {
    "tags": []
   },
   "outputs": [
    {
     "data": {
      "application/vnd.plotly.v1+json": {
       "config": {
        "plotlyServerURL": "https://plot.ly"
       },
       "data": [
        {
         "customdata": [
          [
           "triethylamine",
           1,
           null,
           1,
           0,
           0
          ],
          [
           "triethanolamine",
           2,
           7,
           1,
           0,
           0
          ],
          [
           "ethylenediaminetetraacetic acid (EDTA)",
           9,
           7,
           1,
           0,
           0
          ]
         ],
         "hovertemplate": "label=sacrificial donor<br>compound_family=%{x}<br>redox_potential_V=%{y}<br>name=%{customdata[0]}<br>compound_id=%{customdata[1]}<br>pH=%{customdata[2]}<br>used_in_photocat=%{customdata[3]}<br>used_in_DSSC=%{customdata[4]}<br>used_in_rfbs=%{customdata[5]}<extra></extra>",
         "legendgroup": "sacrificial donor",
         "marker": {
          "color": "#B71375",
          "size": 10,
          "symbol": "circle"
         },
         "mode": "markers",
         "name": "sacrificial donor",
         "orientation": "v",
         "showlegend": true,
         "type": "scatter",
         "x": [
          "amine",
          "amine",
          "amine"
         ],
         "xaxis": "x",
         "y": [
          0.69,
          1.312,
          1.412
         ],
         "yaxis": "y"
        },
        {
         "customdata": [
          [
           "dihydronicotinamide adenine dinucleotide (NADH)",
           10,
           7,
           1,
           0,
           0
          ],
          [
           "1-Benzyl-1,4-dihydronicotinamide (BNAH)",
           51,
           8.2,
           1,
           0,
           0
          ],
          [
           "1-Benzyl-1,4-dihydronicotinamide (BNAH)",
           51,
           8.2,
           1,
           0,
           0
          ],
          [
           "1-Benzyl-1,4-dihydronicotinamide (BNAH)",
           51,
           4.6,
           1,
           0,
           0
          ],
          [
           "1-Benzyl-1,4-dihydronicotinamide (BNAH)",
           51,
           7,
           1,
           0,
           0
          ]
         ],
         "hovertemplate": "label=recyclable donor<br>compound_family=%{x}<br>redox_potential_V=%{y}<br>name=%{customdata[0]}<br>compound_id=%{customdata[1]}<br>pH=%{customdata[2]}<br>used_in_photocat=%{customdata[3]}<br>used_in_DSSC=%{customdata[4]}<br>used_in_rfbs=%{customdata[5]}<extra></extra>",
         "legendgroup": "recyclable donor",
         "marker": {
          "color": "#FC4F00",
          "size": 10,
          "symbol": "diamond"
         },
         "mode": "markers",
         "name": "recyclable donor",
         "orientation": "v",
         "showlegend": true,
         "type": "scatter",
         "x": [
          "R-NADH",
          "R-NADH",
          "R-NADH",
          "R-NADH",
          "R-NADH"
         ],
         "xaxis": "x",
         "y": [
          0.902,
          0.722,
          0.902,
          1.317,
          1.317
         ],
         "yaxis": "y"
        },
        {
         "customdata": [
          [
           "(ferrocenylmethyl)trimethylammonium chloride (FcNCl)",
           15,
           7,
           0,
           0,
           1
          ],
          [
           "N1-ferrocenylmethyl-N1,N1,N2,N2,N2-pentamethylpropane-1,2-diaminium dibromide (FcN2Br2)",
           16,
           7,
           0,
           0,
           1
          ],
          [
           " (dimethylaminomethyl)ferrocene (FcN)",
           18,
           7,
           0,
           0,
           1
          ],
          [
           "methylviologen dichloride (MVCl2)",
           24,
           null,
           0,
           0,
           1
          ],
          [
           "N,N’-dicarbamido-4,4’-bipyridinium dichloride",
           25,
           null,
           0,
           0,
           1
          ],
          [
           "N,N’-bis(carboxyethyl)-4,4’-bipyridinium dichloride",
           26,
           null,
           0,
           0,
           1
          ],
          [
           "N,N,N,2,2,6,6-heptamethylpiperidinyloxy-4-ammonium chloride (TEMPTMA)",
           27,
           null,
           0,
           0,
           1
          ],
          [
           "TEMPOL",
           28,
           null,
           0,
           0,
           1
          ]
         ],
         "hovertemplate": "label=RFB redox couple<br>compound_family=%{x}<br>redox_potential_V=%{y}<br>name=%{customdata[0]}<br>compound_id=%{customdata[1]}<br>pH=%{customdata[2]}<br>used_in_photocat=%{customdata[3]}<br>used_in_DSSC=%{customdata[4]}<br>used_in_rfbs=%{customdata[5]}<extra></extra>",
         "legendgroup": "RFB redox couple",
         "marker": {
          "color": "#05BFDB",
          "size": 10,
          "symbol": "x"
         },
         "mode": "markers",
         "name": "RFB redox couple",
         "orientation": "v",
         "showlegend": true,
         "type": "scatter",
         "x": [
          "ferrocene",
          "ferrocene",
          "ferrocene",
          "viologen",
          "viologen",
          "viologen",
          "TEMPO",
          "TEMPO"
         ],
         "xaxis": "x",
         "y": [
          0.852,
          0.852,
          0.642,
          -0.585,
          -0.41500000000000004,
          -0.48500000000000004,
          0.8350000000000001,
          0.685
         ],
         "yaxis": "y"
        },
        {
         "customdata": [
          [
           " 2,7-anthraquinonedisulfonic acid (AQDS)",
           22,
           0,
           0,
           0,
           1
          ],
          [
           "potassium 2,5-hydroxybenzenesulfonate (potassium hydroquinone sulfonate)",
           23,
           0.7,
           0,
           0,
           0
          ],
          [
           " 2,3-Dichloro-5,6-dicyano-1,4-benzoquinone (DDQ)",
           34,
           null,
           0,
           0,
           0
          ]
         ],
         "hovertemplate": "label=hydrogen carrier<br>compound_family=%{x}<br>redox_potential_V=%{y}<br>name=%{customdata[0]}<br>compound_id=%{customdata[1]}<br>pH=%{customdata[2]}<br>used_in_photocat=%{customdata[3]}<br>used_in_DSSC=%{customdata[4]}<br>used_in_rfbs=%{customdata[5]}<extra></extra>",
         "legendgroup": "hydrogen carrier",
         "marker": {
          "color": "#088395",
          "size": 10,
          "symbol": "cross"
         },
         "mode": "markers",
         "name": "hydrogen carrier",
         "orientation": "v",
         "showlegend": true,
         "type": "scatter",
         "x": [
          "quinone",
          "quinone",
          "quinone"
         ],
         "xaxis": "x",
         "y": [
          0.45599999999999996,
          0.892,
          1.1680000000000001
         ],
         "yaxis": "y"
        }
       ],
       "layout": {
        "annotations": [
         {
          "showarrow": false,
          "text": "[Ru(bpy)3] Ered*",
          "x": 0,
          "xanchor": "left",
          "xref": "x domain",
          "y": 1.0819999999999999,
          "yanchor": "top",
          "yref": "y"
         },
         {
          "showarrow": false,
          "text": "[Ru(bpy)3] Eox",
          "x": 0,
          "xanchor": "left",
          "xref": "x domain",
          "y": 1.502,
          "yanchor": "top",
          "yref": "y"
         }
        ],
        "height": 600,
        "legend": {
         "title": {
          "text": ""
         },
         "tracegroupgap": 0
        },
        "margin": {
         "t": 60
        },
        "shapes": [
         {
          "line": {
           "color": "grey",
           "dash": "dot"
          },
          "type": "line",
          "x0": 0,
          "x1": 1,
          "xref": "x domain",
          "y0": 1.0819999999999999,
          "y1": 1.0819999999999999,
          "yref": "y"
         },
         {
          "line": {
           "color": "grey",
           "dash": "dot"
          },
          "type": "line",
          "x0": 0,
          "x1": 1,
          "xref": "x domain",
          "y0": 1.502,
          "y1": 1.502,
          "yref": "y"
         }
        ],
        "template": {
         "data": {
          "bar": [
           {
            "error_x": {
             "color": "#2a3f5f"
            },
            "error_y": {
             "color": "#2a3f5f"
            },
            "marker": {
             "line": {
              "color": "white",
              "width": 0.5
             },
             "pattern": {
              "fillmode": "overlay",
              "size": 10,
              "solidity": 0.2
             }
            },
            "type": "bar"
           }
          ],
          "barpolar": [
           {
            "marker": {
             "line": {
              "color": "white",
              "width": 0.5
             },
             "pattern": {
              "fillmode": "overlay",
              "size": 10,
              "solidity": 0.2
             }
            },
            "type": "barpolar"
           }
          ],
          "carpet": [
           {
            "aaxis": {
             "endlinecolor": "#2a3f5f",
             "gridcolor": "#C8D4E3",
             "linecolor": "#C8D4E3",
             "minorgridcolor": "#C8D4E3",
             "startlinecolor": "#2a3f5f"
            },
            "baxis": {
             "endlinecolor": "#2a3f5f",
             "gridcolor": "#C8D4E3",
             "linecolor": "#C8D4E3",
             "minorgridcolor": "#C8D4E3",
             "startlinecolor": "#2a3f5f"
            },
            "type": "carpet"
           }
          ],
          "choropleth": [
           {
            "colorbar": {
             "outlinewidth": 0,
             "ticks": ""
            },
            "type": "choropleth"
           }
          ],
          "contour": [
           {
            "colorbar": {
             "outlinewidth": 0,
             "ticks": ""
            },
            "colorscale": [
             [
              0,
              "#0d0887"
             ],
             [
              0.1111111111111111,
              "#46039f"
             ],
             [
              0.2222222222222222,
              "#7201a8"
             ],
             [
              0.3333333333333333,
              "#9c179e"
             ],
             [
              0.4444444444444444,
              "#bd3786"
             ],
             [
              0.5555555555555556,
              "#d8576b"
             ],
             [
              0.6666666666666666,
              "#ed7953"
             ],
             [
              0.7777777777777778,
              "#fb9f3a"
             ],
             [
              0.8888888888888888,
              "#fdca26"
             ],
             [
              1,
              "#f0f921"
             ]
            ],
            "type": "contour"
           }
          ],
          "contourcarpet": [
           {
            "colorbar": {
             "outlinewidth": 0,
             "ticks": ""
            },
            "type": "contourcarpet"
           }
          ],
          "heatmap": [
           {
            "colorbar": {
             "outlinewidth": 0,
             "ticks": ""
            },
            "colorscale": [
             [
              0,
              "#0d0887"
             ],
             [
              0.1111111111111111,
              "#46039f"
             ],
             [
              0.2222222222222222,
              "#7201a8"
             ],
             [
              0.3333333333333333,
              "#9c179e"
             ],
             [
              0.4444444444444444,
              "#bd3786"
             ],
             [
              0.5555555555555556,
              "#d8576b"
             ],
             [
              0.6666666666666666,
              "#ed7953"
             ],
             [
              0.7777777777777778,
              "#fb9f3a"
             ],
             [
              0.8888888888888888,
              "#fdca26"
             ],
             [
              1,
              "#f0f921"
             ]
            ],
            "type": "heatmap"
           }
          ],
          "heatmapgl": [
           {
            "colorbar": {
             "outlinewidth": 0,
             "ticks": ""
            },
            "colorscale": [
             [
              0,
              "#0d0887"
             ],
             [
              0.1111111111111111,
              "#46039f"
             ],
             [
              0.2222222222222222,
              "#7201a8"
             ],
             [
              0.3333333333333333,
              "#9c179e"
             ],
             [
              0.4444444444444444,
              "#bd3786"
             ],
             [
              0.5555555555555556,
              "#d8576b"
             ],
             [
              0.6666666666666666,
              "#ed7953"
             ],
             [
              0.7777777777777778,
              "#fb9f3a"
             ],
             [
              0.8888888888888888,
              "#fdca26"
             ],
             [
              1,
              "#f0f921"
             ]
            ],
            "type": "heatmapgl"
           }
          ],
          "histogram": [
           {
            "marker": {
             "pattern": {
              "fillmode": "overlay",
              "size": 10,
              "solidity": 0.2
             }
            },
            "type": "histogram"
           }
          ],
          "histogram2d": [
           {
            "colorbar": {
             "outlinewidth": 0,
             "ticks": ""
            },
            "colorscale": [
             [
              0,
              "#0d0887"
             ],
             [
              0.1111111111111111,
              "#46039f"
             ],
             [
              0.2222222222222222,
              "#7201a8"
             ],
             [
              0.3333333333333333,
              "#9c179e"
             ],
             [
              0.4444444444444444,
              "#bd3786"
             ],
             [
              0.5555555555555556,
              "#d8576b"
             ],
             [
              0.6666666666666666,
              "#ed7953"
             ],
             [
              0.7777777777777778,
              "#fb9f3a"
             ],
             [
              0.8888888888888888,
              "#fdca26"
             ],
             [
              1,
              "#f0f921"
             ]
            ],
            "type": "histogram2d"
           }
          ],
          "histogram2dcontour": [
           {
            "colorbar": {
             "outlinewidth": 0,
             "ticks": ""
            },
            "colorscale": [
             [
              0,
              "#0d0887"
             ],
             [
              0.1111111111111111,
              "#46039f"
             ],
             [
              0.2222222222222222,
              "#7201a8"
             ],
             [
              0.3333333333333333,
              "#9c179e"
             ],
             [
              0.4444444444444444,
              "#bd3786"
             ],
             [
              0.5555555555555556,
              "#d8576b"
             ],
             [
              0.6666666666666666,
              "#ed7953"
             ],
             [
              0.7777777777777778,
              "#fb9f3a"
             ],
             [
              0.8888888888888888,
              "#fdca26"
             ],
             [
              1,
              "#f0f921"
             ]
            ],
            "type": "histogram2dcontour"
           }
          ],
          "mesh3d": [
           {
            "colorbar": {
             "outlinewidth": 0,
             "ticks": ""
            },
            "type": "mesh3d"
           }
          ],
          "parcoords": [
           {
            "line": {
             "colorbar": {
              "outlinewidth": 0,
              "ticks": ""
             }
            },
            "type": "parcoords"
           }
          ],
          "pie": [
           {
            "automargin": true,
            "type": "pie"
           }
          ],
          "scatter": [
           {
            "fillpattern": {
             "fillmode": "overlay",
             "size": 10,
             "solidity": 0.2
            },
            "type": "scatter"
           }
          ],
          "scatter3d": [
           {
            "line": {
             "colorbar": {
              "outlinewidth": 0,
              "ticks": ""
             }
            },
            "marker": {
             "colorbar": {
              "outlinewidth": 0,
              "ticks": ""
             }
            },
            "type": "scatter3d"
           }
          ],
          "scattercarpet": [
           {
            "marker": {
             "colorbar": {
              "outlinewidth": 0,
              "ticks": ""
             }
            },
            "type": "scattercarpet"
           }
          ],
          "scattergeo": [
           {
            "marker": {
             "colorbar": {
              "outlinewidth": 0,
              "ticks": ""
             }
            },
            "type": "scattergeo"
           }
          ],
          "scattergl": [
           {
            "marker": {
             "colorbar": {
              "outlinewidth": 0,
              "ticks": ""
             }
            },
            "type": "scattergl"
           }
          ],
          "scattermapbox": [
           {
            "marker": {
             "colorbar": {
              "outlinewidth": 0,
              "ticks": ""
             }
            },
            "type": "scattermapbox"
           }
          ],
          "scatterpolar": [
           {
            "marker": {
             "colorbar": {
              "outlinewidth": 0,
              "ticks": ""
             }
            },
            "type": "scatterpolar"
           }
          ],
          "scatterpolargl": [
           {
            "marker": {
             "colorbar": {
              "outlinewidth": 0,
              "ticks": ""
             }
            },
            "type": "scatterpolargl"
           }
          ],
          "scatterternary": [
           {
            "marker": {
             "colorbar": {
              "outlinewidth": 0,
              "ticks": ""
             }
            },
            "type": "scatterternary"
           }
          ],
          "surface": [
           {
            "colorbar": {
             "outlinewidth": 0,
             "ticks": ""
            },
            "colorscale": [
             [
              0,
              "#0d0887"
             ],
             [
              0.1111111111111111,
              "#46039f"
             ],
             [
              0.2222222222222222,
              "#7201a8"
             ],
             [
              0.3333333333333333,
              "#9c179e"
             ],
             [
              0.4444444444444444,
              "#bd3786"
             ],
             [
              0.5555555555555556,
              "#d8576b"
             ],
             [
              0.6666666666666666,
              "#ed7953"
             ],
             [
              0.7777777777777778,
              "#fb9f3a"
             ],
             [
              0.8888888888888888,
              "#fdca26"
             ],
             [
              1,
              "#f0f921"
             ]
            ],
            "type": "surface"
           }
          ],
          "table": [
           {
            "cells": {
             "fill": {
              "color": "#EBF0F8"
             },
             "line": {
              "color": "white"
             }
            },
            "header": {
             "fill": {
              "color": "#C8D4E3"
             },
             "line": {
              "color": "white"
             }
            },
            "type": "table"
           }
          ]
         },
         "layout": {
          "annotationdefaults": {
           "arrowcolor": "#2a3f5f",
           "arrowhead": 0,
           "arrowwidth": 1
          },
          "autotypenumbers": "strict",
          "coloraxis": {
           "colorbar": {
            "outlinewidth": 0,
            "ticks": ""
           }
          },
          "colorscale": {
           "diverging": [
            [
             0,
             "#8e0152"
            ],
            [
             0.1,
             "#c51b7d"
            ],
            [
             0.2,
             "#de77ae"
            ],
            [
             0.3,
             "#f1b6da"
            ],
            [
             0.4,
             "#fde0ef"
            ],
            [
             0.5,
             "#f7f7f7"
            ],
            [
             0.6,
             "#e6f5d0"
            ],
            [
             0.7,
             "#b8e186"
            ],
            [
             0.8,
             "#7fbc41"
            ],
            [
             0.9,
             "#4d9221"
            ],
            [
             1,
             "#276419"
            ]
           ],
           "sequential": [
            [
             0,
             "#0d0887"
            ],
            [
             0.1111111111111111,
             "#46039f"
            ],
            [
             0.2222222222222222,
             "#7201a8"
            ],
            [
             0.3333333333333333,
             "#9c179e"
            ],
            [
             0.4444444444444444,
             "#bd3786"
            ],
            [
             0.5555555555555556,
             "#d8576b"
            ],
            [
             0.6666666666666666,
             "#ed7953"
            ],
            [
             0.7777777777777778,
             "#fb9f3a"
            ],
            [
             0.8888888888888888,
             "#fdca26"
            ],
            [
             1,
             "#f0f921"
            ]
           ],
           "sequentialminus": [
            [
             0,
             "#0d0887"
            ],
            [
             0.1111111111111111,
             "#46039f"
            ],
            [
             0.2222222222222222,
             "#7201a8"
            ],
            [
             0.3333333333333333,
             "#9c179e"
            ],
            [
             0.4444444444444444,
             "#bd3786"
            ],
            [
             0.5555555555555556,
             "#d8576b"
            ],
            [
             0.6666666666666666,
             "#ed7953"
            ],
            [
             0.7777777777777778,
             "#fb9f3a"
            ],
            [
             0.8888888888888888,
             "#fdca26"
            ],
            [
             1,
             "#f0f921"
            ]
           ]
          },
          "colorway": [
           "#636efa",
           "#EF553B",
           "#00cc96",
           "#ab63fa",
           "#FFA15A",
           "#19d3f3",
           "#FF6692",
           "#B6E880",
           "#FF97FF",
           "#FECB52"
          ],
          "font": {
           "color": "#2a3f5f"
          },
          "geo": {
           "bgcolor": "white",
           "lakecolor": "white",
           "landcolor": "white",
           "showlakes": true,
           "showland": true,
           "subunitcolor": "#C8D4E3"
          },
          "hoverlabel": {
           "align": "left"
          },
          "hovermode": "closest",
          "mapbox": {
           "style": "light"
          },
          "paper_bgcolor": "white",
          "plot_bgcolor": "white",
          "polar": {
           "angularaxis": {
            "gridcolor": "#EBF0F8",
            "linecolor": "#EBF0F8",
            "ticks": ""
           },
           "bgcolor": "white",
           "radialaxis": {
            "gridcolor": "#EBF0F8",
            "linecolor": "#EBF0F8",
            "ticks": ""
           }
          },
          "scene": {
           "xaxis": {
            "backgroundcolor": "white",
            "gridcolor": "#DFE8F3",
            "gridwidth": 2,
            "linecolor": "#EBF0F8",
            "showbackground": true,
            "ticks": "",
            "zerolinecolor": "#EBF0F8"
           },
           "yaxis": {
            "backgroundcolor": "white",
            "gridcolor": "#DFE8F3",
            "gridwidth": 2,
            "linecolor": "#EBF0F8",
            "showbackground": true,
            "ticks": "",
            "zerolinecolor": "#EBF0F8"
           },
           "zaxis": {
            "backgroundcolor": "white",
            "gridcolor": "#DFE8F3",
            "gridwidth": 2,
            "linecolor": "#EBF0F8",
            "showbackground": true,
            "ticks": "",
            "zerolinecolor": "#EBF0F8"
           }
          },
          "shapedefaults": {
           "line": {
            "color": "#2a3f5f"
           }
          },
          "ternary": {
           "aaxis": {
            "gridcolor": "#DFE8F3",
            "linecolor": "#A2B1C6",
            "ticks": ""
           },
           "baxis": {
            "gridcolor": "#DFE8F3",
            "linecolor": "#A2B1C6",
            "ticks": ""
           },
           "bgcolor": "white",
           "caxis": {
            "gridcolor": "#DFE8F3",
            "linecolor": "#A2B1C6",
            "ticks": ""
           }
          },
          "title": {
           "x": 0.05
          },
          "xaxis": {
           "automargin": true,
           "gridcolor": "#EBF0F8",
           "linecolor": "#EBF0F8",
           "ticks": "",
           "title": {
            "standoff": 15
           },
           "zerolinecolor": "#EBF0F8",
           "zerolinewidth": 2
          },
          "yaxis": {
           "automargin": true,
           "gridcolor": "#EBF0F8",
           "linecolor": "#EBF0F8",
           "ticks": "",
           "title": {
            "standoff": 15
           },
           "zerolinecolor": "#EBF0F8",
           "zerolinewidth": 2
          }
         }
        },
        "title": {
         "text": "aqueous media (mostly neutral pH)",
         "x": 0.8,
         "y": 0.87
        },
        "width": 900,
        "xaxis": {
         "anchor": "y",
         "autorange": true,
         "domain": [
          0,
          1
         ],
         "linecolor": "#283149",
         "mirror": true,
         "range": [
          -0.33900546640804097,
          5.339005466408041
         ],
         "title": {
          "text": ""
         },
         "type": "category"
        },
        "yaxis": {
         "anchor": "x",
         "domain": [
          0,
          1
         ],
         "linecolor": "#283149",
         "mirror": true,
         "range": [
          2,
          -1
         ],
         "title": {
          "text": "Oxidation Potential vs. SCE"
         },
         "type": "linear"
        }
       }
      },
      "image/png": "[encoded data removed]",
      "text/html": [
       "<div>                            <div id=\"511936ad-c900-4d4e-ac5f-ccab9e448bdc\" class=\"plotly-graph-div\" style=\"height:600px; width:900px;\"></div>            <script type=\"text/javascript\">                require([\"plotly\"], function(Plotly) {                    window.PLOTLYENV=window.PLOTLYENV || {};                                    if (document.getElementById(\"511936ad-c900-4d4e-ac5f-ccab9e448bdc\")) {                    Plotly.newPlot(                        \"511936ad-c900-4d4e-ac5f-ccab9e448bdc\",                        [{\"customdata\":[[\"triethylamine\",1,null,1.0,0.0,0.0],[\"triethanolamine\",2,7.0,1.0,0.0,0.0],[\"ethylenediaminetetraacetic acid (EDTA)\",9,7.0,1.0,0.0,0.0]],\"hovertemplate\":\"label=sacrificial donor<br>compound_family=%{x}<br>redox_potential_V=%{y}<br>name=%{customdata[0]}<br>compound_id=%{customdata[1]}<br>pH=%{customdata[2]}<br>used_in_photocat=%{customdata[3]}<br>used_in_DSSC=%{customdata[4]}<br>used_in_rfbs=%{customdata[5]}<extra></extra>\",\"legendgroup\":\"sacrificial donor\",\"marker\":{\"color\":\"#B71375\",\"symbol\":\"circle\",\"size\":10},\"mode\":\"markers\",\"name\":\"sacrificial donor\",\"orientation\":\"v\",\"showlegend\":true,\"x\":[\"amine\",\"amine\",\"amine\"],\"xaxis\":\"x\",\"y\":[0.69,1.312,1.412],\"yaxis\":\"y\",\"type\":\"scatter\"},{\"customdata\":[[\"dihydronicotinamide adenine dinucleotide (NADH)\",10,7.0,1.0,0.0,0.0],[\"1-Benzyl-1,4-dihydronicotinamide (BNAH)\",51,8.2,1.0,0.0,0.0],[\"1-Benzyl-1,4-dihydronicotinamide (BNAH)\",51,8.2,1.0,0.0,0.0],[\"1-Benzyl-1,4-dihydronicotinamide (BNAH)\",51,4.6,1.0,0.0,0.0],[\"1-Benzyl-1,4-dihydronicotinamide (BNAH)\",51,7.0,1.0,0.0,0.0]],\"hovertemplate\":\"label=recyclable donor<br>compound_family=%{x}<br>redox_potential_V=%{y}<br>name=%{customdata[0]}<br>compound_id=%{customdata[1]}<br>pH=%{customdata[2]}<br>used_in_photocat=%{customdata[3]}<br>used_in_DSSC=%{customdata[4]}<br>used_in_rfbs=%{customdata[5]}<extra></extra>\",\"legendgroup\":\"recyclable donor\",\"marker\":{\"color\":\"#FC4F00\",\"symbol\":\"diamond\",\"size\":10},\"mode\":\"markers\",\"name\":\"recyclable donor\",\"orientation\":\"v\",\"showlegend\":true,\"x\":[\"R-NADH\",\"R-NADH\",\"R-NADH\",\"R-NADH\",\"R-NADH\"],\"xaxis\":\"x\",\"y\":[0.902,0.722,0.902,1.317,1.317],\"yaxis\":\"y\",\"type\":\"scatter\"},{\"customdata\":[[\"(ferrocenylmethyl)trimethylammonium chloride (FcNCl)\",15,7.0,0.0,0.0,1.0],[\"N1-ferrocenylmethyl-N1,N1,N2,N2,N2-pentamethylpropane-1,2-diaminium dibromide (FcN2Br2)\",16,7.0,0.0,0.0,1.0],[\" (dimethylaminomethyl)ferrocene (FcN)\",18,7.0,0.0,0.0,1.0],[\"methylviologen dichloride (MVCl2)\",24,null,0.0,0.0,1.0],[\"N,N\\u2019-dicarbamido-4,4\\u2019-bipyridinium dichloride\",25,null,0.0,0.0,1.0],[\"N,N\\u2019-bis(carboxyethyl)-4,4\\u2019-bipyridinium dichloride\",26,null,0.0,0.0,1.0],[\"N,N,N,2,2,6,6-heptamethylpiperidinyloxy-4-ammonium chloride (TEMPTMA)\",27,null,0.0,0.0,1.0],[\"TEMPOL\",28,null,0.0,0.0,1.0]],\"hovertemplate\":\"label=RFB redox couple<br>compound_family=%{x}<br>redox_potential_V=%{y}<br>name=%{customdata[0]}<br>compound_id=%{customdata[1]}<br>pH=%{customdata[2]}<br>used_in_photocat=%{customdata[3]}<br>used_in_DSSC=%{customdata[4]}<br>used_in_rfbs=%{customdata[5]}<extra></extra>\",\"legendgroup\":\"RFB redox couple\",\"marker\":{\"color\":\"#05BFDB\",\"symbol\":\"x\",\"size\":10},\"mode\":\"markers\",\"name\":\"RFB redox couple\",\"orientation\":\"v\",\"showlegend\":true,\"x\":[\"ferrocene\",\"ferrocene\",\"ferrocene\",\"viologen\",\"viologen\",\"viologen\",\"TEMPO\",\"TEMPO\"],\"xaxis\":\"x\",\"y\":[0.852,0.852,0.642,-0.585,-0.41500000000000004,-0.48500000000000004,0.8350000000000001,0.685],\"yaxis\":\"y\",\"type\":\"scatter\"},{\"customdata\":[[\" 2,7-anthraquinonedisulfonic acid (AQDS)\",22,0.0,0.0,0.0,1.0],[\"potassium 2,5-hydroxybenzenesulfonate (potassium hydroquinone sulfonate)\",23,0.7,0.0,0.0,0.0],[\" 2,3-Dichloro-5,6-dicyano-1,4-benzoquinone (DDQ)\",34,null,0.0,0.0,0.0]],\"hovertemplate\":\"label=hydrogen carrier<br>compound_family=%{x}<br>redox_potential_V=%{y}<br>name=%{customdata[0]}<br>compound_id=%{customdata[1]}<br>pH=%{customdata[2]}<br>used_in_photocat=%{customdata[3]}<br>used_in_DSSC=%{customdata[4]}<br>used_in_rfbs=%{customdata[5]}<extra></extra>\",\"legendgroup\":\"hydrogen carrier\",\"marker\":{\"color\":\"#088395\",\"symbol\":\"cross\",\"size\":10},\"mode\":\"markers\",\"name\":\"hydrogen carrier\",\"orientation\":\"v\",\"showlegend\":true,\"x\":[\"quinone\",\"quinone\",\"quinone\"],\"xaxis\":\"x\",\"y\":[0.45599999999999996,0.892,1.1680000000000001],\"yaxis\":\"y\",\"type\":\"scatter\"}],                        {\"template\":{\"data\":{\"barpolar\":[{\"marker\":{\"line\":{\"color\":\"white\",\"width\":0.5},\"pattern\":{\"fillmode\":\"overlay\",\"size\":10,\"solidity\":0.2}},\"type\":\"barpolar\"}],\"bar\":[{\"error_x\":{\"color\":\"#2a3f5f\"},\"error_y\":{\"color\":\"#2a3f5f\"},\"marker\":{\"line\":{\"color\":\"white\",\"width\":0.5},\"pattern\":{\"fillmode\":\"overlay\",\"size\":10,\"solidity\":0.2}},\"type\":\"bar\"}],\"carpet\":[{\"aaxis\":{\"endlinecolor\":\"#2a3f5f\",\"gridcolor\":\"#C8D4E3\",\"linecolor\":\"#C8D4E3\",\"minorgridcolor\":\"#C8D4E3\",\"startlinecolor\":\"#2a3f5f\"},\"baxis\":{\"endlinecolor\":\"#2a3f5f\",\"gridcolor\":\"#C8D4E3\",\"linecolor\":\"#C8D4E3\",\"minorgridcolor\":\"#C8D4E3\",\"startlinecolor\":\"#2a3f5f\"},\"type\":\"carpet\"}],\"choropleth\":[{\"colorbar\":{\"outlinewidth\":0,\"ticks\":\"\"},\"type\":\"choropleth\"}],\"contourcarpet\":[{\"colorbar\":{\"outlinewidth\":0,\"ticks\":\"\"},\"type\":\"contourcarpet\"}],\"contour\":[{\"colorbar\":{\"outlinewidth\":0,\"ticks\":\"\"},\"colorscale\":[[0.0,\"#0d0887\"],[0.1111111111111111,\"#46039f\"],[0.2222222222222222,\"#7201a8\"],[0.3333333333333333,\"#9c179e\"],[0.4444444444444444,\"#bd3786\"],[0.5555555555555556,\"#d8576b\"],[0.6666666666666666,\"#ed7953\"],[0.7777777777777778,\"#fb9f3a\"],[0.8888888888888888,\"#fdca26\"],[1.0,\"#f0f921\"]],\"type\":\"contour\"}],\"heatmapgl\":[{\"colorbar\":{\"outlinewidth\":0,\"ticks\":\"\"},\"colorscale\":[[0.0,\"#0d0887\"],[0.1111111111111111,\"#46039f\"],[0.2222222222222222,\"#7201a8\"],[0.3333333333333333,\"#9c179e\"],[0.4444444444444444,\"#bd3786\"],[0.5555555555555556,\"#d8576b\"],[0.6666666666666666,\"#ed7953\"],[0.7777777777777778,\"#fb9f3a\"],[0.8888888888888888,\"#fdca26\"],[1.0,\"#f0f921\"]],\"type\":\"heatmapgl\"}],\"heatmap\":[{\"colorbar\":{\"outlinewidth\":0,\"ticks\":\"\"},\"colorscale\":[[0.0,\"#0d0887\"],[0.1111111111111111,\"#46039f\"],[0.2222222222222222,\"#7201a8\"],[0.3333333333333333,\"#9c179e\"],[0.4444444444444444,\"#bd3786\"],[0.5555555555555556,\"#d8576b\"],[0.6666666666666666,\"#ed7953\"],[0.7777777777777778,\"#fb9f3a\"],[0.8888888888888888,\"#fdca26\"],[1.0,\"#f0f921\"]],\"type\":\"heatmap\"}],\"histogram2dcontour\":[{\"colorbar\":{\"outlinewidth\":0,\"ticks\":\"\"},\"colorscale\":[[0.0,\"#0d0887\"],[0.1111111111111111,\"#46039f\"],[0.2222222222222222,\"#7201a8\"],[0.3333333333333333,\"#9c179e\"],[0.4444444444444444,\"#bd3786\"],[0.5555555555555556,\"#d8576b\"],[0.6666666666666666,\"#ed7953\"],[0.7777777777777778,\"#fb9f3a\"],[0.8888888888888888,\"#fdca26\"],[1.0,\"#f0f921\"]],\"type\":\"histogram2dcontour\"}],\"histogram2d\":[{\"colorbar\":{\"outlinewidth\":0,\"ticks\":\"\"},\"colorscale\":[[0.0,\"#0d0887\"],[0.1111111111111111,\"#46039f\"],[0.2222222222222222,\"#7201a8\"],[0.3333333333333333,\"#9c179e\"],[0.4444444444444444,\"#bd3786\"],[0.5555555555555556,\"#d8576b\"],[0.6666666666666666,\"#ed7953\"],[0.7777777777777778,\"#fb9f3a\"],[0.8888888888888888,\"#fdca26\"],[1.0,\"#f0f921\"]],\"type\":\"histogram2d\"}],\"histogram\":[{\"marker\":{\"pattern\":{\"fillmode\":\"overlay\",\"size\":10,\"solidity\":0.2}},\"type\":\"histogram\"}],\"mesh3d\":[{\"colorbar\":{\"outlinewidth\":0,\"ticks\":\"\"},\"type\":\"mesh3d\"}],\"parcoords\":[{\"line\":{\"colorbar\":{\"outlinewidth\":0,\"ticks\":\"\"}},\"type\":\"parcoords\"}],\"pie\":[{\"automargin\":true,\"type\":\"pie\"}],\"scatter3d\":[{\"line\":{\"colorbar\":{\"outlinewidth\":0,\"ticks\":\"\"}},\"marker\":{\"colorbar\":{\"outlinewidth\":0,\"ticks\":\"\"}},\"type\":\"scatter3d\"}],\"scattercarpet\":[{\"marker\":{\"colorbar\":{\"outlinewidth\":0,\"ticks\":\"\"}},\"type\":\"scattercarpet\"}],\"scattergeo\":[{\"marker\":{\"colorbar\":{\"outlinewidth\":0,\"ticks\":\"\"}},\"type\":\"scattergeo\"}],\"scattergl\":[{\"marker\":{\"colorbar\":{\"outlinewidth\":0,\"ticks\":\"\"}},\"type\":\"scattergl\"}],\"scattermapbox\":[{\"marker\":{\"colorbar\":{\"outlinewidth\":0,\"ticks\":\"\"}},\"type\":\"scattermapbox\"}],\"scatterpolargl\":[{\"marker\":{\"colorbar\":{\"outlinewidth\":0,\"ticks\":\"\"}},\"type\":\"scatterpolargl\"}],\"scatterpolar\":[{\"marker\":{\"colorbar\":{\"outlinewidth\":0,\"ticks\":\"\"}},\"type\":\"scatterpolar\"}],\"scatter\":[{\"fillpattern\":{\"fillmode\":\"overlay\",\"size\":10,\"solidity\":0.2},\"type\":\"scatter\"}],\"scatterternary\":[{\"marker\":{\"colorbar\":{\"outlinewidth\":0,\"ticks\":\"\"}},\"type\":\"scatterternary\"}],\"surface\":[{\"colorbar\":{\"outlinewidth\":0,\"ticks\":\"\"},\"colorscale\":[[0.0,\"#0d0887\"],[0.1111111111111111,\"#46039f\"],[0.2222222222222222,\"#7201a8\"],[0.3333333333333333,\"#9c179e\"],[0.4444444444444444,\"#bd3786\"],[0.5555555555555556,\"#d8576b\"],[0.6666666666666666,\"#ed7953\"],[0.7777777777777778,\"#fb9f3a\"],[0.8888888888888888,\"#fdca26\"],[1.0,\"#f0f921\"]],\"type\":\"surface\"}],\"table\":[{\"cells\":{\"fill\":{\"color\":\"#EBF0F8\"},\"line\":{\"color\":\"white\"}},\"header\":{\"fill\":{\"color\":\"#C8D4E3\"},\"line\":{\"color\":\"white\"}},\"type\":\"table\"}]},\"layout\":{\"annotationdefaults\":{\"arrowcolor\":\"#2a3f5f\",\"arrowhead\":0,\"arrowwidth\":1},\"autotypenumbers\":\"strict\",\"coloraxis\":{\"colorbar\":{\"outlinewidth\":0,\"ticks\":\"\"}},\"colorscale\":{\"diverging\":[[0,\"#8e0152\"],[0.1,\"#c51b7d\"],[0.2,\"#de77ae\"],[0.3,\"#f1b6da\"],[0.4,\"#fde0ef\"],[0.5,\"#f7f7f7\"],[0.6,\"#e6f5d0\"],[0.7,\"#b8e186\"],[0.8,\"#7fbc41\"],[0.9,\"#4d9221\"],[1,\"#276419\"]],\"sequential\":[[0.0,\"#0d0887\"],[0.1111111111111111,\"#46039f\"],[0.2222222222222222,\"#7201a8\"],[0.3333333333333333,\"#9c179e\"],[0.4444444444444444,\"#bd3786\"],[0.5555555555555556,\"#d8576b\"],[0.6666666666666666,\"#ed7953\"],[0.7777777777777778,\"#fb9f3a\"],[0.8888888888888888,\"#fdca26\"],[1.0,\"#f0f921\"]],\"sequentialminus\":[[0.0,\"#0d0887\"],[0.1111111111111111,\"#46039f\"],[0.2222222222222222,\"#7201a8\"],[0.3333333333333333,\"#9c179e\"],[0.4444444444444444,\"#bd3786\"],[0.5555555555555556,\"#d8576b\"],[0.6666666666666666,\"#ed7953\"],[0.7777777777777778,\"#fb9f3a\"],[0.8888888888888888,\"#fdca26\"],[1.0,\"#f0f921\"]]},\"colorway\":[\"#636efa\",\"#EF553B\",\"#00cc96\",\"#ab63fa\",\"#FFA15A\",\"#19d3f3\",\"#FF6692\",\"#B6E880\",\"#FF97FF\",\"#FECB52\"],\"font\":{\"color\":\"#2a3f5f\"},\"geo\":{\"bgcolor\":\"white\",\"lakecolor\":\"white\",\"landcolor\":\"white\",\"showlakes\":true,\"showland\":true,\"subunitcolor\":\"#C8D4E3\"},\"hoverlabel\":{\"align\":\"left\"},\"hovermode\":\"closest\",\"mapbox\":{\"style\":\"light\"},\"paper_bgcolor\":\"white\",\"plot_bgcolor\":\"white\",\"polar\":{\"angularaxis\":{\"gridcolor\":\"#EBF0F8\",\"linecolor\":\"#EBF0F8\",\"ticks\":\"\"},\"bgcolor\":\"white\",\"radialaxis\":{\"gridcolor\":\"#EBF0F8\",\"linecolor\":\"#EBF0F8\",\"ticks\":\"\"}},\"scene\":{\"xaxis\":{\"backgroundcolor\":\"white\",\"gridcolor\":\"#DFE8F3\",\"gridwidth\":2,\"linecolor\":\"#EBF0F8\",\"showbackground\":true,\"ticks\":\"\",\"zerolinecolor\":\"#EBF0F8\"},\"yaxis\":{\"backgroundcolor\":\"white\",\"gridcolor\":\"#DFE8F3\",\"gridwidth\":2,\"linecolor\":\"#EBF0F8\",\"showbackground\":true,\"ticks\":\"\",\"zerolinecolor\":\"#EBF0F8\"},\"zaxis\":{\"backgroundcolor\":\"white\",\"gridcolor\":\"#DFE8F3\",\"gridwidth\":2,\"linecolor\":\"#EBF0F8\",\"showbackground\":true,\"ticks\":\"\",\"zerolinecolor\":\"#EBF0F8\"}},\"shapedefaults\":{\"line\":{\"color\":\"#2a3f5f\"}},\"ternary\":{\"aaxis\":{\"gridcolor\":\"#DFE8F3\",\"linecolor\":\"#A2B1C6\",\"ticks\":\"\"},\"baxis\":{\"gridcolor\":\"#DFE8F3\",\"linecolor\":\"#A2B1C6\",\"ticks\":\"\"},\"bgcolor\":\"white\",\"caxis\":{\"gridcolor\":\"#DFE8F3\",\"linecolor\":\"#A2B1C6\",\"ticks\":\"\"}},\"title\":{\"x\":0.05},\"xaxis\":{\"automargin\":true,\"gridcolor\":\"#EBF0F8\",\"linecolor\":\"#EBF0F8\",\"ticks\":\"\",\"title\":{\"standoff\":15},\"zerolinecolor\":\"#EBF0F8\",\"zerolinewidth\":2},\"yaxis\":{\"automargin\":true,\"gridcolor\":\"#EBF0F8\",\"linecolor\":\"#EBF0F8\",\"ticks\":\"\",\"title\":{\"standoff\":15},\"zerolinecolor\":\"#EBF0F8\",\"zerolinewidth\":2}}},\"xaxis\":{\"anchor\":\"y\",\"domain\":[0.0,1.0],\"title\":{\"text\":\"\"},\"linecolor\":\"#283149\",\"mirror\":true},\"yaxis\":{\"anchor\":\"x\",\"domain\":[0.0,1.0],\"title\":{\"text\":\"Oxidation Potential vs. SCE\"},\"range\":[2,-1],\"linecolor\":\"#283149\",\"mirror\":true},\"legend\":{\"title\":{\"text\":\"\"},\"tracegroupgap\":0},\"margin\":{\"t\":60},\"title\":{\"text\":\"aqueous media (mostly neutral pH)\",\"x\":0.8,\"y\":0.87},\"width\":900,\"height\":600,\"shapes\":[{\"line\":{\"color\":\"grey\",\"dash\":\"dot\"},\"type\":\"line\",\"x0\":0,\"x1\":1,\"xref\":\"x domain\",\"y0\":1.0819999999999999,\"y1\":1.0819999999999999,\"yref\":\"y\"},{\"line\":{\"color\":\"grey\",\"dash\":\"dot\"},\"type\":\"line\",\"x0\":0,\"x1\":1,\"xref\":\"x domain\",\"y0\":1.502,\"y1\":1.502,\"yref\":\"y\"}],\"annotations\":[{\"showarrow\":false,\"text\":\"[Ru(bpy)3] Ered*\",\"x\":0,\"xanchor\":\"left\",\"xref\":\"x domain\",\"y\":1.0819999999999999,\"yanchor\":\"top\",\"yref\":\"y\"},{\"showarrow\":false,\"text\":\"[Ru(bpy)3] Eox\",\"x\":0,\"xanchor\":\"left\",\"xref\":\"x domain\",\"y\":1.502,\"yanchor\":\"top\",\"yref\":\"y\"}]},                        {\"responsive\": true}                    ).then(function(){\n",
       "                            \n",
       "var gd = document.getElementById('511936ad-c900-4d4e-ac5f-ccab9e448bdc');\n",
       "var x = new MutationObserver(function (mutations, observer) {{\n",
       "        var display = window.getComputedStyle(gd).display;\n",
       "        if (!display || display === 'none') {{\n",
       "            console.log([gd, 'removed!']);\n",
       "            Plotly.purge(gd);\n",
       "            observer.disconnect();\n",
       "        }}\n",
       "}});\n",
       "\n",
       "// Listen for the removal of the full notebook cells\n",
       "var notebookContainer = gd.closest('#notebook-container');\n",
       "if (notebookContainer) {{\n",
       "    x.observe(notebookContainer, {childList: true});\n",
       "}}\n",
       "\n",
       "// Listen for the clearing of the current output cell\n",
       "var outputEl = gd.closest('.output');\n",
       "if (outputEl) {{\n",
       "    x.observe(outputEl, {childList: true});\n",
       "}}\n",
       "\n",
       "                        })                };                });            </script>        </div>"
      ]
     },
     "metadata": {},
     "output_type": "display_data"
    }
   ],
   "source": [
    "aqueous = px.scatter(rsd_table.loc[rsd_table.aqueous==1,:], x='compound_family', y='redox_potential_V', symbol='label', color='label',\n",
    "                     color_discrete_sequence= ['#B71375', '#FC4F00', '#00FFCA', '#05BFDB', '#088395', '#0A4D68', '#2E4F4F'],\n",
    "                     category_orders={'label':['sacrificial donor', 'recyclable donor', '', 'RFB redox couple', 'hydrogen carrier', 'DSSC redox couple', 'electrochemistry only']},\n",
    "                     hover_data=dict(\n",
    "                         name=True,\n",
    "                         compound_id=True,\n",
    "                         pH=True,\n",
    "                         redox_potential_V=True,\n",
    "                         used_in_photocat=True,\n",
    "                         used_in_DSSC=True,\n",
    "                         used_in_rfbs=True\n",
    "                     ))\n",
    "aqueous.update_traces(marker=dict(size=10))\n",
    "aqueous.update_layout(legend=dict(title=''))\n",
    "aqueous.update_yaxes(title='Oxidation Potential vs. SCE', range=[2,-1], linecolor='#283149', mirror=True)\n",
    "aqueous.update_xaxes(title='', linecolor='#283149', mirror=True)\n",
    "aqueous.update_layout(title=\"aqueous media (mostly neutral pH)\", title_x=0.8, title_y=0.87, template='plotly_white', width=900, height=600)\n",
    "\n",
    "id_list = ps_table.loc[(ps_table.compound_id==36)&(ps_table.aqueous==1),:].id.to_list()\n",
    "id_list = [idnum for idnum in id_list if 'red*' in ps_table.loc[ps_table.id==idnum, 'redox_event'].values.item() or ps_table.loc[ps_table.id==idnum, 'redox_event'].values.item()=='Eox']\n",
    "for idnum in id_list:\n",
    "    aqueous.add_hline(y=ps_table.loc[ps_table.id==idnum, 'redox_potential_V'].values.item(),\n",
    "                      line = dict(dash='dot', color='grey'),\n",
    "                      annotation_text=f\"[Ru(bpy)3] {ps_table.loc[ps_table.id==idnum, 'redox_event'].values.item()}\",\n",
    "                      annotation_position=\"bottom left\"\n",
    "                     )\n",
    "aqueous.show()"
   ]
  },
  {
   "cell_type": "code",
   "execution_count": 33,
   "id": "95374bef-2085-49fe-bfdf-bea040c971d4",
   "metadata": {},
   "outputs": [
    {
     "data": {
      "application/vnd.plotly.v1+json": {
       "config": {
        "plotlyServerURL": "https://plot.ly"
       },
       "data": [
        {
         "customdata": [
          [
           5,
           "1,3-dimethyl-2-phenylbenzimidazoline (BIH)",
           1,
           0,
           0,
           0
          ],
          [
           11,
           "2-(4-methoxyphenyl)-1,3-dimethyl-2H-benzimidazole (ADMBI)",
           1,
           0,
           0,
           0
          ],
          [
           12,
           "1,3-dimethyl-2-(4-methylphenyl)-2H-benzimidazole (DMTBI)",
           1,
           0,
           0,
           0
          ],
          [
           13,
           "2-(3,5-dichlorophenyl)-1,3-dimethyl-2H-benzimidazole (DCDMBI)",
           1,
           0,
           0,
           0
          ],
          [
           14,
           "2-(1,3-dimethyl-2H-benzimidazol-2-yl)phenol (HDMBI)",
           1,
           0,
           0,
           0
          ],
          [
           20,
           " 5-methoxy-1,3-dimethyl-2-(4-methoxyphenyl)-2H-benzimidazole (BI1H)",
           1,
           0,
           0,
           0
          ],
          [
           21,
           " 5,6-dimethoxy-1,3-dimethyl-2-(phenyl)-2H-benzimidazole (BI2H)",
           1,
           0,
           0,
           0
          ],
          [
           4,
           "4-dimethylaminotoluene (DMT)",
           1,
           0,
           0,
           0
          ],
          [
           5,
           "1,3-dimethyl-2-phenylbenzimidazoline (BIH)",
           1,
           0,
           0,
           0
          ],
          [
           48,
           "diethyldithiocarbamic acid (DtcH)",
           1,
           0,
           0,
           0
          ],
          [
           49,
           "ethylxanthate (Xa-)",
           1,
           0,
           0,
           0
          ],
          [
           50,
           "4-methoxyphenylthioate",
           1,
           0,
           0,
           0
          ]
         ],
         "hovertemplate": "label=sacrificial donor<br>compound_family=%{x}<br>redox_potential_V=%{y}<br>compound_id=%{customdata[0]}<br>name=%{customdata[1]}<br>used_in_photocat=%{customdata[2]}<br>used_in_DSSC=%{customdata[3]}<br>used_in_rfbs=%{customdata[4]}<br>used_as_hcarrier=%{customdata[5]}<extra></extra>",
         "legendgroup": "sacrificial donor",
         "marker": {
          "color": "#B71375",
          "size": 10,
          "symbol": "circle"
         },
         "mode": "markers",
         "name": "sacrificial donor",
         "orientation": "v",
         "showlegend": true,
         "type": "scatter",
         "x": [
          "benzimidazole",
          "benzimidazole",
          "benzimidazole",
          "benzimidazole",
          "benzimidazole",
          "benzimidazole",
          "benzimidazole",
          "amine",
          "benzimidazole",
          "disulfide forming",
          "disulfide forming",
          "disulfide forming"
         ],
         "xaxis": "x",
         "y": [
          0.020000000000000018,
          -0.02999999999999997,
          -0.020000000000000018,
          0.09000000000000002,
          -0.010000000000000009,
          0.312,
          0.062,
          0.38999999999999996,
          -0.44,
          -0.26,
          -0.1,
          -0.12
         ],
         "yaxis": "y"
        },
        {
         "customdata": [
          [
           42,
           "1,3-dimethyl-2-(N,N-dimethylaniline)benzimidazoline ",
           1,
           0,
           0,
           0
          ],
          [
           43,
           "9,10-Dihydro-10-methyl-9-phenylacridine",
           1,
           0,
           0,
           0
          ],
          [
           19,
           " 1,3-dimethyl-2-(2,4,6-trimethoxyphenyl)-2H-benzimidazole (BIM)",
           1,
           0,
           0,
           0
          ]
         ],
         "hovertemplate": "label=recyclable donor<br>compound_family=%{x}<br>redox_potential_V=%{y}<br>compound_id=%{customdata[0]}<br>name=%{customdata[1]}<br>used_in_photocat=%{customdata[2]}<br>used_in_DSSC=%{customdata[3]}<br>used_in_rfbs=%{customdata[4]}<br>used_as_hcarrier=%{customdata[5]}<extra></extra>",
         "legendgroup": "recyclable donor",
         "marker": {
          "color": "#FC4F00",
          "size": 10,
          "symbol": "diamond"
         },
         "mode": "markers",
         "name": "recyclable donor",
         "orientation": "v",
         "showlegend": true,
         "type": "scatter",
         "x": [
          "benzimidazole",
          "acridine",
          "benzimidazole"
         ],
         "xaxis": "x",
         "y": [
          -0.47,
          0.28,
          -0.068
         ],
         "yaxis": "y"
        },
        {
         "customdata": [
          [
           29,
           "1,4-dimethoxy-2,5-dimethylbenzene",
           0,
           0,
           1,
           0
          ],
          [
           30,
           "1,4-Dimethoxy-2,3-dimethylbenzene",
           0,
           0,
           1,
           0
          ],
          [
           31,
           "2,3-dimethylquinoxaline",
           0,
           0,
           1,
           0
          ],
          [
           31,
           "2,3-dimethylquinoxaline",
           0,
           0,
           1,
           0
          ],
          [
           32,
           " 2,5-Di-tert-butyl-1,4-bis(2-methoxyethoxy)benzene (DBBB)",
           0,
           0,
           1,
           0
          ],
          [
           32,
           " 2,5-Di-tert-butyl-1,4-bis(2-methoxyethoxy)benzene (DBBB)",
           0,
           0,
           1,
           0
          ]
         ],
         "hovertemplate": "label=RFB redox couple<br>compound_family=%{x}<br>redox_potential_V=%{y}<br>compound_id=%{customdata[0]}<br>name=%{customdata[1]}<br>used_in_photocat=%{customdata[2]}<br>used_in_DSSC=%{customdata[3]}<br>used_in_rfbs=%{customdata[4]}<br>used_as_hcarrier=%{customdata[5]}<extra></extra>",
         "legendgroup": "RFB redox couple",
         "marker": {
          "color": "#05BFDB",
          "size": 10,
          "symbol": "x"
         },
         "mode": "markers",
         "name": "RFB redox couple",
         "orientation": "v",
         "showlegend": true,
         "type": "scatter",
         "x": [
          "dialkoxybenzene",
          "dialkoxybenzene",
          "dialkylquinoxaline",
          "dialkylquinoxaline",
          "dialkoxybenzene",
          "dialkoxybenzene"
         ],
         "xaxis": "x",
         "y": [
          0.52,
          0.5800000000000001,
          -0.8700000000000001,
          -0.5499999999999998,
          0.5300000000000002,
          0.6199999999999997
         ],
         "yaxis": "y"
        },
        {
         "customdata": [
          [
           34,
           " 2,3-Dichloro-5,6-dicyano-1,4-benzoquinone (DDQ)",
           0,
           0,
           0,
           1
          ],
          [
           40,
           "9-Ethyldodecahydro-1H-carbazole (H12-NEC)",
           0,
           0,
           0,
           1
          ]
         ],
         "hovertemplate": "label=hydrogen carrier<br>compound_family=%{x}<br>redox_potential_V=%{y}<br>compound_id=%{customdata[0]}<br>name=%{customdata[1]}<br>used_in_photocat=%{customdata[2]}<br>used_in_DSSC=%{customdata[3]}<br>used_in_rfbs=%{customdata[4]}<br>used_as_hcarrier=%{customdata[5]}<extra></extra>",
         "legendgroup": "hydrogen carrier",
         "marker": {
          "color": "#088395",
          "size": 10,
          "symbol": "cross"
         },
         "mode": "markers",
         "name": "hydrogen carrier",
         "orientation": "v",
         "showlegend": true,
         "type": "scatter",
         "x": [
          "quinone",
          "amine"
         ],
         "xaxis": "x",
         "y": [
          0.137,
          0.57
         ],
         "yaxis": "y"
        },
        {
         "customdata": [
          [
           39,
           "1,2dimethyl-3-propyl-imidazol L-cysteine ([DMPI]2Cys) (DMPIC)",
           0,
           1,
           0,
           0
          ],
          [
           33,
           " 5-mercapto-1-methyltetrazole (T-)",
           0,
           1,
           0,
           0
          ],
          [
           45,
           " 2-mercapto-5-methyl-1,3,4-thiadiazole (McMT)",
           0,
           1,
           0,
           0
          ],
          [
           46,
           "tetramethylthiourea (TMTU)",
           0,
           1,
           0,
           0
          ],
          [
           47,
           "dimethyldithiocarbamate (M-)",
           0,
           1,
           0,
           0
          ]
         ],
         "hovertemplate": "label=DSSC redox couple<br>compound_family=%{x}<br>redox_potential_V=%{y}<br>compound_id=%{customdata[0]}<br>name=%{customdata[1]}<br>used_in_photocat=%{customdata[2]}<br>used_in_DSSC=%{customdata[3]}<br>used_in_rfbs=%{customdata[4]}<br>used_as_hcarrier=%{customdata[5]}<extra></extra>",
         "legendgroup": "DSSC redox couple",
         "marker": {
          "color": "#0A4D68",
          "size": 10,
          "symbol": "circle"
         },
         "mode": "markers",
         "name": "DSSC redox couple",
         "orientation": "v",
         "showlegend": true,
         "type": "scatter",
         "x": [
          "disulfide forming",
          "disulfide forming",
          "disulfide forming",
          "disulfide forming",
          "disulfide forming"
         ],
         "xaxis": "x",
         "y": [
          0.385,
          0.417,
          -0.475,
          -0.007000000000000006,
          0.1
         ],
         "yaxis": "y"
        },
        {
         "customdata": [
          [
           35,
           " p-dimethylaminobenzaldehyde",
           0,
           0,
           0,
           0
          ]
         ],
         "hovertemplate": "label=electrochemistry only<br>compound_family=%{x}<br>redox_potential_V=%{y}<br>compound_id=%{customdata[0]}<br>name=%{customdata[1]}<br>used_in_photocat=%{customdata[2]}<br>used_in_DSSC=%{customdata[3]}<br>used_in_rfbs=%{customdata[4]}<br>used_as_hcarrier=%{customdata[5]}<extra></extra>",
         "legendgroup": "electrochemistry only",
         "marker": {
          "color": "#2E4F4F",
          "size": 10,
          "symbol": "diamond"
         },
         "mode": "markers",
         "name": "electrochemistry only",
         "orientation": "v",
         "showlegend": true,
         "type": "scatter",
         "x": [
          "amine"
         ],
         "xaxis": "x",
         "y": [
          0.79
         ],
         "yaxis": "y"
        }
       ],
       "layout": {
        "annotations": [
         {
          "showarrow": false,
          "text": "[Ru(bpy)3] Eox",
          "x": 0,
          "xanchor": "left",
          "xref": "x domain",
          "y": 0.96,
          "yanchor": "top",
          "yref": "y"
         },
         {
          "showarrow": false,
          "text": "[Ru(bpy)3] Ered*",
          "x": 0,
          "xanchor": "left",
          "xref": "x domain",
          "y": 0.52,
          "yanchor": "top",
          "yref": "y"
         },
         {
          "showarrow": false,
          "text": "[Ir(ppy)3] Ered*",
          "x": 0,
          "xanchor": "left",
          "xref": "x domain",
          "y": 0.33,
          "yanchor": "top",
          "yref": "y"
         }
        ],
        "height": 600,
        "legend": {
         "title": {
          "text": ""
         },
         "tracegroupgap": 0
        },
        "margin": {
         "t": 60
        },
        "shapes": [
         {
          "line": {
           "color": "grey",
           "dash": "dot"
          },
          "type": "line",
          "x0": 0,
          "x1": 1,
          "xref": "x domain",
          "y0": 0.96,
          "y1": 0.96,
          "yref": "y"
         },
         {
          "line": {
           "color": "grey",
           "dash": "dot"
          },
          "type": "line",
          "x0": 0,
          "x1": 1,
          "xref": "x domain",
          "y0": 0.52,
          "y1": 0.52,
          "yref": "y"
         },
         {
          "line": {
           "color": "grey",
           "dash": "dot"
          },
          "type": "line",
          "x0": 0,
          "x1": 1,
          "xref": "x domain",
          "y0": 0.33,
          "y1": 0.33,
          "yref": "y"
         }
        ],
        "template": {
         "data": {
          "bar": [
           {
            "error_x": {
             "color": "#2a3f5f"
            },
            "error_y": {
             "color": "#2a3f5f"
            },
            "marker": {
             "line": {
              "color": "white",
              "width": 0.5
             },
             "pattern": {
              "fillmode": "overlay",
              "size": 10,
              "solidity": 0.2
             }
            },
            "type": "bar"
           }
          ],
          "barpolar": [
           {
            "marker": {
             "line": {
              "color": "white",
              "width": 0.5
             },
             "pattern": {
              "fillmode": "overlay",
              "size": 10,
              "solidity": 0.2
             }
            },
            "type": "barpolar"
           }
          ],
          "carpet": [
           {
            "aaxis": {
             "endlinecolor": "#2a3f5f",
             "gridcolor": "#C8D4E3",
             "linecolor": "#C8D4E3",
             "minorgridcolor": "#C8D4E3",
             "startlinecolor": "#2a3f5f"
            },
            "baxis": {
             "endlinecolor": "#2a3f5f",
             "gridcolor": "#C8D4E3",
             "linecolor": "#C8D4E3",
             "minorgridcolor": "#C8D4E3",
             "startlinecolor": "#2a3f5f"
            },
            "type": "carpet"
           }
          ],
          "choropleth": [
           {
            "colorbar": {
             "outlinewidth": 0,
             "ticks": ""
            },
            "type": "choropleth"
           }
          ],
          "contour": [
           {
            "colorbar": {
             "outlinewidth": 0,
             "ticks": ""
            },
            "colorscale": [
             [
              0,
              "#0d0887"
             ],
             [
              0.1111111111111111,
              "#46039f"
             ],
             [
              0.2222222222222222,
              "#7201a8"
             ],
             [
              0.3333333333333333,
              "#9c179e"
             ],
             [
              0.4444444444444444,
              "#bd3786"
             ],
             [
              0.5555555555555556,
              "#d8576b"
             ],
             [
              0.6666666666666666,
              "#ed7953"
             ],
             [
              0.7777777777777778,
              "#fb9f3a"
             ],
             [
              0.8888888888888888,
              "#fdca26"
             ],
             [
              1,
              "#f0f921"
             ]
            ],
            "type": "contour"
           }
          ],
          "contourcarpet": [
           {
            "colorbar": {
             "outlinewidth": 0,
             "ticks": ""
            },
            "type": "contourcarpet"
           }
          ],
          "heatmap": [
           {
            "colorbar": {
             "outlinewidth": 0,
             "ticks": ""
            },
            "colorscale": [
             [
              0,
              "#0d0887"
             ],
             [
              0.1111111111111111,
              "#46039f"
             ],
             [
              0.2222222222222222,
              "#7201a8"
             ],
             [
              0.3333333333333333,
              "#9c179e"
             ],
             [
              0.4444444444444444,
              "#bd3786"
             ],
             [
              0.5555555555555556,
              "#d8576b"
             ],
             [
              0.6666666666666666,
              "#ed7953"
             ],
             [
              0.7777777777777778,
              "#fb9f3a"
             ],
             [
              0.8888888888888888,
              "#fdca26"
             ],
             [
              1,
              "#f0f921"
             ]
            ],
            "type": "heatmap"
           }
          ],
          "heatmapgl": [
           {
            "colorbar": {
             "outlinewidth": 0,
             "ticks": ""
            },
            "colorscale": [
             [
              0,
              "#0d0887"
             ],
             [
              0.1111111111111111,
              "#46039f"
             ],
             [
              0.2222222222222222,
              "#7201a8"
             ],
             [
              0.3333333333333333,
              "#9c179e"
             ],
             [
              0.4444444444444444,
              "#bd3786"
             ],
             [
              0.5555555555555556,
              "#d8576b"
             ],
             [
              0.6666666666666666,
              "#ed7953"
             ],
             [
              0.7777777777777778,
              "#fb9f3a"
             ],
             [
              0.8888888888888888,
              "#fdca26"
             ],
             [
              1,
              "#f0f921"
             ]
            ],
            "type": "heatmapgl"
           }
          ],
          "histogram": [
           {
            "marker": {
             "pattern": {
              "fillmode": "overlay",
              "size": 10,
              "solidity": 0.2
             }
            },
            "type": "histogram"
           }
          ],
          "histogram2d": [
           {
            "colorbar": {
             "outlinewidth": 0,
             "ticks": ""
            },
            "colorscale": [
             [
              0,
              "#0d0887"
             ],
             [
              0.1111111111111111,
              "#46039f"
             ],
             [
              0.2222222222222222,
              "#7201a8"
             ],
             [
              0.3333333333333333,
              "#9c179e"
             ],
             [
              0.4444444444444444,
              "#bd3786"
             ],
             [
              0.5555555555555556,
              "#d8576b"
             ],
             [
              0.6666666666666666,
              "#ed7953"
             ],
             [
              0.7777777777777778,
              "#fb9f3a"
             ],
             [
              0.8888888888888888,
              "#fdca26"
             ],
             [
              1,
              "#f0f921"
             ]
            ],
            "type": "histogram2d"
           }
          ],
          "histogram2dcontour": [
           {
            "colorbar": {
             "outlinewidth": 0,
             "ticks": ""
            },
            "colorscale": [
             [
              0,
              "#0d0887"
             ],
             [
              0.1111111111111111,
              "#46039f"
             ],
             [
              0.2222222222222222,
              "#7201a8"
             ],
             [
              0.3333333333333333,
              "#9c179e"
             ],
             [
              0.4444444444444444,
              "#bd3786"
             ],
             [
              0.5555555555555556,
              "#d8576b"
             ],
             [
              0.6666666666666666,
              "#ed7953"
             ],
             [
              0.7777777777777778,
              "#fb9f3a"
             ],
             [
              0.8888888888888888,
              "#fdca26"
             ],
             [
              1,
              "#f0f921"
             ]
            ],
            "type": "histogram2dcontour"
           }
          ],
          "mesh3d": [
           {
            "colorbar": {
             "outlinewidth": 0,
             "ticks": ""
            },
            "type": "mesh3d"
           }
          ],
          "parcoords": [
           {
            "line": {
             "colorbar": {
              "outlinewidth": 0,
              "ticks": ""
             }
            },
            "type": "parcoords"
           }
          ],
          "pie": [
           {
            "automargin": true,
            "type": "pie"
           }
          ],
          "scatter": [
           {
            "fillpattern": {
             "fillmode": "overlay",
             "size": 10,
             "solidity": 0.2
            },
            "type": "scatter"
           }
          ],
          "scatter3d": [
           {
            "line": {
             "colorbar": {
              "outlinewidth": 0,
              "ticks": ""
             }
            },
            "marker": {
             "colorbar": {
              "outlinewidth": 0,
              "ticks": ""
             }
            },
            "type": "scatter3d"
           }
          ],
          "scattercarpet": [
           {
            "marker": {
             "colorbar": {
              "outlinewidth": 0,
              "ticks": ""
             }
            },
            "type": "scattercarpet"
           }
          ],
          "scattergeo": [
           {
            "marker": {
             "colorbar": {
              "outlinewidth": 0,
              "ticks": ""
             }
            },
            "type": "scattergeo"
           }
          ],
          "scattergl": [
           {
            "marker": {
             "colorbar": {
              "outlinewidth": 0,
              "ticks": ""
             }
            },
            "type": "scattergl"
           }
          ],
          "scattermapbox": [
           {
            "marker": {
             "colorbar": {
              "outlinewidth": 0,
              "ticks": ""
             }
            },
            "type": "scattermapbox"
           }
          ],
          "scatterpolar": [
           {
            "marker": {
             "colorbar": {
              "outlinewidth": 0,
              "ticks": ""
             }
            },
            "type": "scatterpolar"
           }
          ],
          "scatterpolargl": [
           {
            "marker": {
             "colorbar": {
              "outlinewidth": 0,
              "ticks": ""
             }
            },
            "type": "scatterpolargl"
           }
          ],
          "scatterternary": [
           {
            "marker": {
             "colorbar": {
              "outlinewidth": 0,
              "ticks": ""
             }
            },
            "type": "scatterternary"
           }
          ],
          "surface": [
           {
            "colorbar": {
             "outlinewidth": 0,
             "ticks": ""
            },
            "colorscale": [
             [
              0,
              "#0d0887"
             ],
             [
              0.1111111111111111,
              "#46039f"
             ],
             [
              0.2222222222222222,
              "#7201a8"
             ],
             [
              0.3333333333333333,
              "#9c179e"
             ],
             [
              0.4444444444444444,
              "#bd3786"
             ],
             [
              0.5555555555555556,
              "#d8576b"
             ],
             [
              0.6666666666666666,
              "#ed7953"
             ],
             [
              0.7777777777777778,
              "#fb9f3a"
             ],
             [
              0.8888888888888888,
              "#fdca26"
             ],
             [
              1,
              "#f0f921"
             ]
            ],
            "type": "surface"
           }
          ],
          "table": [
           {
            "cells": {
             "fill": {
              "color": "#EBF0F8"
             },
             "line": {
              "color": "white"
             }
            },
            "header": {
             "fill": {
              "color": "#C8D4E3"
             },
             "line": {
              "color": "white"
             }
            },
            "type": "table"
           }
          ]
         },
         "layout": {
          "annotationdefaults": {
           "arrowcolor": "#2a3f5f",
           "arrowhead": 0,
           "arrowwidth": 1
          },
          "autotypenumbers": "strict",
          "coloraxis": {
           "colorbar": {
            "outlinewidth": 0,
            "ticks": ""
           }
          },
          "colorscale": {
           "diverging": [
            [
             0,
             "#8e0152"
            ],
            [
             0.1,
             "#c51b7d"
            ],
            [
             0.2,
             "#de77ae"
            ],
            [
             0.3,
             "#f1b6da"
            ],
            [
             0.4,
             "#fde0ef"
            ],
            [
             0.5,
             "#f7f7f7"
            ],
            [
             0.6,
             "#e6f5d0"
            ],
            [
             0.7,
             "#b8e186"
            ],
            [
             0.8,
             "#7fbc41"
            ],
            [
             0.9,
             "#4d9221"
            ],
            [
             1,
             "#276419"
            ]
           ],
           "sequential": [
            [
             0,
             "#0d0887"
            ],
            [
             0.1111111111111111,
             "#46039f"
            ],
            [
             0.2222222222222222,
             "#7201a8"
            ],
            [
             0.3333333333333333,
             "#9c179e"
            ],
            [
             0.4444444444444444,
             "#bd3786"
            ],
            [
             0.5555555555555556,
             "#d8576b"
            ],
            [
             0.6666666666666666,
             "#ed7953"
            ],
            [
             0.7777777777777778,
             "#fb9f3a"
            ],
            [
             0.8888888888888888,
             "#fdca26"
            ],
            [
             1,
             "#f0f921"
            ]
           ],
           "sequentialminus": [
            [
             0,
             "#0d0887"
            ],
            [
             0.1111111111111111,
             "#46039f"
            ],
            [
             0.2222222222222222,
             "#7201a8"
            ],
            [
             0.3333333333333333,
             "#9c179e"
            ],
            [
             0.4444444444444444,
             "#bd3786"
            ],
            [
             0.5555555555555556,
             "#d8576b"
            ],
            [
             0.6666666666666666,
             "#ed7953"
            ],
            [
             0.7777777777777778,
             "#fb9f3a"
            ],
            [
             0.8888888888888888,
             "#fdca26"
            ],
            [
             1,
             "#f0f921"
            ]
           ]
          },
          "colorway": [
           "#636efa",
           "#EF553B",
           "#00cc96",
           "#ab63fa",
           "#FFA15A",
           "#19d3f3",
           "#FF6692",
           "#B6E880",
           "#FF97FF",
           "#FECB52"
          ],
          "font": {
           "color": "#2a3f5f"
          },
          "geo": {
           "bgcolor": "white",
           "lakecolor": "white",
           "landcolor": "white",
           "showlakes": true,
           "showland": true,
           "subunitcolor": "#C8D4E3"
          },
          "hoverlabel": {
           "align": "left"
          },
          "hovermode": "closest",
          "mapbox": {
           "style": "light"
          },
          "paper_bgcolor": "white",
          "plot_bgcolor": "white",
          "polar": {
           "angularaxis": {
            "gridcolor": "#EBF0F8",
            "linecolor": "#EBF0F8",
            "ticks": ""
           },
           "bgcolor": "white",
           "radialaxis": {
            "gridcolor": "#EBF0F8",
            "linecolor": "#EBF0F8",
            "ticks": ""
           }
          },
          "scene": {
           "xaxis": {
            "backgroundcolor": "white",
            "gridcolor": "#DFE8F3",
            "gridwidth": 2,
            "linecolor": "#EBF0F8",
            "showbackground": true,
            "ticks": "",
            "zerolinecolor": "#EBF0F8"
           },
           "yaxis": {
            "backgroundcolor": "white",
            "gridcolor": "#DFE8F3",
            "gridwidth": 2,
            "linecolor": "#EBF0F8",
            "showbackground": true,
            "ticks": "",
            "zerolinecolor": "#EBF0F8"
           },
           "zaxis": {
            "backgroundcolor": "white",
            "gridcolor": "#DFE8F3",
            "gridwidth": 2,
            "linecolor": "#EBF0F8",
            "showbackground": true,
            "ticks": "",
            "zerolinecolor": "#EBF0F8"
           }
          },
          "shapedefaults": {
           "line": {
            "color": "#2a3f5f"
           }
          },
          "ternary": {
           "aaxis": {
            "gridcolor": "#DFE8F3",
            "linecolor": "#A2B1C6",
            "ticks": ""
           },
           "baxis": {
            "gridcolor": "#DFE8F3",
            "linecolor": "#A2B1C6",
            "ticks": ""
           },
           "bgcolor": "white",
           "caxis": {
            "gridcolor": "#DFE8F3",
            "linecolor": "#A2B1C6",
            "ticks": ""
           }
          },
          "title": {
           "x": 0.05
          },
          "xaxis": {
           "automargin": true,
           "gridcolor": "#EBF0F8",
           "linecolor": "#EBF0F8",
           "ticks": "",
           "title": {
            "standoff": 15
           },
           "zerolinecolor": "#EBF0F8",
           "zerolinewidth": 2
          },
          "yaxis": {
           "automargin": true,
           "gridcolor": "#EBF0F8",
           "linecolor": "#EBF0F8",
           "ticks": "",
           "title": {
            "standoff": 15
           },
           "zerolinecolor": "#EBF0F8",
           "zerolinewidth": 2
          }
         }
        },
        "title": {
         "text": "non-aqueous media",
         "x": 0.76,
         "y": 0.87
        },
        "width": 900,
        "xaxis": {
         "anchor": "y",
         "autorange": true,
         "domain": [
          0,
          1
         ],
         "linecolor": "#283149",
         "mirror": true,
         "range": [
          -0.4095900439238652,
          6.409590043923865
         ],
         "title": {
          "text": ""
         },
         "type": "category"
        },
        "yaxis": {
         "anchor": "x",
         "domain": [
          0,
          1
         ],
         "linecolor": "#283149",
         "mirror": true,
         "range": [
          2,
          -1.5
         ],
         "title": {
          "text": "Oxidation Potential vs. Fc/Fc+"
         },
         "type": "linear"
        }
       }
      },
      "image/png": "[encoded data removed]",
      "text/html": [
       "<div>                            <div id=\"80e008ed-e5a3-4d63-bb21-e1c7e7475ac6\" class=\"plotly-graph-div\" style=\"height:600px; width:900px;\"></div>            <script type=\"text/javascript\">                require([\"plotly\"], function(Plotly) {                    window.PLOTLYENV=window.PLOTLYENV || {};                                    if (document.getElementById(\"80e008ed-e5a3-4d63-bb21-e1c7e7475ac6\")) {                    Plotly.newPlot(                        \"80e008ed-e5a3-4d63-bb21-e1c7e7475ac6\",                        [{\"customdata\":[[5,\"1,3-dimethyl-2-phenylbenzimidazoline (BIH)\",1.0,0.0,0.0,0.0],[11,\"2-(4-methoxyphenyl)-1,3-dimethyl-2H-benzimidazole (ADMBI)\",1.0,0.0,0.0,0.0],[12,\"1,3-dimethyl-2-(4-methylphenyl)-2H-benzimidazole (DMTBI)\",1.0,0.0,0.0,0.0],[13,\"2-(3,5-dichlorophenyl)-1,3-dimethyl-2H-benzimidazole (DCDMBI)\",1.0,0.0,0.0,0.0],[14,\"2-(1,3-dimethyl-2H-benzimidazol-2-yl)phenol (HDMBI)\",1.0,0.0,0.0,0.0],[20,\" 5-methoxy-1,3-dimethyl-2-(4-methoxyphenyl)-2H-benzimidazole (BI1H)\",1.0,0.0,0.0,0.0],[21,\" 5,6-dimethoxy-1,3-dimethyl-2-(phenyl)-2H-benzimidazole (BI2H)\",1.0,0.0,0.0,0.0],[4,\"4-dimethylaminotoluene (DMT)\",1.0,0.0,0.0,0.0],[5,\"1,3-dimethyl-2-phenylbenzimidazoline (BIH)\",1.0,0.0,0.0,0.0],[48,\"diethyldithiocarbamic acid (DtcH)\",1.0,0.0,0.0,0.0],[49,\"ethylxanthate (Xa-)\",1.0,0.0,0.0,0.0],[50,\"4-methoxyphenylthioate\",1.0,0.0,0.0,0.0]],\"hovertemplate\":\"label=sacrificial donor<br>compound_family=%{x}<br>redox_potential_V=%{y}<br>compound_id=%{customdata[0]}<br>name=%{customdata[1]}<br>used_in_photocat=%{customdata[2]}<br>used_in_DSSC=%{customdata[3]}<br>used_in_rfbs=%{customdata[4]}<br>used_as_hcarrier=%{customdata[5]}<extra></extra>\",\"legendgroup\":\"sacrificial donor\",\"marker\":{\"color\":\"#B71375\",\"symbol\":\"circle\",\"size\":10},\"mode\":\"markers\",\"name\":\"sacrificial donor\",\"orientation\":\"v\",\"showlegend\":true,\"x\":[\"benzimidazole\",\"benzimidazole\",\"benzimidazole\",\"benzimidazole\",\"benzimidazole\",\"benzimidazole\",\"benzimidazole\",\"amine\",\"benzimidazole\",\"disulfide forming\",\"disulfide forming\",\"disulfide forming\"],\"xaxis\":\"x\",\"y\":[0.020000000000000018,-0.02999999999999997,-0.020000000000000018,0.09000000000000002,-0.010000000000000009,0.312,0.062,0.38999999999999996,-0.44,-0.26,-0.1,-0.12],\"yaxis\":\"y\",\"type\":\"scatter\"},{\"customdata\":[[42,\"1,3-dimethyl-2-(N,N-dimethylaniline)benzimidazoline \",1.0,0.0,0.0,0.0],[43,\"9,10-Dihydro-10-methyl-9-phenylacridine\",1.0,0.0,0.0,0.0],[19,\" 1,3-dimethyl-2-(2,4,6-trimethoxyphenyl)-2H-benzimidazole (BIM)\",1.0,0.0,0.0,0.0]],\"hovertemplate\":\"label=recyclable donor<br>compound_family=%{x}<br>redox_potential_V=%{y}<br>compound_id=%{customdata[0]}<br>name=%{customdata[1]}<br>used_in_photocat=%{customdata[2]}<br>used_in_DSSC=%{customdata[3]}<br>used_in_rfbs=%{customdata[4]}<br>used_as_hcarrier=%{customdata[5]}<extra></extra>\",\"legendgroup\":\"recyclable donor\",\"marker\":{\"color\":\"#FC4F00\",\"symbol\":\"diamond\",\"size\":10},\"mode\":\"markers\",\"name\":\"recyclable donor\",\"orientation\":\"v\",\"showlegend\":true,\"x\":[\"benzimidazole\",\"acridine\",\"benzimidazole\"],\"xaxis\":\"x\",\"y\":[-0.47,0.28,-0.068],\"yaxis\":\"y\",\"type\":\"scatter\"},{\"customdata\":[[29,\"1,4-dimethoxy-2,5-dimethylbenzene\",0.0,0.0,1.0,0.0],[30,\"1,4-Dimethoxy-2,3-dimethylbenzene\",0.0,0.0,1.0,0.0],[31,\"2,3-dimethylquinoxaline\",0.0,0.0,1.0,0.0],[31,\"2,3-dimethylquinoxaline\",0.0,0.0,1.0,0.0],[32,\" 2,5-Di-tert-butyl-1,4-bis(2-methoxyethoxy)benzene (DBBB)\",0.0,0.0,1.0,0.0],[32,\" 2,5-Di-tert-butyl-1,4-bis(2-methoxyethoxy)benzene (DBBB)\",0.0,0.0,1.0,0.0]],\"hovertemplate\":\"label=RFB redox couple<br>compound_family=%{x}<br>redox_potential_V=%{y}<br>compound_id=%{customdata[0]}<br>name=%{customdata[1]}<br>used_in_photocat=%{customdata[2]}<br>used_in_DSSC=%{customdata[3]}<br>used_in_rfbs=%{customdata[4]}<br>used_as_hcarrier=%{customdata[5]}<extra></extra>\",\"legendgroup\":\"RFB redox couple\",\"marker\":{\"color\":\"#05BFDB\",\"symbol\":\"x\",\"size\":10},\"mode\":\"markers\",\"name\":\"RFB redox couple\",\"orientation\":\"v\",\"showlegend\":true,\"x\":[\"dialkoxybenzene\",\"dialkoxybenzene\",\"dialkylquinoxaline\",\"dialkylquinoxaline\",\"dialkoxybenzene\",\"dialkoxybenzene\"],\"xaxis\":\"x\",\"y\":[0.52,0.5800000000000001,-0.8700000000000001,-0.5499999999999998,0.5300000000000002,0.6199999999999997],\"yaxis\":\"y\",\"type\":\"scatter\"},{\"customdata\":[[34,\" 2,3-Dichloro-5,6-dicyano-1,4-benzoquinone (DDQ)\",0.0,0.0,0.0,1.0],[40,\"9-Ethyldodecahydro-1H-carbazole (H12-NEC)\",0.0,0.0,0.0,1.0]],\"hovertemplate\":\"label=hydrogen carrier<br>compound_family=%{x}<br>redox_potential_V=%{y}<br>compound_id=%{customdata[0]}<br>name=%{customdata[1]}<br>used_in_photocat=%{customdata[2]}<br>used_in_DSSC=%{customdata[3]}<br>used_in_rfbs=%{customdata[4]}<br>used_as_hcarrier=%{customdata[5]}<extra></extra>\",\"legendgroup\":\"hydrogen carrier\",\"marker\":{\"color\":\"#088395\",\"symbol\":\"cross\",\"size\":10},\"mode\":\"markers\",\"name\":\"hydrogen carrier\",\"orientation\":\"v\",\"showlegend\":true,\"x\":[\"quinone\",\"amine\"],\"xaxis\":\"x\",\"y\":[0.137,0.57],\"yaxis\":\"y\",\"type\":\"scatter\"},{\"customdata\":[[39,\"1,2dimethyl-3-propyl-imidazol L-cysteine ([DMPI]2Cys) (DMPIC)\",0.0,1.0,0.0,0.0],[33,\" 5-mercapto-1-methyltetrazole (T-)\",0.0,1.0,0.0,0.0],[45,\" 2-mercapto-5-methyl-1,3,4-thiadiazole (McMT)\",0.0,1.0,0.0,0.0],[46,\"tetramethylthiourea (TMTU)\",0.0,1.0,0.0,0.0],[47,\"dimethyldithiocarbamate (M-)\",0.0,1.0,0.0,0.0]],\"hovertemplate\":\"label=DSSC redox couple<br>compound_family=%{x}<br>redox_potential_V=%{y}<br>compound_id=%{customdata[0]}<br>name=%{customdata[1]}<br>used_in_photocat=%{customdata[2]}<br>used_in_DSSC=%{customdata[3]}<br>used_in_rfbs=%{customdata[4]}<br>used_as_hcarrier=%{customdata[5]}<extra></extra>\",\"legendgroup\":\"DSSC redox couple\",\"marker\":{\"color\":\"#0A4D68\",\"symbol\":\"circle\",\"size\":10},\"mode\":\"markers\",\"name\":\"DSSC redox couple\",\"orientation\":\"v\",\"showlegend\":true,\"x\":[\"disulfide forming\",\"disulfide forming\",\"disulfide forming\",\"disulfide forming\",\"disulfide forming\"],\"xaxis\":\"x\",\"y\":[0.385,0.417,-0.475,-0.007000000000000006,0.1],\"yaxis\":\"y\",\"type\":\"scatter\"},{\"customdata\":[[35,\" p-dimethylaminobenzaldehyde\",0.0,0.0,0.0,0.0]],\"hovertemplate\":\"label=electrochemistry only<br>compound_family=%{x}<br>redox_potential_V=%{y}<br>compound_id=%{customdata[0]}<br>name=%{customdata[1]}<br>used_in_photocat=%{customdata[2]}<br>used_in_DSSC=%{customdata[3]}<br>used_in_rfbs=%{customdata[4]}<br>used_as_hcarrier=%{customdata[5]}<extra></extra>\",\"legendgroup\":\"electrochemistry only\",\"marker\":{\"color\":\"#2E4F4F\",\"symbol\":\"diamond\",\"size\":10},\"mode\":\"markers\",\"name\":\"electrochemistry only\",\"orientation\":\"v\",\"showlegend\":true,\"x\":[\"amine\"],\"xaxis\":\"x\",\"y\":[0.79],\"yaxis\":\"y\",\"type\":\"scatter\"}],                        {\"template\":{\"data\":{\"barpolar\":[{\"marker\":{\"line\":{\"color\":\"white\",\"width\":0.5},\"pattern\":{\"fillmode\":\"overlay\",\"size\":10,\"solidity\":0.2}},\"type\":\"barpolar\"}],\"bar\":[{\"error_x\":{\"color\":\"#2a3f5f\"},\"error_y\":{\"color\":\"#2a3f5f\"},\"marker\":{\"line\":{\"color\":\"white\",\"width\":0.5},\"pattern\":{\"fillmode\":\"overlay\",\"size\":10,\"solidity\":0.2}},\"type\":\"bar\"}],\"carpet\":[{\"aaxis\":{\"endlinecolor\":\"#2a3f5f\",\"gridcolor\":\"#C8D4E3\",\"linecolor\":\"#C8D4E3\",\"minorgridcolor\":\"#C8D4E3\",\"startlinecolor\":\"#2a3f5f\"},\"baxis\":{\"endlinecolor\":\"#2a3f5f\",\"gridcolor\":\"#C8D4E3\",\"linecolor\":\"#C8D4E3\",\"minorgridcolor\":\"#C8D4E3\",\"startlinecolor\":\"#2a3f5f\"},\"type\":\"carpet\"}],\"choropleth\":[{\"colorbar\":{\"outlinewidth\":0,\"ticks\":\"\"},\"type\":\"choropleth\"}],\"contourcarpet\":[{\"colorbar\":{\"outlinewidth\":0,\"ticks\":\"\"},\"type\":\"contourcarpet\"}],\"contour\":[{\"colorbar\":{\"outlinewidth\":0,\"ticks\":\"\"},\"colorscale\":[[0.0,\"#0d0887\"],[0.1111111111111111,\"#46039f\"],[0.2222222222222222,\"#7201a8\"],[0.3333333333333333,\"#9c179e\"],[0.4444444444444444,\"#bd3786\"],[0.5555555555555556,\"#d8576b\"],[0.6666666666666666,\"#ed7953\"],[0.7777777777777778,\"#fb9f3a\"],[0.8888888888888888,\"#fdca26\"],[1.0,\"#f0f921\"]],\"type\":\"contour\"}],\"heatmapgl\":[{\"colorbar\":{\"outlinewidth\":0,\"ticks\":\"\"},\"colorscale\":[[0.0,\"#0d0887\"],[0.1111111111111111,\"#46039f\"],[0.2222222222222222,\"#7201a8\"],[0.3333333333333333,\"#9c179e\"],[0.4444444444444444,\"#bd3786\"],[0.5555555555555556,\"#d8576b\"],[0.6666666666666666,\"#ed7953\"],[0.7777777777777778,\"#fb9f3a\"],[0.8888888888888888,\"#fdca26\"],[1.0,\"#f0f921\"]],\"type\":\"heatmapgl\"}],\"heatmap\":[{\"colorbar\":{\"outlinewidth\":0,\"ticks\":\"\"},\"colorscale\":[[0.0,\"#0d0887\"],[0.1111111111111111,\"#46039f\"],[0.2222222222222222,\"#7201a8\"],[0.3333333333333333,\"#9c179e\"],[0.4444444444444444,\"#bd3786\"],[0.5555555555555556,\"#d8576b\"],[0.6666666666666666,\"#ed7953\"],[0.7777777777777778,\"#fb9f3a\"],[0.8888888888888888,\"#fdca26\"],[1.0,\"#f0f921\"]],\"type\":\"heatmap\"}],\"histogram2dcontour\":[{\"colorbar\":{\"outlinewidth\":0,\"ticks\":\"\"},\"colorscale\":[[0.0,\"#0d0887\"],[0.1111111111111111,\"#46039f\"],[0.2222222222222222,\"#7201a8\"],[0.3333333333333333,\"#9c179e\"],[0.4444444444444444,\"#bd3786\"],[0.5555555555555556,\"#d8576b\"],[0.6666666666666666,\"#ed7953\"],[0.7777777777777778,\"#fb9f3a\"],[0.8888888888888888,\"#fdca26\"],[1.0,\"#f0f921\"]],\"type\":\"histogram2dcontour\"}],\"histogram2d\":[{\"colorbar\":{\"outlinewidth\":0,\"ticks\":\"\"},\"colorscale\":[[0.0,\"#0d0887\"],[0.1111111111111111,\"#46039f\"],[0.2222222222222222,\"#7201a8\"],[0.3333333333333333,\"#9c179e\"],[0.4444444444444444,\"#bd3786\"],[0.5555555555555556,\"#d8576b\"],[0.6666666666666666,\"#ed7953\"],[0.7777777777777778,\"#fb9f3a\"],[0.8888888888888888,\"#fdca26\"],[1.0,\"#f0f921\"]],\"type\":\"histogram2d\"}],\"histogram\":[{\"marker\":{\"pattern\":{\"fillmode\":\"overlay\",\"size\":10,\"solidity\":0.2}},\"type\":\"histogram\"}],\"mesh3d\":[{\"colorbar\":{\"outlinewidth\":0,\"ticks\":\"\"},\"type\":\"mesh3d\"}],\"parcoords\":[{\"line\":{\"colorbar\":{\"outlinewidth\":0,\"ticks\":\"\"}},\"type\":\"parcoords\"}],\"pie\":[{\"automargin\":true,\"type\":\"pie\"}],\"scatter3d\":[{\"line\":{\"colorbar\":{\"outlinewidth\":0,\"ticks\":\"\"}},\"marker\":{\"colorbar\":{\"outlinewidth\":0,\"ticks\":\"\"}},\"type\":\"scatter3d\"}],\"scattercarpet\":[{\"marker\":{\"colorbar\":{\"outlinewidth\":0,\"ticks\":\"\"}},\"type\":\"scattercarpet\"}],\"scattergeo\":[{\"marker\":{\"colorbar\":{\"outlinewidth\":0,\"ticks\":\"\"}},\"type\":\"scattergeo\"}],\"scattergl\":[{\"marker\":{\"colorbar\":{\"outlinewidth\":0,\"ticks\":\"\"}},\"type\":\"scattergl\"}],\"scattermapbox\":[{\"marker\":{\"colorbar\":{\"outlinewidth\":0,\"ticks\":\"\"}},\"type\":\"scattermapbox\"}],\"scatterpolargl\":[{\"marker\":{\"colorbar\":{\"outlinewidth\":0,\"ticks\":\"\"}},\"type\":\"scatterpolargl\"}],\"scatterpolar\":[{\"marker\":{\"colorbar\":{\"outlinewidth\":0,\"ticks\":\"\"}},\"type\":\"scatterpolar\"}],\"scatter\":[{\"fillpattern\":{\"fillmode\":\"overlay\",\"size\":10,\"solidity\":0.2},\"type\":\"scatter\"}],\"scatterternary\":[{\"marker\":{\"colorbar\":{\"outlinewidth\":0,\"ticks\":\"\"}},\"type\":\"scatterternary\"}],\"surface\":[{\"colorbar\":{\"outlinewidth\":0,\"ticks\":\"\"},\"colorscale\":[[0.0,\"#0d0887\"],[0.1111111111111111,\"#46039f\"],[0.2222222222222222,\"#7201a8\"],[0.3333333333333333,\"#9c179e\"],[0.4444444444444444,\"#bd3786\"],[0.5555555555555556,\"#d8576b\"],[0.6666666666666666,\"#ed7953\"],[0.7777777777777778,\"#fb9f3a\"],[0.8888888888888888,\"#fdca26\"],[1.0,\"#f0f921\"]],\"type\":\"surface\"}],\"table\":[{\"cells\":{\"fill\":{\"color\":\"#EBF0F8\"},\"line\":{\"color\":\"white\"}},\"header\":{\"fill\":{\"color\":\"#C8D4E3\"},\"line\":{\"color\":\"white\"}},\"type\":\"table\"}]},\"layout\":{\"annotationdefaults\":{\"arrowcolor\":\"#2a3f5f\",\"arrowhead\":0,\"arrowwidth\":1},\"autotypenumbers\":\"strict\",\"coloraxis\":{\"colorbar\":{\"outlinewidth\":0,\"ticks\":\"\"}},\"colorscale\":{\"diverging\":[[0,\"#8e0152\"],[0.1,\"#c51b7d\"],[0.2,\"#de77ae\"],[0.3,\"#f1b6da\"],[0.4,\"#fde0ef\"],[0.5,\"#f7f7f7\"],[0.6,\"#e6f5d0\"],[0.7,\"#b8e186\"],[0.8,\"#7fbc41\"],[0.9,\"#4d9221\"],[1,\"#276419\"]],\"sequential\":[[0.0,\"#0d0887\"],[0.1111111111111111,\"#46039f\"],[0.2222222222222222,\"#7201a8\"],[0.3333333333333333,\"#9c179e\"],[0.4444444444444444,\"#bd3786\"],[0.5555555555555556,\"#d8576b\"],[0.6666666666666666,\"#ed7953\"],[0.7777777777777778,\"#fb9f3a\"],[0.8888888888888888,\"#fdca26\"],[1.0,\"#f0f921\"]],\"sequentialminus\":[[0.0,\"#0d0887\"],[0.1111111111111111,\"#46039f\"],[0.2222222222222222,\"#7201a8\"],[0.3333333333333333,\"#9c179e\"],[0.4444444444444444,\"#bd3786\"],[0.5555555555555556,\"#d8576b\"],[0.6666666666666666,\"#ed7953\"],[0.7777777777777778,\"#fb9f3a\"],[0.8888888888888888,\"#fdca26\"],[1.0,\"#f0f921\"]]},\"colorway\":[\"#636efa\",\"#EF553B\",\"#00cc96\",\"#ab63fa\",\"#FFA15A\",\"#19d3f3\",\"#FF6692\",\"#B6E880\",\"#FF97FF\",\"#FECB52\"],\"font\":{\"color\":\"#2a3f5f\"},\"geo\":{\"bgcolor\":\"white\",\"lakecolor\":\"white\",\"landcolor\":\"white\",\"showlakes\":true,\"showland\":true,\"subunitcolor\":\"#C8D4E3\"},\"hoverlabel\":{\"align\":\"left\"},\"hovermode\":\"closest\",\"mapbox\":{\"style\":\"light\"},\"paper_bgcolor\":\"white\",\"plot_bgcolor\":\"white\",\"polar\":{\"angularaxis\":{\"gridcolor\":\"#EBF0F8\",\"linecolor\":\"#EBF0F8\",\"ticks\":\"\"},\"bgcolor\":\"white\",\"radialaxis\":{\"gridcolor\":\"#EBF0F8\",\"linecolor\":\"#EBF0F8\",\"ticks\":\"\"}},\"scene\":{\"xaxis\":{\"backgroundcolor\":\"white\",\"gridcolor\":\"#DFE8F3\",\"gridwidth\":2,\"linecolor\":\"#EBF0F8\",\"showbackground\":true,\"ticks\":\"\",\"zerolinecolor\":\"#EBF0F8\"},\"yaxis\":{\"backgroundcolor\":\"white\",\"gridcolor\":\"#DFE8F3\",\"gridwidth\":2,\"linecolor\":\"#EBF0F8\",\"showbackground\":true,\"ticks\":\"\",\"zerolinecolor\":\"#EBF0F8\"},\"zaxis\":{\"backgroundcolor\":\"white\",\"gridcolor\":\"#DFE8F3\",\"gridwidth\":2,\"linecolor\":\"#EBF0F8\",\"showbackground\":true,\"ticks\":\"\",\"zerolinecolor\":\"#EBF0F8\"}},\"shapedefaults\":{\"line\":{\"color\":\"#2a3f5f\"}},\"ternary\":{\"aaxis\":{\"gridcolor\":\"#DFE8F3\",\"linecolor\":\"#A2B1C6\",\"ticks\":\"\"},\"baxis\":{\"gridcolor\":\"#DFE8F3\",\"linecolor\":\"#A2B1C6\",\"ticks\":\"\"},\"bgcolor\":\"white\",\"caxis\":{\"gridcolor\":\"#DFE8F3\",\"linecolor\":\"#A2B1C6\",\"ticks\":\"\"}},\"title\":{\"x\":0.05},\"xaxis\":{\"automargin\":true,\"gridcolor\":\"#EBF0F8\",\"linecolor\":\"#EBF0F8\",\"ticks\":\"\",\"title\":{\"standoff\":15},\"zerolinecolor\":\"#EBF0F8\",\"zerolinewidth\":2},\"yaxis\":{\"automargin\":true,\"gridcolor\":\"#EBF0F8\",\"linecolor\":\"#EBF0F8\",\"ticks\":\"\",\"title\":{\"standoff\":15},\"zerolinecolor\":\"#EBF0F8\",\"zerolinewidth\":2}}},\"xaxis\":{\"anchor\":\"y\",\"domain\":[0.0,1.0],\"title\":{\"text\":\"\"},\"linecolor\":\"#283149\",\"mirror\":true},\"yaxis\":{\"anchor\":\"x\",\"domain\":[0.0,1.0],\"title\":{\"text\":\"Oxidation Potential vs. Fc/Fc+\"},\"range\":[2,-1.5],\"linecolor\":\"#283149\",\"mirror\":true},\"legend\":{\"title\":{\"text\":\"\"},\"tracegroupgap\":0},\"margin\":{\"t\":60},\"title\":{\"text\":\"non-aqueous media\",\"x\":0.76,\"y\":0.87},\"width\":900,\"height\":600,\"shapes\":[{\"line\":{\"color\":\"grey\",\"dash\":\"dot\"},\"type\":\"line\",\"x0\":0,\"x1\":1,\"xref\":\"x domain\",\"y0\":0.96,\"y1\":0.96,\"yref\":\"y\"},{\"line\":{\"color\":\"grey\",\"dash\":\"dot\"},\"type\":\"line\",\"x0\":0,\"x1\":1,\"xref\":\"x domain\",\"y0\":0.52,\"y1\":0.52,\"yref\":\"y\"},{\"line\":{\"color\":\"grey\",\"dash\":\"dot\"},\"type\":\"line\",\"x0\":0,\"x1\":1,\"xref\":\"x domain\",\"y0\":0.33,\"y1\":0.33,\"yref\":\"y\"}],\"annotations\":[{\"showarrow\":false,\"text\":\"[Ru(bpy)3] Eox\",\"x\":0,\"xanchor\":\"left\",\"xref\":\"x domain\",\"y\":0.96,\"yanchor\":\"top\",\"yref\":\"y\"},{\"showarrow\":false,\"text\":\"[Ru(bpy)3] Ered*\",\"x\":0,\"xanchor\":\"left\",\"xref\":\"x domain\",\"y\":0.52,\"yanchor\":\"top\",\"yref\":\"y\"},{\"showarrow\":false,\"text\":\"[Ir(ppy)3] Ered*\",\"x\":0,\"xanchor\":\"left\",\"xref\":\"x domain\",\"y\":0.33,\"yanchor\":\"top\",\"yref\":\"y\"}]},                        {\"responsive\": true}                    ).then(function(){\n",
       "                            \n",
       "var gd = document.getElementById('80e008ed-e5a3-4d63-bb21-e1c7e7475ac6');\n",
       "var x = new MutationObserver(function (mutations, observer) {{\n",
       "        var display = window.getComputedStyle(gd).display;\n",
       "        if (!display || display === 'none') {{\n",
       "            console.log([gd, 'removed!']);\n",
       "            Plotly.purge(gd);\n",
       "            observer.disconnect();\n",
       "        }}\n",
       "}});\n",
       "\n",
       "// Listen for the removal of the full notebook cells\n",
       "var notebookContainer = gd.closest('#notebook-container');\n",
       "if (notebookContainer) {{\n",
       "    x.observe(notebookContainer, {childList: true});\n",
       "}}\n",
       "\n",
       "// Listen for the clearing of the current output cell\n",
       "var outputEl = gd.closest('.output');\n",
       "if (outputEl) {{\n",
       "    x.observe(outputEl, {childList: true});\n",
       "}}\n",
       "\n",
       "                        })                };                });            </script>        </div>"
      ]
     },
     "metadata": {},
     "output_type": "display_data"
    }
   ],
   "source": [
    " aqueous = px.scatter(rsd_table.loc[rsd_table.aqueous!=1,:], x='compound_family', y='redox_potential_V', symbol='label', color='label',\n",
    "                      color_discrete_sequence= ['#B71375', '#FC4F00', '#00FFCA', '#05BFDB', '#088395', '#0A4D68', '#2E4F4F'],\n",
    "                     category_orders={'label':['sacrificial donor', 'recyclable donor', '', 'RFB redox couple', 'hydrogen carrier', 'DSSC redox couple', 'electrochemistry only']},\n",
    "                     hover_data=dict(\n",
    "                         compound_id=True,\n",
    "                         name=True,\n",
    "                         redox_potential_V=True,\n",
    "                         used_in_photocat=True,\n",
    "                         used_in_DSSC=True,\n",
    "                         used_in_rfbs=True,\n",
    "                         used_as_hcarrier=True,\n",
    "                     ))\n",
    "aqueous.update_traces(marker=dict(size=10))\n",
    "aqueous.update_layout(legend=dict(title=''))\n",
    "aqueous.update_yaxes(title='Oxidation Potential vs. Fc/Fc+', range=[2,-1.5], linecolor='#283149', mirror=True)\n",
    "aqueous.update_xaxes(title='', linecolor='#283149', mirror=True)\n",
    "aqueous.update_layout(title=\"non-aqueous media\", title_x=0.76, title_y=0.87, template='plotly_white', width=900, height=600)\n",
    "\n",
    "id_list = ps_table.loc[(ps_table.compound_id==36)&(ps_table.aqueous!=1),:].id.to_list()\n",
    "id_list = [idnum for idnum in id_list if 'red*' in ps_table.loc[ps_table.id==idnum, 'redox_event'].values.item() or ps_table.loc[ps_table.id==idnum, 'redox_event'].values.item()=='Eox']\n",
    "for idnum in id_list:\n",
    "    aqueous.add_hline(y=ps_table.loc[ps_table.id==idnum, 'redox_potential_V'].values.item(),\n",
    "                      line = dict(dash='dot', color='grey'),\n",
    "                      annotation_text=f\"[Ru(bpy)3] {ps_table.loc[ps_table.id==idnum, 'redox_event'].values.item()}\",\n",
    "                      annotation_position=\"bottom left\"\n",
    "                     )\n",
    "id_list = ps_table.loc[(ps_table.compound_id==44)&(ps_table.aqueous!=1),:].id.to_list()\n",
    "id_list = [idnum for idnum in id_list if ps_table.loc[ps_table.id==idnum, 'redox_event'].values.item()=='Ered*' or ps_table.loc[ps_table.id==idnum, 'redox_event'].values.item()=='Eox']\n",
    "for idnum in id_list:\n",
    "    aqueous.add_hline(y=ps_table.loc[ps_table.id==idnum, 'redox_potential_V'].values.item(),\n",
    "                      line = dict(dash='dot', color='grey'),\n",
    "                      annotation_text=f\"[Ir(ppy)3] {ps_table.loc[ps_table.id==idnum, 'redox_event'].values.item()}\",\n",
    "                      annotation_position=\"bottom left\"\n",
    "                     )\n",
    "# id_list = ps_table.loc[(ps_table.compound_id==38)&(ps_table.aqueous!=1),:].id.to_list()\n",
    "# id_list = [idnum for idnum in id_list if ps_table.loc[ps_table.id==idnum, 'redox_event'].values.item()=='Ered*' or ps_table.loc[ps_table.id==idnum, 'redox_event'].values.item()=='Eox']\n",
    "# for idnum in id_list:\n",
    "#     aqueous.add_hline(y=ps_table.loc[ps_table.id==idnum, 'redox_potential_V'].values.item(),\n",
    "#                       line = dict(dash='dot', color='grey'),\n",
    "#                       annotation_text=f\"[Cu(dpp)] {ps_table.loc[ps_table.id==idnum, 'redox_event'].values.item()}\",\n",
    "#                       annotation_position=\"top left\"\n",
    "#                      )\n",
    "aqueous.show()"
   ]
  },
  {
   "cell_type": "code",
   "execution_count": 21,
   "id": "dfec732e-0b53-4902-8be8-49ab74b4f46a",
   "metadata": {
    "tags": []
   },
   "outputs": [
    {
     "data": {
      "text/html": [
       "<div>\n",
       "<style scoped>\n",
       "    .dataframe tbody tr th:only-of-type {\n",
       "        vertical-align: middle;\n",
       "    }\n",
       "\n",
       "    .dataframe tbody tr th {\n",
       "        vertical-align: top;\n",
       "    }\n",
       "\n",
       "    .dataframe thead th {\n",
       "        text-align: right;\n",
       "    }\n",
       "</style>\n",
       "<table border=\"1\" class=\"dataframe\">\n",
       "  <thead>\n",
       "    <tr style=\"text-align: right;\">\n",
       "      <th></th>\n",
       "      <th>compound_id</th>\n",
       "      <th>name</th>\n",
       "      <th>formula</th>\n",
       "      <th>recyclable</th>\n",
       "      <th>type</th>\n",
       "      <th>compound_family</th>\n",
       "      <th>id</th>\n",
       "      <th>redox_potential_V</th>\n",
       "      <th>reference_electrode</th>\n",
       "      <th>electrolyte</th>\n",
       "      <th>solvent</th>\n",
       "      <th>pH</th>\n",
       "      <th>used_in_photocat</th>\n",
       "      <th>used_in_rfbs</th>\n",
       "      <th>used_as_hcarrier</th>\n",
       "      <th>used_in_DSSC</th>\n",
       "      <th>measurement_ref</th>\n",
       "      <th>aqueous</th>\n",
       "      <th>redox_event</th>\n",
       "    </tr>\n",
       "  </thead>\n",
       "  <tbody>\n",
       "    <tr>\n",
       "      <th>32</th>\n",
       "      <td>36</td>\n",
       "      <td>[Ru(bpy)3]2+ Tris(2,2-bipyridyl)ruthenium(II)...</td>\n",
       "      <td>C30H36Cl2N6O6Ru</td>\n",
       "      <td>1.0</td>\n",
       "      <td>photosensitizer</td>\n",
       "      <td>organometallic</td>\n",
       "      <td>33</td>\n",
       "      <td>-1.038</td>\n",
       "      <td>SCE</td>\n",
       "      <td></td>\n",
       "      <td>water</td>\n",
       "      <td>NaN</td>\n",
       "      <td>1.0</td>\n",
       "      <td>0.0</td>\n",
       "      <td>0.0</td>\n",
       "      <td>0.0</td>\n",
       "      <td>Balzani book page 199</td>\n",
       "      <td>1</td>\n",
       "      <td>Ered</td>\n",
       "    </tr>\n",
       "    <tr>\n",
       "      <th>33</th>\n",
       "      <td>36</td>\n",
       "      <td>[Ru(bpy)3]2+ Tris(2,2-bipyridyl)ruthenium(II)...</td>\n",
       "      <td>C30H36Cl2N6O6Ru</td>\n",
       "      <td>1.0</td>\n",
       "      <td>photosensitizer</td>\n",
       "      <td>organometallic</td>\n",
       "      <td>34</td>\n",
       "      <td>1.082</td>\n",
       "      <td>SCE</td>\n",
       "      <td></td>\n",
       "      <td>water</td>\n",
       "      <td>NaN</td>\n",
       "      <td>1.0</td>\n",
       "      <td>0.0</td>\n",
       "      <td>0.0</td>\n",
       "      <td>0.0</td>\n",
       "      <td>Balzani book page 199</td>\n",
       "      <td>1</td>\n",
       "      <td>Ered*</td>\n",
       "    </tr>\n",
       "    <tr>\n",
       "      <th>34</th>\n",
       "      <td>36</td>\n",
       "      <td>[Ru(bpy)3]2+ Tris(2,2-bipyridyl)ruthenium(II)...</td>\n",
       "      <td>C30H36Cl2N6O6Ru</td>\n",
       "      <td>1.0</td>\n",
       "      <td>photosensitizer</td>\n",
       "      <td>organometallic</td>\n",
       "      <td>35</td>\n",
       "      <td>1.502</td>\n",
       "      <td>SCE</td>\n",
       "      <td></td>\n",
       "      <td>water</td>\n",
       "      <td>NaN</td>\n",
       "      <td>1.0</td>\n",
       "      <td>0.0</td>\n",
       "      <td>0.0</td>\n",
       "      <td>0.0</td>\n",
       "      <td>Balzani book page 199</td>\n",
       "      <td>1</td>\n",
       "      <td>Eox</td>\n",
       "    </tr>\n",
       "    <tr>\n",
       "      <th>35</th>\n",
       "      <td>36</td>\n",
       "      <td>[Ru(bpy)3]2+ Tris(2,2-bipyridyl)ruthenium(II)...</td>\n",
       "      <td>C30H36Cl2N6O6Ru</td>\n",
       "      <td>1.0</td>\n",
       "      <td>photosensitizer</td>\n",
       "      <td>organometallic</td>\n",
       "      <td>36</td>\n",
       "      <td>-0.618</td>\n",
       "      <td>SCE</td>\n",
       "      <td></td>\n",
       "      <td>water</td>\n",
       "      <td>NaN</td>\n",
       "      <td>1.0</td>\n",
       "      <td>0.0</td>\n",
       "      <td>0.0</td>\n",
       "      <td>0.0</td>\n",
       "      <td>Balzani book page 199</td>\n",
       "      <td>1</td>\n",
       "      <td>Eox*</td>\n",
       "    </tr>\n",
       "    <tr>\n",
       "      <th>36</th>\n",
       "      <td>37</td>\n",
       "      <td>[Ir(tpy)3]3+</td>\n",
       "      <td></td>\n",
       "      <td>1.0</td>\n",
       "      <td>photosensitizer</td>\n",
       "      <td>organometallic</td>\n",
       "      <td>37</td>\n",
       "      <td>-1.080</td>\n",
       "      <td>Fc/Fc+</td>\n",
       "      <td></td>\n",
       "      <td>acetonitrile</td>\n",
       "      <td>NaN</td>\n",
       "      <td>1.0</td>\n",
       "      <td>0.0</td>\n",
       "      <td>0.0</td>\n",
       "      <td>0.0</td>\n",
       "      <td>Balzani book page 199</td>\n",
       "      <td>0</td>\n",
       "      <td></td>\n",
       "    </tr>\n",
       "    <tr>\n",
       "      <th>37</th>\n",
       "      <td>37</td>\n",
       "      <td>[Ir(tpy)3]3+</td>\n",
       "      <td></td>\n",
       "      <td>1.0</td>\n",
       "      <td>photosensitizer</td>\n",
       "      <td>organometallic</td>\n",
       "      <td>38</td>\n",
       "      <td>-0.610</td>\n",
       "      <td>Fc/Fc+</td>\n",
       "      <td></td>\n",
       "      <td>acetonitrile</td>\n",
       "      <td>NaN</td>\n",
       "      <td>1.0</td>\n",
       "      <td>0.0</td>\n",
       "      <td>0.0</td>\n",
       "      <td>0.0</td>\n",
       "      <td>Balzani book page 199</td>\n",
       "      <td>0</td>\n",
       "      <td></td>\n",
       "    </tr>\n",
       "    <tr>\n",
       "      <th>38</th>\n",
       "      <td>37</td>\n",
       "      <td>[Ir(tpy)3]3+</td>\n",
       "      <td></td>\n",
       "      <td>1.0</td>\n",
       "      <td>photosensitizer</td>\n",
       "      <td>organometallic</td>\n",
       "      <td>39</td>\n",
       "      <td>1.630</td>\n",
       "      <td>Fc/Fc+</td>\n",
       "      <td></td>\n",
       "      <td>acetonitrile</td>\n",
       "      <td>NaN</td>\n",
       "      <td>1.0</td>\n",
       "      <td>0.0</td>\n",
       "      <td>0.0</td>\n",
       "      <td>0.0</td>\n",
       "      <td>Balzani book page 199</td>\n",
       "      <td>0</td>\n",
       "      <td>Eox</td>\n",
       "    </tr>\n",
       "    <tr>\n",
       "      <th>39</th>\n",
       "      <td>38</td>\n",
       "      <td>[Cu(dpp)]+</td>\n",
       "      <td></td>\n",
       "      <td>1.0</td>\n",
       "      <td>photosensitizer</td>\n",
       "      <td>organometallic</td>\n",
       "      <td>40</td>\n",
       "      <td>0.380</td>\n",
       "      <td>Fc/Fc+</td>\n",
       "      <td></td>\n",
       "      <td>acetonitrile</td>\n",
       "      <td>NaN</td>\n",
       "      <td>1.0</td>\n",
       "      <td>0.0</td>\n",
       "      <td>0.0</td>\n",
       "      <td>0.0</td>\n",
       "      <td>Balzani book page 199</td>\n",
       "      <td>0</td>\n",
       "      <td></td>\n",
       "    </tr>\n",
       "    <tr>\n",
       "      <th>40</th>\n",
       "      <td>38</td>\n",
       "      <td>[Cu(dpp)]+</td>\n",
       "      <td></td>\n",
       "      <td>1.0</td>\n",
       "      <td>photosensitizer</td>\n",
       "      <td>organometallic</td>\n",
       "      <td>41</td>\n",
       "      <td>-1.990</td>\n",
       "      <td>Fc/Fc+</td>\n",
       "      <td></td>\n",
       "      <td>acetonitrile</td>\n",
       "      <td>NaN</td>\n",
       "      <td>1.0</td>\n",
       "      <td>0.0</td>\n",
       "      <td>0.0</td>\n",
       "      <td>0.0</td>\n",
       "      <td>Balzani book page 199</td>\n",
       "      <td>0</td>\n",
       "      <td></td>\n",
       "    </tr>\n",
       "    <tr>\n",
       "      <th>41</th>\n",
       "      <td>38</td>\n",
       "      <td>[Cu(dpp)]+</td>\n",
       "      <td></td>\n",
       "      <td>1.0</td>\n",
       "      <td>photosensitizer</td>\n",
       "      <td>organometallic</td>\n",
       "      <td>42</td>\n",
       "      <td>-1.420</td>\n",
       "      <td>Fc/Fc+</td>\n",
       "      <td></td>\n",
       "      <td>acetonitrile</td>\n",
       "      <td>NaN</td>\n",
       "      <td>1.0</td>\n",
       "      <td>0.0</td>\n",
       "      <td>0.0</td>\n",
       "      <td>0.0</td>\n",
       "      <td>Balzani book page 199</td>\n",
       "      <td>0</td>\n",
       "      <td>Ered*</td>\n",
       "    </tr>\n",
       "    <tr>\n",
       "      <th>42</th>\n",
       "      <td>38</td>\n",
       "      <td>[Cu(dpp)]+</td>\n",
       "      <td></td>\n",
       "      <td>1.0</td>\n",
       "      <td>photosensitizer</td>\n",
       "      <td>organometallic</td>\n",
       "      <td>43</td>\n",
       "      <td>-0.190</td>\n",
       "      <td>Fc/Fc+</td>\n",
       "      <td></td>\n",
       "      <td>acetonitrile</td>\n",
       "      <td>NaN</td>\n",
       "      <td>1.0</td>\n",
       "      <td>0.0</td>\n",
       "      <td>0.0</td>\n",
       "      <td>0.0</td>\n",
       "      <td>Balzani book page 199</td>\n",
       "      <td>0</td>\n",
       "      <td></td>\n",
       "    </tr>\n",
       "    <tr>\n",
       "      <th>46</th>\n",
       "      <td>36</td>\n",
       "      <td>[Ru(bpy)3]2+ Tris(2,2-bipyridyl)ruthenium(II)...</td>\n",
       "      <td>C30H36Cl2N6O6Ru</td>\n",
       "      <td>1.0</td>\n",
       "      <td>photosensitizer</td>\n",
       "      <td>organometallic</td>\n",
       "      <td>47</td>\n",
       "      <td>0.960</td>\n",
       "      <td>Fc/Fc+</td>\n",
       "      <td>TBAPF6</td>\n",
       "      <td>acetonitrile</td>\n",
       "      <td>NaN</td>\n",
       "      <td>1.0</td>\n",
       "      <td>0.0</td>\n",
       "      <td>0.0</td>\n",
       "      <td>0.0</td>\n",
       "      <td>DOI: 10.1021/j100070a025</td>\n",
       "      <td>0</td>\n",
       "      <td>Eox</td>\n",
       "    </tr>\n",
       "    <tr>\n",
       "      <th>47</th>\n",
       "      <td>36</td>\n",
       "      <td>[Ru(bpy)3]2+ Tris(2,2-bipyridyl)ruthenium(II)...</td>\n",
       "      <td>C30H36Cl2N6O6Ru</td>\n",
       "      <td>1.0</td>\n",
       "      <td>photosensitizer</td>\n",
       "      <td>organometallic</td>\n",
       "      <td>48</td>\n",
       "      <td>-1.670</td>\n",
       "      <td>Fc/Fc+</td>\n",
       "      <td>TBAPF6</td>\n",
       "      <td>acetonitrile</td>\n",
       "      <td>NaN</td>\n",
       "      <td>1.0</td>\n",
       "      <td>0.0</td>\n",
       "      <td>0.0</td>\n",
       "      <td>0.0</td>\n",
       "      <td>DOI: 10.1021/j100070a025</td>\n",
       "      <td>0</td>\n",
       "      <td>Ered</td>\n",
       "    </tr>\n",
       "    <tr>\n",
       "      <th>48</th>\n",
       "      <td>36</td>\n",
       "      <td>[Ru(bpy)3]2+ Tris(2,2-bipyridyl)ruthenium(II)...</td>\n",
       "      <td>C30H36Cl2N6O6Ru</td>\n",
       "      <td>1.0</td>\n",
       "      <td>photosensitizer</td>\n",
       "      <td>organometallic</td>\n",
       "      <td>49</td>\n",
       "      <td>-1.100</td>\n",
       "      <td>Fc/Fc+</td>\n",
       "      <td>TBAPF6</td>\n",
       "      <td>acetonitrile</td>\n",
       "      <td>NaN</td>\n",
       "      <td>1.0</td>\n",
       "      <td>0.0</td>\n",
       "      <td>0.0</td>\n",
       "      <td>0.0</td>\n",
       "      <td>DOI: 10.1021/j100070a025</td>\n",
       "      <td>0</td>\n",
       "      <td>Eox*</td>\n",
       "    </tr>\n",
       "    <tr>\n",
       "      <th>49</th>\n",
       "      <td>36</td>\n",
       "      <td>[Ru(bpy)3]2+ Tris(2,2-bipyridyl)ruthenium(II)...</td>\n",
       "      <td>C30H36Cl2N6O6Ru</td>\n",
       "      <td>1.0</td>\n",
       "      <td>photosensitizer</td>\n",
       "      <td>organometallic</td>\n",
       "      <td>50</td>\n",
       "      <td>0.520</td>\n",
       "      <td>Fc/Fc+</td>\n",
       "      <td>TBAPF6</td>\n",
       "      <td>acetonitrile</td>\n",
       "      <td>NaN</td>\n",
       "      <td>1.0</td>\n",
       "      <td>0.0</td>\n",
       "      <td>0.0</td>\n",
       "      <td>0.0</td>\n",
       "      <td>DOI: 10.1021/j100070a025</td>\n",
       "      <td>0</td>\n",
       "      <td>Ered*</td>\n",
       "    </tr>\n",
       "    <tr>\n",
       "      <th>54</th>\n",
       "      <td>44</td>\n",
       "      <td>iridium triphenylpyridine Ir(ppy)3</td>\n",
       "      <td></td>\n",
       "      <td>1.0</td>\n",
       "      <td>photosensitizer</td>\n",
       "      <td>organometallic</td>\n",
       "      <td>55</td>\n",
       "      <td>0.330</td>\n",
       "      <td>Fc/Fc+</td>\n",
       "      <td>TBAPF6</td>\n",
       "      <td>MeCN</td>\n",
       "      <td>NaN</td>\n",
       "      <td>1.0</td>\n",
       "      <td>0.0</td>\n",
       "      <td>0.0</td>\n",
       "      <td>0.0</td>\n",
       "      <td>DOI: 10.1002/celc.201700222</td>\n",
       "      <td>0</td>\n",
       "      <td>Ered*</td>\n",
       "    </tr>\n",
       "    <tr>\n",
       "      <th>55</th>\n",
       "      <td>44</td>\n",
       "      <td>iridium triphenylpyridine Ir(ppy)3</td>\n",
       "      <td></td>\n",
       "      <td>1.0</td>\n",
       "      <td>photosensitizer</td>\n",
       "      <td>organometallic</td>\n",
       "      <td>56</td>\n",
       "      <td>-0.160</td>\n",
       "      <td>Fc/Fc+</td>\n",
       "      <td>TBAPF6</td>\n",
       "      <td>MeCN</td>\n",
       "      <td>NaN</td>\n",
       "      <td>1.0</td>\n",
       "      <td>0.0</td>\n",
       "      <td>0.0</td>\n",
       "      <td>0.0</td>\n",
       "      <td>DOI: 10.1002/celc.201700222</td>\n",
       "      <td>0</td>\n",
       "      <td>Eox*</td>\n",
       "    </tr>\n",
       "    <tr>\n",
       "      <th>56</th>\n",
       "      <td>44</td>\n",
       "      <td>iridium triphenylpyridine Ir(ppy)3</td>\n",
       "      <td></td>\n",
       "      <td>1.0</td>\n",
       "      <td>photosensitizer</td>\n",
       "      <td>organometallic</td>\n",
       "      <td>57</td>\n",
       "      <td>-2.180</td>\n",
       "      <td>Fc/Fc+</td>\n",
       "      <td>TBAPF6</td>\n",
       "      <td>MeCN</td>\n",
       "      <td>NaN</td>\n",
       "      <td>1.0</td>\n",
       "      <td>0.0</td>\n",
       "      <td>0.0</td>\n",
       "      <td>0.0</td>\n",
       "      <td>DOI: 10.1002/celc.201700222</td>\n",
       "      <td>0</td>\n",
       "      <td></td>\n",
       "    </tr>\n",
       "  </tbody>\n",
       "</table>\n",
       "</div>"
      ],
      "text/plain": [
       "    compound_id                                               name  \\\n",
       "32           36   [Ru(bpy)3]2+ Tris(2,2-bipyridyl)ruthenium(II)...   \n",
       "33           36   [Ru(bpy)3]2+ Tris(2,2-bipyridyl)ruthenium(II)...   \n",
       "34           36   [Ru(bpy)3]2+ Tris(2,2-bipyridyl)ruthenium(II)...   \n",
       "35           36   [Ru(bpy)3]2+ Tris(2,2-bipyridyl)ruthenium(II)...   \n",
       "36           37                                      [Ir(tpy)3]3+    \n",
       "37           37                                      [Ir(tpy)3]3+    \n",
       "38           37                                      [Ir(tpy)3]3+    \n",
       "39           38                                         [Cu(dpp)]+   \n",
       "40           38                                         [Cu(dpp)]+   \n",
       "41           38                                         [Cu(dpp)]+   \n",
       "42           38                                         [Cu(dpp)]+   \n",
       "46           36   [Ru(bpy)3]2+ Tris(2,2-bipyridyl)ruthenium(II)...   \n",
       "47           36   [Ru(bpy)3]2+ Tris(2,2-bipyridyl)ruthenium(II)...   \n",
       "48           36   [Ru(bpy)3]2+ Tris(2,2-bipyridyl)ruthenium(II)...   \n",
       "49           36   [Ru(bpy)3]2+ Tris(2,2-bipyridyl)ruthenium(II)...   \n",
       "54           44                 iridium triphenylpyridine Ir(ppy)3   \n",
       "55           44                 iridium triphenylpyridine Ir(ppy)3   \n",
       "56           44                 iridium triphenylpyridine Ir(ppy)3   \n",
       "\n",
       "            formula  recyclable             type compound_family  id  \\\n",
       "32  C30H36Cl2N6O6Ru         1.0  photosensitizer  organometallic  33   \n",
       "33  C30H36Cl2N6O6Ru         1.0  photosensitizer  organometallic  34   \n",
       "34  C30H36Cl2N6O6Ru         1.0  photosensitizer  organometallic  35   \n",
       "35  C30H36Cl2N6O6Ru         1.0  photosensitizer  organometallic  36   \n",
       "36                          1.0  photosensitizer  organometallic  37   \n",
       "37                          1.0  photosensitizer  organometallic  38   \n",
       "38                          1.0  photosensitizer  organometallic  39   \n",
       "39                          1.0  photosensitizer  organometallic  40   \n",
       "40                          1.0  photosensitizer  organometallic  41   \n",
       "41                          1.0  photosensitizer  organometallic  42   \n",
       "42                          1.0  photosensitizer  organometallic  43   \n",
       "46  C30H36Cl2N6O6Ru         1.0  photosensitizer  organometallic  47   \n",
       "47  C30H36Cl2N6O6Ru         1.0  photosensitizer  organometallic  48   \n",
       "48  C30H36Cl2N6O6Ru         1.0  photosensitizer  organometallic  49   \n",
       "49  C30H36Cl2N6O6Ru         1.0  photosensitizer  organometallic  50   \n",
       "54                          1.0  photosensitizer  organometallic  55   \n",
       "55                          1.0  photosensitizer  organometallic  56   \n",
       "56                          1.0  photosensitizer  organometallic  57   \n",
       "\n",
       "    redox_potential_V reference_electrode electrolyte       solvent  pH  \\\n",
       "32             -1.038                 SCE                     water NaN   \n",
       "33              1.082                 SCE                     water NaN   \n",
       "34              1.502                 SCE                     water NaN   \n",
       "35             -0.618                 SCE                     water NaN   \n",
       "36             -1.080              Fc/Fc+              acetonitrile NaN   \n",
       "37             -0.610              Fc/Fc+              acetonitrile NaN   \n",
       "38              1.630              Fc/Fc+              acetonitrile NaN   \n",
       "39              0.380              Fc/Fc+              acetonitrile NaN   \n",
       "40             -1.990              Fc/Fc+              acetonitrile NaN   \n",
       "41             -1.420              Fc/Fc+              acetonitrile NaN   \n",
       "42             -0.190              Fc/Fc+              acetonitrile NaN   \n",
       "46              0.960              Fc/Fc+      TBAPF6  acetonitrile NaN   \n",
       "47             -1.670              Fc/Fc+      TBAPF6  acetonitrile NaN   \n",
       "48             -1.100              Fc/Fc+      TBAPF6  acetonitrile NaN   \n",
       "49              0.520              Fc/Fc+      TBAPF6  acetonitrile NaN   \n",
       "54              0.330              Fc/Fc+      TBAPF6          MeCN NaN   \n",
       "55             -0.160              Fc/Fc+      TBAPF6          MeCN NaN   \n",
       "56             -2.180              Fc/Fc+      TBAPF6          MeCN NaN   \n",
       "\n",
       "    used_in_photocat  used_in_rfbs  used_as_hcarrier  used_in_DSSC  \\\n",
       "32               1.0           0.0               0.0           0.0   \n",
       "33               1.0           0.0               0.0           0.0   \n",
       "34               1.0           0.0               0.0           0.0   \n",
       "35               1.0           0.0               0.0           0.0   \n",
       "36               1.0           0.0               0.0           0.0   \n",
       "37               1.0           0.0               0.0           0.0   \n",
       "38               1.0           0.0               0.0           0.0   \n",
       "39               1.0           0.0               0.0           0.0   \n",
       "40               1.0           0.0               0.0           0.0   \n",
       "41               1.0           0.0               0.0           0.0   \n",
       "42               1.0           0.0               0.0           0.0   \n",
       "46               1.0           0.0               0.0           0.0   \n",
       "47               1.0           0.0               0.0           0.0   \n",
       "48               1.0           0.0               0.0           0.0   \n",
       "49               1.0           0.0               0.0           0.0   \n",
       "54               1.0           0.0               0.0           0.0   \n",
       "55               1.0           0.0               0.0           0.0   \n",
       "56               1.0           0.0               0.0           0.0   \n",
       "\n",
       "                measurement_ref  aqueous redox_event  \n",
       "32        Balzani book page 199        1        Ered  \n",
       "33        Balzani book page 199        1       Ered*  \n",
       "34        Balzani book page 199        1         Eox  \n",
       "35        Balzani book page 199        1        Eox*  \n",
       "36        Balzani book page 199        0              \n",
       "37        Balzani book page 199        0              \n",
       "38        Balzani book page 199        0         Eox  \n",
       "39        Balzani book page 199        0              \n",
       "40        Balzani book page 199        0              \n",
       "41        Balzani book page 199        0       Ered*  \n",
       "42        Balzani book page 199        0              \n",
       "46     DOI: 10.1021/j100070a025        0         Eox  \n",
       "47     DOI: 10.1021/j100070a025        0        Ered  \n",
       "48     DOI: 10.1021/j100070a025        0        Eox*  \n",
       "49     DOI: 10.1021/j100070a025        0       Ered*  \n",
       "54  DOI: 10.1002/celc.201700222        0       Ered*  \n",
       "55  DOI: 10.1002/celc.201700222        0        Eox*  \n",
       "56  DOI: 10.1002/celc.201700222        0              "
      ]
     },
     "metadata": {},
     "output_type": "display_data"
    }
   ],
   "source": [
    "display(ps_table)"
   ]
  },
  {
   "cell_type": "code",
   "execution_count": 22,
   "id": "ee328bdf-56e0-40d8-933a-6d4e4a3d92da",
   "metadata": {},
   "outputs": [
    {
     "data": {
      "text/html": [
       "<div>\n",
       "<style scoped>\n",
       "    .dataframe tbody tr th:only-of-type {\n",
       "        vertical-align: middle;\n",
       "    }\n",
       "\n",
       "    .dataframe tbody tr th {\n",
       "        vertical-align: top;\n",
       "    }\n",
       "\n",
       "    .dataframe thead th {\n",
       "        text-align: right;\n",
       "    }\n",
       "</style>\n",
       "<table border=\"1\" class=\"dataframe\">\n",
       "  <thead>\n",
       "    <tr style=\"text-align: right;\">\n",
       "      <th></th>\n",
       "      <th>compound_id</th>\n",
       "      <th>name</th>\n",
       "      <th>formula</th>\n",
       "      <th>recyclable</th>\n",
       "      <th>type</th>\n",
       "      <th>compound_family</th>\n",
       "      <th>id</th>\n",
       "      <th>redox_potential_V</th>\n",
       "      <th>reference_electrode</th>\n",
       "      <th>electrolyte</th>\n",
       "      <th>solvent</th>\n",
       "      <th>pH</th>\n",
       "      <th>used_in_photocat</th>\n",
       "      <th>used_in_rfbs</th>\n",
       "      <th>used_as_hcarrier</th>\n",
       "      <th>used_in_DSSC</th>\n",
       "      <th>measurement_ref</th>\n",
       "      <th>aqueous</th>\n",
       "      <th>label</th>\n",
       "    </tr>\n",
       "  </thead>\n",
       "  <tbody>\n",
       "    <tr>\n",
       "      <th>15</th>\n",
       "      <td>22</td>\n",
       "      <td>2,7-anthraquinonedisulfonic acid (AQDS)</td>\n",
       "      <td>C14H8O8S2</td>\n",
       "      <td>1.0</td>\n",
       "      <td>electron donor</td>\n",
       "      <td>quinone</td>\n",
       "      <td>16</td>\n",
       "      <td>0.456</td>\n",
       "      <td>SCE</td>\n",
       "      <td></td>\n",
       "      <td>water</td>\n",
       "      <td>0.0</td>\n",
       "      <td>0.0</td>\n",
       "      <td>1.0</td>\n",
       "      <td>1.0</td>\n",
       "      <td>0.0</td>\n",
       "      <td>DOI:10.1002/aenm.202002453</td>\n",
       "      <td>1</td>\n",
       "      <td>hydrogen carrier</td>\n",
       "    </tr>\n",
       "  </tbody>\n",
       "</table>\n",
       "</div>"
      ],
      "text/plain": [
       "    compound_id                                      name    formula  \\\n",
       "15           22   2,7-anthraquinonedisulfonic acid (AQDS)  C14H8O8S2   \n",
       "\n",
       "    recyclable            type compound_family  id  redox_potential_V  \\\n",
       "15         1.0  electron donor         quinone  16              0.456   \n",
       "\n",
       "   reference_electrode electrolyte solvent   pH  used_in_photocat  \\\n",
       "15                 SCE               water  0.0               0.0   \n",
       "\n",
       "    used_in_rfbs  used_as_hcarrier  used_in_DSSC             measurement_ref  \\\n",
       "15           1.0               1.0           0.0  DOI:10.1002/aenm.202002453   \n",
       "\n",
       "    aqueous             label  \n",
       "15        1  hydrogen carrier  "
      ]
     },
     "metadata": {},
     "output_type": "display_data"
    }
   ],
   "source": [
    "display(rsd_table.loc[rsd_table.compound_id==22,:])"
   ]
  },
  {
   "cell_type": "code",
   "execution_count": null,
   "id": "1feaac01-e390-4d09-b056-2ca930828326",
   "metadata": {},
   "outputs": [],
   "source": []
  }
 ],
 "metadata": {
  "kernelspec": {
   "display_name": "Python 3 (ipykernel)",
   "language": "python",
   "name": "python3"
  },
  "language_info": {
   "codemirror_mode": {
    "name": "ipython",
    "version": 3
   },
   "file_extension": ".py",
   "mimetype": "text/x-python",
   "name": "python",
   "nbconvert_exporter": "python",
   "pygments_lexer": "ipython3",
   "version": "3.10.0"
  }
 },
 "nbformat": 4,
 "nbformat_minor": 5
}
