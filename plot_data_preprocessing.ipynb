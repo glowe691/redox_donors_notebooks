{
 "cells": [
  {
   "cell_type": "code",
   "execution_count": 192,
   "id": "abd18d4d-ee66-47f9-b807-8c9e668161cf",
   "metadata": {
    "tags": []
   },
   "outputs": [],
   "source": [
    "#import plotly.graph_objects as go\n",
    "import plotly.express as px\n",
    "import plotly.graph_objects as go\n",
    "from plotly.subplots import make_subplots\n",
    "import pandas as pd\n",
    "import numpy as np\n",
    "from reference_converters import *"
   ]
  },
  {
   "cell_type": "code",
   "execution_count": 193,
   "id": "c5a89c89-3cbe-4b6c-a342-156f0fe9ff28",
   "metadata": {
    "tags": []
   },
   "outputs": [],
   "source": [
    "# loading data \n",
    "compound_table = pd.read_parquet('compound_table.parquet')\n",
    "compound_table.sort_values('id', ascending=True, inplace=True)\n",
    "compound_table.rename(columns={'id': 'compound_id'}, inplace=True)\n",
    "electrochem_table = pd.read_parquet('electrochem_table.parquet')\n"
   ]
  },
  {
   "cell_type": "code",
   "execution_count": 194,
   "id": "edcd1504-327b-4b30-9efc-eda2ee0f76aa",
   "metadata": {
    "tags": []
   },
   "outputs": [],
   "source": [
    "# creating merged table\n",
    "combined_table = compound_table.merge(electrochem_table, how='right', on='compound_id')\n",
    "combined_table.dropna(subset=['name',], axis=0, inplace=True)\n",
    "combined_table= combined_table[['compound_id', 'name', 'formula', 'recyclable', 'type', 'compound_family',\n",
    "       'id', 'redox_potential_V', 'reference_electrode',\n",
    "       'electrolyte', 'solvent', 'pH', 'used_in_photocat', 'used_in_rfbs', 'used_as_hcarrier', 'used_in_DSSC', 'measurement_ref'\n",
    "       ]]"
   ]
  },
  {
   "cell_type": "code",
   "execution_count": 195,
   "id": "94c093ba-3f9b-4994-b9c0-4a97e3036269",
   "metadata": {
    "tags": []
   },
   "outputs": [],
   "source": [
    "# data cleaning\n",
    "\n",
    "# checking category binary\n",
    "combined_table.loc[combined_table.used_in_photocat!=1, 'used_in_photocat'] = 0\n",
    "\n",
    "# splitting aqueous non-aqueous\n",
    "combined_table['aqueous'] = 0\n",
    "combined_table.loc[combined_table.solvent=='water', 'aqueous']=1\n",
    "combined_table.loc[combined_table.solvent=='aqueous', 'aqueous']=1\n",
    "\n",
    "# altering quinone label to hydroquinone for aqueous media\n",
    "combined_table.loc[(combined_table.aqueous==1) & (combined_table.compound_family=='quinone'), 'compound_family'] = 'hydroquinone'\n"
   ]
  },
  {
   "cell_type": "code",
   "execution_count": 196,
   "id": "91e09e6f-57b8-49d3-8f5e-8b4e27f31763",
   "metadata": {
    "tags": []
   },
   "outputs": [
    {
     "name": "stdout",
     "output_type": "stream",
     "text": [
      "Table contains data for 51 compounds:\n",
      "compound_family: 14 distinct\n",
      "type: 3 distinct\n",
      "solvent: 12 distinct\n",
      "18 compounds with redox potentials measured in aqueous media\n"
     ]
    }
   ],
   "source": [
    "print(f\"Table contains data for {combined_table.compound_id.nunique()} compounds:\")\n",
    "print(f\"compound_family: {combined_table.compound_family.nunique()} distinct\")\n",
    "print(f\"type: {combined_table.type.nunique()} distinct\")\n",
    "print(f\"solvent: {combined_table.solvent.nunique()} distinct\")\n",
    "print(f\"{combined_table.loc[combined_table.aqueous==1, 'compound_id'].nunique()} compounds with redox potentials measured in aqueous media\")"
   ]
  },
  {
   "cell_type": "code",
   "execution_count": 197,
   "id": "a8b74de1-36de-4c57-b217-0ac9db5f4560",
   "metadata": {
    "tags": []
   },
   "outputs": [
    {
     "data": {
      "text/html": [
       "<div>\n",
       "<style scoped>\n",
       "    .dataframe tbody tr th:only-of-type {\n",
       "        vertical-align: middle;\n",
       "    }\n",
       "\n",
       "    .dataframe tbody tr th {\n",
       "        vertical-align: top;\n",
       "    }\n",
       "\n",
       "    .dataframe thead th {\n",
       "        text-align: right;\n",
       "    }\n",
       "</style>\n",
       "<table border=\"1\" class=\"dataframe\">\n",
       "  <thead>\n",
       "    <tr style=\"text-align: right;\">\n",
       "      <th></th>\n",
       "      <th></th>\n",
       "      <th>compound_id</th>\n",
       "      <th>id</th>\n",
       "    </tr>\n",
       "    <tr>\n",
       "      <th>type</th>\n",
       "      <th>compound_family</th>\n",
       "      <th></th>\n",
       "      <th></th>\n",
       "    </tr>\n",
       "  </thead>\n",
       "  <tbody>\n",
       "    <tr>\n",
       "      <th rowspan=\"3\" valign=\"top\">electron acceptor</th>\n",
       "      <th>dialkylquinoxaline</th>\n",
       "      <td>1</td>\n",
       "      <td>2</td>\n",
       "    </tr>\n",
       "    <tr>\n",
       "      <th>pyridinium</th>\n",
       "      <td>1</td>\n",
       "      <td>1</td>\n",
       "    </tr>\n",
       "    <tr>\n",
       "      <th>viologen</th>\n",
       "      <td>3</td>\n",
       "      <td>5</td>\n",
       "    </tr>\n",
       "    <tr>\n",
       "      <th rowspan=\"10\" valign=\"top\">electron donor</th>\n",
       "      <th>R-NADH</th>\n",
       "      <td>2</td>\n",
       "      <td>2</td>\n",
       "    </tr>\n",
       "    <tr>\n",
       "      <th>TEMPO</th>\n",
       "      <td>2</td>\n",
       "      <td>2</td>\n",
       "    </tr>\n",
       "    <tr>\n",
       "      <th>acridine</th>\n",
       "      <td>1</td>\n",
       "      <td>1</td>\n",
       "    </tr>\n",
       "    <tr>\n",
       "      <th>amine</th>\n",
       "      <td>11</td>\n",
       "      <td>11</td>\n",
       "    </tr>\n",
       "    <tr>\n",
       "      <th>benzimidazole</th>\n",
       "      <td>9</td>\n",
       "      <td>10</td>\n",
       "    </tr>\n",
       "    <tr>\n",
       "      <th>dialkoxybenzene</th>\n",
       "      <td>3</td>\n",
       "      <td>4</td>\n",
       "    </tr>\n",
       "    <tr>\n",
       "      <th>disulfide forming</th>\n",
       "      <td>8</td>\n",
       "      <td>8</td>\n",
       "    </tr>\n",
       "    <tr>\n",
       "      <th>ferrocene</th>\n",
       "      <td>3</td>\n",
       "      <td>3</td>\n",
       "    </tr>\n",
       "    <tr>\n",
       "      <th>hydroquinone</th>\n",
       "      <td>3</td>\n",
       "      <td>3</td>\n",
       "    </tr>\n",
       "    <tr>\n",
       "      <th>quinone</th>\n",
       "      <td>1</td>\n",
       "      <td>1</td>\n",
       "    </tr>\n",
       "    <tr>\n",
       "      <th>photosensitizer</th>\n",
       "      <th>organometallic</th>\n",
       "      <td>4</td>\n",
       "      <td>18</td>\n",
       "    </tr>\n",
       "  </tbody>\n",
       "</table>\n",
       "</div>"
      ],
      "text/plain": [
       "                                      compound_id  id\n",
       "type              compound_family                    \n",
       "electron acceptor dialkylquinoxaline            1   2\n",
       "                  pyridinium                    1   1\n",
       "                  viologen                      3   5\n",
       "electron donor    R-NADH                        2   2\n",
       "                  TEMPO                         2   2\n",
       "                  acridine                      1   1\n",
       "                  amine                        11  11\n",
       "                  benzimidazole                 9  10\n",
       "                  dialkoxybenzene               3   4\n",
       "                  disulfide forming             8   8\n",
       "                  ferrocene                     3   3\n",
       "                  hydroquinone                  3   3\n",
       "                  quinone                       1   1\n",
       "photosensitizer   organometallic                4  18"
      ]
     },
     "metadata": {},
     "output_type": "display_data"
    }
   ],
   "source": [
    "display(combined_table[['compound_family', 'type', 'compound_id', 'id']].groupby(['type', 'compound_family']).nunique())"
   ]
  },
  {
   "cell_type": "code",
   "execution_count": 198,
   "id": "5a5d907b-ddb7-458f-a511-c40b14704b87",
   "metadata": {
    "tags": []
   },
   "outputs": [
    {
     "name": "stdout",
     "output_type": "stream",
     "text": [
      "['SCE' 'NHE' 'SHE' 'Ag|AgCl']\n",
      "[nan 7.  0.  0.7]\n"
     ]
    }
   ],
   "source": [
    "# setting aqueous data to one reference redox potentials\n",
    "print(combined_table.loc[combined_table.aqueous==1,'reference_electrode'].unique())\n",
    "print(combined_table.loc[combined_table.aqueous==1,'pH'].unique())"
   ]
  },
  {
   "cell_type": "code",
   "execution_count": 199,
   "id": "c16e6697-a13c-4eda-8db5-155fabd1a44e",
   "metadata": {
    "tags": []
   },
   "outputs": [
    {
     "name": "stdout",
     "output_type": "stream",
     "text": [
      "['SCE' 'SHE' 'Li|Li+' 'Fc/Fc+' 'NHE' 'Ag|AgCl']\n"
     ]
    }
   ],
   "source": [
    "print(combined_table.loc[combined_table.aqueous!=1,'reference_electrode'].unique())"
   ]
  },
  {
   "cell_type": "code",
   "execution_count": 200,
   "id": "e9deb7ed-224e-4240-90c6-4d09eb957aa7",
   "metadata": {
    "tags": []
   },
   "outputs": [
    {
     "name": "stdout",
     "output_type": "stream",
     "text": [
      "['EC/PC/EMC' 'PC' 'EC/EMC' 'PEC']\n"
     ]
    }
   ],
   "source": [
    "print(combined_table.loc[combined_table.reference_electrode=='Li|Li+', 'solvent'].unique())"
   ]
  },
  {
   "cell_type": "code",
   "execution_count": 201,
   "id": "6c2ce0e2-7dcd-4471-9c0e-78e4c3a98a77",
   "metadata": {
    "tags": []
   },
   "outputs": [
    {
     "name": "stdout",
     "output_type": "stream",
     "text": [
      "['acetonitrile' 'THF' 'EC/PC/EMC' 'PC' 'EC/EMC' 'PEC' 'MeCN' 'DMF' 'DMSO'\n",
      " 'gamma-butyrolactone']\n"
     ]
    }
   ],
   "source": [
    "print(combined_table.loc[combined_table.aqueous!=1, 'solvent'].unique())"
   ]
  },
  {
   "cell_type": "code",
   "execution_count": 202,
   "id": "b41f6107-6bb8-4b57-90e3-e5caaaa1776e",
   "metadata": {
    "tags": []
   },
   "outputs": [
    {
     "data": {
      "text/html": [
       "<div>\n",
       "<style scoped>\n",
       "    .dataframe tbody tr th:only-of-type {\n",
       "        vertical-align: middle;\n",
       "    }\n",
       "\n",
       "    .dataframe tbody tr th {\n",
       "        vertical-align: top;\n",
       "    }\n",
       "\n",
       "    .dataframe thead th {\n",
       "        text-align: right;\n",
       "    }\n",
       "</style>\n",
       "<table border=\"1\" class=\"dataframe\">\n",
       "  <thead>\n",
       "    <tr style=\"text-align: right;\">\n",
       "      <th></th>\n",
       "      <th>compound_id</th>\n",
       "      <th>name</th>\n",
       "      <th>formula</th>\n",
       "      <th>recyclable</th>\n",
       "      <th>type</th>\n",
       "      <th>compound_family</th>\n",
       "      <th>id</th>\n",
       "      <th>redox_potential_V</th>\n",
       "      <th>reference_electrode</th>\n",
       "      <th>electrolyte</th>\n",
       "      <th>solvent</th>\n",
       "      <th>pH</th>\n",
       "      <th>used_in_photocat</th>\n",
       "      <th>used_in_rfbs</th>\n",
       "      <th>used_as_hcarrier</th>\n",
       "      <th>used_in_DSSC</th>\n",
       "      <th>measurement_ref</th>\n",
       "      <th>aqueous</th>\n",
       "    </tr>\n",
       "  </thead>\n",
       "  <tbody>\n",
       "    <tr>\n",
       "      <th>0</th>\n",
       "      <td>1</td>\n",
       "      <td>triethylamine</td>\n",
       "      <td>(C2H5)3N</td>\n",
       "      <td>0.0</td>\n",
       "      <td>electron donor</td>\n",
       "      <td>amine</td>\n",
       "      <td>1</td>\n",
       "      <td>0.69</td>\n",
       "      <td>SCE</td>\n",
       "      <td></td>\n",
       "      <td>water</td>\n",
       "      <td>NaN</td>\n",
       "      <td>1.0</td>\n",
       "      <td>0.0</td>\n",
       "      <td>0.0</td>\n",
       "      <td>0.0</td>\n",
       "      <td>https://doi.org/10.1016/j.crci.2015.11.026</td>\n",
       "      <td>1</td>\n",
       "    </tr>\n",
       "    <tr>\n",
       "      <th>1</th>\n",
       "      <td>2</td>\n",
       "      <td>triethanolamine</td>\n",
       "      <td>(HOCH2CH2)3N</td>\n",
       "      <td>0.0</td>\n",
       "      <td>electron donor</td>\n",
       "      <td>amine</td>\n",
       "      <td>2</td>\n",
       "      <td>1.07</td>\n",
       "      <td>NHE</td>\n",
       "      <td>pH7 phosphate buffer</td>\n",
       "      <td>water</td>\n",
       "      <td>7.0</td>\n",
       "      <td>1.0</td>\n",
       "      <td>0.0</td>\n",
       "      <td>0.0</td>\n",
       "      <td>0.0</td>\n",
       "      <td>https://doi.org/10.1039/c3cp55023k</td>\n",
       "      <td>1</td>\n",
       "    </tr>\n",
       "    <tr>\n",
       "      <th>31</th>\n",
       "      <td>4</td>\n",
       "      <td>4-dimethylaminotoluene (DMT)</td>\n",
       "      <td>CH3C6H4N(CH3)2</td>\n",
       "      <td>0.0</td>\n",
       "      <td>electron donor</td>\n",
       "      <td>amine</td>\n",
       "      <td>32</td>\n",
       "      <td>0.70</td>\n",
       "      <td>SCE</td>\n",
       "      <td>TBAClO4</td>\n",
       "      <td>MeCN</td>\n",
       "      <td>NaN</td>\n",
       "      <td>1.0</td>\n",
       "      <td>0.0</td>\n",
       "      <td>0.0</td>\n",
       "      <td>0.0</td>\n",
       "      <td>https://doi.org/10.1016/S0022-0728(70)80304-7</td>\n",
       "      <td>0</td>\n",
       "    </tr>\n",
       "    <tr>\n",
       "      <th>4</th>\n",
       "      <td>5</td>\n",
       "      <td>1,3-dimethyl-2-phenylbenzimidazoline (BIH)</td>\n",
       "      <td>C15H16N2</td>\n",
       "      <td>0.0</td>\n",
       "      <td>electron donor</td>\n",
       "      <td>benzimidazole</td>\n",
       "      <td>5</td>\n",
       "      <td>0.33</td>\n",
       "      <td>SCE</td>\n",
       "      <td>Et4NClO4</td>\n",
       "      <td>acetonitrile</td>\n",
       "      <td>NaN</td>\n",
       "      <td>1.0</td>\n",
       "      <td>0.0</td>\n",
       "      <td>0.0</td>\n",
       "      <td>0.0</td>\n",
       "      <td>doi:10.1016/j.tet.2006.03.061</td>\n",
       "      <td>0</td>\n",
       "    </tr>\n",
       "    <tr>\n",
       "      <th>50</th>\n",
       "      <td>5</td>\n",
       "      <td>1,3-dimethyl-2-phenylbenzimidazoline (BIH)</td>\n",
       "      <td>C15H16N2</td>\n",
       "      <td>0.0</td>\n",
       "      <td>electron donor</td>\n",
       "      <td>benzimidazole</td>\n",
       "      <td>51</td>\n",
       "      <td>-0.44</td>\n",
       "      <td>Fc/Fc+</td>\n",
       "      <td></td>\n",
       "      <td>DMSO</td>\n",
       "      <td>NaN</td>\n",
       "      <td>1.0</td>\n",
       "      <td>0.0</td>\n",
       "      <td>0.0</td>\n",
       "      <td>0.0</td>\n",
       "      <td>DOI: 10.1039/C9CC00928K</td>\n",
       "      <td>0</td>\n",
       "    </tr>\n",
       "    <tr>\n",
       "      <th>...</th>\n",
       "      <td>...</td>\n",
       "      <td>...</td>\n",
       "      <td>...</td>\n",
       "      <td>...</td>\n",
       "      <td>...</td>\n",
       "      <td>...</td>\n",
       "      <td>...</td>\n",
       "      <td>...</td>\n",
       "      <td>...</td>\n",
       "      <td>...</td>\n",
       "      <td>...</td>\n",
       "      <td>...</td>\n",
       "      <td>...</td>\n",
       "      <td>...</td>\n",
       "      <td>...</td>\n",
       "      <td>...</td>\n",
       "      <td>...</td>\n",
       "      <td>...</td>\n",
       "    </tr>\n",
       "    <tr>\n",
       "      <th>65</th>\n",
       "      <td>53</td>\n",
       "      <td>1,1,2,2-tetrapiperidinoethene (TPiE)</td>\n",
       "      <td>C22H40N4</td>\n",
       "      <td>0.0</td>\n",
       "      <td>electron donor</td>\n",
       "      <td>amine</td>\n",
       "      <td>69</td>\n",
       "      <td>-1.06</td>\n",
       "      <td>Fc/Fc+</td>\n",
       "      <td>TBAPF6</td>\n",
       "      <td>DMF</td>\n",
       "      <td>NaN</td>\n",
       "      <td>0.0</td>\n",
       "      <td>0.0</td>\n",
       "      <td>0.0</td>\n",
       "      <td>0.0</td>\n",
       "      <td>DOI: 10.1021/jacs.1c10932</td>\n",
       "      <td>0</td>\n",
       "    </tr>\n",
       "    <tr>\n",
       "      <th>66</th>\n",
       "      <td>54</td>\n",
       "      <td>4-(1,2,2-trimorpholin-4-ylethene)morpholine (TME)</td>\n",
       "      <td>C18H32N4O4</td>\n",
       "      <td>0.0</td>\n",
       "      <td>electron donor</td>\n",
       "      <td>amine</td>\n",
       "      <td>70</td>\n",
       "      <td>-0.85</td>\n",
       "      <td>Fc/Fc+</td>\n",
       "      <td>TBAPF6</td>\n",
       "      <td>DMF</td>\n",
       "      <td>NaN</td>\n",
       "      <td>0.0</td>\n",
       "      <td>0.0</td>\n",
       "      <td>0.0</td>\n",
       "      <td>0.0</td>\n",
       "      <td>DOI: 10.1021/jacs.1c10932</td>\n",
       "      <td>0</td>\n",
       "    </tr>\n",
       "    <tr>\n",
       "      <th>67</th>\n",
       "      <td>55</td>\n",
       "      <td>tetrakis(N-pyrrolidinyl)ethylene (TPyE)</td>\n",
       "      <td>C18H32N4</td>\n",
       "      <td>0.0</td>\n",
       "      <td>electron donor</td>\n",
       "      <td>amine</td>\n",
       "      <td>71</td>\n",
       "      <td>-1.32</td>\n",
       "      <td>Fc/Fc+</td>\n",
       "      <td>TBAPF6</td>\n",
       "      <td>DMF</td>\n",
       "      <td>NaN</td>\n",
       "      <td>0.0</td>\n",
       "      <td>0.0</td>\n",
       "      <td>0.0</td>\n",
       "      <td>0.0</td>\n",
       "      <td>DOI: 10.1021/jacs.1c10932</td>\n",
       "      <td>0</td>\n",
       "    </tr>\n",
       "    <tr>\n",
       "      <th>68</th>\n",
       "      <td>56</td>\n",
       "      <td>1-[1,2,2-tris(azepan-1-yl)ethenyl]azepane (TAzE)</td>\n",
       "      <td>C26H48N4</td>\n",
       "      <td>0.0</td>\n",
       "      <td>electron donor</td>\n",
       "      <td>amine</td>\n",
       "      <td>72</td>\n",
       "      <td>-1.09</td>\n",
       "      <td>Fc/Fc+</td>\n",
       "      <td>TBAPF6</td>\n",
       "      <td>DMF</td>\n",
       "      <td>NaN</td>\n",
       "      <td>0.0</td>\n",
       "      <td>0.0</td>\n",
       "      <td>0.0</td>\n",
       "      <td>0.0</td>\n",
       "      <td>DOI: 10.1021/jacs.1c10932</td>\n",
       "      <td>0</td>\n",
       "    </tr>\n",
       "    <tr>\n",
       "      <th>71</th>\n",
       "      <td>57</td>\n",
       "      <td>1-methyl-4-benzoylpyridinium</td>\n",
       "      <td>C13H12NO</td>\n",
       "      <td>1.0</td>\n",
       "      <td>electron acceptor</td>\n",
       "      <td>pyridinium</td>\n",
       "      <td>75</td>\n",
       "      <td>-0.85</td>\n",
       "      <td>Ag|AgCl</td>\n",
       "      <td>NaCl</td>\n",
       "      <td>aqueous</td>\n",
       "      <td>7.0</td>\n",
       "      <td>0.0</td>\n",
       "      <td>1.0</td>\n",
       "      <td>0.0</td>\n",
       "      <td>0.0</td>\n",
       "      <td>DOI: 10.1021/acs.jpcc.7b06247</td>\n",
       "      <td>1</td>\n",
       "    </tr>\n",
       "  </tbody>\n",
       "</table>\n",
       "<p>71 rows × 18 columns</p>\n",
       "</div>"
      ],
      "text/plain": [
       "    compound_id                                               name  \\\n",
       "0             1                                      triethylamine   \n",
       "1             2                                    triethanolamine   \n",
       "31            4                       4-dimethylaminotoluene (DMT)   \n",
       "4             5         1,3-dimethyl-2-phenylbenzimidazoline (BIH)   \n",
       "50            5         1,3-dimethyl-2-phenylbenzimidazoline (BIH)   \n",
       "..          ...                                                ...   \n",
       "65           53               1,1,2,2-tetrapiperidinoethene (TPiE)   \n",
       "66           54  4-(1,2,2-trimorpholin-4-ylethene)morpholine (TME)   \n",
       "67           55            tetrakis(N-pyrrolidinyl)ethylene (TPyE)   \n",
       "68           56   1-[1,2,2-tris(azepan-1-yl)ethenyl]azepane (TAzE)   \n",
       "71           57                       1-methyl-4-benzoylpyridinium   \n",
       "\n",
       "           formula  recyclable               type compound_family  id  \\\n",
       "0         (C2H5)3N         0.0     electron donor           amine   1   \n",
       "1     (HOCH2CH2)3N         0.0     electron donor           amine   2   \n",
       "31  CH3C6H4N(CH3)2         0.0     electron donor           amine  32   \n",
       "4         C15H16N2         0.0     electron donor   benzimidazole   5   \n",
       "50        C15H16N2         0.0     electron donor   benzimidazole  51   \n",
       "..             ...         ...                ...             ...  ..   \n",
       "65        C22H40N4         0.0     electron donor           amine  69   \n",
       "66      C18H32N4O4         0.0     electron donor           amine  70   \n",
       "67        C18H32N4         0.0     electron donor           amine  71   \n",
       "68        C26H48N4         0.0     electron donor           amine  72   \n",
       "71        C13H12NO         1.0  electron acceptor      pyridinium  75   \n",
       "\n",
       "    redox_potential_V reference_electrode           electrolyte       solvent  \\\n",
       "0                0.69                 SCE                               water   \n",
       "1                1.07                 NHE  pH7 phosphate buffer         water   \n",
       "31               0.70                 SCE               TBAClO4          MeCN   \n",
       "4                0.33                 SCE              Et4NClO4  acetonitrile   \n",
       "50              -0.44              Fc/Fc+                                DMSO   \n",
       "..                ...                 ...                   ...           ...   \n",
       "65              -1.06              Fc/Fc+                TBAPF6           DMF   \n",
       "66              -0.85              Fc/Fc+                TBAPF6           DMF   \n",
       "67              -1.32              Fc/Fc+                TBAPF6           DMF   \n",
       "68              -1.09              Fc/Fc+                TBAPF6           DMF   \n",
       "71              -0.85             Ag|AgCl                  NaCl       aqueous   \n",
       "\n",
       "     pH  used_in_photocat  used_in_rfbs  used_as_hcarrier  used_in_DSSC  \\\n",
       "0   NaN               1.0           0.0               0.0           0.0   \n",
       "1   7.0               1.0           0.0               0.0           0.0   \n",
       "31  NaN               1.0           0.0               0.0           0.0   \n",
       "4   NaN               1.0           0.0               0.0           0.0   \n",
       "50  NaN               1.0           0.0               0.0           0.0   \n",
       "..  ...               ...           ...               ...           ...   \n",
       "65  NaN               0.0           0.0               0.0           0.0   \n",
       "66  NaN               0.0           0.0               0.0           0.0   \n",
       "67  NaN               0.0           0.0               0.0           0.0   \n",
       "68  NaN               0.0           0.0               0.0           0.0   \n",
       "71  7.0               0.0           1.0               0.0           0.0   \n",
       "\n",
       "                                  measurement_ref  aqueous  \n",
       "0      https://doi.org/10.1016/j.crci.2015.11.026        1  \n",
       "1              https://doi.org/10.1039/c3cp55023k        1  \n",
       "31  https://doi.org/10.1016/S0022-0728(70)80304-7        0  \n",
       "4                   doi:10.1016/j.tet.2006.03.061        0  \n",
       "50                        DOI: 10.1039/C9CC00928K        0  \n",
       "..                                            ...      ...  \n",
       "65                      DOI: 10.1021/jacs.1c10932        0  \n",
       "66                      DOI: 10.1021/jacs.1c10932        0  \n",
       "67                      DOI: 10.1021/jacs.1c10932        0  \n",
       "68                      DOI: 10.1021/jacs.1c10932        0  \n",
       "71                  DOI: 10.1021/acs.jpcc.7b06247        1  \n",
       "\n",
       "[71 rows x 18 columns]"
      ]
     },
     "metadata": {},
     "output_type": "display_data"
    }
   ],
   "source": [
    "display(combined_table.sort_values('compound_id'))"
   ]
  },
  {
   "cell_type": "code",
   "execution_count": 203,
   "id": "5573233f-7899-4839-8a26-78331e9167df",
   "metadata": {
    "tags": []
   },
   "outputs": [],
   "source": [
    "# converting potentials to vs. SCE for aqueous measurments\n",
    "combined_table.loc[combined_table.aqueous==1,:] = combined_table.loc[combined_table.aqueous==1,:].apply(lambda row: aqueous_potentials_to_SCE(row), axis=1)\n",
    "# converting potentials to vs. Fc/Fc+ for nonaqueous measurments\n",
    "combined_table.loc[combined_table.aqueous!=1,:] = combined_table.loc[combined_table.aqueous!=1,:].apply(lambda row: nonaqueous_potentials_to_Fc(row), axis=1)"
   ]
  },
  {
   "cell_type": "code",
   "execution_count": 204,
   "id": "7261a98f-3863-4b11-aa94-5794094320f1",
   "metadata": {
    "tags": []
   },
   "outputs": [],
   "source": [
    "# split photosensitizers into a different table\n",
    "ps_table = combined_table.loc[combined_table.type=='photosensitizer', :].copy(deep=True)\n",
    "rsd_table = combined_table.loc[combined_table.type!='photosensitizer', :].copy(deep=True)"
   ]
  },
  {
   "cell_type": "code",
   "execution_count": 205,
   "id": "a657dd88-59a4-49d4-8782-1ae76e13a101",
   "metadata": {
    "tags": []
   },
   "outputs": [
    {
     "data": {
      "text/html": [
       "<div>\n",
       "<style scoped>\n",
       "    .dataframe tbody tr th:only-of-type {\n",
       "        vertical-align: middle;\n",
       "    }\n",
       "\n",
       "    .dataframe tbody tr th {\n",
       "        vertical-align: top;\n",
       "    }\n",
       "\n",
       "    .dataframe thead th {\n",
       "        text-align: right;\n",
       "    }\n",
       "</style>\n",
       "<table border=\"1\" class=\"dataframe\">\n",
       "  <thead>\n",
       "    <tr style=\"text-align: right;\">\n",
       "      <th></th>\n",
       "      <th></th>\n",
       "      <th></th>\n",
       "      <th></th>\n",
       "      <th></th>\n",
       "      <th></th>\n",
       "      <th>compound_id</th>\n",
       "    </tr>\n",
       "    <tr>\n",
       "      <th>aqueous</th>\n",
       "      <th>compound_family</th>\n",
       "      <th>used_in_photocat</th>\n",
       "      <th>used_in_rfbs</th>\n",
       "      <th>used_as_hcarrier</th>\n",
       "      <th>used_in_DSSC</th>\n",
       "      <th></th>\n",
       "    </tr>\n",
       "  </thead>\n",
       "  <tbody>\n",
       "    <tr>\n",
       "      <th rowspan=\"11\" valign=\"top\">0</th>\n",
       "      <th>acridine</th>\n",
       "      <th>1.0</th>\n",
       "      <th>0.0</th>\n",
       "      <th>0.0</th>\n",
       "      <th>0.0</th>\n",
       "      <td>1</td>\n",
       "    </tr>\n",
       "    <tr>\n",
       "      <th rowspan=\"3\" valign=\"top\">amine</th>\n",
       "      <th rowspan=\"2\" valign=\"top\">0.0</th>\n",
       "      <th rowspan=\"2\" valign=\"top\">0.0</th>\n",
       "      <th>0.0</th>\n",
       "      <th>0.0</th>\n",
       "      <td>5</td>\n",
       "    </tr>\n",
       "    <tr>\n",
       "      <th>1.0</th>\n",
       "      <th>0.0</th>\n",
       "      <td>1</td>\n",
       "    </tr>\n",
       "    <tr>\n",
       "      <th>1.0</th>\n",
       "      <th>0.0</th>\n",
       "      <th>0.0</th>\n",
       "      <th>0.0</th>\n",
       "      <td>2</td>\n",
       "    </tr>\n",
       "    <tr>\n",
       "      <th>benzimidazole</th>\n",
       "      <th>1.0</th>\n",
       "      <th>0.0</th>\n",
       "      <th>0.0</th>\n",
       "      <th>0.0</th>\n",
       "      <td>9</td>\n",
       "    </tr>\n",
       "    <tr>\n",
       "      <th>dialkoxybenzene</th>\n",
       "      <th>0.0</th>\n",
       "      <th>1.0</th>\n",
       "      <th>0.0</th>\n",
       "      <th>0.0</th>\n",
       "      <td>3</td>\n",
       "    </tr>\n",
       "    <tr>\n",
       "      <th>dialkylquinoxaline</th>\n",
       "      <th>0.0</th>\n",
       "      <th>1.0</th>\n",
       "      <th>0.0</th>\n",
       "      <th>0.0</th>\n",
       "      <td>1</td>\n",
       "    </tr>\n",
       "    <tr>\n",
       "      <th rowspan=\"2\" valign=\"top\">disulfide forming</th>\n",
       "      <th>0.0</th>\n",
       "      <th>0.0</th>\n",
       "      <th>0.0</th>\n",
       "      <th>1.0</th>\n",
       "      <td>5</td>\n",
       "    </tr>\n",
       "    <tr>\n",
       "      <th>1.0</th>\n",
       "      <th>0.0</th>\n",
       "      <th>0.0</th>\n",
       "      <th>0.0</th>\n",
       "      <td>3</td>\n",
       "    </tr>\n",
       "    <tr>\n",
       "      <th>quinone</th>\n",
       "      <th>0.0</th>\n",
       "      <th>0.0</th>\n",
       "      <th>1.0</th>\n",
       "      <th>0.0</th>\n",
       "      <td>1</td>\n",
       "    </tr>\n",
       "    <tr>\n",
       "      <th>viologen</th>\n",
       "      <th>0.0</th>\n",
       "      <th>1.0</th>\n",
       "      <th>0.0</th>\n",
       "      <th>0.0</th>\n",
       "      <td>1</td>\n",
       "    </tr>\n",
       "    <tr>\n",
       "      <th rowspan=\"8\" valign=\"top\">1</th>\n",
       "      <th>R-NADH</th>\n",
       "      <th>1.0</th>\n",
       "      <th>0.0</th>\n",
       "      <th>0.0</th>\n",
       "      <th>0.0</th>\n",
       "      <td>2</td>\n",
       "    </tr>\n",
       "    <tr>\n",
       "      <th>TEMPO</th>\n",
       "      <th>0.0</th>\n",
       "      <th>1.0</th>\n",
       "      <th>0.0</th>\n",
       "      <th>0.0</th>\n",
       "      <td>2</td>\n",
       "    </tr>\n",
       "    <tr>\n",
       "      <th>amine</th>\n",
       "      <th>1.0</th>\n",
       "      <th>0.0</th>\n",
       "      <th>0.0</th>\n",
       "      <th>0.0</th>\n",
       "      <td>3</td>\n",
       "    </tr>\n",
       "    <tr>\n",
       "      <th>ferrocene</th>\n",
       "      <th>0.0</th>\n",
       "      <th>1.0</th>\n",
       "      <th>0.0</th>\n",
       "      <th>0.0</th>\n",
       "      <td>3</td>\n",
       "    </tr>\n",
       "    <tr>\n",
       "      <th rowspan=\"2\" valign=\"top\">hydroquinone</th>\n",
       "      <th rowspan=\"2\" valign=\"top\">0.0</th>\n",
       "      <th>0.0</th>\n",
       "      <th>1.0</th>\n",
       "      <th>0.0</th>\n",
       "      <td>2</td>\n",
       "    </tr>\n",
       "    <tr>\n",
       "      <th>1.0</th>\n",
       "      <th>1.0</th>\n",
       "      <th>0.0</th>\n",
       "      <td>1</td>\n",
       "    </tr>\n",
       "    <tr>\n",
       "      <th>pyridinium</th>\n",
       "      <th>0.0</th>\n",
       "      <th>1.0</th>\n",
       "      <th>0.0</th>\n",
       "      <th>0.0</th>\n",
       "      <td>1</td>\n",
       "    </tr>\n",
       "    <tr>\n",
       "      <th>viologen</th>\n",
       "      <th>0.0</th>\n",
       "      <th>1.0</th>\n",
       "      <th>0.0</th>\n",
       "      <th>0.0</th>\n",
       "      <td>3</td>\n",
       "    </tr>\n",
       "  </tbody>\n",
       "</table>\n",
       "</div>"
      ],
      "text/plain": [
       "                                                                                        compound_id\n",
       "aqueous compound_family    used_in_photocat used_in_rfbs used_as_hcarrier used_in_DSSC             \n",
       "0       acridine           1.0              0.0          0.0              0.0                     1\n",
       "        amine              0.0              0.0          0.0              0.0                     5\n",
       "                                                         1.0              0.0                     1\n",
       "                           1.0              0.0          0.0              0.0                     2\n",
       "        benzimidazole      1.0              0.0          0.0              0.0                     9\n",
       "        dialkoxybenzene    0.0              1.0          0.0              0.0                     3\n",
       "        dialkylquinoxaline 0.0              1.0          0.0              0.0                     1\n",
       "        disulfide forming  0.0              0.0          0.0              1.0                     5\n",
       "                           1.0              0.0          0.0              0.0                     3\n",
       "        quinone            0.0              0.0          1.0              0.0                     1\n",
       "        viologen           0.0              1.0          0.0              0.0                     1\n",
       "1       R-NADH             1.0              0.0          0.0              0.0                     2\n",
       "        TEMPO              0.0              1.0          0.0              0.0                     2\n",
       "        amine              1.0              0.0          0.0              0.0                     3\n",
       "        ferrocene          0.0              1.0          0.0              0.0                     3\n",
       "        hydroquinone       0.0              0.0          1.0              0.0                     2\n",
       "                                            1.0          1.0              0.0                     1\n",
       "        pyridinium         0.0              1.0          0.0              0.0                     1\n",
       "        viologen           0.0              1.0          0.0              0.0                     3"
      ]
     },
     "metadata": {},
     "output_type": "display_data"
    }
   ],
   "source": [
    "display(rsd_table[['compound_family', 'compound_id', 'aqueous', 'used_in_photocat', 'used_in_rfbs', 'used_as_hcarrier', 'used_in_DSSC']].groupby(['aqueous', 'compound_family','used_in_photocat', 'used_in_rfbs', 'used_as_hcarrier', 'used_in_DSSC']).nunique())"
   ]
  },
  {
   "cell_type": "code",
   "execution_count": 206,
   "id": "b9e4680b-fdb8-40d2-9203-a4d5d7cefc56",
   "metadata": {},
   "outputs": [],
   "source": [
    "def label_function(row):\n",
    "    label_tuple = (row.at['used_in_photocat'], row.at['recyclable'], row.at['used_in_rfbs'], row.at['used_as_hcarrier'], row.at['used_in_DSSC'])\n",
    "    match label_tuple:\n",
    "        case (1, 1, 0, 0, 0):\n",
    "            label_text = 'recyclable donor'\n",
    "        case (1, 0, 0, 0, _):\n",
    "            label_text = 'sacrificial donor'\n",
    "        case (0, _, 1, 0, 0):\n",
    "            label_text = 'RFB redox couple'\n",
    "        case (0, _, _, 1, _):\n",
    "            label_text = 'hydrogen carrier'\n",
    "        case (0, _, 0, 0, 1):\n",
    "            label_text = 'DSSC redox couple'\n",
    "        case _:\n",
    "            label_text = 'other source'\n",
    "    row.at['label'] = label_text\n",
    "    return row"
   ]
  },
  {
   "cell_type": "code",
   "execution_count": 207,
   "id": "a90cb4e0-4127-44f4-bd6d-109d0778a8d6",
   "metadata": {},
   "outputs": [],
   "source": [
    "rsd_table['label'] = ''\n",
    "rsd_table = rsd_table.apply(lambda row: label_function(row), axis=1)"
   ]
  },
  {
   "cell_type": "code",
   "execution_count": 208,
   "id": "6baccdf3-5d64-4087-9d59-d70036dfca7a",
   "metadata": {
    "tags": []
   },
   "outputs": [
    {
     "data": {
      "text/plain": [
       "array(['sacrificial donor', 'recyclable donor', 'RFB redox couple',\n",
       "       'hydrogen carrier', 'other source', 'DSSC redox couple'],\n",
       "      dtype=object)"
      ]
     },
     "execution_count": 208,
     "metadata": {},
     "output_type": "execute_result"
    }
   ],
   "source": [
    "rsd_table.label.unique()"
   ]
  },
  {
   "cell_type": "code",
   "execution_count": 209,
   "id": "7af0bb4b-926a-4ef8-808b-8a4e1ac2a93c",
   "metadata": {
    "tags": []
   },
   "outputs": [],
   "source": [
    "ps_table['redox_event'] = ''\n",
    "ps_table.loc[ps_table.id.isin([33, 48]), 'redox_event'] = 'Ered'\n",
    "ps_table.loc[ps_table.id.isin([34, 50, 55, 42]), 'redox_event'] = 'Ered*'\n",
    "ps_table.loc[ps_table.id.isin([35, 47, 54, 39]), 'redox_event'] = 'Eox'\n",
    "ps_table.loc[ps_table.id.isin([36, 49, 56]), 'redox_event'] = 'Eox*'\n",
    "#display(ps_table)"
   ]
  },
  {
   "cell_type": "code",
   "execution_count": 210,
   "id": "7af5b0d8",
   "metadata": {},
   "outputs": [],
   "source": [
    "# function for assigning plot markers and colours\n",
    "def marker_array_generator(labels_array, marker_dict):\n",
    "    marker_array = []\n",
    "    for lbl in labels_array:\n",
    "        marker_array.append(marker_dict[lbl])\n",
    "    return marker_array\n",
    "symbol_dict = {'sacrificial donor': 100, 'recyclable donor': 2, '':102, 'RFB redox couple': 0, 'hydrogen carrier': 4, 'DSSC redox couple': 1, 'other source':102}\n",
    "color_dict = {'sacrificial donor': '#2E4F4F', 'recyclable donor': '#FC4F00', '':'#0A4D68', 'RFB redox couple': '#B71375', 'hydrogen carrier': '#088395', 'DSSC redox couple': '#00FFCA', 'other source':'#0A4D68'}\n",
    "#'#05BFDB'"
   ]
  },
  {
   "cell_type": "code",
   "execution_count": 211,
   "id": "dfd570f3-2341-470e-97b6-82205b95573e",
   "metadata": {
    "tags": []
   },
   "outputs": [
    {
     "data": {
      "application/vnd.plotly.v1+json": {
       "config": {
        "plotlyServerURL": "https://plot.ly"
       },
       "data": [
        {
         "hovertemplate": "%{text}<br>%{y:.2f} V vs. SCE",
         "marker": {
          "color": [
           "#2E4F4F",
           "#2E4F4F",
           "#2E4F4F"
          ],
          "size": 8,
          "symbol": [
           100,
           100,
           100
          ]
         },
         "mode": "markers",
         "name": "sacrificial donor",
         "showlegend": true,
         "text": [
          "Compound 1: triethylamine",
          "Compound 2: triethanolamine",
          "Compound 9: ethylenediaminetetraacetic acid (EDTA)"
         ],
         "type": "scatter",
         "x": [
          "amine",
          "amine",
          "amine"
         ],
         "y": [
          0.69,
          1.312,
          1.412
         ]
        },
        {
         "hovertemplate": "%{text}<br>%{y:.2f} V vs. SCE",
         "marker": {
          "color": [
           "#FC4F00",
           "#FC4F00"
          ],
          "size": 8,
          "symbol": [
           2,
           2
          ]
         },
         "mode": "markers",
         "name": "recyclable donor",
         "showlegend": true,
         "text": [
          "Compound 10: dihydronicotinamide adenine dinucleotide (NADH)",
          "Compound 51: 1-Benzyl-1,4-dihydronicotinamide (BNAH)"
         ],
         "type": "scatter",
         "x": [
          "R-NADH",
          "R-NADH"
         ],
         "y": [
          0.902,
          1.317
         ]
        },
        {
         "hovertemplate": "%{text}<br>%{y:.2f} V vs. SCE",
         "marker": {
          "color": [
           "#B71375",
           "#B71375",
           "#B71375",
           "#B71375",
           "#B71375",
           "#B71375",
           "#B71375",
           "#B71375",
           "#B71375"
          ],
          "size": 8,
          "symbol": [
           0,
           0,
           0,
           0,
           0,
           0,
           0,
           0,
           0
          ]
         },
         "mode": "markers",
         "name": "RFB redox couple",
         "showlegend": true,
         "text": [
          "Compound 15: (ferrocenylmethyl)trimethylammonium chloride (FcNCl)",
          "Compound 16: N1-ferrocenylmethyl-N1,N1,N2,N2,N2-pentamethylpropane-1,2-diaminium dibromide (FcN2Br2)",
          "Compound 18:  (dimethylaminomethyl)ferrocene (FcN)",
          "Compound 24: methylviologen dichloride (MVCl2)",
          "Compound 25: N,N’-dicarbamido-4,4’-bipyridinium dichloride",
          "Compound 26: N,N’-bis(carboxyethyl)-4,4’-bipyridinium dichloride",
          "Compound 27: N,N,N,2,2,6,6-heptamethylpiperidinyloxy-4-ammonium chloride (TEMPTMA)",
          "Compound 28: TEMPOL",
          "Compound 57: 1-methyl-4-benzoylpyridinium"
         ],
         "type": "scatter",
         "x": [
          "ferrocene",
          "ferrocene",
          "ferrocene",
          "viologen",
          "viologen",
          "viologen",
          "TEMPO",
          "TEMPO",
          "pyridinium"
         ],
         "y": [
          0.852,
          0.852,
          0.642,
          -0.585,
          -0.41500000000000004,
          -0.48500000000000004,
          0.8350000000000001,
          0.685,
          -0.8049999999999999
         ]
        },
        {
         "hovertemplate": "%{text}<br>%{y:.2f} V vs. SCE",
         "marker": {
          "color": [
           "#088395",
           "#088395",
           "#088395"
          ],
          "size": 8,
          "symbol": [
           4,
           4,
           4
          ]
         },
         "mode": "markers",
         "name": "hydrogen carrier",
         "showlegend": true,
         "text": [
          "Compound 22:  2,7-anthraquinonedisulfonic acid (AQDS)",
          "Compound 23: potassium 2,5-hydroxybenzenesulfonate (potassium hydroquinone sulfonate)",
          "Compound 34:  2,3-Dichloro-5,6-dicyano-1,4-benzoquinone (DDQ)"
         ],
         "type": "scatter",
         "x": [
          "hydroquinone",
          "hydroquinone",
          "hydroquinone"
         ],
         "y": [
          0.45599999999999996,
          0.892,
          1.1680000000000001
         ]
        },
        {
         "mode": "text",
         "name": "Text",
         "showlegend": false,
         "text": [
          "RFB anolytes"
         ],
         "textposition": "middle right",
         "type": "scatter",
         "x": [
          "viologen"
         ],
         "y": [
          -0.05
         ]
        },
        {
         "mode": "text",
         "name": "Text",
         "showlegend": false,
         "text": [
          "RFB catholytes"
         ],
         "textposition": "top right",
         "type": "scatter",
         "x": [
          "ferrocene"
         ],
         "y": [
          0.47
         ]
        }
       ],
       "layout": {
        "annotations": [
         {
          "showarrow": false,
          "text": "[Ru(bpy)3] Ered*",
          "x": 0,
          "xanchor": "left",
          "xref": "x domain",
          "y": 1.0819999999999999,
          "yanchor": "top",
          "yref": "y"
         },
         {
          "showarrow": false,
          "text": "[Ru(bpy)3] Eox",
          "x": 0,
          "xanchor": "left",
          "xref": "x domain",
          "y": 1.502,
          "yanchor": "top",
          "yref": "y"
         },
         {
          "showarrow": true,
          "text": "0.0",
          "x": "hydroquinone",
          "y": 0.45599999999999996
         },
         {
          "showarrow": true,
          "text": "0.7",
          "x": "hydroquinone",
          "y": 0.892
         }
        ],
        "font": {
         "family": "Arial",
         "size": 12
        },
        "height": 600,
        "legend": {
         "title": {
          "text": ""
         }
        },
        "shapes": [
         {
          "line": {
           "color": "grey",
           "dash": "dot"
          },
          "type": "line",
          "x0": 0,
          "x1": 1,
          "xref": "x domain",
          "y0": 1.0819999999999999,
          "y1": 1.0819999999999999,
          "yref": "y"
         },
         {
          "line": {
           "color": "grey",
           "dash": "dot"
          },
          "type": "line",
          "x0": 0,
          "x1": 1,
          "xref": "x domain",
          "y0": 1.502,
          "y1": 1.502,
          "yref": "y"
         },
         {
          "line": {
           "color": "grey",
           "width": 2
          },
          "type": "rect",
          "x0": 0.76,
          "x1": 0.96,
          "xref": "paper",
          "y0": 0.72,
          "y1": 0.97,
          "yref": "paper"
         },
         {
          "line": {
           "color": "grey",
           "width": 2
          },
          "type": "rect",
          "x0": 0.48,
          "x1": 0.68,
          "xref": "paper",
          "y0": 0.35,
          "y1": 0.5,
          "yref": "paper"
         }
        ],
        "template": {
         "data": {
          "bar": [
           {
            "error_x": {
             "color": "#2a3f5f"
            },
            "error_y": {
             "color": "#2a3f5f"
            },
            "marker": {
             "line": {
              "color": "white",
              "width": 0.5
             },
             "pattern": {
              "fillmode": "overlay",
              "size": 10,
              "solidity": 0.2
             }
            },
            "type": "bar"
           }
          ],
          "barpolar": [
           {
            "marker": {
             "line": {
              "color": "white",
              "width": 0.5
             },
             "pattern": {
              "fillmode": "overlay",
              "size": 10,
              "solidity": 0.2
             }
            },
            "type": "barpolar"
           }
          ],
          "carpet": [
           {
            "aaxis": {
             "endlinecolor": "#2a3f5f",
             "gridcolor": "#C8D4E3",
             "linecolor": "#C8D4E3",
             "minorgridcolor": "#C8D4E3",
             "startlinecolor": "#2a3f5f"
            },
            "baxis": {
             "endlinecolor": "#2a3f5f",
             "gridcolor": "#C8D4E3",
             "linecolor": "#C8D4E3",
             "minorgridcolor": "#C8D4E3",
             "startlinecolor": "#2a3f5f"
            },
            "type": "carpet"
           }
          ],
          "choropleth": [
           {
            "colorbar": {
             "outlinewidth": 0,
             "ticks": ""
            },
            "type": "choropleth"
           }
          ],
          "contour": [
           {
            "colorbar": {
             "outlinewidth": 0,
             "ticks": ""
            },
            "colorscale": [
             [
              0,
              "#0d0887"
             ],
             [
              0.1111111111111111,
              "#46039f"
             ],
             [
              0.2222222222222222,
              "#7201a8"
             ],
             [
              0.3333333333333333,
              "#9c179e"
             ],
             [
              0.4444444444444444,
              "#bd3786"
             ],
             [
              0.5555555555555556,
              "#d8576b"
             ],
             [
              0.6666666666666666,
              "#ed7953"
             ],
             [
              0.7777777777777778,
              "#fb9f3a"
             ],
             [
              0.8888888888888888,
              "#fdca26"
             ],
             [
              1,
              "#f0f921"
             ]
            ],
            "type": "contour"
           }
          ],
          "contourcarpet": [
           {
            "colorbar": {
             "outlinewidth": 0,
             "ticks": ""
            },
            "type": "contourcarpet"
           }
          ],
          "heatmap": [
           {
            "colorbar": {
             "outlinewidth": 0,
             "ticks": ""
            },
            "colorscale": [
             [
              0,
              "#0d0887"
             ],
             [
              0.1111111111111111,
              "#46039f"
             ],
             [
              0.2222222222222222,
              "#7201a8"
             ],
             [
              0.3333333333333333,
              "#9c179e"
             ],
             [
              0.4444444444444444,
              "#bd3786"
             ],
             [
              0.5555555555555556,
              "#d8576b"
             ],
             [
              0.6666666666666666,
              "#ed7953"
             ],
             [
              0.7777777777777778,
              "#fb9f3a"
             ],
             [
              0.8888888888888888,
              "#fdca26"
             ],
             [
              1,
              "#f0f921"
             ]
            ],
            "type": "heatmap"
           }
          ],
          "heatmapgl": [
           {
            "colorbar": {
             "outlinewidth": 0,
             "ticks": ""
            },
            "colorscale": [
             [
              0,
              "#0d0887"
             ],
             [
              0.1111111111111111,
              "#46039f"
             ],
             [
              0.2222222222222222,
              "#7201a8"
             ],
             [
              0.3333333333333333,
              "#9c179e"
             ],
             [
              0.4444444444444444,
              "#bd3786"
             ],
             [
              0.5555555555555556,
              "#d8576b"
             ],
             [
              0.6666666666666666,
              "#ed7953"
             ],
             [
              0.7777777777777778,
              "#fb9f3a"
             ],
             [
              0.8888888888888888,
              "#fdca26"
             ],
             [
              1,
              "#f0f921"
             ]
            ],
            "type": "heatmapgl"
           }
          ],
          "histogram": [
           {
            "marker": {
             "pattern": {
              "fillmode": "overlay",
              "size": 10,
              "solidity": 0.2
             }
            },
            "type": "histogram"
           }
          ],
          "histogram2d": [
           {
            "colorbar": {
             "outlinewidth": 0,
             "ticks": ""
            },
            "colorscale": [
             [
              0,
              "#0d0887"
             ],
             [
              0.1111111111111111,
              "#46039f"
             ],
             [
              0.2222222222222222,
              "#7201a8"
             ],
             [
              0.3333333333333333,
              "#9c179e"
             ],
             [
              0.4444444444444444,
              "#bd3786"
             ],
             [
              0.5555555555555556,
              "#d8576b"
             ],
             [
              0.6666666666666666,
              "#ed7953"
             ],
             [
              0.7777777777777778,
              "#fb9f3a"
             ],
             [
              0.8888888888888888,
              "#fdca26"
             ],
             [
              1,
              "#f0f921"
             ]
            ],
            "type": "histogram2d"
           }
          ],
          "histogram2dcontour": [
           {
            "colorbar": {
             "outlinewidth": 0,
             "ticks": ""
            },
            "colorscale": [
             [
              0,
              "#0d0887"
             ],
             [
              0.1111111111111111,
              "#46039f"
             ],
             [
              0.2222222222222222,
              "#7201a8"
             ],
             [
              0.3333333333333333,
              "#9c179e"
             ],
             [
              0.4444444444444444,
              "#bd3786"
             ],
             [
              0.5555555555555556,
              "#d8576b"
             ],
             [
              0.6666666666666666,
              "#ed7953"
             ],
             [
              0.7777777777777778,
              "#fb9f3a"
             ],
             [
              0.8888888888888888,
              "#fdca26"
             ],
             [
              1,
              "#f0f921"
             ]
            ],
            "type": "histogram2dcontour"
           }
          ],
          "mesh3d": [
           {
            "colorbar": {
             "outlinewidth": 0,
             "ticks": ""
            },
            "type": "mesh3d"
           }
          ],
          "parcoords": [
           {
            "line": {
             "colorbar": {
              "outlinewidth": 0,
              "ticks": ""
             }
            },
            "type": "parcoords"
           }
          ],
          "pie": [
           {
            "automargin": true,
            "type": "pie"
           }
          ],
          "scatter": [
           {
            "fillpattern": {
             "fillmode": "overlay",
             "size": 10,
             "solidity": 0.2
            },
            "type": "scatter"
           }
          ],
          "scatter3d": [
           {
            "line": {
             "colorbar": {
              "outlinewidth": 0,
              "ticks": ""
             }
            },
            "marker": {
             "colorbar": {
              "outlinewidth": 0,
              "ticks": ""
             }
            },
            "type": "scatter3d"
           }
          ],
          "scattercarpet": [
           {
            "marker": {
             "colorbar": {
              "outlinewidth": 0,
              "ticks": ""
             }
            },
            "type": "scattercarpet"
           }
          ],
          "scattergeo": [
           {
            "marker": {
             "colorbar": {
              "outlinewidth": 0,
              "ticks": ""
             }
            },
            "type": "scattergeo"
           }
          ],
          "scattergl": [
           {
            "marker": {
             "colorbar": {
              "outlinewidth": 0,
              "ticks": ""
             }
            },
            "type": "scattergl"
           }
          ],
          "scattermapbox": [
           {
            "marker": {
             "colorbar": {
              "outlinewidth": 0,
              "ticks": ""
             }
            },
            "type": "scattermapbox"
           }
          ],
          "scatterpolar": [
           {
            "marker": {
             "colorbar": {
              "outlinewidth": 0,
              "ticks": ""
             }
            },
            "type": "scatterpolar"
           }
          ],
          "scatterpolargl": [
           {
            "marker": {
             "colorbar": {
              "outlinewidth": 0,
              "ticks": ""
             }
            },
            "type": "scatterpolargl"
           }
          ],
          "scatterternary": [
           {
            "marker": {
             "colorbar": {
              "outlinewidth": 0,
              "ticks": ""
             }
            },
            "type": "scatterternary"
           }
          ],
          "surface": [
           {
            "colorbar": {
             "outlinewidth": 0,
             "ticks": ""
            },
            "colorscale": [
             [
              0,
              "#0d0887"
             ],
             [
              0.1111111111111111,
              "#46039f"
             ],
             [
              0.2222222222222222,
              "#7201a8"
             ],
             [
              0.3333333333333333,
              "#9c179e"
             ],
             [
              0.4444444444444444,
              "#bd3786"
             ],
             [
              0.5555555555555556,
              "#d8576b"
             ],
             [
              0.6666666666666666,
              "#ed7953"
             ],
             [
              0.7777777777777778,
              "#fb9f3a"
             ],
             [
              0.8888888888888888,
              "#fdca26"
             ],
             [
              1,
              "#f0f921"
             ]
            ],
            "type": "surface"
           }
          ],
          "table": [
           {
            "cells": {
             "fill": {
              "color": "#EBF0F8"
             },
             "line": {
              "color": "white"
             }
            },
            "header": {
             "fill": {
              "color": "#C8D4E3"
             },
             "line": {
              "color": "white"
             }
            },
            "type": "table"
           }
          ]
         },
         "layout": {
          "annotationdefaults": {
           "arrowcolor": "#2a3f5f",
           "arrowhead": 0,
           "arrowwidth": 1
          },
          "autotypenumbers": "strict",
          "coloraxis": {
           "colorbar": {
            "outlinewidth": 0,
            "ticks": ""
           }
          },
          "colorscale": {
           "diverging": [
            [
             0,
             "#8e0152"
            ],
            [
             0.1,
             "#c51b7d"
            ],
            [
             0.2,
             "#de77ae"
            ],
            [
             0.3,
             "#f1b6da"
            ],
            [
             0.4,
             "#fde0ef"
            ],
            [
             0.5,
             "#f7f7f7"
            ],
            [
             0.6,
             "#e6f5d0"
            ],
            [
             0.7,
             "#b8e186"
            ],
            [
             0.8,
             "#7fbc41"
            ],
            [
             0.9,
             "#4d9221"
            ],
            [
             1,
             "#276419"
            ]
           ],
           "sequential": [
            [
             0,
             "#0d0887"
            ],
            [
             0.1111111111111111,
             "#46039f"
            ],
            [
             0.2222222222222222,
             "#7201a8"
            ],
            [
             0.3333333333333333,
             "#9c179e"
            ],
            [
             0.4444444444444444,
             "#bd3786"
            ],
            [
             0.5555555555555556,
             "#d8576b"
            ],
            [
             0.6666666666666666,
             "#ed7953"
            ],
            [
             0.7777777777777778,
             "#fb9f3a"
            ],
            [
             0.8888888888888888,
             "#fdca26"
            ],
            [
             1,
             "#f0f921"
            ]
           ],
           "sequentialminus": [
            [
             0,
             "#0d0887"
            ],
            [
             0.1111111111111111,
             "#46039f"
            ],
            [
             0.2222222222222222,
             "#7201a8"
            ],
            [
             0.3333333333333333,
             "#9c179e"
            ],
            [
             0.4444444444444444,
             "#bd3786"
            ],
            [
             0.5555555555555556,
             "#d8576b"
            ],
            [
             0.6666666666666666,
             "#ed7953"
            ],
            [
             0.7777777777777778,
             "#fb9f3a"
            ],
            [
             0.8888888888888888,
             "#fdca26"
            ],
            [
             1,
             "#f0f921"
            ]
           ]
          },
          "colorway": [
           "#636efa",
           "#EF553B",
           "#00cc96",
           "#ab63fa",
           "#FFA15A",
           "#19d3f3",
           "#FF6692",
           "#B6E880",
           "#FF97FF",
           "#FECB52"
          ],
          "font": {
           "color": "#2a3f5f"
          },
          "geo": {
           "bgcolor": "white",
           "lakecolor": "white",
           "landcolor": "white",
           "showlakes": true,
           "showland": true,
           "subunitcolor": "#C8D4E3"
          },
          "hoverlabel": {
           "align": "left"
          },
          "hovermode": "closest",
          "mapbox": {
           "style": "light"
          },
          "paper_bgcolor": "white",
          "plot_bgcolor": "white",
          "polar": {
           "angularaxis": {
            "gridcolor": "#EBF0F8",
            "linecolor": "#EBF0F8",
            "ticks": ""
           },
           "bgcolor": "white",
           "radialaxis": {
            "gridcolor": "#EBF0F8",
            "linecolor": "#EBF0F8",
            "ticks": ""
           }
          },
          "scene": {
           "xaxis": {
            "backgroundcolor": "white",
            "gridcolor": "#DFE8F3",
            "gridwidth": 2,
            "linecolor": "#EBF0F8",
            "showbackground": true,
            "ticks": "",
            "zerolinecolor": "#EBF0F8"
           },
           "yaxis": {
            "backgroundcolor": "white",
            "gridcolor": "#DFE8F3",
            "gridwidth": 2,
            "linecolor": "#EBF0F8",
            "showbackground": true,
            "ticks": "",
            "zerolinecolor": "#EBF0F8"
           },
           "zaxis": {
            "backgroundcolor": "white",
            "gridcolor": "#DFE8F3",
            "gridwidth": 2,
            "linecolor": "#EBF0F8",
            "showbackground": true,
            "ticks": "",
            "zerolinecolor": "#EBF0F8"
           }
          },
          "shapedefaults": {
           "line": {
            "color": "#2a3f5f"
           }
          },
          "ternary": {
           "aaxis": {
            "gridcolor": "#DFE8F3",
            "linecolor": "#A2B1C6",
            "ticks": ""
           },
           "baxis": {
            "gridcolor": "#DFE8F3",
            "linecolor": "#A2B1C6",
            "ticks": ""
           },
           "bgcolor": "white",
           "caxis": {
            "gridcolor": "#DFE8F3",
            "linecolor": "#A2B1C6",
            "ticks": ""
           }
          },
          "title": {
           "x": 0.05
          },
          "xaxis": {
           "automargin": true,
           "gridcolor": "#EBF0F8",
           "linecolor": "#EBF0F8",
           "ticks": "",
           "title": {
            "standoff": 15
           },
           "zerolinecolor": "#EBF0F8",
           "zerolinewidth": 2
          },
          "yaxis": {
           "automargin": true,
           "gridcolor": "#EBF0F8",
           "linecolor": "#EBF0F8",
           "ticks": "",
           "title": {
            "standoff": 15
           },
           "zerolinecolor": "#EBF0F8",
           "zerolinewidth": 2
          }
         }
        },
        "title": {
         "font": {
          "family": "Arial",
          "size": 16
         },
         "text": "aqueous media (mostly neutral pH)",
         "x": 0.1,
         "y": 0.82
        },
        "width": 900,
        "xaxis": {
         "categoryarray": [
          "R-NADH",
          "amine",
          "hydroquinone",
          "ferrocene",
          "TEMPO",
          "viologen",
          "pyridinium"
         ],
         "categoryorder": "array",
         "linecolor": "#283149",
         "mirror": true,
         "title": {
          "text": ""
         }
        },
        "yaxis": {
         "linecolor": "#283149",
         "mirror": true,
         "range": [
          2,
          -1
         ],
         "title": {
          "font": {
           "family": "Arial",
           "size": 16
          },
          "standoff": 8,
          "text": "Oxidation Potential vs. SCE"
         }
        }
       }
      }
     },
     "metadata": {},
     "output_type": "display_data"
    }
   ],
   "source": [
    "#-----------------------------------------------------------!plotcode\n",
    "# initiate plot\n",
    "aqueous = go.Figure()\n",
    "\n",
    "# make a trace per label\n",
    "# prepare variables\n",
    "compound_x = rsd_table.loc[rsd_table.aqueous==1,'compound_family'].unique().tolist()\n",
    "compound_labels = rsd_table.loc[rsd_table.aqueous==1,'label'].unique().tolist()\n",
    "for c_label in compound_labels:\n",
    "    x_var = rsd_table.loc[(rsd_table.aqueous==1) & (rsd_table.label==c_label),'compound_family']\n",
    "    y_var = rsd_table.loc[(rsd_table.aqueous==1) & (rsd_table.label==c_label),'redox_potential_V']\n",
    "    c_var = rsd_table.loc[(rsd_table.aqueous==1) & (rsd_table.label==c_label),'label']\n",
    "    \n",
    "    # list for holding hover label info\n",
    "    hover_text1 = zip(rsd_table.loc[(rsd_table.aqueous==1) & (rsd_table.label==c_label),'compound_id'].to_list(),\n",
    "                       rsd_table.loc[(rsd_table.aqueous==1) & (rsd_table.label==c_label),'name'].to_list())\n",
    "    hover_text1 = [f\"Compound {txt1}: {txt2}\" for (txt1, txt2) in hover_text1]\n",
    "\n",
    "    # make the trace\n",
    "    aqueous.add_trace(go.Scatter(\n",
    "        x= x_var, \n",
    "        y=y_var,\n",
    "        mode=\"markers\", \n",
    "        showlegend=True,\n",
    "        name=c_var.iat[0],\n",
    "        marker_symbol = marker_array_generator(c_var, symbol_dict), \n",
    "        marker_color = marker_array_generator(c_var, color_dict),\n",
    "        text = hover_text1,\n",
    "        hovertemplate=\"%{text}<br>\"+\"%{y:.2f} V vs. SCE\"\n",
    "                        ))\n",
    "\n",
    "# format axes, legend, title, and marker size\n",
    "aqueous.update_yaxes(title=dict(text='Oxidation Potential vs. SCE', font=dict(size=16, family='Arial'),),\n",
    "                        range=[2,-1], linecolor='#283149', mirror=True,\n",
    "                        title_standoff=8,)\n",
    "aqueous.update_xaxes(title='',  linecolor='#283149', mirror=True)\n",
    "aqueous.update_layout(title=dict(text=\"aqueous media (mostly neutral pH)\", font=dict(size=16,),), \n",
    "                         title_font_family='Arial', \n",
    "                         title_x=0.1, title_y=0.82,\n",
    "                         font=dict(size=12, family=\"Arial\"),\n",
    "                         template='plotly_white', \n",
    "                         width=900, height=600, \n",
    "                         legend=dict(title='', ))\n",
    "aqueous.update_traces(marker=dict(size=8,))\n",
    "\n",
    "# adding lines for rubpy potentials\n",
    "id_list = ps_table.loc[(ps_table.compound_id==36)&(ps_table.aqueous==1),:].id.to_list()\n",
    "id_list = [idnum for idnum in id_list if 'red*' in ps_table.loc[ps_table.id==idnum, 'redox_event'].values.item() or ps_table.loc[ps_table.id==idnum, 'redox_event'].values.item()=='Eox']\n",
    "for idnum in id_list:\n",
    "    aqueous.add_hline(y=ps_table.loc[ps_table.id==idnum, 'redox_potential_V'].values.item(),\n",
    "                      line = dict(dash='dot', color='grey'),\n",
    "                      annotation_text=f\"[Ru(bpy)3] {ps_table.loc[ps_table.id==idnum, 'redox_event'].values.item()}\",\n",
    "                      annotation_position=\"bottom left\"\n",
    "                     )\n",
    "# order x-axis to help labelling\n",
    "aqueous.update_xaxes(categoryorder='array', categoryarray=['R-NADH', 'amine', 'hydroquinone', 'ferrocene', 'TEMPO', 'viologen', 'pyridinium'])\n",
    "\n",
    "# draw boxes\n",
    "aqueous.add_shape(type=\"rect\", xref=\"paper\", yref=\"paper\",\n",
    "                     x0=0.76, y0=0.72,\n",
    "                     x1=0.96, y1=0.97,\n",
    "                     line=dict(color='grey', width=2,)\n",
    "                     )\n",
    "aqueous.add_shape(type=\"rect\", xref=\"paper\", yref=\"paper\",\n",
    "                     x0=0.48, y0=0.35,\n",
    "                     x1=0.68, y1=0.5,\n",
    "                     line=dict(color='grey', width=2,)\n",
    "                     )\n",
    "\n",
    "# annotate boxes\n",
    "aqueous.add_trace(go.Scatter(\n",
    "    x=['viologen', ],\n",
    "    y=[-0.05,],\n",
    "    mode=\"text\",\n",
    "    name=\"Text\",\n",
    "    text=[\"RFB anolytes\", ],\n",
    "    textposition=\"middle right\",\n",
    "    showlegend=False,\n",
    "))\n",
    "aqueous.add_trace(go.Scatter(\n",
    "    x=['ferrocene', ],\n",
    "    y=[0.47,],\n",
    "    mode=\"text\",\n",
    "    name=\"Text\",\n",
    "    text=[\"RFB catholytes\", ],\n",
    "    textposition=\"top right\",\n",
    "    showlegend=False,\n",
    "))\n",
    "\n",
    "# create pH labels\n",
    "pH_vars = rsd_table.loc[(rsd_table.aqueous==1) & (rsd_table.pH!=7.0),:]\n",
    "pH_x = pH_vars.loc[pH_vars.pH.notna(),'compound_family'].to_list()\n",
    "pH_y = pH_vars.loc[pH_vars.pH.notna(),'redox_potential_V'].to_list()\n",
    "pH_var = pH_vars.loc[pH_vars.pH.notna(),'pH'].to_list()\n",
    "\n",
    "# add pH annotation\n",
    "for pHpoint in range(0, len(pH_var)):\n",
    "    aqueous.add_annotation(\n",
    "        x=pH_x[pHpoint],\n",
    "        y=pH_y[pHpoint],\n",
    "        text=pH_var[pHpoint],\n",
    "        #textposition=\"top right\",\n",
    "        showarrow=True,\n",
    "    )\n",
    "\n",
    "aqueous.show()\n"
   ]
  },
  {
   "cell_type": "code",
   "execution_count": 212,
   "id": "95374bef-2085-49fe-bfdf-bea040c971d4",
   "metadata": {},
   "outputs": [
    {
     "data": {
      "application/vnd.plotly.v1+json": {
       "config": {
        "plotlyServerURL": "https://plot.ly"
       },
       "data": [
        {
         "hovertemplate": "%{text}<br>%{y:.2f} V vs. Fc/Fc+",
         "marker": {
          "color": [
           "#2E4F4F",
           "#2E4F4F",
           "#2E4F4F",
           "#2E4F4F",
           "#2E4F4F",
           "#2E4F4F",
           "#2E4F4F",
           "#2E4F4F",
           "#2E4F4F",
           "#2E4F4F",
           "#2E4F4F",
           "#2E4F4F",
           "#2E4F4F"
          ],
          "size": 8,
          "symbol": [
           100,
           100,
           100,
           100,
           100,
           100,
           100,
           100,
           100,
           100,
           100,
           100,
           100
          ]
         },
         "mode": "markers",
         "name": "sacrificial donor",
         "showlegend": true,
         "text": [
          "Compound 5: 1,3-dimethyl-2-phenylbenzimidazoline (BIH)",
          "Compound 11: 2-(4-methoxyphenyl)-1,3-dimethyl-2H-benzimidazole (ADMBI)",
          "Compound 12: 1,3-dimethyl-2-(4-methylphenyl)-2H-benzimidazole (DMTBI)",
          "Compound 13: 2-(3,5-dichlorophenyl)-1,3-dimethyl-2H-benzimidazole (DCDMBI)",
          "Compound 14: 2-(1,3-dimethyl-2H-benzimidazol-2-yl)phenol (HDMBI)",
          "Compound 20:  5-methoxy-1,3-dimethyl-2-(4-methoxyphenyl)-2H-benzimidazole (BI1H)",
          "Compound 21:  5,6-dimethoxy-1,3-dimethyl-2-(phenyl)-2H-benzimidazole (BI2H)",
          "Compound 4: 4-dimethylaminotoluene (DMT)",
          "Compound 5: 1,3-dimethyl-2-phenylbenzimidazoline (BIH)",
          "Compound 48: diethyldithiocarbamic acid (DtcH)",
          "Compound 49: ethylxanthate (Xa-)",
          "Compound 50: 4-methoxyphenylthioate",
          "Compound 52: tetrakis(dimethylamino)ethylene (TDAE)"
         ],
         "type": "scatter",
         "x": [
          "benzimidazole",
          "benzimidazole",
          "benzimidazole",
          "benzimidazole",
          "benzimidazole",
          "benzimidazole",
          "benzimidazole",
          "amine",
          "benzimidazole",
          "disulfide forming",
          "disulfide forming",
          "disulfide forming",
          "amine"
         ],
         "y": [
          0.020000000000000018,
          -0.02999999999999997,
          -0.020000000000000018,
          0.09000000000000002,
          -0.010000000000000009,
          0.312,
          0.062,
          0.38999999999999996,
          -0.44,
          -0.26,
          -0.1,
          -0.12,
          -1.09
         ]
        },
        {
         "hovertemplate": "%{text}<br>%{y:.2f} V vs. Fc/Fc+",
         "marker": {
          "color": [
           "#B71375",
           "#B71375",
           "#B71375",
           "#B71375",
           "#B71375",
           "#B71375",
           "#B71375",
           "#B71375"
          ],
          "size": 8,
          "symbol": [
           0,
           0,
           0,
           0,
           0,
           0,
           0,
           0
          ]
         },
         "mode": "markers",
         "name": "RFB redox couple",
         "showlegend": true,
         "text": [
          "Compound 29: 1,4-dimethoxy-2,5-dimethylbenzene",
          "Compound 30: 1,4-Dimethoxy-2,3-dimethylbenzene",
          "Compound 31: 2,3-dimethylquinoxaline",
          "Compound 31: 2,3-dimethylquinoxaline",
          "Compound 32:  2,5-Di-tert-butyl-1,4-bis(2-methoxyethoxy)benzene (DBBB)",
          "Compound 32:  2,5-Di-tert-butyl-1,4-bis(2-methoxyethoxy)benzene (DBBB)",
          "Compound 24: methylviologen dichloride (MVCl2)",
          "Compound 24: methylviologen dichloride (MVCl2)"
         ],
         "type": "scatter",
         "x": [
          "dialkoxybenzene",
          "dialkoxybenzene",
          "dialkylquinoxaline",
          "dialkylquinoxaline",
          "dialkoxybenzene",
          "dialkoxybenzene",
          "viologen",
          "viologen"
         ],
         "y": [
          0.52,
          0.5800000000000001,
          -0.8700000000000001,
          -0.5499999999999998,
          0.5300000000000002,
          0.6199999999999997,
          -0.79,
          -1.2
         ]
        },
        {
         "hovertemplate": "%{text}<br>%{y:.2f} V vs. Fc/Fc+",
         "marker": {
          "color": [
           "#088395",
           "#088395"
          ],
          "size": 8,
          "symbol": [
           4,
           4
          ]
         },
         "mode": "markers",
         "name": "hydrogen carrier",
         "showlegend": true,
         "text": [
          "Compound 34:  2,3-Dichloro-5,6-dicyano-1,4-benzoquinone (DDQ)",
          "Compound 40: 9-Ethyldodecahydro-1H-carbazole (H12-NEC)"
         ],
         "type": "scatter",
         "x": [
          "quinone",
          "amine"
         ],
         "y": [
          0.137,
          0.57
         ]
        },
        {
         "hovertemplate": "%{text}<br>%{y:.2f} V vs. Fc/Fc+",
         "marker": {
          "color": [
           "#0A4D68",
           "#0A4D68",
           "#0A4D68",
           "#0A4D68",
           "#0A4D68"
          ],
          "size": 8,
          "symbol": [
           102,
           102,
           102,
           102,
           102
          ]
         },
         "mode": "markers",
         "name": "other source",
         "showlegend": true,
         "text": [
          "Compound 35:  p-dimethylaminobenzaldehyde",
          "Compound 53: 1,1,2,2-tetrapiperidinoethene (TPiE)",
          "Compound 54: 4-(1,2,2-trimorpholin-4-ylethene)morpholine (TME)",
          "Compound 55: tetrakis(N-pyrrolidinyl)ethylene (TPyE)",
          "Compound 56: 1-[1,2,2-tris(azepan-1-yl)ethenyl]azepane (TAzE)"
         ],
         "type": "scatter",
         "x": [
          "amine",
          "amine",
          "amine",
          "amine",
          "amine"
         ],
         "y": [
          0.79,
          -1.06,
          -0.85,
          -1.32,
          -1.09
         ]
        },
        {
         "hovertemplate": "%{text}<br>%{y:.2f} V vs. Fc/Fc+",
         "marker": {
          "color": [
           "#00FFCA",
           "#00FFCA",
           "#00FFCA",
           "#00FFCA",
           "#00FFCA"
          ],
          "size": 8,
          "symbol": [
           1,
           1,
           1,
           1,
           1
          ]
         },
         "mode": "markers",
         "name": "DSSC redox couple",
         "showlegend": true,
         "text": [
          "Compound 39: 1,2dimethyl-3-propyl-imidazol L-cysteine ([DMPI]2Cys) (DMPIC)",
          "Compound 33:  5-mercapto-1-methyltetrazole (T-)",
          "Compound 45:  2-mercapto-5-methyl-1,3,4-thiadiazole (McMT)",
          "Compound 46: tetramethylthiourea (TMTU)",
          "Compound 47: dimethyldithiocarbamate (M-)"
         ],
         "type": "scatter",
         "x": [
          "disulfide forming",
          "disulfide forming",
          "disulfide forming",
          "disulfide forming",
          "disulfide forming"
         ],
         "y": [
          0.385,
          0.417,
          -0.475,
          -0.007000000000000006,
          0.1
         ]
        },
        {
         "hovertemplate": "%{text}<br>%{y:.2f} V vs. Fc/Fc+",
         "marker": {
          "color": [
           "#FC4F00",
           "#FC4F00",
           "#FC4F00"
          ],
          "size": 8,
          "symbol": [
           2,
           2,
           2
          ]
         },
         "mode": "markers",
         "name": "recyclable donor",
         "showlegend": true,
         "text": [
          "Compound 42: 1,3-dimethyl-2-(N,N-dimethylaniline)benzimidazoline ",
          "Compound 43: 9,10-Dihydro-10-methyl-9-phenylacridine",
          "Compound 19:  1,3-dimethyl-2-(2,4,6-trimethoxyphenyl)-2H-benzimidazole (BIM)"
         ],
         "type": "scatter",
         "x": [
          "benzimidazole",
          "acridine",
          "benzimidazole"
         ],
         "y": [
          -0.47,
          0.28,
          -0.068
         ]
        },
        {
         "mode": "text",
         "name": "Text",
         "showlegend": false,
         "text": [
          "TDAE analogues",
          "RFB catholyte"
         ],
         "textposition": "middle center",
         "type": "scatter",
         "x": [
          "amine",
          "dialkoxybenzene"
         ],
         "y": [
          -0.6,
          0.8
         ]
        },
        {
         "mode": "text",
         "name": "Text",
         "showlegend": false,
         "text": [
          "RFB anolytes"
         ],
         "textposition": "middle right",
         "type": "scatter",
         "x": [
          "viologen"
         ],
         "y": [
          -0.3
         ]
        }
       ],
       "layout": {
        "annotations": [
         {
          "showarrow": false,
          "text": "[Ru(bpy)3] Eox",
          "x": 0,
          "xanchor": "left",
          "xref": "x domain",
          "y": 0.96,
          "yanchor": "top",
          "yref": "y"
         },
         {
          "showarrow": false,
          "text": "[Ru(bpy)3] Ered*",
          "x": 0,
          "xanchor": "left",
          "xref": "x domain",
          "y": 0.52,
          "yanchor": "top",
          "yref": "y"
         },
         {
          "showarrow": false,
          "text": "[Ir(ppy)3] Ered*",
          "x": 0,
          "xanchor": "left",
          "xref": "x domain",
          "y": 0.33,
          "yanchor": "top",
          "yref": "y"
         }
        ],
        "font": {
         "family": "Arial",
         "size": 12
        },
        "height": 600,
        "legend": {
         "title": {
          "text": ""
         }
        },
        "shapes": [
         {
          "line": {
           "color": "grey",
           "dash": "dot"
          },
          "type": "line",
          "x0": 0,
          "x1": 1,
          "xref": "x domain",
          "y0": 0.96,
          "y1": 0.96,
          "yref": "y"
         },
         {
          "line": {
           "color": "grey",
           "dash": "dot"
          },
          "type": "line",
          "x0": 0,
          "x1": 1,
          "xref": "x domain",
          "y0": 0.52,
          "y1": 0.52,
          "yref": "y"
         },
         {
          "line": {
           "color": "grey",
           "dash": "dot"
          },
          "type": "line",
          "x0": 0,
          "x1": 1,
          "xref": "x domain",
          "y0": 0.33,
          "y1": 0.33,
          "yref": "y"
         },
         {
          "line": {
           "color": "grey",
           "width": 2
          },
          "type": "rect",
          "x0": 0.28,
          "x1": 0.34,
          "xref": "paper",
          "y0": 0.78,
          "y1": 0.99,
          "yref": "paper"
         },
         {
          "line": {
           "color": "grey",
           "width": 2
          },
          "type": "rect",
          "x0": 0.66,
          "x1": 0.71,
          "xref": "paper",
          "y0": 0.36,
          "y1": 0.46,
          "yref": "paper"
         },
         {
          "line": {
           "color": "grey",
           "width": 2
          },
          "type": "rect",
          "x0": 0.78,
          "x1": 0.96,
          "xref": "paper",
          "y0": 0.68,
          "y1": 0.95,
          "yref": "paper"
         }
        ],
        "template": {
         "data": {
          "bar": [
           {
            "error_x": {
             "color": "#2a3f5f"
            },
            "error_y": {
             "color": "#2a3f5f"
            },
            "marker": {
             "line": {
              "color": "white",
              "width": 0.5
             },
             "pattern": {
              "fillmode": "overlay",
              "size": 10,
              "solidity": 0.2
             }
            },
            "type": "bar"
           }
          ],
          "barpolar": [
           {
            "marker": {
             "line": {
              "color": "white",
              "width": 0.5
             },
             "pattern": {
              "fillmode": "overlay",
              "size": 10,
              "solidity": 0.2
             }
            },
            "type": "barpolar"
           }
          ],
          "carpet": [
           {
            "aaxis": {
             "endlinecolor": "#2a3f5f",
             "gridcolor": "#C8D4E3",
             "linecolor": "#C8D4E3",
             "minorgridcolor": "#C8D4E3",
             "startlinecolor": "#2a3f5f"
            },
            "baxis": {
             "endlinecolor": "#2a3f5f",
             "gridcolor": "#C8D4E3",
             "linecolor": "#C8D4E3",
             "minorgridcolor": "#C8D4E3",
             "startlinecolor": "#2a3f5f"
            },
            "type": "carpet"
           }
          ],
          "choropleth": [
           {
            "colorbar": {
             "outlinewidth": 0,
             "ticks": ""
            },
            "type": "choropleth"
           }
          ],
          "contour": [
           {
            "colorbar": {
             "outlinewidth": 0,
             "ticks": ""
            },
            "colorscale": [
             [
              0,
              "#0d0887"
             ],
             [
              0.1111111111111111,
              "#46039f"
             ],
             [
              0.2222222222222222,
              "#7201a8"
             ],
             [
              0.3333333333333333,
              "#9c179e"
             ],
             [
              0.4444444444444444,
              "#bd3786"
             ],
             [
              0.5555555555555556,
              "#d8576b"
             ],
             [
              0.6666666666666666,
              "#ed7953"
             ],
             [
              0.7777777777777778,
              "#fb9f3a"
             ],
             [
              0.8888888888888888,
              "#fdca26"
             ],
             [
              1,
              "#f0f921"
             ]
            ],
            "type": "contour"
           }
          ],
          "contourcarpet": [
           {
            "colorbar": {
             "outlinewidth": 0,
             "ticks": ""
            },
            "type": "contourcarpet"
           }
          ],
          "heatmap": [
           {
            "colorbar": {
             "outlinewidth": 0,
             "ticks": ""
            },
            "colorscale": [
             [
              0,
              "#0d0887"
             ],
             [
              0.1111111111111111,
              "#46039f"
             ],
             [
              0.2222222222222222,
              "#7201a8"
             ],
             [
              0.3333333333333333,
              "#9c179e"
             ],
             [
              0.4444444444444444,
              "#bd3786"
             ],
             [
              0.5555555555555556,
              "#d8576b"
             ],
             [
              0.6666666666666666,
              "#ed7953"
             ],
             [
              0.7777777777777778,
              "#fb9f3a"
             ],
             [
              0.8888888888888888,
              "#fdca26"
             ],
             [
              1,
              "#f0f921"
             ]
            ],
            "type": "heatmap"
           }
          ],
          "heatmapgl": [
           {
            "colorbar": {
             "outlinewidth": 0,
             "ticks": ""
            },
            "colorscale": [
             [
              0,
              "#0d0887"
             ],
             [
              0.1111111111111111,
              "#46039f"
             ],
             [
              0.2222222222222222,
              "#7201a8"
             ],
             [
              0.3333333333333333,
              "#9c179e"
             ],
             [
              0.4444444444444444,
              "#bd3786"
             ],
             [
              0.5555555555555556,
              "#d8576b"
             ],
             [
              0.6666666666666666,
              "#ed7953"
             ],
             [
              0.7777777777777778,
              "#fb9f3a"
             ],
             [
              0.8888888888888888,
              "#fdca26"
             ],
             [
              1,
              "#f0f921"
             ]
            ],
            "type": "heatmapgl"
           }
          ],
          "histogram": [
           {
            "marker": {
             "pattern": {
              "fillmode": "overlay",
              "size": 10,
              "solidity": 0.2
             }
            },
            "type": "histogram"
           }
          ],
          "histogram2d": [
           {
            "colorbar": {
             "outlinewidth": 0,
             "ticks": ""
            },
            "colorscale": [
             [
              0,
              "#0d0887"
             ],
             [
              0.1111111111111111,
              "#46039f"
             ],
             [
              0.2222222222222222,
              "#7201a8"
             ],
             [
              0.3333333333333333,
              "#9c179e"
             ],
             [
              0.4444444444444444,
              "#bd3786"
             ],
             [
              0.5555555555555556,
              "#d8576b"
             ],
             [
              0.6666666666666666,
              "#ed7953"
             ],
             [
              0.7777777777777778,
              "#fb9f3a"
             ],
             [
              0.8888888888888888,
              "#fdca26"
             ],
             [
              1,
              "#f0f921"
             ]
            ],
            "type": "histogram2d"
           }
          ],
          "histogram2dcontour": [
           {
            "colorbar": {
             "outlinewidth": 0,
             "ticks": ""
            },
            "colorscale": [
             [
              0,
              "#0d0887"
             ],
             [
              0.1111111111111111,
              "#46039f"
             ],
             [
              0.2222222222222222,
              "#7201a8"
             ],
             [
              0.3333333333333333,
              "#9c179e"
             ],
             [
              0.4444444444444444,
              "#bd3786"
             ],
             [
              0.5555555555555556,
              "#d8576b"
             ],
             [
              0.6666666666666666,
              "#ed7953"
             ],
             [
              0.7777777777777778,
              "#fb9f3a"
             ],
             [
              0.8888888888888888,
              "#fdca26"
             ],
             [
              1,
              "#f0f921"
             ]
            ],
            "type": "histogram2dcontour"
           }
          ],
          "mesh3d": [
           {
            "colorbar": {
             "outlinewidth": 0,
             "ticks": ""
            },
            "type": "mesh3d"
           }
          ],
          "parcoords": [
           {
            "line": {
             "colorbar": {
              "outlinewidth": 0,
              "ticks": ""
             }
            },
            "type": "parcoords"
           }
          ],
          "pie": [
           {
            "automargin": true,
            "type": "pie"
           }
          ],
          "scatter": [
           {
            "fillpattern": {
             "fillmode": "overlay",
             "size": 10,
             "solidity": 0.2
            },
            "type": "scatter"
           }
          ],
          "scatter3d": [
           {
            "line": {
             "colorbar": {
              "outlinewidth": 0,
              "ticks": ""
             }
            },
            "marker": {
             "colorbar": {
              "outlinewidth": 0,
              "ticks": ""
             }
            },
            "type": "scatter3d"
           }
          ],
          "scattercarpet": [
           {
            "marker": {
             "colorbar": {
              "outlinewidth": 0,
              "ticks": ""
             }
            },
            "type": "scattercarpet"
           }
          ],
          "scattergeo": [
           {
            "marker": {
             "colorbar": {
              "outlinewidth": 0,
              "ticks": ""
             }
            },
            "type": "scattergeo"
           }
          ],
          "scattergl": [
           {
            "marker": {
             "colorbar": {
              "outlinewidth": 0,
              "ticks": ""
             }
            },
            "type": "scattergl"
           }
          ],
          "scattermapbox": [
           {
            "marker": {
             "colorbar": {
              "outlinewidth": 0,
              "ticks": ""
             }
            },
            "type": "scattermapbox"
           }
          ],
          "scatterpolar": [
           {
            "marker": {
             "colorbar": {
              "outlinewidth": 0,
              "ticks": ""
             }
            },
            "type": "scatterpolar"
           }
          ],
          "scatterpolargl": [
           {
            "marker": {
             "colorbar": {
              "outlinewidth": 0,
              "ticks": ""
             }
            },
            "type": "scatterpolargl"
           }
          ],
          "scatterternary": [
           {
            "marker": {
             "colorbar": {
              "outlinewidth": 0,
              "ticks": ""
             }
            },
            "type": "scatterternary"
           }
          ],
          "surface": [
           {
            "colorbar": {
             "outlinewidth": 0,
             "ticks": ""
            },
            "colorscale": [
             [
              0,
              "#0d0887"
             ],
             [
              0.1111111111111111,
              "#46039f"
             ],
             [
              0.2222222222222222,
              "#7201a8"
             ],
             [
              0.3333333333333333,
              "#9c179e"
             ],
             [
              0.4444444444444444,
              "#bd3786"
             ],
             [
              0.5555555555555556,
              "#d8576b"
             ],
             [
              0.6666666666666666,
              "#ed7953"
             ],
             [
              0.7777777777777778,
              "#fb9f3a"
             ],
             [
              0.8888888888888888,
              "#fdca26"
             ],
             [
              1,
              "#f0f921"
             ]
            ],
            "type": "surface"
           }
          ],
          "table": [
           {
            "cells": {
             "fill": {
              "color": "#EBF0F8"
             },
             "line": {
              "color": "white"
             }
            },
            "header": {
             "fill": {
              "color": "#C8D4E3"
             },
             "line": {
              "color": "white"
             }
            },
            "type": "table"
           }
          ]
         },
         "layout": {
          "annotationdefaults": {
           "arrowcolor": "#2a3f5f",
           "arrowhead": 0,
           "arrowwidth": 1
          },
          "autotypenumbers": "strict",
          "coloraxis": {
           "colorbar": {
            "outlinewidth": 0,
            "ticks": ""
           }
          },
          "colorscale": {
           "diverging": [
            [
             0,
             "#8e0152"
            ],
            [
             0.1,
             "#c51b7d"
            ],
            [
             0.2,
             "#de77ae"
            ],
            [
             0.3,
             "#f1b6da"
            ],
            [
             0.4,
             "#fde0ef"
            ],
            [
             0.5,
             "#f7f7f7"
            ],
            [
             0.6,
             "#e6f5d0"
            ],
            [
             0.7,
             "#b8e186"
            ],
            [
             0.8,
             "#7fbc41"
            ],
            [
             0.9,
             "#4d9221"
            ],
            [
             1,
             "#276419"
            ]
           ],
           "sequential": [
            [
             0,
             "#0d0887"
            ],
            [
             0.1111111111111111,
             "#46039f"
            ],
            [
             0.2222222222222222,
             "#7201a8"
            ],
            [
             0.3333333333333333,
             "#9c179e"
            ],
            [
             0.4444444444444444,
             "#bd3786"
            ],
            [
             0.5555555555555556,
             "#d8576b"
            ],
            [
             0.6666666666666666,
             "#ed7953"
            ],
            [
             0.7777777777777778,
             "#fb9f3a"
            ],
            [
             0.8888888888888888,
             "#fdca26"
            ],
            [
             1,
             "#f0f921"
            ]
           ],
           "sequentialminus": [
            [
             0,
             "#0d0887"
            ],
            [
             0.1111111111111111,
             "#46039f"
            ],
            [
             0.2222222222222222,
             "#7201a8"
            ],
            [
             0.3333333333333333,
             "#9c179e"
            ],
            [
             0.4444444444444444,
             "#bd3786"
            ],
            [
             0.5555555555555556,
             "#d8576b"
            ],
            [
             0.6666666666666666,
             "#ed7953"
            ],
            [
             0.7777777777777778,
             "#fb9f3a"
            ],
            [
             0.8888888888888888,
             "#fdca26"
            ],
            [
             1,
             "#f0f921"
            ]
           ]
          },
          "colorway": [
           "#636efa",
           "#EF553B",
           "#00cc96",
           "#ab63fa",
           "#FFA15A",
           "#19d3f3",
           "#FF6692",
           "#B6E880",
           "#FF97FF",
           "#FECB52"
          ],
          "font": {
           "color": "#2a3f5f"
          },
          "geo": {
           "bgcolor": "white",
           "lakecolor": "white",
           "landcolor": "white",
           "showlakes": true,
           "showland": true,
           "subunitcolor": "#C8D4E3"
          },
          "hoverlabel": {
           "align": "left"
          },
          "hovermode": "closest",
          "mapbox": {
           "style": "light"
          },
          "paper_bgcolor": "white",
          "plot_bgcolor": "white",
          "polar": {
           "angularaxis": {
            "gridcolor": "#EBF0F8",
            "linecolor": "#EBF0F8",
            "ticks": ""
           },
           "bgcolor": "white",
           "radialaxis": {
            "gridcolor": "#EBF0F8",
            "linecolor": "#EBF0F8",
            "ticks": ""
           }
          },
          "scene": {
           "xaxis": {
            "backgroundcolor": "white",
            "gridcolor": "#DFE8F3",
            "gridwidth": 2,
            "linecolor": "#EBF0F8",
            "showbackground": true,
            "ticks": "",
            "zerolinecolor": "#EBF0F8"
           },
           "yaxis": {
            "backgroundcolor": "white",
            "gridcolor": "#DFE8F3",
            "gridwidth": 2,
            "linecolor": "#EBF0F8",
            "showbackground": true,
            "ticks": "",
            "zerolinecolor": "#EBF0F8"
           },
           "zaxis": {
            "backgroundcolor": "white",
            "gridcolor": "#DFE8F3",
            "gridwidth": 2,
            "linecolor": "#EBF0F8",
            "showbackground": true,
            "ticks": "",
            "zerolinecolor": "#EBF0F8"
           }
          },
          "shapedefaults": {
           "line": {
            "color": "#2a3f5f"
           }
          },
          "ternary": {
           "aaxis": {
            "gridcolor": "#DFE8F3",
            "linecolor": "#A2B1C6",
            "ticks": ""
           },
           "baxis": {
            "gridcolor": "#DFE8F3",
            "linecolor": "#A2B1C6",
            "ticks": ""
           },
           "bgcolor": "white",
           "caxis": {
            "gridcolor": "#DFE8F3",
            "linecolor": "#A2B1C6",
            "ticks": ""
           }
          },
          "title": {
           "x": 0.05
          },
          "xaxis": {
           "automargin": true,
           "gridcolor": "#EBF0F8",
           "linecolor": "#EBF0F8",
           "ticks": "",
           "title": {
            "standoff": 15
           },
           "zerolinecolor": "#EBF0F8",
           "zerolinewidth": 2
          },
          "yaxis": {
           "automargin": true,
           "gridcolor": "#EBF0F8",
           "linecolor": "#EBF0F8",
           "ticks": "",
           "title": {
            "standoff": 15
           },
           "zerolinecolor": "#EBF0F8",
           "zerolinewidth": 2
          }
         }
        },
        "title": {
         "font": {
          "family": "Arial",
          "size": 16
         },
         "text": "non-aqueous media",
         "x": 0.1,
         "y": 0.82
        },
        "width": 900,
        "xaxis": {
         "categoryarray": [
          "benzimidazole",
          "acridine",
          "amine",
          "disulfide forming",
          "quinone",
          "dialkoxybenzene",
          "viologen",
          "dialkylquinoxaline"
         ],
         "categoryorder": "array",
         "linecolor": "#283149",
         "mirror": true,
         "title": {
          "text": ""
         }
        },
        "yaxis": {
         "linecolor": "#283149",
         "mirror": true,
         "range": [
          2,
          -1.5
         ],
         "title": {
          "font": {
           "family": "Arial",
           "size": 16
          },
          "standoff": 8,
          "text": "Oxidation Potential vs. Fc/Fc+"
         }
        }
       }
      }
     },
     "metadata": {},
     "output_type": "display_data"
    }
   ],
   "source": [
    "# list for holding hover label info\n",
    "hover_text = zip(rsd_table.loc[rsd_table.aqueous!=1,'compound_id'].to_list(), rsd_table.loc[rsd_table.aqueous!=1,'name'].to_list())\n",
    "hover_text = [f\"Compound {txt1}: {txt2}\" for (txt1, txt2) in hover_text]\n",
    "\n",
    "#-----------------------------------------------------------!plotcode\n",
    "# initiate plot\n",
    "nonaqueous = go.Figure()\n",
    "\n",
    "# make a trace per label\n",
    "# get info\n",
    "compound_x = rsd_table.loc[rsd_table.aqueous!=1,'compound_family'].unique().tolist()\n",
    "compound_labels = rsd_table.loc[rsd_table.aqueous!=1,'label'].unique().tolist()\n",
    "for c_label in compound_labels:\n",
    "    x_var = rsd_table.loc[(rsd_table.aqueous!=1) & (rsd_table.label==c_label),'compound_family']\n",
    "    y_var = rsd_table.loc[(rsd_table.aqueous!=1) & (rsd_table.label==c_label),'redox_potential_V']\n",
    "    c_var = rsd_table.loc[(rsd_table.aqueous!=1) & (rsd_table.label==c_label),'label']\n",
    "\n",
    "    # list for holding hover label info\n",
    "    hover_text1 = zip(rsd_table.loc[(rsd_table.aqueous!=1) & (rsd_table.label==c_label),'compound_id'].to_list(),\n",
    "                       rsd_table.loc[(rsd_table.aqueous!=1) & (rsd_table.label==c_label),'name'].to_list())\n",
    "    hover_text1 = [f\"Compound {txt1}: {txt2}\" for (txt1, txt2) in hover_text1]\n",
    "\n",
    "    # make the trace\n",
    "    nonaqueous.add_trace(go.Scatter(\n",
    "        x= x_var, \n",
    "        y=y_var,\n",
    "        mode=\"markers\", \n",
    "        showlegend=True,\n",
    "        name=c_label,\n",
    "        marker_symbol = marker_array_generator(c_var, symbol_dict), \n",
    "        marker_color = marker_array_generator(c_var, color_dict),\n",
    "        #color_discrete_sequence= [, , , , , , '#2E4F4F'],\n",
    "        text = hover_text1,\n",
    "        hovertemplate=\"%{text}<br>\"+\"%{y:.2f} V vs. Fc/Fc+\"\n",
    "                        ))\n",
    "\n",
    "\n",
    "\n",
    "# format axes, legend and title\n",
    "nonaqueous.update_yaxes(title=dict(text='Oxidation Potential vs. Fc/Fc+', font=dict(size=16, family='Arial'),),\n",
    "                        range=[2,-1.5], linecolor='#283149', mirror=True,\n",
    "                        title_standoff=8,)\n",
    "nonaqueous.update_xaxes(title='',  linecolor='#283149', mirror=True)\n",
    "nonaqueous.update_layout(title=dict(text=\"non-aqueous media\", font=dict(size=16,),), \n",
    "                         title_font_family='Arial', \n",
    "                         title_x=0.1, title_y=0.82,\n",
    "                         font=dict(size=12, family=\"Arial\"),\n",
    "                         template='plotly_white', \n",
    "                         width=900, height=600, \n",
    "                         legend=dict(title='', ))\n",
    "nonaqueous.update_traces(marker=dict(size=8,))\n",
    "\n",
    "# add horizantal lines for dyes\n",
    "id_list = ps_table.loc[(ps_table.compound_id==36)&(ps_table.aqueous!=1),:].id.to_list()\n",
    "id_list = [idnum for idnum in id_list if 'red*' in ps_table.loc[ps_table.id==idnum, 'redox_event'].values.item() or ps_table.loc[ps_table.id==idnum, 'redox_event'].values.item()=='Eox']\n",
    "for idnum in id_list:\n",
    "    nonaqueous.add_hline(y=ps_table.loc[ps_table.id==idnum, 'redox_potential_V'].values.item(),\n",
    "                      line = dict(dash='dot', color='grey'),\n",
    "                      annotation_text=f\"[Ru(bpy)3] {ps_table.loc[ps_table.id==idnum, 'redox_event'].values.item()}\",\n",
    "                      annotation_position=\"bottom left\"\n",
    "                     )\n",
    "id_list = ps_table.loc[(ps_table.compound_id==44)&(ps_table.aqueous!=1),:].id.to_list()\n",
    "id_list = [idnum for idnum in id_list if ps_table.loc[ps_table.id==idnum, 'redox_event'].values.item()=='Ered*' or ps_table.loc[ps_table.id==idnum, 'redox_event'].values.item()=='Eox']\n",
    "for idnum in id_list:\n",
    "    nonaqueous.add_hline(y=ps_table.loc[ps_table.id==idnum, 'redox_potential_V'].values.item(),\n",
    "                      line = dict(dash='dot', color='grey'),\n",
    "                      annotation_text=f\"[Ir(ppy)3] {ps_table.loc[ps_table.id==idnum, 'redox_event'].values.item()}\",\n",
    "                      annotation_position=\"bottom left\"\n",
    "                     )\n",
    "    \n",
    "# order x-axis to help labelling\n",
    "nonaqueous.update_xaxes(categoryorder='array', \n",
    "                        categoryarray=['benzimidazole', 'acridine', 'amine', 'disulfide forming', 'quinone', 'dialkoxybenzene', 'viologen', 'dialkylquinoxaline'])\n",
    "\n",
    "# create boxes\n",
    "nonaqueous.add_shape(type=\"rect\", xref=\"paper\", yref=\"paper\",\n",
    "                     x0=0.28, y0=0.78,\n",
    "                     x1=0.34, y1=0.99,\n",
    "                     line=dict(color='grey', width=2,)\n",
    "                     )\n",
    "nonaqueous.add_shape(type=\"rect\", xref=\"paper\", yref=\"paper\",\n",
    "                     x0=0.66, y0=0.36,\n",
    "                     x1=0.71, y1=0.46,\n",
    "                     line=dict(color='grey', width=2,)\n",
    "                     )\n",
    "nonaqueous.add_shape(type=\"rect\", xref=\"paper\", yref=\"paper\",\n",
    "                     x0=0.78, y0=0.68,\n",
    "                     x1=0.96, y1=0.95,\n",
    "                     line=dict(color='grey', width=2,)\n",
    "                     )\n",
    "\n",
    "# annotate boxes\n",
    "nonaqueous.add_trace(go.Scatter(\n",
    "    x=['amine', 'dialkoxybenzene'],\n",
    "    y=[-0.6, 0.8,],\n",
    "    mode=\"text\",\n",
    "    name=\"Text\",\n",
    "    text=[\"TDAE analogues\", \"RFB catholyte\", ],\n",
    "    textposition=\"middle center\",\n",
    "    showlegend=False,\n",
    "))\n",
    "nonaqueous.add_trace(go.Scatter(\n",
    "    x=['viologen'],\n",
    "    y=[-0.3],\n",
    "    mode=\"text\",\n",
    "    name=\"Text\",\n",
    "    text=[\"RFB anolytes\"],\n",
    "    textposition=\"middle right\",\n",
    "    showlegend=False,\n",
    "))\n",
    "\n",
    "nonaqueous.show()"
   ]
  },
  {
   "cell_type": "code",
   "execution_count": 213,
   "id": "dfec732e-0b53-4902-8be8-49ab74b4f46a",
   "metadata": {
    "tags": []
   },
   "outputs": [
    {
     "data": {
      "text/html": [
       "<div>\n",
       "<style scoped>\n",
       "    .dataframe tbody tr th:only-of-type {\n",
       "        vertical-align: middle;\n",
       "    }\n",
       "\n",
       "    .dataframe tbody tr th {\n",
       "        vertical-align: top;\n",
       "    }\n",
       "\n",
       "    .dataframe thead th {\n",
       "        text-align: right;\n",
       "    }\n",
       "</style>\n",
       "<table border=\"1\" class=\"dataframe\">\n",
       "  <thead>\n",
       "    <tr style=\"text-align: right;\">\n",
       "      <th></th>\n",
       "      <th>compound_id</th>\n",
       "      <th>name</th>\n",
       "      <th>formula</th>\n",
       "      <th>recyclable</th>\n",
       "      <th>type</th>\n",
       "      <th>compound_family</th>\n",
       "      <th>id</th>\n",
       "      <th>redox_potential_V</th>\n",
       "      <th>reference_electrode</th>\n",
       "      <th>electrolyte</th>\n",
       "      <th>solvent</th>\n",
       "      <th>pH</th>\n",
       "      <th>used_in_photocat</th>\n",
       "      <th>used_in_rfbs</th>\n",
       "      <th>used_as_hcarrier</th>\n",
       "      <th>used_in_DSSC</th>\n",
       "      <th>measurement_ref</th>\n",
       "      <th>aqueous</th>\n",
       "      <th>redox_event</th>\n",
       "    </tr>\n",
       "  </thead>\n",
       "  <tbody>\n",
       "    <tr>\n",
       "      <th>32</th>\n",
       "      <td>36</td>\n",
       "      <td>[Ru(bpy)3]2+ Tris(2,2-bipyridyl)ruthenium(II)...</td>\n",
       "      <td>C30H36Cl2N6O6Ru</td>\n",
       "      <td>1.0</td>\n",
       "      <td>photosensitizer</td>\n",
       "      <td>organometallic</td>\n",
       "      <td>33</td>\n",
       "      <td>-1.038</td>\n",
       "      <td>SCE</td>\n",
       "      <td></td>\n",
       "      <td>water</td>\n",
       "      <td>NaN</td>\n",
       "      <td>1.0</td>\n",
       "      <td>0.0</td>\n",
       "      <td>0.0</td>\n",
       "      <td>0.0</td>\n",
       "      <td>Balzani book page 199</td>\n",
       "      <td>1</td>\n",
       "      <td>Ered</td>\n",
       "    </tr>\n",
       "    <tr>\n",
       "      <th>33</th>\n",
       "      <td>36</td>\n",
       "      <td>[Ru(bpy)3]2+ Tris(2,2-bipyridyl)ruthenium(II)...</td>\n",
       "      <td>C30H36Cl2N6O6Ru</td>\n",
       "      <td>1.0</td>\n",
       "      <td>photosensitizer</td>\n",
       "      <td>organometallic</td>\n",
       "      <td>34</td>\n",
       "      <td>1.082</td>\n",
       "      <td>SCE</td>\n",
       "      <td></td>\n",
       "      <td>water</td>\n",
       "      <td>NaN</td>\n",
       "      <td>1.0</td>\n",
       "      <td>0.0</td>\n",
       "      <td>0.0</td>\n",
       "      <td>0.0</td>\n",
       "      <td>Balzani book page 199</td>\n",
       "      <td>1</td>\n",
       "      <td>Ered*</td>\n",
       "    </tr>\n",
       "    <tr>\n",
       "      <th>34</th>\n",
       "      <td>36</td>\n",
       "      <td>[Ru(bpy)3]2+ Tris(2,2-bipyridyl)ruthenium(II)...</td>\n",
       "      <td>C30H36Cl2N6O6Ru</td>\n",
       "      <td>1.0</td>\n",
       "      <td>photosensitizer</td>\n",
       "      <td>organometallic</td>\n",
       "      <td>35</td>\n",
       "      <td>1.502</td>\n",
       "      <td>SCE</td>\n",
       "      <td></td>\n",
       "      <td>water</td>\n",
       "      <td>NaN</td>\n",
       "      <td>1.0</td>\n",
       "      <td>0.0</td>\n",
       "      <td>0.0</td>\n",
       "      <td>0.0</td>\n",
       "      <td>Balzani book page 199</td>\n",
       "      <td>1</td>\n",
       "      <td>Eox</td>\n",
       "    </tr>\n",
       "    <tr>\n",
       "      <th>35</th>\n",
       "      <td>36</td>\n",
       "      <td>[Ru(bpy)3]2+ Tris(2,2-bipyridyl)ruthenium(II)...</td>\n",
       "      <td>C30H36Cl2N6O6Ru</td>\n",
       "      <td>1.0</td>\n",
       "      <td>photosensitizer</td>\n",
       "      <td>organometallic</td>\n",
       "      <td>36</td>\n",
       "      <td>-0.618</td>\n",
       "      <td>SCE</td>\n",
       "      <td></td>\n",
       "      <td>water</td>\n",
       "      <td>NaN</td>\n",
       "      <td>1.0</td>\n",
       "      <td>0.0</td>\n",
       "      <td>0.0</td>\n",
       "      <td>0.0</td>\n",
       "      <td>Balzani book page 199</td>\n",
       "      <td>1</td>\n",
       "      <td>Eox*</td>\n",
       "    </tr>\n",
       "    <tr>\n",
       "      <th>36</th>\n",
       "      <td>37</td>\n",
       "      <td>[Ir(tpy)3]3+</td>\n",
       "      <td></td>\n",
       "      <td>1.0</td>\n",
       "      <td>photosensitizer</td>\n",
       "      <td>organometallic</td>\n",
       "      <td>37</td>\n",
       "      <td>-1.080</td>\n",
       "      <td>Fc/Fc+</td>\n",
       "      <td></td>\n",
       "      <td>acetonitrile</td>\n",
       "      <td>NaN</td>\n",
       "      <td>1.0</td>\n",
       "      <td>0.0</td>\n",
       "      <td>0.0</td>\n",
       "      <td>0.0</td>\n",
       "      <td>Balzani book page 199</td>\n",
       "      <td>0</td>\n",
       "      <td></td>\n",
       "    </tr>\n",
       "    <tr>\n",
       "      <th>37</th>\n",
       "      <td>37</td>\n",
       "      <td>[Ir(tpy)3]3+</td>\n",
       "      <td></td>\n",
       "      <td>1.0</td>\n",
       "      <td>photosensitizer</td>\n",
       "      <td>organometallic</td>\n",
       "      <td>38</td>\n",
       "      <td>-0.610</td>\n",
       "      <td>Fc/Fc+</td>\n",
       "      <td></td>\n",
       "      <td>acetonitrile</td>\n",
       "      <td>NaN</td>\n",
       "      <td>1.0</td>\n",
       "      <td>0.0</td>\n",
       "      <td>0.0</td>\n",
       "      <td>0.0</td>\n",
       "      <td>Balzani book page 199</td>\n",
       "      <td>0</td>\n",
       "      <td></td>\n",
       "    </tr>\n",
       "    <tr>\n",
       "      <th>38</th>\n",
       "      <td>37</td>\n",
       "      <td>[Ir(tpy)3]3+</td>\n",
       "      <td></td>\n",
       "      <td>1.0</td>\n",
       "      <td>photosensitizer</td>\n",
       "      <td>organometallic</td>\n",
       "      <td>39</td>\n",
       "      <td>1.630</td>\n",
       "      <td>Fc/Fc+</td>\n",
       "      <td></td>\n",
       "      <td>acetonitrile</td>\n",
       "      <td>NaN</td>\n",
       "      <td>1.0</td>\n",
       "      <td>0.0</td>\n",
       "      <td>0.0</td>\n",
       "      <td>0.0</td>\n",
       "      <td>Balzani book page 199</td>\n",
       "      <td>0</td>\n",
       "      <td>Eox</td>\n",
       "    </tr>\n",
       "    <tr>\n",
       "      <th>39</th>\n",
       "      <td>38</td>\n",
       "      <td>[Cu(dpp)]+</td>\n",
       "      <td></td>\n",
       "      <td>1.0</td>\n",
       "      <td>photosensitizer</td>\n",
       "      <td>organometallic</td>\n",
       "      <td>40</td>\n",
       "      <td>0.380</td>\n",
       "      <td>Fc/Fc+</td>\n",
       "      <td></td>\n",
       "      <td>acetonitrile</td>\n",
       "      <td>NaN</td>\n",
       "      <td>1.0</td>\n",
       "      <td>0.0</td>\n",
       "      <td>0.0</td>\n",
       "      <td>0.0</td>\n",
       "      <td>Balzani book page 199</td>\n",
       "      <td>0</td>\n",
       "      <td></td>\n",
       "    </tr>\n",
       "    <tr>\n",
       "      <th>40</th>\n",
       "      <td>38</td>\n",
       "      <td>[Cu(dpp)]+</td>\n",
       "      <td></td>\n",
       "      <td>1.0</td>\n",
       "      <td>photosensitizer</td>\n",
       "      <td>organometallic</td>\n",
       "      <td>41</td>\n",
       "      <td>-1.990</td>\n",
       "      <td>Fc/Fc+</td>\n",
       "      <td></td>\n",
       "      <td>acetonitrile</td>\n",
       "      <td>NaN</td>\n",
       "      <td>1.0</td>\n",
       "      <td>0.0</td>\n",
       "      <td>0.0</td>\n",
       "      <td>0.0</td>\n",
       "      <td>Balzani book page 199</td>\n",
       "      <td>0</td>\n",
       "      <td></td>\n",
       "    </tr>\n",
       "    <tr>\n",
       "      <th>41</th>\n",
       "      <td>38</td>\n",
       "      <td>[Cu(dpp)]+</td>\n",
       "      <td></td>\n",
       "      <td>1.0</td>\n",
       "      <td>photosensitizer</td>\n",
       "      <td>organometallic</td>\n",
       "      <td>42</td>\n",
       "      <td>-1.420</td>\n",
       "      <td>Fc/Fc+</td>\n",
       "      <td></td>\n",
       "      <td>acetonitrile</td>\n",
       "      <td>NaN</td>\n",
       "      <td>1.0</td>\n",
       "      <td>0.0</td>\n",
       "      <td>0.0</td>\n",
       "      <td>0.0</td>\n",
       "      <td>Balzani book page 199</td>\n",
       "      <td>0</td>\n",
       "      <td>Ered*</td>\n",
       "    </tr>\n",
       "    <tr>\n",
       "      <th>42</th>\n",
       "      <td>38</td>\n",
       "      <td>[Cu(dpp)]+</td>\n",
       "      <td></td>\n",
       "      <td>1.0</td>\n",
       "      <td>photosensitizer</td>\n",
       "      <td>organometallic</td>\n",
       "      <td>43</td>\n",
       "      <td>-0.190</td>\n",
       "      <td>Fc/Fc+</td>\n",
       "      <td></td>\n",
       "      <td>acetonitrile</td>\n",
       "      <td>NaN</td>\n",
       "      <td>1.0</td>\n",
       "      <td>0.0</td>\n",
       "      <td>0.0</td>\n",
       "      <td>0.0</td>\n",
       "      <td>Balzani book page 199</td>\n",
       "      <td>0</td>\n",
       "      <td></td>\n",
       "    </tr>\n",
       "    <tr>\n",
       "      <th>46</th>\n",
       "      <td>36</td>\n",
       "      <td>[Ru(bpy)3]2+ Tris(2,2-bipyridyl)ruthenium(II)...</td>\n",
       "      <td>C30H36Cl2N6O6Ru</td>\n",
       "      <td>1.0</td>\n",
       "      <td>photosensitizer</td>\n",
       "      <td>organometallic</td>\n",
       "      <td>47</td>\n",
       "      <td>0.960</td>\n",
       "      <td>Fc/Fc+</td>\n",
       "      <td>TBAPF6</td>\n",
       "      <td>acetonitrile</td>\n",
       "      <td>NaN</td>\n",
       "      <td>1.0</td>\n",
       "      <td>0.0</td>\n",
       "      <td>0.0</td>\n",
       "      <td>0.0</td>\n",
       "      <td>DOI: 10.1021/j100070a025</td>\n",
       "      <td>0</td>\n",
       "      <td>Eox</td>\n",
       "    </tr>\n",
       "    <tr>\n",
       "      <th>47</th>\n",
       "      <td>36</td>\n",
       "      <td>[Ru(bpy)3]2+ Tris(2,2-bipyridyl)ruthenium(II)...</td>\n",
       "      <td>C30H36Cl2N6O6Ru</td>\n",
       "      <td>1.0</td>\n",
       "      <td>photosensitizer</td>\n",
       "      <td>organometallic</td>\n",
       "      <td>48</td>\n",
       "      <td>-1.670</td>\n",
       "      <td>Fc/Fc+</td>\n",
       "      <td>TBAPF6</td>\n",
       "      <td>acetonitrile</td>\n",
       "      <td>NaN</td>\n",
       "      <td>1.0</td>\n",
       "      <td>0.0</td>\n",
       "      <td>0.0</td>\n",
       "      <td>0.0</td>\n",
       "      <td>DOI: 10.1021/j100070a025</td>\n",
       "      <td>0</td>\n",
       "      <td>Ered</td>\n",
       "    </tr>\n",
       "    <tr>\n",
       "      <th>48</th>\n",
       "      <td>36</td>\n",
       "      <td>[Ru(bpy)3]2+ Tris(2,2-bipyridyl)ruthenium(II)...</td>\n",
       "      <td>C30H36Cl2N6O6Ru</td>\n",
       "      <td>1.0</td>\n",
       "      <td>photosensitizer</td>\n",
       "      <td>organometallic</td>\n",
       "      <td>49</td>\n",
       "      <td>-1.100</td>\n",
       "      <td>Fc/Fc+</td>\n",
       "      <td>TBAPF6</td>\n",
       "      <td>acetonitrile</td>\n",
       "      <td>NaN</td>\n",
       "      <td>1.0</td>\n",
       "      <td>0.0</td>\n",
       "      <td>0.0</td>\n",
       "      <td>0.0</td>\n",
       "      <td>DOI: 10.1021/j100070a025</td>\n",
       "      <td>0</td>\n",
       "      <td>Eox*</td>\n",
       "    </tr>\n",
       "    <tr>\n",
       "      <th>49</th>\n",
       "      <td>36</td>\n",
       "      <td>[Ru(bpy)3]2+ Tris(2,2-bipyridyl)ruthenium(II)...</td>\n",
       "      <td>C30H36Cl2N6O6Ru</td>\n",
       "      <td>1.0</td>\n",
       "      <td>photosensitizer</td>\n",
       "      <td>organometallic</td>\n",
       "      <td>50</td>\n",
       "      <td>0.520</td>\n",
       "      <td>Fc/Fc+</td>\n",
       "      <td>TBAPF6</td>\n",
       "      <td>acetonitrile</td>\n",
       "      <td>NaN</td>\n",
       "      <td>1.0</td>\n",
       "      <td>0.0</td>\n",
       "      <td>0.0</td>\n",
       "      <td>0.0</td>\n",
       "      <td>DOI: 10.1021/j100070a025</td>\n",
       "      <td>0</td>\n",
       "      <td>Ered*</td>\n",
       "    </tr>\n",
       "    <tr>\n",
       "      <th>54</th>\n",
       "      <td>44</td>\n",
       "      <td>iridium triphenylpyridine Ir(ppy)3</td>\n",
       "      <td></td>\n",
       "      <td>1.0</td>\n",
       "      <td>photosensitizer</td>\n",
       "      <td>organometallic</td>\n",
       "      <td>55</td>\n",
       "      <td>0.330</td>\n",
       "      <td>Fc/Fc+</td>\n",
       "      <td>TBAPF6</td>\n",
       "      <td>MeCN</td>\n",
       "      <td>NaN</td>\n",
       "      <td>1.0</td>\n",
       "      <td>0.0</td>\n",
       "      <td>0.0</td>\n",
       "      <td>0.0</td>\n",
       "      <td>DOI: 10.1002/celc.201700222</td>\n",
       "      <td>0</td>\n",
       "      <td>Ered*</td>\n",
       "    </tr>\n",
       "    <tr>\n",
       "      <th>55</th>\n",
       "      <td>44</td>\n",
       "      <td>iridium triphenylpyridine Ir(ppy)3</td>\n",
       "      <td></td>\n",
       "      <td>1.0</td>\n",
       "      <td>photosensitizer</td>\n",
       "      <td>organometallic</td>\n",
       "      <td>56</td>\n",
       "      <td>-0.160</td>\n",
       "      <td>Fc/Fc+</td>\n",
       "      <td>TBAPF6</td>\n",
       "      <td>MeCN</td>\n",
       "      <td>NaN</td>\n",
       "      <td>1.0</td>\n",
       "      <td>0.0</td>\n",
       "      <td>0.0</td>\n",
       "      <td>0.0</td>\n",
       "      <td>DOI: 10.1002/celc.201700222</td>\n",
       "      <td>0</td>\n",
       "      <td>Eox*</td>\n",
       "    </tr>\n",
       "    <tr>\n",
       "      <th>56</th>\n",
       "      <td>44</td>\n",
       "      <td>iridium triphenylpyridine Ir(ppy)3</td>\n",
       "      <td></td>\n",
       "      <td>1.0</td>\n",
       "      <td>photosensitizer</td>\n",
       "      <td>organometallic</td>\n",
       "      <td>57</td>\n",
       "      <td>-2.180</td>\n",
       "      <td>Fc/Fc+</td>\n",
       "      <td>TBAPF6</td>\n",
       "      <td>MeCN</td>\n",
       "      <td>NaN</td>\n",
       "      <td>1.0</td>\n",
       "      <td>0.0</td>\n",
       "      <td>0.0</td>\n",
       "      <td>0.0</td>\n",
       "      <td>DOI: 10.1002/celc.201700222</td>\n",
       "      <td>0</td>\n",
       "      <td></td>\n",
       "    </tr>\n",
       "  </tbody>\n",
       "</table>\n",
       "</div>"
      ],
      "text/plain": [
       "    compound_id                                               name  \\\n",
       "32           36   [Ru(bpy)3]2+ Tris(2,2-bipyridyl)ruthenium(II)...   \n",
       "33           36   [Ru(bpy)3]2+ Tris(2,2-bipyridyl)ruthenium(II)...   \n",
       "34           36   [Ru(bpy)3]2+ Tris(2,2-bipyridyl)ruthenium(II)...   \n",
       "35           36   [Ru(bpy)3]2+ Tris(2,2-bipyridyl)ruthenium(II)...   \n",
       "36           37                                      [Ir(tpy)3]3+    \n",
       "37           37                                      [Ir(tpy)3]3+    \n",
       "38           37                                      [Ir(tpy)3]3+    \n",
       "39           38                                         [Cu(dpp)]+   \n",
       "40           38                                         [Cu(dpp)]+   \n",
       "41           38                                         [Cu(dpp)]+   \n",
       "42           38                                         [Cu(dpp)]+   \n",
       "46           36   [Ru(bpy)3]2+ Tris(2,2-bipyridyl)ruthenium(II)...   \n",
       "47           36   [Ru(bpy)3]2+ Tris(2,2-bipyridyl)ruthenium(II)...   \n",
       "48           36   [Ru(bpy)3]2+ Tris(2,2-bipyridyl)ruthenium(II)...   \n",
       "49           36   [Ru(bpy)3]2+ Tris(2,2-bipyridyl)ruthenium(II)...   \n",
       "54           44                 iridium triphenylpyridine Ir(ppy)3   \n",
       "55           44                 iridium triphenylpyridine Ir(ppy)3   \n",
       "56           44                 iridium triphenylpyridine Ir(ppy)3   \n",
       "\n",
       "            formula  recyclable             type compound_family  id  \\\n",
       "32  C30H36Cl2N6O6Ru         1.0  photosensitizer  organometallic  33   \n",
       "33  C30H36Cl2N6O6Ru         1.0  photosensitizer  organometallic  34   \n",
       "34  C30H36Cl2N6O6Ru         1.0  photosensitizer  organometallic  35   \n",
       "35  C30H36Cl2N6O6Ru         1.0  photosensitizer  organometallic  36   \n",
       "36                          1.0  photosensitizer  organometallic  37   \n",
       "37                          1.0  photosensitizer  organometallic  38   \n",
       "38                          1.0  photosensitizer  organometallic  39   \n",
       "39                          1.0  photosensitizer  organometallic  40   \n",
       "40                          1.0  photosensitizer  organometallic  41   \n",
       "41                          1.0  photosensitizer  organometallic  42   \n",
       "42                          1.0  photosensitizer  organometallic  43   \n",
       "46  C30H36Cl2N6O6Ru         1.0  photosensitizer  organometallic  47   \n",
       "47  C30H36Cl2N6O6Ru         1.0  photosensitizer  organometallic  48   \n",
       "48  C30H36Cl2N6O6Ru         1.0  photosensitizer  organometallic  49   \n",
       "49  C30H36Cl2N6O6Ru         1.0  photosensitizer  organometallic  50   \n",
       "54                          1.0  photosensitizer  organometallic  55   \n",
       "55                          1.0  photosensitizer  organometallic  56   \n",
       "56                          1.0  photosensitizer  organometallic  57   \n",
       "\n",
       "    redox_potential_V reference_electrode electrolyte       solvent  pH  \\\n",
       "32             -1.038                 SCE                     water NaN   \n",
       "33              1.082                 SCE                     water NaN   \n",
       "34              1.502                 SCE                     water NaN   \n",
       "35             -0.618                 SCE                     water NaN   \n",
       "36             -1.080              Fc/Fc+              acetonitrile NaN   \n",
       "37             -0.610              Fc/Fc+              acetonitrile NaN   \n",
       "38              1.630              Fc/Fc+              acetonitrile NaN   \n",
       "39              0.380              Fc/Fc+              acetonitrile NaN   \n",
       "40             -1.990              Fc/Fc+              acetonitrile NaN   \n",
       "41             -1.420              Fc/Fc+              acetonitrile NaN   \n",
       "42             -0.190              Fc/Fc+              acetonitrile NaN   \n",
       "46              0.960              Fc/Fc+      TBAPF6  acetonitrile NaN   \n",
       "47             -1.670              Fc/Fc+      TBAPF6  acetonitrile NaN   \n",
       "48             -1.100              Fc/Fc+      TBAPF6  acetonitrile NaN   \n",
       "49              0.520              Fc/Fc+      TBAPF6  acetonitrile NaN   \n",
       "54              0.330              Fc/Fc+      TBAPF6          MeCN NaN   \n",
       "55             -0.160              Fc/Fc+      TBAPF6          MeCN NaN   \n",
       "56             -2.180              Fc/Fc+      TBAPF6          MeCN NaN   \n",
       "\n",
       "    used_in_photocat  used_in_rfbs  used_as_hcarrier  used_in_DSSC  \\\n",
       "32               1.0           0.0               0.0           0.0   \n",
       "33               1.0           0.0               0.0           0.0   \n",
       "34               1.0           0.0               0.0           0.0   \n",
       "35               1.0           0.0               0.0           0.0   \n",
       "36               1.0           0.0               0.0           0.0   \n",
       "37               1.0           0.0               0.0           0.0   \n",
       "38               1.0           0.0               0.0           0.0   \n",
       "39               1.0           0.0               0.0           0.0   \n",
       "40               1.0           0.0               0.0           0.0   \n",
       "41               1.0           0.0               0.0           0.0   \n",
       "42               1.0           0.0               0.0           0.0   \n",
       "46               1.0           0.0               0.0           0.0   \n",
       "47               1.0           0.0               0.0           0.0   \n",
       "48               1.0           0.0               0.0           0.0   \n",
       "49               1.0           0.0               0.0           0.0   \n",
       "54               1.0           0.0               0.0           0.0   \n",
       "55               1.0           0.0               0.0           0.0   \n",
       "56               1.0           0.0               0.0           0.0   \n",
       "\n",
       "                measurement_ref  aqueous redox_event  \n",
       "32        Balzani book page 199        1        Ered  \n",
       "33        Balzani book page 199        1       Ered*  \n",
       "34        Balzani book page 199        1         Eox  \n",
       "35        Balzani book page 199        1        Eox*  \n",
       "36        Balzani book page 199        0              \n",
       "37        Balzani book page 199        0              \n",
       "38        Balzani book page 199        0         Eox  \n",
       "39        Balzani book page 199        0              \n",
       "40        Balzani book page 199        0              \n",
       "41        Balzani book page 199        0       Ered*  \n",
       "42        Balzani book page 199        0              \n",
       "46     DOI: 10.1021/j100070a025        0         Eox  \n",
       "47     DOI: 10.1021/j100070a025        0        Ered  \n",
       "48     DOI: 10.1021/j100070a025        0        Eox*  \n",
       "49     DOI: 10.1021/j100070a025        0       Ered*  \n",
       "54  DOI: 10.1002/celc.201700222        0       Ered*  \n",
       "55  DOI: 10.1002/celc.201700222        0        Eox*  \n",
       "56  DOI: 10.1002/celc.201700222        0              "
      ]
     },
     "metadata": {},
     "output_type": "display_data"
    }
   ],
   "source": [
    "display(ps_table)"
   ]
  },
  {
   "cell_type": "code",
   "execution_count": 214,
   "id": "ee328bdf-56e0-40d8-933a-6d4e4a3d92da",
   "metadata": {},
   "outputs": [
    {
     "data": {
      "text/html": [
       "<div>\n",
       "<style scoped>\n",
       "    .dataframe tbody tr th:only-of-type {\n",
       "        vertical-align: middle;\n",
       "    }\n",
       "\n",
       "    .dataframe tbody tr th {\n",
       "        vertical-align: top;\n",
       "    }\n",
       "\n",
       "    .dataframe thead th {\n",
       "        text-align: right;\n",
       "    }\n",
       "</style>\n",
       "<table border=\"1\" class=\"dataframe\">\n",
       "  <thead>\n",
       "    <tr style=\"text-align: right;\">\n",
       "      <th></th>\n",
       "      <th>compound_id</th>\n",
       "      <th>name</th>\n",
       "      <th>formula</th>\n",
       "      <th>recyclable</th>\n",
       "      <th>type</th>\n",
       "      <th>compound_family</th>\n",
       "      <th>id</th>\n",
       "      <th>redox_potential_V</th>\n",
       "      <th>reference_electrode</th>\n",
       "      <th>electrolyte</th>\n",
       "      <th>solvent</th>\n",
       "      <th>pH</th>\n",
       "      <th>used_in_photocat</th>\n",
       "      <th>used_in_rfbs</th>\n",
       "      <th>used_as_hcarrier</th>\n",
       "      <th>used_in_DSSC</th>\n",
       "      <th>measurement_ref</th>\n",
       "      <th>aqueous</th>\n",
       "      <th>label</th>\n",
       "    </tr>\n",
       "  </thead>\n",
       "  <tbody>\n",
       "    <tr>\n",
       "      <th>64</th>\n",
       "      <td>52</td>\n",
       "      <td>tetrakis(dimethylamino)ethylene (TDAE)</td>\n",
       "      <td>C10H24N4</td>\n",
       "      <td>0.0</td>\n",
       "      <td>electron donor</td>\n",
       "      <td>amine</td>\n",
       "      <td>68</td>\n",
       "      <td>-1.090</td>\n",
       "      <td>Fc/Fc+</td>\n",
       "      <td>unspecified</td>\n",
       "      <td>acetonitrile</td>\n",
       "      <td>NaN</td>\n",
       "      <td>1.0</td>\n",
       "      <td>0.0</td>\n",
       "      <td>0.0</td>\n",
       "      <td>0.0</td>\n",
       "      <td>DOI: 10.1039/d0pp00127a</td>\n",
       "      <td>0</td>\n",
       "      <td>sacrificial donor</td>\n",
       "    </tr>\n",
       "    <tr>\n",
       "      <th>65</th>\n",
       "      <td>53</td>\n",
       "      <td>1,1,2,2-tetrapiperidinoethene (TPiE)</td>\n",
       "      <td>C22H40N4</td>\n",
       "      <td>0.0</td>\n",
       "      <td>electron donor</td>\n",
       "      <td>amine</td>\n",
       "      <td>69</td>\n",
       "      <td>-1.060</td>\n",
       "      <td>Fc/Fc+</td>\n",
       "      <td>TBAPF6</td>\n",
       "      <td>DMF</td>\n",
       "      <td>NaN</td>\n",
       "      <td>0.0</td>\n",
       "      <td>0.0</td>\n",
       "      <td>0.0</td>\n",
       "      <td>0.0</td>\n",
       "      <td>DOI: 10.1021/jacs.1c10932</td>\n",
       "      <td>0</td>\n",
       "      <td>other source</td>\n",
       "    </tr>\n",
       "    <tr>\n",
       "      <th>66</th>\n",
       "      <td>54</td>\n",
       "      <td>4-(1,2,2-trimorpholin-4-ylethene)morpholine (TME)</td>\n",
       "      <td>C18H32N4O4</td>\n",
       "      <td>0.0</td>\n",
       "      <td>electron donor</td>\n",
       "      <td>amine</td>\n",
       "      <td>70</td>\n",
       "      <td>-0.850</td>\n",
       "      <td>Fc/Fc+</td>\n",
       "      <td>TBAPF6</td>\n",
       "      <td>DMF</td>\n",
       "      <td>NaN</td>\n",
       "      <td>0.0</td>\n",
       "      <td>0.0</td>\n",
       "      <td>0.0</td>\n",
       "      <td>0.0</td>\n",
       "      <td>DOI: 10.1021/jacs.1c10932</td>\n",
       "      <td>0</td>\n",
       "      <td>other source</td>\n",
       "    </tr>\n",
       "    <tr>\n",
       "      <th>67</th>\n",
       "      <td>55</td>\n",
       "      <td>tetrakis(N-pyrrolidinyl)ethylene (TPyE)</td>\n",
       "      <td>C18H32N4</td>\n",
       "      <td>0.0</td>\n",
       "      <td>electron donor</td>\n",
       "      <td>amine</td>\n",
       "      <td>71</td>\n",
       "      <td>-1.320</td>\n",
       "      <td>Fc/Fc+</td>\n",
       "      <td>TBAPF6</td>\n",
       "      <td>DMF</td>\n",
       "      <td>NaN</td>\n",
       "      <td>0.0</td>\n",
       "      <td>0.0</td>\n",
       "      <td>0.0</td>\n",
       "      <td>0.0</td>\n",
       "      <td>DOI: 10.1021/jacs.1c10932</td>\n",
       "      <td>0</td>\n",
       "      <td>other source</td>\n",
       "    </tr>\n",
       "    <tr>\n",
       "      <th>68</th>\n",
       "      <td>56</td>\n",
       "      <td>1-[1,2,2-tris(azepan-1-yl)ethenyl]azepane (TAzE)</td>\n",
       "      <td>C26H48N4</td>\n",
       "      <td>0.0</td>\n",
       "      <td>electron donor</td>\n",
       "      <td>amine</td>\n",
       "      <td>72</td>\n",
       "      <td>-1.090</td>\n",
       "      <td>Fc/Fc+</td>\n",
       "      <td>TBAPF6</td>\n",
       "      <td>DMF</td>\n",
       "      <td>NaN</td>\n",
       "      <td>0.0</td>\n",
       "      <td>0.0</td>\n",
       "      <td>0.0</td>\n",
       "      <td>0.0</td>\n",
       "      <td>DOI: 10.1021/jacs.1c10932</td>\n",
       "      <td>0</td>\n",
       "      <td>other source</td>\n",
       "    </tr>\n",
       "    <tr>\n",
       "      <th>71</th>\n",
       "      <td>57</td>\n",
       "      <td>1-methyl-4-benzoylpyridinium</td>\n",
       "      <td>C13H12NO</td>\n",
       "      <td>1.0</td>\n",
       "      <td>electron acceptor</td>\n",
       "      <td>pyridinium</td>\n",
       "      <td>75</td>\n",
       "      <td>-0.805</td>\n",
       "      <td>SCE</td>\n",
       "      <td>NaCl</td>\n",
       "      <td>aqueous</td>\n",
       "      <td>7.0</td>\n",
       "      <td>0.0</td>\n",
       "      <td>1.0</td>\n",
       "      <td>0.0</td>\n",
       "      <td>0.0</td>\n",
       "      <td>DOI: 10.1021/acs.jpcc.7b06247</td>\n",
       "      <td>1</td>\n",
       "      <td>RFB redox couple</td>\n",
       "    </tr>\n",
       "  </tbody>\n",
       "</table>\n",
       "</div>"
      ],
      "text/plain": [
       "    compound_id                                               name  \\\n",
       "64           52             tetrakis(dimethylamino)ethylene (TDAE)   \n",
       "65           53               1,1,2,2-tetrapiperidinoethene (TPiE)   \n",
       "66           54  4-(1,2,2-trimorpholin-4-ylethene)morpholine (TME)   \n",
       "67           55            tetrakis(N-pyrrolidinyl)ethylene (TPyE)   \n",
       "68           56   1-[1,2,2-tris(azepan-1-yl)ethenyl]azepane (TAzE)   \n",
       "71           57                       1-methyl-4-benzoylpyridinium   \n",
       "\n",
       "       formula  recyclable               type compound_family  id  \\\n",
       "64    C10H24N4         0.0     electron donor           amine  68   \n",
       "65    C22H40N4         0.0     electron donor           amine  69   \n",
       "66  C18H32N4O4         0.0     electron donor           amine  70   \n",
       "67    C18H32N4         0.0     electron donor           amine  71   \n",
       "68    C26H48N4         0.0     electron donor           amine  72   \n",
       "71    C13H12NO         1.0  electron acceptor      pyridinium  75   \n",
       "\n",
       "    redox_potential_V reference_electrode  electrolyte       solvent   pH  \\\n",
       "64             -1.090              Fc/Fc+  unspecified  acetonitrile  NaN   \n",
       "65             -1.060              Fc/Fc+       TBAPF6           DMF  NaN   \n",
       "66             -0.850              Fc/Fc+       TBAPF6           DMF  NaN   \n",
       "67             -1.320              Fc/Fc+       TBAPF6           DMF  NaN   \n",
       "68             -1.090              Fc/Fc+       TBAPF6           DMF  NaN   \n",
       "71             -0.805                 SCE         NaCl       aqueous  7.0   \n",
       "\n",
       "    used_in_photocat  used_in_rfbs  used_as_hcarrier  used_in_DSSC  \\\n",
       "64               1.0           0.0               0.0           0.0   \n",
       "65               0.0           0.0               0.0           0.0   \n",
       "66               0.0           0.0               0.0           0.0   \n",
       "67               0.0           0.0               0.0           0.0   \n",
       "68               0.0           0.0               0.0           0.0   \n",
       "71               0.0           1.0               0.0           0.0   \n",
       "\n",
       "                  measurement_ref  aqueous              label  \n",
       "64        DOI: 10.1039/d0pp00127a        0  sacrificial donor  \n",
       "65      DOI: 10.1021/jacs.1c10932        0       other source  \n",
       "66      DOI: 10.1021/jacs.1c10932        0       other source  \n",
       "67      DOI: 10.1021/jacs.1c10932        0       other source  \n",
       "68      DOI: 10.1021/jacs.1c10932        0       other source  \n",
       "71  DOI: 10.1021/acs.jpcc.7b06247        1   RFB redox couple  "
      ]
     },
     "metadata": {},
     "output_type": "display_data"
    }
   ],
   "source": [
    "display(rsd_table.loc[rsd_table.compound_id>51,:])"
   ]
  },
  {
   "cell_type": "code",
   "execution_count": 222,
   "id": "1feaac01-e390-4d09-b056-2ca930828326",
   "metadata": {},
   "outputs": [],
   "source": [
    "#creating SI table 1\n",
    "si_1 = rsd_table.loc[rsd_table.aqueous==1,['compound_id', \n",
    "                                           'name', \n",
    "                                           'formula',\n",
    "                                           'type', \n",
    "                                           'label',\n",
    "                                           'compound_family', \n",
    "                                           'redox_potential_V',\n",
    "                                           'reference_electrode',\n",
    "                                           'electrolyte',\n",
    "                                           'solvent',\n",
    "                                           'pH',\n",
    "                                           'measurement_ref',\n",
    "                                           ]].copy(deep=True)\n",
    "si_1.head(5)\n",
    "si_1.to_csv(\"si1_table_aqueous_redox_potentials.csv\", \",\")"
   ]
  },
  {
   "cell_type": "code",
   "execution_count": 223,
   "id": "82666dba",
   "metadata": {},
   "outputs": [],
   "source": [
    "#creating SI table 2\n",
    "si_2 = rsd_table.loc[rsd_table.aqueous!=1,['compound_id', \n",
    "                                           'name', \n",
    "                                           'formula', \n",
    "                                           'type', \n",
    "                                           'label',\n",
    "                                           'compound_family', \n",
    "                                           'redox_potential_V',\n",
    "                                           'reference_electrode',\n",
    "                                           'electrolyte',\n",
    "                                           'solvent',\n",
    "                                           'measurement_ref',\n",
    "                                           ]].copy(deep=True)\n",
    "si_2.head(5)\n",
    "si_2.to_csv(\"si2_table_nonaqueous_redox_potentials.csv\", \",\")"
   ]
  },
  {
   "cell_type": "code",
   "execution_count": null,
   "id": "33deb554",
   "metadata": {},
   "outputs": [],
   "source": []
  }
 ],
 "metadata": {
  "kernelspec": {
   "display_name": "Python 3 (ipykernel)",
   "language": "python",
   "name": "python3"
  },
  "language_info": {
   "codemirror_mode": {
    "name": "ipython",
    "version": 3
   },
   "file_extension": ".py",
   "mimetype": "text/x-python",
   "name": "python",
   "nbconvert_exporter": "python",
   "pygments_lexer": "ipython3",
   "version": "3.10.0"
  }
 },
 "nbformat": 4,
 "nbformat_minor": 5
}
