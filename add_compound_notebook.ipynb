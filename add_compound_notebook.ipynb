{
 "cells": [
  {
   "cell_type": "code",
   "execution_count": 1,
   "id": "a4385e41-7ffe-479d-99bb-f9a5fe17717f",
   "metadata": {
    "tags": []
   },
   "outputs": [],
   "source": [
    "import pandas as pd"
   ]
  },
  {
   "cell_type": "markdown",
   "id": "80f80790-001f-4a12-8f56-7d5855c365c1",
   "metadata": {},
   "source": [
    "# Notebook for adding New compounds to table"
   ]
  },
  {
   "cell_type": "markdown",
   "id": "cd0c31a5-b18f-4151-ad09-f50511aa2cbb",
   "metadata": {},
   "source": [
    "### 1. Run this cell to load the table"
   ]
  },
  {
   "cell_type": "code",
   "execution_count": 2,
   "id": "b5f87f61-e0fd-4748-a7c2-8586417f3057",
   "metadata": {
    "tags": []
   },
   "outputs": [],
   "source": [
    "# load table from parquet file\n",
    "compound_table = pd.read_parquet('compound_table.parquet')\n",
    "\n",
    "# sort values by unique idea so last has highest id\n",
    "compound_table.sort_values('id', ascending=True, inplace=True)\n",
    "\n",
    "# electrochem_table = pd.read_parquet('electrochem_table.parquet')\n",
    "# photochem_table = pd.read_parquet('photochem_table.parquet')\n",
    "# solubility_table = pd.read_parquet('solubility_table.parquet')\n"
   ]
  },
  {
   "cell_type": "markdown",
   "id": "0ed8b125-01a5-4738-a643-2efd41fd80bc",
   "metadata": {},
   "source": [
    "### 2. Enter the details of the compound you want to add below, then run the cell"
   ]
  },
  {
   "cell_type": "code",
   "execution_count": 3,
   "id": "fadb7618-b16e-4e33-b430-10942f53143b",
   "metadata": {
    "tags": []
   },
   "outputs": [],
   "source": [
    "compound_details = {\n",
    "                  'name': 'triethanolamine_test', \n",
    "                  'formula': 'N(CH4OH)3', \n",
    "                  'molecular_weight': 0, \n",
    "                  'CAS': 'randomstring', \n",
    "                  'source_dois': '', \n",
    "                  'recyclable': 0, \n",
    "                  'type': '', \n",
    "                  'compound_family': '', \n",
    "                  'used_in_photocat': 0, \n",
    "                  'used_in_rfbs': 0, \n",
    "                  'used_as_hcarrier': 0}"
   ]
  },
  {
   "cell_type": "markdown",
   "id": "34cd60e7-b6ce-4d4c-aa13-30694e3aff43",
   "metadata": {
    "tags": []
   },
   "source": [
    "### 3. Run this cell to add your compound to the table\n",
    "This code includes a duplication check."
   ]
  },
  {
   "cell_type": "code",
   "execution_count": 4,
   "id": "7b84be4a-4cb6-4e2c-ab6f-5220ff592c54",
   "metadata": {
    "tags": []
   },
   "outputs": [],
   "source": [
    "# create unique compound id and add compound\n",
    "\n",
    "# if the table is empty add the compound with id 1\n",
    "if compound_table.empty:\n",
    "    compound_details['id'] = int(1)\n",
    "    compound_table = pd.concat([compound_table, pd.DataFrame([compound_details,])])\n",
    "    \n",
    "    \n",
    "else:\n",
    "    # check if compounds already exist with the same combination of name, formula and CAS\n",
    "    check_mask = compound_table.isin([compound_details['name'], compound_details['formula'], compound_details['CAS']])\n",
    "    check_mask = check_mask.loc[(check_mask.name==True) & (check_mask.formula==True), :]\n",
    "    \n",
    "    # if the CAS is a blank string ignore CAS in your checks\n",
    "    if compound_details['CAS'] == '':\n",
    "        check_mask.CAS = False\n",
    "    check_table = compound_table.loc[check_mask.any(axis=1), :]\n",
    "    \n",
    "    # if no compounds with matching name, formula and CAS are found add one to the last id number and add the compound with that id\n",
    "    if check_table.empty:\n",
    "        # this assumes table always ordered ascending to make addition faster\n",
    "        compound_details['id'] = int(compound_table.id.iat[-1] + 1)\n",
    "        compound_table = pd.concat([compound_table, pd.DataFrame([compound_details,])])\n",
    "        \n",
    "    else:\n",
    "        # if matches are found print them with a warning message and don't add the compound yet\n",
    "        print(f\"The following compounds appear to match the one you are trying to add {check_table.name.to_list()}.\")\n",
    "        print(\"To edit an existing entry please use the compound editor notebook. Otherwise please change the name or formula of your compound to add it.\")\n",
    "        display(check_table)\n",
    "        print(\"Your compound has not yet been added\")\n",
    "    "
   ]
  },
  {
   "cell_type": "markdown",
   "id": "1f3764e7-ce3e-4869-8a25-de77758c08b2",
   "metadata": {},
   "source": [
    "#### (Execute next cell to preview last 5 entries)"
   ]
  },
  {
   "cell_type": "code",
   "execution_count": 5,
   "id": "a2004099-22b8-4f91-bf37-ca6f5f67a157",
   "metadata": {
    "tags": []
   },
   "outputs": [
    {
     "data": {
      "text/html": [
       "<div>\n",
       "<style scoped>\n",
       "    .dataframe tbody tr th:only-of-type {\n",
       "        vertical-align: middle;\n",
       "    }\n",
       "\n",
       "    .dataframe tbody tr th {\n",
       "        vertical-align: top;\n",
       "    }\n",
       "\n",
       "    .dataframe thead th {\n",
       "        text-align: right;\n",
       "    }\n",
       "</style>\n",
       "<table border=\"1\" class=\"dataframe\">\n",
       "  <thead>\n",
       "    <tr style=\"text-align: right;\">\n",
       "      <th></th>\n",
       "      <th>id</th>\n",
       "      <th>name</th>\n",
       "      <th>formula</th>\n",
       "      <th>molecular_weight</th>\n",
       "      <th>CAS</th>\n",
       "      <th>source_dois</th>\n",
       "      <th>recyclable</th>\n",
       "      <th>type</th>\n",
       "      <th>compound_family</th>\n",
       "      <th>used_in_photocat</th>\n",
       "      <th>used_in_rfbs</th>\n",
       "      <th>used_as_hcarrier</th>\n",
       "    </tr>\n",
       "  </thead>\n",
       "  <tbody>\n",
       "    <tr>\n",
       "      <th>0</th>\n",
       "      <td>1</td>\n",
       "      <td>triethanolamine_test</td>\n",
       "      <td>N(CH4OH)3</td>\n",
       "      <td>0</td>\n",
       "      <td>randomstring</td>\n",
       "      <td></td>\n",
       "      <td>0</td>\n",
       "      <td></td>\n",
       "      <td></td>\n",
       "      <td>0</td>\n",
       "      <td>0</td>\n",
       "      <td>0</td>\n",
       "    </tr>\n",
       "  </tbody>\n",
       "</table>\n",
       "</div>"
      ],
      "text/plain": [
       "   id                  name    formula  molecular_weight           CAS  \\\n",
       "0   1  triethanolamine_test  N(CH4OH)3                 0  randomstring   \n",
       "\n",
       "  source_dois recyclable type compound_family used_in_photocat used_in_rfbs  \\\n",
       "0                      0                                     0            0   \n",
       "\n",
       "  used_as_hcarrier  \n",
       "0                0  "
      ]
     },
     "metadata": {},
     "output_type": "display_data"
    }
   ],
   "source": [
    "# code to preview last five entries\n",
    "if compound_table.shape[0] > 6:\n",
    "    display(compound_table.tail(5))\n",
    "else:\n",
    "    display(compound_table)\n"
   ]
  },
  {
   "cell_type": "markdown",
   "id": "0bc50757-addd-4ced-a8ee-2d35188fbad8",
   "metadata": {
    "tags": []
   },
   "source": [
    "### 4. Run the next cell to save your changes to the table "
   ]
  },
  {
   "cell_type": "code",
   "execution_count": 7,
   "id": "42e6606f-7f9e-4e93-901d-9f6fafbe1c7d",
   "metadata": {
    "tags": []
   },
   "outputs": [],
   "source": [
    "compound_table.to_parquet('compound_table.parquet', engine='pyarrow', compression=None)"
   ]
  },
  {
   "cell_type": "code",
   "execution_count": null,
   "id": "1f87caa1-85c9-43cd-b8e0-3d2c1563db96",
   "metadata": {
    "tags": []
   },
   "outputs": [],
   "source": []
  },
  {
   "cell_type": "code",
   "execution_count": null,
   "id": "f269ce0e-f465-4c48-babf-e3aec03e13f5",
   "metadata": {},
   "outputs": [],
   "source": []
  }
 ],
 "metadata": {
  "kernelspec": {
   "display_name": "Python 3 (ipykernel)",
   "language": "python",
   "name": "python3"
  },
  "language_info": {
   "codemirror_mode": {
    "name": "ipython",
    "version": 3
   },
   "file_extension": ".py",
   "mimetype": "text/x-python",
   "name": "python",
   "nbconvert_exporter": "python",
   "pygments_lexer": "ipython3",
   "version": "3.10.0"
  }
 },
 "nbformat": 4,
 "nbformat_minor": 5
}
