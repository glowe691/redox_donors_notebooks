{
 "cells": [
  {
   "cell_type": "code",
   "execution_count": 1,
   "id": "a4385e41-7ffe-479d-99bb-f9a5fe17717f",
   "metadata": {
    "tags": []
   },
   "outputs": [],
   "source": [
    "import pandas as pd"
   ]
  },
  {
   "cell_type": "markdown",
   "id": "80f80790-001f-4a12-8f56-7d5855c365c1",
   "metadata": {},
   "source": [
    "# Notebook for adding New compounds to table"
   ]
  },
  {
   "cell_type": "markdown",
   "id": "cd0c31a5-b18f-4151-ad09-f50511aa2cbb",
   "metadata": {},
   "source": [
    "### 1. Run this cell to load the table"
   ]
  },
  {
   "cell_type": "code",
   "execution_count": 20,
   "id": "b5f87f61-e0fd-4748-a7c2-8586417f3057",
   "metadata": {
    "tags": []
   },
   "outputs": [],
   "source": [
    "# load table from parquet file\n",
    "compound_table = pd.read_parquet('compound_table.parquet')\n",
    "\n",
    "# sort values by unique idea so last has highest id\n",
    "compound_table.sort_values('id', ascending=True, inplace=True)\n",
    "\n",
    "# electrochem_table = pd.read_parquet('electrochem_table.parquet')\n",
    "# photochem_table = pd.read_parquet('photochem_table.parquet')\n",
    "# solubility_table = pd.read_parquet('solubility_table.parquet')\n"
   ]
  },
  {
   "cell_type": "markdown",
   "id": "0ed8b125-01a5-4738-a643-2efd41fd80bc",
   "metadata": {},
   "source": [
    "### 2. Enter the details of the compound you want to add below, then run the cell"
   ]
  },
  {
   "cell_type": "code",
   "execution_count": 22,
   "id": "fadb7618-b16e-4e33-b430-10942f53143b",
   "metadata": {
    "tags": []
   },
   "outputs": [],
   "source": [
    "compound_details = {\n",
    "                  'name': 'dimethyldithiocarbamate (M-)', \n",
    "                  'formula': 'C3H6NS2-', \n",
    "                  'molecular_weight': 120, \n",
    "                  'CAS': '137-30-4', \n",
    "                  'source_dois': 'DOI: 10.1039/c2ta00719c, https://pubchem.ncbi.nlm.nih.gov/compound/3566770', \n",
    "                  'recyclable': 1, \n",
    "                  'type': 'electron donor', \n",
    "                  'compound_family': 'disulfide forming', \n",
    "                  'used_in_photocat': 0, \n",
    "                  'used_in_rfbs': 0, \n",
    "                  'used_as_hcarrier': 0,\n",
    "                'used_in_DSSC': 1,\n",
    "}"
   ]
  },
  {
   "cell_type": "markdown",
   "id": "34cd60e7-b6ce-4d4c-aa13-30694e3aff43",
   "metadata": {
    "tags": []
   },
   "source": [
    "### 3. Run this cell to add your compound to the table\n",
    "This code includes a duplication check."
   ]
  },
  {
   "cell_type": "code",
   "execution_count": 23,
   "id": "7b84be4a-4cb6-4e2c-ab6f-5220ff592c54",
   "metadata": {
    "tags": []
   },
   "outputs": [],
   "source": [
    "# create unique compound id and add compound\n",
    "\n",
    "# if the table is empty add the compound with id 1\n",
    "if compound_table.empty:\n",
    "    compound_details['id'] = int(1)\n",
    "    compound_table = pd.concat([compound_table, pd.DataFrame([compound_details,])])\n",
    "    \n",
    "    \n",
    "else:\n",
    "    # check if compounds already exist with the same combination of name, formula and CAS\n",
    "    check_mask = compound_table.isin([compound_details['name'], compound_details['formula'], compound_details['CAS']])\n",
    "    check_mask = check_mask.loc[(check_mask.name==True) & (check_mask.formula==True), :]\n",
    "    \n",
    "    # if the CAS is a blank string ignore CAS in your checks\n",
    "    if compound_details['CAS'] == '':\n",
    "        check_mask.CAS = False\n",
    "    \n",
    "    \n",
    "    # if no compounds with matching name, formula and CAS are found add one to the last id number and add the compound with that id\n",
    "    if check_mask.any(axis=1).empty:\n",
    "        # this assumes table always ordered ascending to make addition faster\n",
    "        compound_details['id'] = int(compound_table.id.iat[-1] + 1)\n",
    "        compound_table = pd.concat([compound_table, pd.DataFrame([compound_details,])])\n",
    "        \n",
    "    else:\n",
    "        # if matches are found print them with a warning message and don't add the compound yet\n",
    "        print(f\"The following compounds appear to match the one you are trying to add {check_table.name.to_list()}.\")\n",
    "        print(\"To edit an existing entry please use the compound editor notebook. Otherwise please change the name or formula of your compound to add it.\")\n",
    "        display(compound_table.loc[check_mask.any(axis=1), :])\n",
    "        print(\"Your compound has not yet been added\")\n",
    "    "
   ]
  },
  {
   "cell_type": "markdown",
   "id": "1f3764e7-ce3e-4869-8a25-de77758c08b2",
   "metadata": {},
   "source": [
    "#### (Execute next cell to preview last 5 entries)"
   ]
  },
  {
   "cell_type": "code",
   "execution_count": 24,
   "id": "a2004099-22b8-4f91-bf37-ca6f5f67a157",
   "metadata": {
    "tags": []
   },
   "outputs": [
    {
     "data": {
      "text/html": [
       "<div>\n",
       "<style scoped>\n",
       "    .dataframe tbody tr th:only-of-type {\n",
       "        vertical-align: middle;\n",
       "    }\n",
       "\n",
       "    .dataframe tbody tr th {\n",
       "        vertical-align: top;\n",
       "    }\n",
       "\n",
       "    .dataframe thead th {\n",
       "        text-align: right;\n",
       "    }\n",
       "</style>\n",
       "<table border=\"1\" class=\"dataframe\">\n",
       "  <thead>\n",
       "    <tr style=\"text-align: right;\">\n",
       "      <th></th>\n",
       "      <th>id</th>\n",
       "      <th>name</th>\n",
       "      <th>formula</th>\n",
       "      <th>molecular_weight</th>\n",
       "      <th>CAS</th>\n",
       "      <th>source_dois</th>\n",
       "      <th>recyclable</th>\n",
       "      <th>type</th>\n",
       "      <th>compound_family</th>\n",
       "      <th>used_in_photocat</th>\n",
       "      <th>used_in_rfbs</th>\n",
       "      <th>used_as_hcarrier</th>\n",
       "      <th>used_in_DSSC</th>\n",
       "    </tr>\n",
       "  </thead>\n",
       "  <tbody>\n",
       "    <tr>\n",
       "      <th>0</th>\n",
       "      <td>43</td>\n",
       "      <td>9,10-Dihydro-10-methyl-9-phenylacridine</td>\n",
       "      <td>C20H17N</td>\n",
       "      <td>271.0</td>\n",
       "      <td>56875-26-4</td>\n",
       "      <td>DOI: 10.1039/C9CC00928K, https://pubchem.ncbi....</td>\n",
       "      <td>1</td>\n",
       "      <td>electron donor</td>\n",
       "      <td>acridine</td>\n",
       "      <td>1</td>\n",
       "      <td>0</td>\n",
       "      <td>0</td>\n",
       "      <td>NaN</td>\n",
       "    </tr>\n",
       "    <tr>\n",
       "      <th>0</th>\n",
       "      <td>44</td>\n",
       "      <td>iridium triphenylpyridine Ir(ppy)3</td>\n",
       "      <td></td>\n",
       "      <td>0.0</td>\n",
       "      <td></td>\n",
       "      <td>DOI: 10.1038/nature23016</td>\n",
       "      <td>1</td>\n",
       "      <td>photosensitizer</td>\n",
       "      <td>organometallic</td>\n",
       "      <td>1</td>\n",
       "      <td>0</td>\n",
       "      <td>0</td>\n",
       "      <td>NaN</td>\n",
       "    </tr>\n",
       "    <tr>\n",
       "      <th>0</th>\n",
       "      <td>45</td>\n",
       "      <td>2-mercapto-5-methyl-1,3,4-thiadiazole (McMT)</td>\n",
       "      <td>C3H4N2S2</td>\n",
       "      <td>132.0</td>\n",
       "      <td>29490-19-5</td>\n",
       "      <td>DOI: 10.1002/anie.201003740, https://pubchem.n...</td>\n",
       "      <td>1</td>\n",
       "      <td>electron donor</td>\n",
       "      <td>disulfide forming</td>\n",
       "      <td>0</td>\n",
       "      <td>0</td>\n",
       "      <td>0</td>\n",
       "      <td>1.0</td>\n",
       "    </tr>\n",
       "    <tr>\n",
       "      <th>0</th>\n",
       "      <td>46</td>\n",
       "      <td>tetramethylthiourea (TMTU)</td>\n",
       "      <td>C5H12N2S</td>\n",
       "      <td>132.0</td>\n",
       "      <td>2782-91-4</td>\n",
       "      <td>DOI: 10.1002/adfm.201000150, https://pubchem.n...</td>\n",
       "      <td>1</td>\n",
       "      <td>electron donor</td>\n",
       "      <td>disulfide forming</td>\n",
       "      <td>0</td>\n",
       "      <td>0</td>\n",
       "      <td>0</td>\n",
       "      <td>1.0</td>\n",
       "    </tr>\n",
       "    <tr>\n",
       "      <th>0</th>\n",
       "      <td>47</td>\n",
       "      <td>dimethyldithiocarbamate (M-)</td>\n",
       "      <td>C3H6NS2-</td>\n",
       "      <td>120.0</td>\n",
       "      <td>137-30-4</td>\n",
       "      <td>DOI: 10.1039/c2ta00719c, https://pubchem.ncbi....</td>\n",
       "      <td>1</td>\n",
       "      <td>electron donor</td>\n",
       "      <td>disulfide forming</td>\n",
       "      <td>0</td>\n",
       "      <td>0</td>\n",
       "      <td>0</td>\n",
       "      <td>1.0</td>\n",
       "    </tr>\n",
       "  </tbody>\n",
       "</table>\n",
       "</div>"
      ],
      "text/plain": [
       "   id                                           name   formula  \\\n",
       "0  43        9,10-Dihydro-10-methyl-9-phenylacridine   C20H17N   \n",
       "0  44             iridium triphenylpyridine Ir(ppy)3             \n",
       "0  45   2-mercapto-5-methyl-1,3,4-thiadiazole (McMT)  C3H4N2S2   \n",
       "0  46                     tetramethylthiourea (TMTU)  C5H12N2S   \n",
       "0  47                   dimethyldithiocarbamate (M-)  C3H6NS2-   \n",
       "\n",
       "   molecular_weight         CAS  \\\n",
       "0             271.0  56875-26-4   \n",
       "0               0.0               \n",
       "0             132.0  29490-19-5   \n",
       "0             132.0   2782-91-4   \n",
       "0             120.0    137-30-4   \n",
       "\n",
       "                                         source_dois  recyclable  \\\n",
       "0  DOI: 10.1039/C9CC00928K, https://pubchem.ncbi....           1   \n",
       "0                           DOI: 10.1038/nature23016           1   \n",
       "0  DOI: 10.1002/anie.201003740, https://pubchem.n...           1   \n",
       "0  DOI: 10.1002/adfm.201000150, https://pubchem.n...           1   \n",
       "0  DOI: 10.1039/c2ta00719c, https://pubchem.ncbi....           1   \n",
       "\n",
       "              type    compound_family  used_in_photocat  used_in_rfbs  \\\n",
       "0   electron donor           acridine                 1             0   \n",
       "0  photosensitizer     organometallic                 1             0   \n",
       "0   electron donor  disulfide forming                 0             0   \n",
       "0   electron donor  disulfide forming                 0             0   \n",
       "0   electron donor  disulfide forming                 0             0   \n",
       "\n",
       "   used_as_hcarrier  used_in_DSSC  \n",
       "0                 0           NaN  \n",
       "0                 0           NaN  \n",
       "0                 0           1.0  \n",
       "0                 0           1.0  \n",
       "0                 0           1.0  "
      ]
     },
     "metadata": {},
     "output_type": "display_data"
    }
   ],
   "source": [
    "# code to preview last five entries\n",
    "if compound_table.shape[0] > 6:\n",
    "    display(compound_table.tail(5))\n",
    "else:\n",
    "    display(compound_table)\n"
   ]
  },
  {
   "cell_type": "markdown",
   "id": "0bc50757-addd-4ced-a8ee-2d35188fbad8",
   "metadata": {
    "tags": []
   },
   "source": [
    "### 4. Run the next cell to save your changes to the table "
   ]
  },
  {
   "cell_type": "code",
   "execution_count": 25,
   "id": "42e6606f-7f9e-4e93-901d-9f6fafbe1c7d",
   "metadata": {
    "tags": []
   },
   "outputs": [],
   "source": [
    "compound_table.to_parquet('compound_table.parquet', engine='pyarrow', compression=None)"
   ]
  },
  {
   "cell_type": "code",
   "execution_count": 6,
   "id": "0b41858d-e6db-4830-b6bf-36181684473e",
   "metadata": {},
   "outputs": [
    {
     "data": {
      "text/plain": [
       "array(['electron donor', 'electron acceptor', 'photosensitizer'],\n",
       "      dtype=object)"
      ]
     },
     "execution_count": 6,
     "metadata": {},
     "output_type": "execute_result"
    }
   ],
   "source": [
    "compound_table.type.unique()"
   ]
  },
  {
   "cell_type": "code",
   "execution_count": 26,
   "id": "c6128853-fa50-4275-8956-b2df55b2c312",
   "metadata": {},
   "outputs": [
    {
     "data": {
      "text/html": [
       "<div>\n",
       "<style scoped>\n",
       "    .dataframe tbody tr th:only-of-type {\n",
       "        vertical-align: middle;\n",
       "    }\n",
       "\n",
       "    .dataframe tbody tr th {\n",
       "        vertical-align: top;\n",
       "    }\n",
       "\n",
       "    .dataframe thead th {\n",
       "        text-align: right;\n",
       "    }\n",
       "</style>\n",
       "<table border=\"1\" class=\"dataframe\">\n",
       "  <thead>\n",
       "    <tr style=\"text-align: right;\">\n",
       "      <th></th>\n",
       "      <th>id</th>\n",
       "      <th>name</th>\n",
       "      <th>formula</th>\n",
       "      <th>molecular_weight</th>\n",
       "      <th>CAS</th>\n",
       "      <th>source_dois</th>\n",
       "      <th>recyclable</th>\n",
       "      <th>type</th>\n",
       "      <th>compound_family</th>\n",
       "      <th>used_in_photocat</th>\n",
       "      <th>used_in_rfbs</th>\n",
       "      <th>used_as_hcarrier</th>\n",
       "      <th>used_in_DSSC</th>\n",
       "    </tr>\n",
       "  </thead>\n",
       "  <tbody>\n",
       "    <tr>\n",
       "      <th>0</th>\n",
       "      <td>33</td>\n",
       "      <td>5-mercapto-1-methyltetrazole (T-)</td>\n",
       "      <td>C2H3N4S</td>\n",
       "      <td>115.0</td>\n",
       "      <td></td>\n",
       "      <td>DOI: 10.1038/nchem.610,</td>\n",
       "      <td>1</td>\n",
       "      <td>electron donor</td>\n",
       "      <td>disulfide forming</td>\n",
       "      <td>0</td>\n",
       "      <td>0</td>\n",
       "      <td>0</td>\n",
       "      <td>1.0</td>\n",
       "    </tr>\n",
       "    <tr>\n",
       "      <th>0</th>\n",
       "      <td>39</td>\n",
       "      <td>1,2dimethyl-3-propyl-imidazol L-cysteine ([DMP...</td>\n",
       "      <td>2[C8H15N2]+[C3H5NO2S]2-</td>\n",
       "      <td>397.0</td>\n",
       "      <td></td>\n",
       "      <td>DOI: 10.1039/C1EE02540F</td>\n",
       "      <td>1</td>\n",
       "      <td>electron donor</td>\n",
       "      <td>disulfide forming</td>\n",
       "      <td>0</td>\n",
       "      <td>0</td>\n",
       "      <td>0</td>\n",
       "      <td>1.0</td>\n",
       "    </tr>\n",
       "    <tr>\n",
       "      <th>0</th>\n",
       "      <td>45</td>\n",
       "      <td>2-mercapto-5-methyl-1,3,4-thiadiazole (McMT)</td>\n",
       "      <td>C3H4N2S2</td>\n",
       "      <td>132.0</td>\n",
       "      <td>29490-19-5</td>\n",
       "      <td>DOI: 10.1002/anie.201003740, https://pubchem.n...</td>\n",
       "      <td>1</td>\n",
       "      <td>electron donor</td>\n",
       "      <td>disulfide forming</td>\n",
       "      <td>0</td>\n",
       "      <td>0</td>\n",
       "      <td>0</td>\n",
       "      <td>1.0</td>\n",
       "    </tr>\n",
       "    <tr>\n",
       "      <th>0</th>\n",
       "      <td>46</td>\n",
       "      <td>tetramethylthiourea (TMTU)</td>\n",
       "      <td>C5H12N2S</td>\n",
       "      <td>132.0</td>\n",
       "      <td>2782-91-4</td>\n",
       "      <td>DOI: 10.1002/adfm.201000150, https://pubchem.n...</td>\n",
       "      <td>1</td>\n",
       "      <td>electron donor</td>\n",
       "      <td>disulfide forming</td>\n",
       "      <td>0</td>\n",
       "      <td>0</td>\n",
       "      <td>0</td>\n",
       "      <td>1.0</td>\n",
       "    </tr>\n",
       "    <tr>\n",
       "      <th>0</th>\n",
       "      <td>47</td>\n",
       "      <td>dimethyldithiocarbamate (M-)</td>\n",
       "      <td>C3H6NS2-</td>\n",
       "      <td>120.0</td>\n",
       "      <td>137-30-4</td>\n",
       "      <td>DOI: 10.1039/c2ta00719c, https://pubchem.ncbi....</td>\n",
       "      <td>1</td>\n",
       "      <td>electron donor</td>\n",
       "      <td>disulfide forming</td>\n",
       "      <td>0</td>\n",
       "      <td>0</td>\n",
       "      <td>0</td>\n",
       "      <td>1.0</td>\n",
       "    </tr>\n",
       "  </tbody>\n",
       "</table>\n",
       "</div>"
      ],
      "text/plain": [
       "   id                                               name  \\\n",
       "0  33                  5-mercapto-1-methyltetrazole (T-)   \n",
       "0  39  1,2dimethyl-3-propyl-imidazol L-cysteine ([DMP...   \n",
       "0  45       2-mercapto-5-methyl-1,3,4-thiadiazole (McMT)   \n",
       "0  46                         tetramethylthiourea (TMTU)   \n",
       "0  47                       dimethyldithiocarbamate (M-)   \n",
       "\n",
       "                   formula  molecular_weight         CAS  \\\n",
       "0                  C2H3N4S             115.0               \n",
       "0  2[C8H15N2]+[C3H5NO2S]2-             397.0               \n",
       "0                 C3H4N2S2             132.0  29490-19-5   \n",
       "0                 C5H12N2S             132.0   2782-91-4   \n",
       "0                 C3H6NS2-             120.0    137-30-4   \n",
       "\n",
       "                                         source_dois  recyclable  \\\n",
       "0                            DOI: 10.1038/nchem.610,           1   \n",
       "0                            DOI: 10.1039/C1EE02540F           1   \n",
       "0  DOI: 10.1002/anie.201003740, https://pubchem.n...           1   \n",
       "0  DOI: 10.1002/adfm.201000150, https://pubchem.n...           1   \n",
       "0  DOI: 10.1039/c2ta00719c, https://pubchem.ncbi....           1   \n",
       "\n",
       "             type    compound_family  used_in_photocat  used_in_rfbs  \\\n",
       "0  electron donor  disulfide forming                 0             0   \n",
       "0  electron donor  disulfide forming                 0             0   \n",
       "0  electron donor  disulfide forming                 0             0   \n",
       "0  electron donor  disulfide forming                 0             0   \n",
       "0  electron donor  disulfide forming                 0             0   \n",
       "\n",
       "   used_as_hcarrier  used_in_DSSC  \n",
       "0                 0           1.0  \n",
       "0                 0           1.0  \n",
       "0                 0           1.0  \n",
       "0                 0           1.0  \n",
       "0                 0           1.0  "
      ]
     },
     "metadata": {},
     "output_type": "display_data"
    }
   ],
   "source": [
    "display(compound_table.loc[compound_table.compound_family=='disulfide forming', :])"
   ]
  },
  {
   "cell_type": "code",
   "execution_count": 4,
   "id": "3242c114-a7a8-4edf-b7ba-1dfda34d3b63",
   "metadata": {
    "tags": []
   },
   "outputs": [
    {
     "data": {
      "text/plain": [
       "92"
      ]
     },
     "execution_count": 4,
     "metadata": {},
     "output_type": "execute_result"
    }
   ],
   "source": [
    "#''C17H21N3''\n",
    "12+17+21+14*3"
   ]
  },
  {
   "cell_type": "code",
   "execution_count": null,
   "id": "f2d6cb2d-951a-414e-9c6a-011fb1886a79",
   "metadata": {},
   "outputs": [],
   "source": []
  }
 ],
 "metadata": {
  "kernelspec": {
   "display_name": "Python 3 (ipykernel)",
   "language": "python",
   "name": "python3"
  },
  "language_info": {
   "codemirror_mode": {
    "name": "ipython",
    "version": 3
   },
   "file_extension": ".py",
   "mimetype": "text/x-python",
   "name": "python",
   "nbconvert_exporter": "python",
   "pygments_lexer": "ipython3",
   "version": "3.10.0"
  }
 },
 "nbformat": 4,
 "nbformat_minor": 5
}
