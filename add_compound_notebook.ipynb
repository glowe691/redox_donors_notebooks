{
 "cells": [
  {
   "cell_type": "code",
   "execution_count": 1,
   "id": "a4385e41-7ffe-479d-99bb-f9a5fe17717f",
   "metadata": {
    "tags": []
   },
   "outputs": [],
   "source": [
    "import pandas as pd"
   ]
  },
  {
   "cell_type": "markdown",
   "id": "80f80790-001f-4a12-8f56-7d5855c365c1",
   "metadata": {},
   "source": [
    "# Notebook for adding New compounds to table"
   ]
  },
  {
   "cell_type": "markdown",
   "id": "cd0c31a5-b18f-4151-ad09-f50511aa2cbb",
   "metadata": {},
   "source": [
    "### 1. Run this cell to load the table"
   ]
  },
  {
   "cell_type": "code",
   "execution_count": 16,
   "id": "b5f87f61-e0fd-4748-a7c2-8586417f3057",
   "metadata": {
    "tags": []
   },
   "outputs": [],
   "source": [
    "# load table from parquet file\n",
    "compound_table = pd.read_parquet('compound_table.parquet')\n",
    "\n",
    "# sort values by unique idea so last has highest id\n",
    "compound_table.sort_values('id', ascending=True, inplace=True)\n",
    "\n",
    "# electrochem_table = pd.read_parquet('electrochem_table.parquet')\n",
    "# photochem_table = pd.read_parquet('photochem_table.parquet')\n",
    "# solubility_table = pd.read_parquet('solubility_table.parquet')\n"
   ]
  },
  {
   "cell_type": "markdown",
   "id": "0ed8b125-01a5-4738-a643-2efd41fd80bc",
   "metadata": {},
   "source": [
    "### 2. Enter the details of the compound you want to add below, then run the cell"
   ]
  },
  {
   "cell_type": "code",
   "execution_count": 21,
   "id": "fadb7618-b16e-4e33-b430-10942f53143b",
   "metadata": {
    "tags": []
   },
   "outputs": [],
   "source": [
    "compound_details = {\n",
    "                  'name': 'potassium 2,5-hydroxybenzenesulfonate (potassium hydroquinone sulfonate)', \n",
    "                  'formula': 'C6H5KO5S', \n",
    "                  'molecular_weight': 228, \n",
    "                  'CAS': '21799-87-1', \n",
    "                  'source_dois': 'DOI:10.1002/aenm.202002453, https://pubchem.ncbi.nlm.nih.gov/compound/23672329', \n",
    "                  'recyclable': 1, \n",
    "                  'type': 'electron donor', \n",
    "                  'compound_family': 'quinone', \n",
    "                  'used_in_photocat': 0, \n",
    "                  'used_in_rfbs': 0, \n",
    "                  'used_as_hcarrier': 1}"
   ]
  },
  {
   "cell_type": "markdown",
   "id": "34cd60e7-b6ce-4d4c-aa13-30694e3aff43",
   "metadata": {
    "tags": []
   },
   "source": [
    "### 3. Run this cell to add your compound to the table\n",
    "This code includes a duplication check."
   ]
  },
  {
   "cell_type": "code",
   "execution_count": 22,
   "id": "7b84be4a-4cb6-4e2c-ab6f-5220ff592c54",
   "metadata": {
    "tags": []
   },
   "outputs": [],
   "source": [
    "# create unique compound id and add compound\n",
    "\n",
    "# if the table is empty add the compound with id 1\n",
    "if compound_table.empty:\n",
    "    compound_details['id'] = int(1)\n",
    "    compound_table = pd.concat([compound_table, pd.DataFrame([compound_details,])])\n",
    "    \n",
    "    \n",
    "else:\n",
    "    # check if compounds already exist with the same combination of name, formula and CAS\n",
    "    check_mask = compound_table.isin([compound_details['name'], compound_details['formula'], compound_details['CAS']])\n",
    "    check_mask = check_mask.loc[(check_mask.name==True) & (check_mask.formula==True), :]\n",
    "    \n",
    "    # if the CAS is a blank string ignore CAS in your checks\n",
    "    if compound_details['CAS'] == '':\n",
    "        check_mask.CAS = False\n",
    "    \n",
    "    \n",
    "    # if no compounds with matching name, formula and CAS are found add one to the last id number and add the compound with that id\n",
    "    if check_mask.any(axis=1).empty:\n",
    "        # this assumes table always ordered ascending to make addition faster\n",
    "        compound_details['id'] = int(compound_table.id.iat[-1] + 1)\n",
    "        compound_table = pd.concat([compound_table, pd.DataFrame([compound_details,])])\n",
    "        \n",
    "    else:\n",
    "        # if matches are found print them with a warning message and don't add the compound yet\n",
    "        print(f\"The following compounds appear to match the one you are trying to add {check_table.name.to_list()}.\")\n",
    "        print(\"To edit an existing entry please use the compound editor notebook. Otherwise please change the name or formula of your compound to add it.\")\n",
    "        display(compound_table.loc[check_mask.any(axis=1), :])\n",
    "        print(\"Your compound has not yet been added\")\n",
    "    "
   ]
  },
  {
   "cell_type": "markdown",
   "id": "1f3764e7-ce3e-4869-8a25-de77758c08b2",
   "metadata": {},
   "source": [
    "#### (Execute next cell to preview last 5 entries)"
   ]
  },
  {
   "cell_type": "code",
   "execution_count": 23,
   "id": "a2004099-22b8-4f91-bf37-ca6f5f67a157",
   "metadata": {
    "tags": []
   },
   "outputs": [
    {
     "data": {
      "text/html": [
       "<div>\n",
       "<style scoped>\n",
       "    .dataframe tbody tr th:only-of-type {\n",
       "        vertical-align: middle;\n",
       "    }\n",
       "\n",
       "    .dataframe tbody tr th {\n",
       "        vertical-align: top;\n",
       "    }\n",
       "\n",
       "    .dataframe thead th {\n",
       "        text-align: right;\n",
       "    }\n",
       "</style>\n",
       "<table border=\"1\" class=\"dataframe\">\n",
       "  <thead>\n",
       "    <tr style=\"text-align: right;\">\n",
       "      <th></th>\n",
       "      <th>id</th>\n",
       "      <th>name</th>\n",
       "      <th>formula</th>\n",
       "      <th>molecular_weight</th>\n",
       "      <th>CAS</th>\n",
       "      <th>source_dois</th>\n",
       "      <th>recyclable</th>\n",
       "      <th>type</th>\n",
       "      <th>compound_family</th>\n",
       "      <th>used_in_photocat</th>\n",
       "      <th>used_in_rfbs</th>\n",
       "      <th>used_as_hcarrier</th>\n",
       "    </tr>\n",
       "  </thead>\n",
       "  <tbody>\n",
       "    <tr>\n",
       "      <th>0</th>\n",
       "      <td>19</td>\n",
       "      <td>1,3-dimethyl-2-(2,4,6-trimethoxyphenyl)-2H-be...</td>\n",
       "      <td>C18H22N2O3</td>\n",
       "      <td>314.0</td>\n",
       "      <td></td>\n",
       "      <td>DOI:10.1021/acs.jpcc.2c03541, https://pubchem....</td>\n",
       "      <td>1</td>\n",
       "      <td>electron donor</td>\n",
       "      <td>benzimidazole</td>\n",
       "      <td>1</td>\n",
       "      <td>0</td>\n",
       "      <td>0</td>\n",
       "    </tr>\n",
       "    <tr>\n",
       "      <th>0</th>\n",
       "      <td>20</td>\n",
       "      <td>5-methoxy-1,3-dimethyl-2-(4-methoxyphenyl)-2H...</td>\n",
       "      <td>C17H20N2O2</td>\n",
       "      <td>284.0</td>\n",
       "      <td></td>\n",
       "      <td>DOI:10.1039/D1CY01209F</td>\n",
       "      <td>0</td>\n",
       "      <td>electron donor</td>\n",
       "      <td>benzimidazole</td>\n",
       "      <td>1</td>\n",
       "      <td>0</td>\n",
       "      <td>0</td>\n",
       "    </tr>\n",
       "    <tr>\n",
       "      <th>0</th>\n",
       "      <td>21</td>\n",
       "      <td>5,6-dimethoxy-1,3-dimethyl-2-(phenyl)-2H-benz...</td>\n",
       "      <td>C17H20N2O2</td>\n",
       "      <td>284.0</td>\n",
       "      <td></td>\n",
       "      <td>DOI:10.1039/D1CY01209F</td>\n",
       "      <td>0</td>\n",
       "      <td>electron donor</td>\n",
       "      <td>benzimidazole</td>\n",
       "      <td>1</td>\n",
       "      <td>0</td>\n",
       "      <td>0</td>\n",
       "    </tr>\n",
       "    <tr>\n",
       "      <th>0</th>\n",
       "      <td>22</td>\n",
       "      <td>2,7-anthraquinonedisulfonic acid (AQDS)</td>\n",
       "      <td>C14H8O8S2</td>\n",
       "      <td>368.0</td>\n",
       "      <td>84-49-1</td>\n",
       "      <td>DOI:10.1002/aenm.202002453, https://pubchem.nc...</td>\n",
       "      <td>1</td>\n",
       "      <td>electron donor</td>\n",
       "      <td>quinone</td>\n",
       "      <td>0</td>\n",
       "      <td>1</td>\n",
       "      <td>1</td>\n",
       "    </tr>\n",
       "    <tr>\n",
       "      <th>0</th>\n",
       "      <td>23</td>\n",
       "      <td>potassium 2,5-hydroxybenzenesulfonate (potassi...</td>\n",
       "      <td>C6H5KO5S</td>\n",
       "      <td>228.0</td>\n",
       "      <td>21799-87-1</td>\n",
       "      <td>DOI:10.1002/aenm.202002453, https://pubchem.nc...</td>\n",
       "      <td>1</td>\n",
       "      <td>electron donor</td>\n",
       "      <td>quinone</td>\n",
       "      <td>0</td>\n",
       "      <td>0</td>\n",
       "      <td>1</td>\n",
       "    </tr>\n",
       "  </tbody>\n",
       "</table>\n",
       "</div>"
      ],
      "text/plain": [
       "   id                                               name     formula  \\\n",
       "0  19   1,3-dimethyl-2-(2,4,6-trimethoxyphenyl)-2H-be...  C18H22N2O3   \n",
       "0  20   5-methoxy-1,3-dimethyl-2-(4-methoxyphenyl)-2H...  C17H20N2O2   \n",
       "0  21   5,6-dimethoxy-1,3-dimethyl-2-(phenyl)-2H-benz...  C17H20N2O2   \n",
       "0  22            2,7-anthraquinonedisulfonic acid (AQDS)   C14H8O8S2   \n",
       "0  23  potassium 2,5-hydroxybenzenesulfonate (potassi...    C6H5KO5S   \n",
       "\n",
       "   molecular_weight         CAS  \\\n",
       "0             314.0               \n",
       "0             284.0               \n",
       "0             284.0               \n",
       "0             368.0     84-49-1   \n",
       "0             228.0  21799-87-1   \n",
       "\n",
       "                                         source_dois  recyclable  \\\n",
       "0  DOI:10.1021/acs.jpcc.2c03541, https://pubchem....           1   \n",
       "0                             DOI:10.1039/D1CY01209F           0   \n",
       "0                             DOI:10.1039/D1CY01209F           0   \n",
       "0  DOI:10.1002/aenm.202002453, https://pubchem.nc...           1   \n",
       "0  DOI:10.1002/aenm.202002453, https://pubchem.nc...           1   \n",
       "\n",
       "             type compound_family  used_in_photocat  used_in_rfbs  \\\n",
       "0  electron donor   benzimidazole                 1             0   \n",
       "0  electron donor   benzimidazole                 1             0   \n",
       "0  electron donor   benzimidazole                 1             0   \n",
       "0  electron donor         quinone                 0             1   \n",
       "0  electron donor         quinone                 0             0   \n",
       "\n",
       "   used_as_hcarrier  \n",
       "0                 0  \n",
       "0                 0  \n",
       "0                 0  \n",
       "0                 1  \n",
       "0                 1  "
      ]
     },
     "metadata": {},
     "output_type": "display_data"
    }
   ],
   "source": [
    "# code to preview last five entries\n",
    "if compound_table.shape[0] > 6:\n",
    "    display(compound_table.tail(5))\n",
    "else:\n",
    "    display(compound_table)\n"
   ]
  },
  {
   "cell_type": "markdown",
   "id": "0bc50757-addd-4ced-a8ee-2d35188fbad8",
   "metadata": {
    "tags": []
   },
   "source": [
    "### 4. Run the next cell to save your changes to the table "
   ]
  },
  {
   "cell_type": "code",
   "execution_count": 25,
   "id": "42e6606f-7f9e-4e93-901d-9f6fafbe1c7d",
   "metadata": {
    "tags": []
   },
   "outputs": [],
   "source": [
    "compound_table.to_parquet('compound_table.parquet', engine='pyarrow', compression=None)"
   ]
  },
  {
   "cell_type": "code",
   "execution_count": 7,
   "id": "0b41858d-e6db-4830-b6bf-36181684473e",
   "metadata": {},
   "outputs": [
    {
     "data": {
      "text/plain": [
       "284"
      ]
     },
     "execution_count": 7,
     "metadata": {},
     "output_type": "execute_result"
    }
   ],
   "source": [
    "254+16+12+2"
   ]
  },
  {
   "cell_type": "code",
   "execution_count": null,
   "id": "c6128853-fa50-4275-8956-b2df55b2c312",
   "metadata": {},
   "outputs": [],
   "source": []
  }
 ],
 "metadata": {
  "kernelspec": {
   "display_name": "Python 3 (ipykernel)",
   "language": "python",
   "name": "python3"
  },
  "language_info": {
   "codemirror_mode": {
    "name": "ipython",
    "version": 3
   },
   "file_extension": ".py",
   "mimetype": "text/x-python",
   "name": "python",
   "nbconvert_exporter": "python",
   "pygments_lexer": "ipython3",
   "version": "3.10.0"
  }
 },
 "nbformat": 4,
 "nbformat_minor": 5
}
