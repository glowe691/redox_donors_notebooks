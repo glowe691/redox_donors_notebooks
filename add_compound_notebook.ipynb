{
 "cells": [
  {
   "cell_type": "code",
   "execution_count": 2,
   "id": "a4385e41-7ffe-479d-99bb-f9a5fe17717f",
   "metadata": {
    "tags": []
   },
   "outputs": [],
   "source": [
    "import pandas as pd"
   ]
  },
  {
   "cell_type": "markdown",
   "id": "80f80790-001f-4a12-8f56-7d5855c365c1",
   "metadata": {},
   "source": [
    "# Notebook for adding New compounds to table"
   ]
  },
  {
   "cell_type": "markdown",
   "id": "cd0c31a5-b18f-4151-ad09-f50511aa2cbb",
   "metadata": {},
   "source": [
    "### 1. Run this cell to load the table"
   ]
  },
  {
   "cell_type": "code",
   "execution_count": 3,
   "id": "b5f87f61-e0fd-4748-a7c2-8586417f3057",
   "metadata": {
    "tags": []
   },
   "outputs": [],
   "source": [
    "# load table from parquet file\n",
    "compound_table = pd.read_parquet('compound_table.parquet')\n",
    "\n",
    "# sort values by unique idea so last has highest id\n",
    "compound_table.sort_values('id', ascending=True, inplace=True)\n",
    "\n",
    "# electrochem_table = pd.read_parquet('electrochem_table.parquet')\n",
    "# photochem_table = pd.read_parquet('photochem_table.parquet')\n",
    "# solubility_table = pd.read_parquet('solubility_table.parquet')\n"
   ]
  },
  {
   "cell_type": "markdown",
   "id": "0ed8b125-01a5-4738-a643-2efd41fd80bc",
   "metadata": {},
   "source": [
    "### 2. Enter the details of the compound you want to add below, then run the cell"
   ]
  },
  {
   "cell_type": "code",
   "execution_count": 32,
   "id": "fadb7618-b16e-4e33-b430-10942f53143b",
   "metadata": {
    "tags": []
   },
   "outputs": [],
   "source": [
    "compound_details = {\n",
    "                  'name': ' (dimethylaminomethyl)ferrocene (FcN)', \n",
    "                  'formula': 'C13H17FeN', \n",
    "                  'molecular_weight': 243, \n",
    "                  'CAS': '1271-86-9', \n",
    "                  'source_dois': 'DOI:10.1021/jacs.6b10984, https://www.sigmaaldrich.com/GB/en/product/aldrich/119342', \n",
    "                  'recyclable': 1, \n",
    "                  'type': 'electron donor', \n",
    "                  'compound_family': 'ferrocene', \n",
    "                  'used_in_photocat': 0, \n",
    "                  'used_in_rfbs': 1, \n",
    "                  'used_as_hcarrier': 0}"
   ]
  },
  {
   "cell_type": "markdown",
   "id": "34cd60e7-b6ce-4d4c-aa13-30694e3aff43",
   "metadata": {
    "tags": []
   },
   "source": [
    "### 3. Run this cell to add your compound to the table\n",
    "This code includes a duplication check."
   ]
  },
  {
   "cell_type": "code",
   "execution_count": 33,
   "id": "7b84be4a-4cb6-4e2c-ab6f-5220ff592c54",
   "metadata": {
    "tags": []
   },
   "outputs": [],
   "source": [
    "# create unique compound id and add compound\n",
    "\n",
    "# if the table is empty add the compound with id 1\n",
    "if compound_table.empty:\n",
    "    compound_details['id'] = int(1)\n",
    "    compound_table = pd.concat([compound_table, pd.DataFrame([compound_details,])])\n",
    "    \n",
    "    \n",
    "else:\n",
    "    # check if compounds already exist with the same combination of name, formula and CAS\n",
    "    check_mask = compound_table.isin([compound_details['name'], compound_details['formula'], compound_details['CAS']])\n",
    "    check_mask = check_mask.loc[(check_mask.name==True) & (check_mask.formula==True), :]\n",
    "    \n",
    "    # if the CAS is a blank string ignore CAS in your checks\n",
    "    if compound_details['CAS'] == '':\n",
    "        check_mask.CAS = False\n",
    "    \n",
    "    \n",
    "    # if no compounds with matching name, formula and CAS are found add one to the last id number and add the compound with that id\n",
    "    if check_mask.any(axis=1).empty:\n",
    "        # this assumes table always ordered ascending to make addition faster\n",
    "        compound_details['id'] = int(compound_table.id.iat[-1] + 1)\n",
    "        compound_table = pd.concat([compound_table, pd.DataFrame([compound_details,])])\n",
    "        \n",
    "    else:\n",
    "        # if matches are found print them with a warning message and don't add the compound yet\n",
    "        print(f\"The following compounds appear to match the one you are trying to add {check_table.name.to_list()}.\")\n",
    "        print(\"To edit an existing entry please use the compound editor notebook. Otherwise please change the name or formula of your compound to add it.\")\n",
    "        display(compound_table.loc[check_mask.any(axis=1), :])\n",
    "        print(\"Your compound has not yet been added\")\n",
    "    "
   ]
  },
  {
   "cell_type": "markdown",
   "id": "1f3764e7-ce3e-4869-8a25-de77758c08b2",
   "metadata": {},
   "source": [
    "#### (Execute next cell to preview last 5 entries)"
   ]
  },
  {
   "cell_type": "code",
   "execution_count": 34,
   "id": "a2004099-22b8-4f91-bf37-ca6f5f67a157",
   "metadata": {
    "tags": []
   },
   "outputs": [
    {
     "data": {
      "text/html": [
       "<div>\n",
       "<style scoped>\n",
       "    .dataframe tbody tr th:only-of-type {\n",
       "        vertical-align: middle;\n",
       "    }\n",
       "\n",
       "    .dataframe tbody tr th {\n",
       "        vertical-align: top;\n",
       "    }\n",
       "\n",
       "    .dataframe thead th {\n",
       "        text-align: right;\n",
       "    }\n",
       "</style>\n",
       "<table border=\"1\" class=\"dataframe\">\n",
       "  <thead>\n",
       "    <tr style=\"text-align: right;\">\n",
       "      <th></th>\n",
       "      <th>id</th>\n",
       "      <th>name</th>\n",
       "      <th>formula</th>\n",
       "      <th>molecular_weight</th>\n",
       "      <th>CAS</th>\n",
       "      <th>source_dois</th>\n",
       "      <th>recyclable</th>\n",
       "      <th>type</th>\n",
       "      <th>compound_family</th>\n",
       "      <th>used_in_photocat</th>\n",
       "      <th>used_in_rfbs</th>\n",
       "      <th>used_as_hcarrier</th>\n",
       "    </tr>\n",
       "  </thead>\n",
       "  <tbody>\n",
       "    <tr>\n",
       "      <th>0</th>\n",
       "      <td>14</td>\n",
       "      <td>2-(1,3-dimethyl-2H-benzimidazol-2-yl)phenol (H...</td>\n",
       "      <td>C15H16N2O</td>\n",
       "      <td>293.0</td>\n",
       "      <td>3652-93-5</td>\n",
       "      <td>doi:10.1016/j.tet.2006.03.061, https://pubchem...</td>\n",
       "      <td>0</td>\n",
       "      <td>electron donor</td>\n",
       "      <td>benzimidazole</td>\n",
       "      <td>1</td>\n",
       "      <td>0</td>\n",
       "      <td>0</td>\n",
       "    </tr>\n",
       "    <tr>\n",
       "      <th>0</th>\n",
       "      <td>15</td>\n",
       "      <td>(ferrocenylmethyl)trimethylammonium chloride (...</td>\n",
       "      <td>C14H20ClFeN</td>\n",
       "      <td>293.0</td>\n",
       "      <td>83617-79-2</td>\n",
       "      <td>DOI:10.1021/jacs.6b10984, https://pubchem.ncbi...</td>\n",
       "      <td>1</td>\n",
       "      <td>electron donor</td>\n",
       "      <td>ferrocene</td>\n",
       "      <td>0</td>\n",
       "      <td>1</td>\n",
       "      <td>0</td>\n",
       "    </tr>\n",
       "    <tr>\n",
       "      <th>0</th>\n",
       "      <td>16</td>\n",
       "      <td>N1-ferrocenylmethyl-N1,N1,N2,N2,N2-pentamethyl...</td>\n",
       "      <td>C19H32Br2FeN2</td>\n",
       "      <td>502.0</td>\n",
       "      <td></td>\n",
       "      <td>DOI:10.1021/jacs.6b10984,,</td>\n",
       "      <td>1</td>\n",
       "      <td>electron donor</td>\n",
       "      <td>ferrocene</td>\n",
       "      <td>0</td>\n",
       "      <td>1</td>\n",
       "      <td>0</td>\n",
       "    </tr>\n",
       "    <tr>\n",
       "      <th>0</th>\n",
       "      <td>17</td>\n",
       "      <td>methyl viologen (MV)</td>\n",
       "      <td>C12H14Cl2N2</td>\n",
       "      <td>257.0</td>\n",
       "      <td>1910-42-5</td>\n",
       "      <td>DOI:10.1021/jacs.6b10984, https://pubchem.ncbi...</td>\n",
       "      <td>1</td>\n",
       "      <td>electron donor</td>\n",
       "      <td>ferrocene</td>\n",
       "      <td>1</td>\n",
       "      <td>1</td>\n",
       "      <td>0</td>\n",
       "    </tr>\n",
       "    <tr>\n",
       "      <th>0</th>\n",
       "      <td>18</td>\n",
       "      <td>(dimethylaminomethyl)ferrocene (FcN)</td>\n",
       "      <td>C13H17FeN</td>\n",
       "      <td>243.0</td>\n",
       "      <td>1271-86-9</td>\n",
       "      <td>DOI:10.1021/jacs.6b10984, https://www.sigmaald...</td>\n",
       "      <td>1</td>\n",
       "      <td>electron donor</td>\n",
       "      <td>ferrocene</td>\n",
       "      <td>0</td>\n",
       "      <td>1</td>\n",
       "      <td>0</td>\n",
       "    </tr>\n",
       "  </tbody>\n",
       "</table>\n",
       "</div>"
      ],
      "text/plain": [
       "   id                                               name        formula  \\\n",
       "0  14  2-(1,3-dimethyl-2H-benzimidazol-2-yl)phenol (H...      C15H16N2O   \n",
       "0  15  (ferrocenylmethyl)trimethylammonium chloride (...    C14H20ClFeN   \n",
       "0  16  N1-ferrocenylmethyl-N1,N1,N2,N2,N2-pentamethyl...  C19H32Br2FeN2   \n",
       "0  17                               methyl viologen (MV)    C12H14Cl2N2   \n",
       "0  18               (dimethylaminomethyl)ferrocene (FcN)      C13H17FeN   \n",
       "\n",
       "   molecular_weight         CAS  \\\n",
       "0             293.0   3652-93-5   \n",
       "0             293.0  83617-79-2   \n",
       "0             502.0               \n",
       "0             257.0   1910-42-5   \n",
       "0             243.0   1271-86-9   \n",
       "\n",
       "                                         source_dois  recyclable  \\\n",
       "0  doi:10.1016/j.tet.2006.03.061, https://pubchem...           0   \n",
       "0  DOI:10.1021/jacs.6b10984, https://pubchem.ncbi...           1   \n",
       "0                        DOI:10.1021/jacs.6b10984,,            1   \n",
       "0  DOI:10.1021/jacs.6b10984, https://pubchem.ncbi...           1   \n",
       "0  DOI:10.1021/jacs.6b10984, https://www.sigmaald...           1   \n",
       "\n",
       "             type compound_family  used_in_photocat  used_in_rfbs  \\\n",
       "0  electron donor   benzimidazole                 1             0   \n",
       "0  electron donor       ferrocene                 0             1   \n",
       "0  electron donor       ferrocene                 0             1   \n",
       "0  electron donor       ferrocene                 1             1   \n",
       "0  electron donor       ferrocene                 0             1   \n",
       "\n",
       "   used_as_hcarrier  \n",
       "0                 0  \n",
       "0                 0  \n",
       "0                 0  \n",
       "0                 0  \n",
       "0                 0  "
      ]
     },
     "metadata": {},
     "output_type": "display_data"
    }
   ],
   "source": [
    "# code to preview last five entries\n",
    "if compound_table.shape[0] > 6:\n",
    "    display(compound_table.tail(5))\n",
    "else:\n",
    "    display(compound_table)\n"
   ]
  },
  {
   "cell_type": "markdown",
   "id": "0bc50757-addd-4ced-a8ee-2d35188fbad8",
   "metadata": {
    "tags": []
   },
   "source": [
    "### 4. Run the next cell to save your changes to the table "
   ]
  },
  {
   "cell_type": "code",
   "execution_count": 35,
   "id": "42e6606f-7f9e-4e93-901d-9f6fafbe1c7d",
   "metadata": {
    "tags": []
   },
   "outputs": [],
   "source": [
    "compound_table.to_parquet('compound_table.parquet', engine='pyarrow', compression=None)"
   ]
  },
  {
   "cell_type": "code",
   "execution_count": null,
   "id": "0b41858d-e6db-4830-b6bf-36181684473e",
   "metadata": {},
   "outputs": [],
   "source": []
  }
 ],
 "metadata": {
  "kernelspec": {
   "display_name": "Python 3 (ipykernel)",
   "language": "python",
   "name": "python3"
  },
  "language_info": {
   "codemirror_mode": {
    "name": "ipython",
    "version": 3
   },
   "file_extension": ".py",
   "mimetype": "text/x-python",
   "name": "python",
   "nbconvert_exporter": "python",
   "pygments_lexer": "ipython3",
   "version": "3.10.0"
  }
 },
 "nbformat": 4,
 "nbformat_minor": 5
}
